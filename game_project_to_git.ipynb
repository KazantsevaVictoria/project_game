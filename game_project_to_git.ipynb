{
 "cells": [
  {
   "cell_type": "markdown",
   "metadata": {},
   "source": [
    "# Проект по исследованию рынка компьютерных игр для интернет-магазина \"Стримчик\"."
   ]
  },
  {
   "cell_type": "markdown",
   "metadata": {},
   "source": [
    "## Введение"
   ]
  },
  {
   "cell_type": "markdown",
   "metadata": {},
   "source": [
    "В предстоящем проекте нам нужно определить факторы, которые позволят нам сделать прогноз о состоянии рынка игр в следуюшем году. Наш заказчик - магазин \"Стримик\", который продает игры по всему миру. Он предоставил нам данные о продажах игр за последние 35 лет. \n",
    "В данных указано название игры, платформа,  на которой она вышла, год выпуска, жанр, рейтинг критиков и пользователей, возрастной рейтинг и данные о продажах по миру, разделенные на регионы. \n",
    "Наше исследование будет включать следующие шаги:\n",
    "\n",
    "1) Мы найдем самые популярные игровые платформы. \n",
    "\n",
    "2) Сделаем по ним прогноз на будущее. \n",
    "\n",
    "3) Создадим портреты средних пользователей в разных регионах. \n",
    "\n",
    "4) Посмотрим, насколько сильно влияют оценки критиков и пользователей на продажи игр.\n",
    "\n",
    "5) Проверим две гипотезы: игры, выпущенные на платформах XOne и PC, имеют одинаковый пользовательский рейтинг и жанры игр Sports и Action имеют разный пользовательский рейтинг."
   ]
  },
  {
   "cell_type": "markdown",
   "metadata": {},
   "source": [
    "## Знакомство с данными"
   ]
  },
  {
   "cell_type": "markdown",
   "metadata": {},
   "source": [
    "### Импорт необходимых для работы библиотек"
   ]
  },
  {
   "cell_type": "code",
   "execution_count": 211,
   "metadata": {},
   "outputs": [],
   "source": [
    "import pandas as pd\n",
    "import matplotlib.pyplot as plt\n",
    "from scipy import stats as st\n",
    "import numpy as np\n",
    "import math as m\n",
    "import datetime \n",
    "import warnings\n",
    "warnings.filterwarnings('ignore')"
   ]
  },
  {
   "cell_type": "markdown",
   "metadata": {},
   "source": [
    "Мы импортировали все необходимые для работы библиотеки."
   ]
  },
  {
   "cell_type": "markdown",
   "metadata": {},
   "source": [
    "### Импорт датасетов"
   ]
  },
  {
   "cell_type": "code",
   "execution_count": 212,
   "metadata": {
    "scrolled": true
   },
   "outputs": [],
   "source": [
    "try:\n",
    "    data = pd.read_csv('C:/Praktikum/game_prognosis_project/games.csv')\n",
    "except:\n",
    "    data = pd.read_csv('/datasets/games.csv')"
   ]
  },
  {
   "cell_type": "code",
   "execution_count": 213,
   "metadata": {
    "scrolled": true
   },
   "outputs": [
    {
     "name": "stdout",
     "output_type": "stream",
     "text": [
      "Посмотрим на основную информацию:\n",
      "\n",
      "<class 'pandas.core.frame.DataFrame'>\n",
      "RangeIndex: 16715 entries, 0 to 16714\n",
      "Data columns (total 11 columns):\n",
      " #   Column           Non-Null Count  Dtype  \n",
      "---  ------           --------------  -----  \n",
      " 0   Name             16713 non-null  object \n",
      " 1   Platform         16715 non-null  object \n",
      " 2   Year_of_Release  16446 non-null  float64\n",
      " 3   Genre            16713 non-null  object \n",
      " 4   NA_sales         16715 non-null  float64\n",
      " 5   EU_sales         16715 non-null  float64\n",
      " 6   JP_sales         16715 non-null  float64\n",
      " 7   Other_sales      16715 non-null  float64\n",
      " 8   Critic_Score     8137 non-null   float64\n",
      " 9   User_Score       10014 non-null  object \n",
      " 10  Rating           9949 non-null   object \n",
      "dtypes: float64(6), object(5)\n",
      "memory usage: 1.4+ MB\n",
      "\n",
      "Посмотрим на первые 10 строк таблицы:\n"
     ]
    },
    {
     "data": {
      "text/html": [
       "<div>\n",
       "<style scoped>\n",
       "    .dataframe tbody tr th:only-of-type {\n",
       "        vertical-align: middle;\n",
       "    }\n",
       "\n",
       "    .dataframe tbody tr th {\n",
       "        vertical-align: top;\n",
       "    }\n",
       "\n",
       "    .dataframe thead th {\n",
       "        text-align: right;\n",
       "    }\n",
       "</style>\n",
       "<table border=\"1\" class=\"dataframe\">\n",
       "  <thead>\n",
       "    <tr style=\"text-align: right;\">\n",
       "      <th></th>\n",
       "      <th>Name</th>\n",
       "      <th>Platform</th>\n",
       "      <th>Year_of_Release</th>\n",
       "      <th>Genre</th>\n",
       "      <th>NA_sales</th>\n",
       "      <th>EU_sales</th>\n",
       "      <th>JP_sales</th>\n",
       "      <th>Other_sales</th>\n",
       "      <th>Critic_Score</th>\n",
       "      <th>User_Score</th>\n",
       "      <th>Rating</th>\n",
       "    </tr>\n",
       "  </thead>\n",
       "  <tbody>\n",
       "    <tr>\n",
       "      <th>0</th>\n",
       "      <td>Wii Sports</td>\n",
       "      <td>Wii</td>\n",
       "      <td>2006.0</td>\n",
       "      <td>Sports</td>\n",
       "      <td>41.36</td>\n",
       "      <td>28.96</td>\n",
       "      <td>3.77</td>\n",
       "      <td>8.45</td>\n",
       "      <td>76.0</td>\n",
       "      <td>8</td>\n",
       "      <td>E</td>\n",
       "    </tr>\n",
       "    <tr>\n",
       "      <th>1</th>\n",
       "      <td>Super Mario Bros.</td>\n",
       "      <td>NES</td>\n",
       "      <td>1985.0</td>\n",
       "      <td>Platform</td>\n",
       "      <td>29.08</td>\n",
       "      <td>3.58</td>\n",
       "      <td>6.81</td>\n",
       "      <td>0.77</td>\n",
       "      <td>NaN</td>\n",
       "      <td>NaN</td>\n",
       "      <td>NaN</td>\n",
       "    </tr>\n",
       "    <tr>\n",
       "      <th>2</th>\n",
       "      <td>Mario Kart Wii</td>\n",
       "      <td>Wii</td>\n",
       "      <td>2008.0</td>\n",
       "      <td>Racing</td>\n",
       "      <td>15.68</td>\n",
       "      <td>12.76</td>\n",
       "      <td>3.79</td>\n",
       "      <td>3.29</td>\n",
       "      <td>82.0</td>\n",
       "      <td>8.3</td>\n",
       "      <td>E</td>\n",
       "    </tr>\n",
       "    <tr>\n",
       "      <th>3</th>\n",
       "      <td>Wii Sports Resort</td>\n",
       "      <td>Wii</td>\n",
       "      <td>2009.0</td>\n",
       "      <td>Sports</td>\n",
       "      <td>15.61</td>\n",
       "      <td>10.93</td>\n",
       "      <td>3.28</td>\n",
       "      <td>2.95</td>\n",
       "      <td>80.0</td>\n",
       "      <td>8</td>\n",
       "      <td>E</td>\n",
       "    </tr>\n",
       "    <tr>\n",
       "      <th>4</th>\n",
       "      <td>Pokemon Red/Pokemon Blue</td>\n",
       "      <td>GB</td>\n",
       "      <td>1996.0</td>\n",
       "      <td>Role-Playing</td>\n",
       "      <td>11.27</td>\n",
       "      <td>8.89</td>\n",
       "      <td>10.22</td>\n",
       "      <td>1.00</td>\n",
       "      <td>NaN</td>\n",
       "      <td>NaN</td>\n",
       "      <td>NaN</td>\n",
       "    </tr>\n",
       "  </tbody>\n",
       "</table>\n",
       "</div>"
      ],
      "text/plain": [
       "                       Name Platform  Year_of_Release         Genre  NA_sales  \\\n",
       "0                Wii Sports      Wii           2006.0        Sports     41.36   \n",
       "1         Super Mario Bros.      NES           1985.0      Platform     29.08   \n",
       "2            Mario Kart Wii      Wii           2008.0        Racing     15.68   \n",
       "3         Wii Sports Resort      Wii           2009.0        Sports     15.61   \n",
       "4  Pokemon Red/Pokemon Blue       GB           1996.0  Role-Playing     11.27   \n",
       "\n",
       "   EU_sales  JP_sales  Other_sales  Critic_Score User_Score Rating  \n",
       "0     28.96      3.77         8.45          76.0          8      E  \n",
       "1      3.58      6.81         0.77           NaN        NaN    NaN  \n",
       "2     12.76      3.79         3.29          82.0        8.3      E  \n",
       "3     10.93      3.28         2.95          80.0          8      E  \n",
       "4      8.89     10.22         1.00           NaN        NaN    NaN  "
      ]
     },
     "metadata": {},
     "output_type": "display_data"
    },
    {
     "name": "stdout",
     "output_type": "stream",
     "text": [
      "\n",
      "Количество дубликатов в данных равно 0\n"
     ]
    }
   ],
   "source": [
    "def data_first_look(data):\n",
    "    print('Посмотрим на основную информацию:')\n",
    "    print()\n",
    "    data.info()\n",
    "    print()\n",
    "    print('Посмотрим на первые 10 строк таблицы:')\n",
    "    display(data.head())\n",
    "    print()\n",
    "    print('Количество дубликатов в данных равно', data.duplicated().sum())\n",
    "    \n",
    "data_first_look(data) "
   ]
  },
  {
   "cell_type": "markdown",
   "metadata": {},
   "source": [
    "<b>Прочитали таблицу с данными и посмотрели, с какими колонками с каким типом данных мы будем работать, посчитали дубликаты (их нет). Можно приступать к предобработке данных.</b>"
   ]
  },
  {
   "cell_type": "markdown",
   "metadata": {},
   "source": [
    "### Предобработка данных"
   ]
  },
  {
   "cell_type": "code",
   "execution_count": 214,
   "metadata": {},
   "outputs": [
    {
     "data": {
      "text/plain": [
       "Index(['name', 'platform', 'year_of_release', 'genre', 'na_sales', 'eu_sales',\n",
       "       'jp_sales', 'other_sales', 'critic_score', 'user_score', 'rating'],\n",
       "      dtype='object')"
      ]
     },
     "execution_count": 214,
     "metadata": {},
     "output_type": "execute_result"
    }
   ],
   "source": [
    "data.columns = data.columns.str.lower()\n",
    "data.columns"
   ]
  },
  {
   "cell_type": "markdown",
   "metadata": {},
   "source": [
    "Привели названия колонок к нижнему регистру и проверили результат."
   ]
  },
  {
   "cell_type": "code",
   "execution_count": 215,
   "metadata": {
    "scrolled": false
   },
   "outputs": [
    {
     "name": "stdout",
     "output_type": "stream",
     "text": [
      "<class 'pandas.core.frame.DataFrame'>\n",
      "RangeIndex: 16715 entries, 0 to 16714\n",
      "Data columns (total 13 columns):\n",
      " #   Column           Non-Null Count  Dtype  \n",
      "---  ------           --------------  -----  \n",
      " 0   name             16713 non-null  object \n",
      " 1   platform         16715 non-null  object \n",
      " 2   year_of_release  16446 non-null  float64\n",
      " 3   genre            16713 non-null  object \n",
      " 4   na_sales         16715 non-null  float64\n",
      " 5   eu_sales         16715 non-null  float64\n",
      " 6   jp_sales         16715 non-null  float64\n",
      " 7   other_sales      16715 non-null  float64\n",
      " 8   critic_score     8137 non-null   float64\n",
      " 9   user_score       10014 non-null  object \n",
      " 10  rating           9949 non-null   object \n",
      " 11  sum_of_sales     16715 non-null  float64\n",
      " 12  sale_percentage  16715 non-null  float64\n",
      "dtypes: float64(8), object(5)\n",
      "memory usage: 1.7+ MB\n"
     ]
    }
   ],
   "source": [
    "data['sum_of_sales'] = data['na_sales'] + data['eu_sales'] + data['jp_sales'] + data['other_sales'] # сложили продажи по всем странам\n",
    "data['sale_percentage'] = data['sum_of_sales'] / data['sum_of_sales'].sum() * 100 # посчитали процент продаж конкретной игры\n",
    "data.head()\n",
    "data.info()"
   ]
  },
  {
   "cell_type": "markdown",
   "metadata": {},
   "source": [
    "Добавили колонку с суммарными продажами по всем странам и процентным соотношением продаж игры к общей сумме продаж."
   ]
  },
  {
   "cell_type": "code",
   "execution_count": 216,
   "metadata": {
    "scrolled": true
   },
   "outputs": [
    {
     "data": {
      "text/plain": [
       "array(['8', nan, '8.3', '8.5', '6.6', '8.4', '8.6', '7.7', '6.3', '7.4',\n",
       "       '8.2', '9', '7.9', '8.1', '8.7', '7.1', '3.4', '5.3', '4.8', '3.2',\n",
       "       '8.9', '6.4', '7.8', '7.5', '2.6', '7.2', '9.2', '7', '7.3', '4.3',\n",
       "       '7.6', '5.7', '5', '9.1', '6.5', 'tbd', '8.8', '6.9', '9.4', '6.8',\n",
       "       '6.1', '6.7', '5.4', '4', '4.9', '4.5', '9.3', '6.2', '4.2', '6',\n",
       "       '3.7', '4.1', '5.8', '5.6', '5.5', '4.4', '4.6', '5.9', '3.9',\n",
       "       '3.1', '2.9', '5.2', '3.3', '4.7', '5.1', '3.5', '2.5', '1.9', '3',\n",
       "       '2.7', '2.2', '2', '9.5', '2.1', '3.6', '2.8', '1.8', '3.8', '0',\n",
       "       '1.6', '9.6', '2.4', '1.7', '1.1', '0.3', '1.5', '0.7', '1.2',\n",
       "       '2.3', '0.5', '1.3', '0.2', '0.6', '1.4', '0.9', '1', '9.7'],\n",
       "      dtype=object)"
      ]
     },
     "metadata": {},
     "output_type": "display_data"
    },
    {
     "data": {
      "text/plain": [
       "array([76., nan, 82., 80., 89., 58., 87., 91., 61., 97., 95., 77., 88.,\n",
       "       83., 94., 93., 85., 86., 98., 96., 90., 84., 73., 74., 78., 92.,\n",
       "       71., 72., 68., 62., 49., 67., 81., 66., 56., 79., 70., 59., 64.,\n",
       "       75., 60., 63., 69., 50., 25., 42., 44., 55., 48., 57., 29., 47.,\n",
       "       65., 54., 20., 53., 37., 38., 33., 52., 30., 32., 43., 45., 51.,\n",
       "       40., 46., 39., 34., 35., 41., 36., 28., 31., 27., 26., 19., 23.,\n",
       "       24., 21., 17., 22., 13.])"
      ]
     },
     "metadata": {},
     "output_type": "display_data"
    },
    {
     "data": {
      "text/plain": [
       "array(['Sports', 'Platform', 'Racing', 'Role-Playing', 'Puzzle', 'Misc',\n",
       "       'Shooter', 'Simulation', 'Action', 'Fighting', 'Adventure',\n",
       "       'Strategy', nan], dtype=object)"
      ]
     },
     "metadata": {},
     "output_type": "display_data"
    },
    {
     "data": {
      "text/plain": [
       "array(['Wii', 'NES', 'GB', 'DS', 'X360', 'PS3', 'PS2', 'SNES', 'GBA',\n",
       "       'PS4', '3DS', 'N64', 'PS', 'XB', 'PC', '2600', 'PSP', 'XOne',\n",
       "       'WiiU', 'GC', 'GEN', 'DC', 'PSV', 'SAT', 'SCD', 'WS', 'NG', 'TG16',\n",
       "       '3DO', 'GG', 'PCFX'], dtype=object)"
      ]
     },
     "metadata": {},
     "output_type": "display_data"
    }
   ],
   "source": [
    "display(data['user_score'].unique(), data['critic_score'].unique(), data['genre'].unique(), data['platform'].unique())"
   ]
  },
  {
   "cell_type": "markdown",
   "metadata": {},
   "source": [
    "Посмотрели на уникальные значения в колонках, где это может иметь значение. В колонке с оценками пользователей есть непонятная оценка tbd. Гугл подсказал нам, что эта оценка расшифровывается как to be done - то есть пользовательский рейтинг игры еще не определен. В следующем разделе мы рассмотрим игры с этой оценкой подробнее."
   ]
  },
  {
   "cell_type": "markdown",
   "metadata": {},
   "source": [
    "<b>На этом предобработку данных можно считать оконченной.<b/>"
   ]
  },
  {
   "cell_type": "markdown",
   "metadata": {},
   "source": [
    "### Жанр оценки TBD и его обработка"
   ]
  },
  {
   "cell_type": "markdown",
   "metadata": {},
   "source": [
    "Мы знаем, что в колонке с оценками игр, есть жанр TBD. В этом разделе мы проанализируем, где он встречается и с какой закономерностью."
   ]
  },
  {
   "cell_type": "code",
   "execution_count": 217,
   "metadata": {
    "scrolled": false
   },
   "outputs": [],
   "source": [
    "data_tbd = data[data['user_score']=='tbd'] # фильтруем дату по оценке tbd"
   ]
  },
  {
   "cell_type": "code",
   "execution_count": 218,
   "metadata": {},
   "outputs": [
    {
     "data": {
      "text/html": [
       "<div>\n",
       "<style scoped>\n",
       "    .dataframe tbody tr th:only-of-type {\n",
       "        vertical-align: middle;\n",
       "    }\n",
       "\n",
       "    .dataframe tbody tr th {\n",
       "        vertical-align: top;\n",
       "    }\n",
       "\n",
       "    .dataframe thead th {\n",
       "        text-align: right;\n",
       "    }\n",
       "</style>\n",
       "<table border=\"1\" class=\"dataframe\">\n",
       "  <thead>\n",
       "    <tr style=\"text-align: right;\">\n",
       "      <th></th>\n",
       "      <th>sum</th>\n",
       "      <th>frac</th>\n",
       "    </tr>\n",
       "    <tr>\n",
       "      <th>genre</th>\n",
       "      <th></th>\n",
       "      <th></th>\n",
       "    </tr>\n",
       "  </thead>\n",
       "  <tbody>\n",
       "    <tr>\n",
       "      <th>Misc</th>\n",
       "      <td>99.82</td>\n",
       "      <td>21.885551</td>\n",
       "    </tr>\n",
       "    <tr>\n",
       "      <th>Sports</th>\n",
       "      <td>83.10</td>\n",
       "      <td>18.219689</td>\n",
       "    </tr>\n",
       "    <tr>\n",
       "      <th>Action</th>\n",
       "      <td>69.61</td>\n",
       "      <td>15.262004</td>\n",
       "    </tr>\n",
       "    <tr>\n",
       "      <th>Simulation</th>\n",
       "      <td>56.59</td>\n",
       "      <td>12.407367</td>\n",
       "    </tr>\n",
       "    <tr>\n",
       "      <th>Racing</th>\n",
       "      <td>35.15</td>\n",
       "      <td>7.706643</td>\n",
       "    </tr>\n",
       "    <tr>\n",
       "      <th>Adventure</th>\n",
       "      <td>32.43</td>\n",
       "      <td>7.110283</td>\n",
       "    </tr>\n",
       "    <tr>\n",
       "      <th>Puzzle</th>\n",
       "      <td>32.24</td>\n",
       "      <td>7.068625</td>\n",
       "    </tr>\n",
       "    <tr>\n",
       "      <th>Platform</th>\n",
       "      <td>27.76</td>\n",
       "      <td>6.086385</td>\n",
       "    </tr>\n",
       "    <tr>\n",
       "      <th>Shooter</th>\n",
       "      <td>7.63</td>\n",
       "      <td>1.672879</td>\n",
       "    </tr>\n",
       "    <tr>\n",
       "      <th>Fighting</th>\n",
       "      <td>5.74</td>\n",
       "      <td>1.258496</td>\n",
       "    </tr>\n",
       "    <tr>\n",
       "      <th>Role-Playing</th>\n",
       "      <td>3.45</td>\n",
       "      <td>0.756413</td>\n",
       "    </tr>\n",
       "    <tr>\n",
       "      <th>Strategy</th>\n",
       "      <td>2.58</td>\n",
       "      <td>0.565665</td>\n",
       "    </tr>\n",
       "  </tbody>\n",
       "</table>\n",
       "</div>"
      ],
      "text/plain": [
       "                sum       frac\n",
       "genre                         \n",
       "Misc          99.82  21.885551\n",
       "Sports        83.10  18.219689\n",
       "Action        69.61  15.262004\n",
       "Simulation    56.59  12.407367\n",
       "Racing        35.15   7.706643\n",
       "Adventure     32.43   7.110283\n",
       "Puzzle        32.24   7.068625\n",
       "Platform      27.76   6.086385\n",
       "Shooter        7.63   1.672879\n",
       "Fighting       5.74   1.258496\n",
       "Role-Playing   3.45   0.756413\n",
       "Strategy       2.58   0.565665"
      ]
     },
     "execution_count": 218,
     "metadata": {},
     "output_type": "execute_result"
    }
   ],
   "source": [
    "tbd_group = data_tbd.groupby('genre')['sum_of_sales'].agg(['sum']) # группируем данные по сумме продаж\n",
    "tbd_group['frac'] = tbd_group['sum'] / tbd_group['sum'].sum() * 100 # считаем процент от общей суммы\n",
    "tbd_group.sort_values(by='frac', ascending=False) # сортируем по убыванию"
   ]
  },
  {
   "cell_type": "markdown",
   "metadata": {},
   "source": [
    "Мы посчитали, какой процент от продаж составляют игры с оценкой tbd по жанрам. Больше всего ее процент в аркадах, спорте и экшенах, но это пока не позволяет нам сделать выводы."
   ]
  },
  {
   "cell_type": "code",
   "execution_count": 219,
   "metadata": {
    "scrolled": false
   },
   "outputs": [],
   "source": [
    "data_not_tbd = data[data['user_score']!='tbd'] # фильтруем дату по оценке не-tbd"
   ]
  },
  {
   "cell_type": "code",
   "execution_count": 220,
   "metadata": {},
   "outputs": [
    {
     "data": {
      "text/html": [
       "<div>\n",
       "<style scoped>\n",
       "    .dataframe tbody tr th:only-of-type {\n",
       "        vertical-align: middle;\n",
       "    }\n",
       "\n",
       "    .dataframe tbody tr th {\n",
       "        vertical-align: top;\n",
       "    }\n",
       "\n",
       "    .dataframe thead th {\n",
       "        text-align: right;\n",
       "    }\n",
       "</style>\n",
       "<table border=\"1\" class=\"dataframe\">\n",
       "  <thead>\n",
       "    <tr style=\"text-align: right;\">\n",
       "      <th></th>\n",
       "      <th>sum</th>\n",
       "      <th>frac</th>\n",
       "    </tr>\n",
       "    <tr>\n",
       "      <th>genre</th>\n",
       "      <th></th>\n",
       "      <th></th>\n",
       "    </tr>\n",
       "  </thead>\n",
       "  <tbody>\n",
       "    <tr>\n",
       "      <th>Action</th>\n",
       "      <td>1674.56</td>\n",
       "      <td>19.800430</td>\n",
       "    </tr>\n",
       "    <tr>\n",
       "      <th>Sports</th>\n",
       "      <td>1248.17</td>\n",
       "      <td>14.758685</td>\n",
       "    </tr>\n",
       "    <tr>\n",
       "      <th>Shooter</th>\n",
       "      <td>1044.82</td>\n",
       "      <td>12.354222</td>\n",
       "    </tr>\n",
       "    <tr>\n",
       "      <th>Role-Playing</th>\n",
       "      <td>931.11</td>\n",
       "      <td>11.009685</td>\n",
       "    </tr>\n",
       "    <tr>\n",
       "      <th>Platform</th>\n",
       "      <td>800.01</td>\n",
       "      <td>9.459525</td>\n",
       "    </tr>\n",
       "    <tr>\n",
       "      <th>Misc</th>\n",
       "      <td>702.69</td>\n",
       "      <td>8.308788</td>\n",
       "    </tr>\n",
       "    <tr>\n",
       "      <th>Racing</th>\n",
       "      <td>693.52</td>\n",
       "      <td>8.200360</td>\n",
       "    </tr>\n",
       "    <tr>\n",
       "      <th>Fighting</th>\n",
       "      <td>441.79</td>\n",
       "      <td>5.223839</td>\n",
       "    </tr>\n",
       "    <tr>\n",
       "      <th>Simulation</th>\n",
       "      <td>333.38</td>\n",
       "      <td>3.941971</td>\n",
       "    </tr>\n",
       "    <tr>\n",
       "      <th>Puzzle</th>\n",
       "      <td>210.33</td>\n",
       "      <td>2.486996</td>\n",
       "    </tr>\n",
       "    <tr>\n",
       "      <th>Adventure</th>\n",
       "      <td>205.16</td>\n",
       "      <td>2.425865</td>\n",
       "    </tr>\n",
       "    <tr>\n",
       "      <th>Strategy</th>\n",
       "      <td>171.65</td>\n",
       "      <td>2.029634</td>\n",
       "    </tr>\n",
       "  </tbody>\n",
       "</table>\n",
       "</div>"
      ],
      "text/plain": [
       "                  sum       frac\n",
       "genre                           \n",
       "Action        1674.56  19.800430\n",
       "Sports        1248.17  14.758685\n",
       "Shooter       1044.82  12.354222\n",
       "Role-Playing   931.11  11.009685\n",
       "Platform       800.01   9.459525\n",
       "Misc           702.69   8.308788\n",
       "Racing         693.52   8.200360\n",
       "Fighting       441.79   5.223839\n",
       "Simulation     333.38   3.941971\n",
       "Puzzle         210.33   2.486996\n",
       "Adventure      205.16   2.425865\n",
       "Strategy       171.65   2.029634"
      ]
     },
     "execution_count": 220,
     "metadata": {},
     "output_type": "execute_result"
    }
   ],
   "source": [
    "not_tbd_group = data_not_tbd.groupby('genre')['sum_of_sales'].agg(['sum']) # группируем данные по сумме продаж\n",
    "not_tbd_group['frac'] = not_tbd_group['sum'] / not_tbd_group['sum'].sum() * 100 # считаем процент от общей суммы\n",
    "not_tbd_group.sort_values(by='frac', ascending=False) # сортируем по убыванию"
   ]
  },
  {
   "cell_type": "markdown",
   "metadata": {},
   "source": [
    "Мы сравнили распределение продаж по жанрам в таблице только с оценкой tbd и со всеми оценками - ничего показательного не обнаружили, распределение не совпадает."
   ]
  },
  {
   "cell_type": "code",
   "execution_count": 221,
   "metadata": {},
   "outputs": [
    {
     "data": {
      "image/png": "[encoded data removed]",
      "text/plain": [
       "<Figure size 1440x432 with 1 Axes>"
      ]
     },
     "metadata": {
      "needs_background": "light"
     },
     "output_type": "display_data"
    }
   ],
   "source": [
    "ax = data_not_tbd.pivot_table(index='year_of_release', values='sale_percentage', aggfunc='sum') \\\n",
    "        .plot(grid=True, figsize=(20, 6), label='не TBD')\n",
    "data_tbd.pivot_table(index='year_of_release', values='sale_percentage', aggfunc='sum') \\\n",
    "        .plot(grid=True, figsize=(20, 6), label='TBD', ax=ax)\n",
    "plt.title('Продажи игр')\n",
    "plt.xlabel('Годы выпуска игр')\n",
    "plt.ylabel('Сумма продаж в процентах')\n",
    "plt.show()"
   ]
  },
  {
   "cell_type": "markdown",
   "metadata": {},
   "source": [
    "Тогда мы посмотрели на процентное соотношение продаж игр с рейтингом tbd от общего числа продаж. Видно, что начиная с 2012 года количество продаж игра с оценкой tbd сократилось до незначительного(менее 2% от общего числа продаж). Вероятно, это связано с широким распространением сайтов, на которых пользователи могут оценить игру. Соответственно, для прогноза продаж на следующий год нам не нужны оценки tbd, их все равно будет незначительное количество. Так что мы можем привести формат столбца с оценками пользователей к числовому, чтобы с ним было проще работать."
   ]
  },
  {
   "cell_type": "markdown",
   "metadata": {},
   "source": [
    "### Приведение данных к нужному формату"
   ]
  },
  {
   "cell_type": "code",
   "execution_count": 222,
   "metadata": {
    "scrolled": false
   },
   "outputs": [
    {
     "name": "stdout",
     "output_type": "stream",
     "text": [
      "<class 'pandas.core.frame.DataFrame'>\n",
      "RangeIndex: 16715 entries, 0 to 16714\n",
      "Data columns (total 13 columns):\n",
      " #   Column           Non-Null Count  Dtype         \n",
      "---  ------           --------------  -----         \n",
      " 0   name             16713 non-null  object        \n",
      " 1   platform         16715 non-null  object        \n",
      " 2   year_of_release  16446 non-null  datetime64[ns]\n",
      " 3   genre            16713 non-null  object        \n",
      " 4   na_sales         16715 non-null  float64       \n",
      " 5   eu_sales         16715 non-null  float64       \n",
      " 6   jp_sales         16715 non-null  float64       \n",
      " 7   other_sales      16715 non-null  float64       \n",
      " 8   critic_score     8137 non-null   float64       \n",
      " 9   user_score       7590 non-null   float64       \n",
      " 10  rating           9949 non-null   object        \n",
      " 11  sum_of_sales     16715 non-null  float64       \n",
      " 12  sale_percentage  16715 non-null  float64       \n",
      "dtypes: datetime64[ns](1), float64(8), object(4)\n",
      "memory usage: 1.7+ MB\n"
     ]
    },
    {
     "data": {
      "text/html": [
       "<div>\n",
       "<style scoped>\n",
       "    .dataframe tbody tr th:only-of-type {\n",
       "        vertical-align: middle;\n",
       "    }\n",
       "\n",
       "    .dataframe tbody tr th {\n",
       "        vertical-align: top;\n",
       "    }\n",
       "\n",
       "    .dataframe thead th {\n",
       "        text-align: right;\n",
       "    }\n",
       "</style>\n",
       "<table border=\"1\" class=\"dataframe\">\n",
       "  <thead>\n",
       "    <tr style=\"text-align: right;\">\n",
       "      <th></th>\n",
       "      <th>name</th>\n",
       "      <th>platform</th>\n",
       "      <th>year_of_release</th>\n",
       "      <th>genre</th>\n",
       "      <th>na_sales</th>\n",
       "      <th>eu_sales</th>\n",
       "      <th>jp_sales</th>\n",
       "      <th>other_sales</th>\n",
       "      <th>critic_score</th>\n",
       "      <th>user_score</th>\n",
       "      <th>rating</th>\n",
       "      <th>sum_of_sales</th>\n",
       "      <th>sale_percentage</th>\n",
       "    </tr>\n",
       "  </thead>\n",
       "  <tbody>\n",
       "    <tr>\n",
       "      <th>0</th>\n",
       "      <td>Wii Sports</td>\n",
       "      <td>Wii</td>\n",
       "      <td>2006-01-01</td>\n",
       "      <td>Sports</td>\n",
       "      <td>41.36</td>\n",
       "      <td>28.96</td>\n",
       "      <td>3.77</td>\n",
       "      <td>8.45</td>\n",
       "      <td>76.0</td>\n",
       "      <td>8.0</td>\n",
       "      <td>E</td>\n",
       "      <td>82.54</td>\n",
       "      <td>0.925782</td>\n",
       "    </tr>\n",
       "    <tr>\n",
       "      <th>1</th>\n",
       "      <td>Super Mario Bros.</td>\n",
       "      <td>NES</td>\n",
       "      <td>1985-01-01</td>\n",
       "      <td>Platform</td>\n",
       "      <td>29.08</td>\n",
       "      <td>3.58</td>\n",
       "      <td>6.81</td>\n",
       "      <td>0.77</td>\n",
       "      <td>NaN</td>\n",
       "      <td>NaN</td>\n",
       "      <td>NaN</td>\n",
       "      <td>40.24</td>\n",
       "      <td>0.451338</td>\n",
       "    </tr>\n",
       "    <tr>\n",
       "      <th>2</th>\n",
       "      <td>Mario Kart Wii</td>\n",
       "      <td>Wii</td>\n",
       "      <td>2008-01-01</td>\n",
       "      <td>Racing</td>\n",
       "      <td>15.68</td>\n",
       "      <td>12.76</td>\n",
       "      <td>3.79</td>\n",
       "      <td>3.29</td>\n",
       "      <td>82.0</td>\n",
       "      <td>8.3</td>\n",
       "      <td>E</td>\n",
       "      <td>35.52</td>\n",
       "      <td>0.398398</td>\n",
       "    </tr>\n",
       "    <tr>\n",
       "      <th>3</th>\n",
       "      <td>Wii Sports Resort</td>\n",
       "      <td>Wii</td>\n",
       "      <td>2009-01-01</td>\n",
       "      <td>Sports</td>\n",
       "      <td>15.61</td>\n",
       "      <td>10.93</td>\n",
       "      <td>3.28</td>\n",
       "      <td>2.95</td>\n",
       "      <td>80.0</td>\n",
       "      <td>8.0</td>\n",
       "      <td>E</td>\n",
       "      <td>32.77</td>\n",
       "      <td>0.367553</td>\n",
       "    </tr>\n",
       "    <tr>\n",
       "      <th>4</th>\n",
       "      <td>Pokemon Red/Pokemon Blue</td>\n",
       "      <td>GB</td>\n",
       "      <td>1996-01-01</td>\n",
       "      <td>Role-Playing</td>\n",
       "      <td>11.27</td>\n",
       "      <td>8.89</td>\n",
       "      <td>10.22</td>\n",
       "      <td>1.00</td>\n",
       "      <td>NaN</td>\n",
       "      <td>NaN</td>\n",
       "      <td>NaN</td>\n",
       "      <td>31.38</td>\n",
       "      <td>0.351963</td>\n",
       "    </tr>\n",
       "  </tbody>\n",
       "</table>\n",
       "</div>"
      ],
      "text/plain": [
       "                       name platform year_of_release         genre  na_sales  \\\n",
       "0                Wii Sports      Wii      2006-01-01        Sports     41.36   \n",
       "1         Super Mario Bros.      NES      1985-01-01      Platform     29.08   \n",
       "2            Mario Kart Wii      Wii      2008-01-01        Racing     15.68   \n",
       "3         Wii Sports Resort      Wii      2009-01-01        Sports     15.61   \n",
       "4  Pokemon Red/Pokemon Blue       GB      1996-01-01  Role-Playing     11.27   \n",
       "\n",
       "   eu_sales  jp_sales  other_sales  critic_score  user_score rating  \\\n",
       "0     28.96      3.77         8.45          76.0         8.0      E   \n",
       "1      3.58      6.81         0.77           NaN         NaN    NaN   \n",
       "2     12.76      3.79         3.29          82.0         8.3      E   \n",
       "3     10.93      3.28         2.95          80.0         8.0      E   \n",
       "4      8.89     10.22         1.00           NaN         NaN    NaN   \n",
       "\n",
       "   sum_of_sales  sale_percentage  \n",
       "0         82.54         0.925782  \n",
       "1         40.24         0.451338  \n",
       "2         35.52         0.398398  \n",
       "3         32.77         0.367553  \n",
       "4         31.38         0.351963  "
      ]
     },
     "execution_count": 222,
     "metadata": {},
     "output_type": "execute_result"
    }
   ],
   "source": [
    "data['user_score'] = pd.to_numeric(data['user_score'], errors='coerce') # привели столбец с оценками к числовому формату\n",
    "data['year_of_release'] = pd.to_datetime(data['year_of_release'], format='%Y') # перевели колонку с годом выпуска к формату даты\n",
    "data.info()\n",
    "data.head(5)"
   ]
  },
  {
   "cell_type": "markdown",
   "metadata": {},
   "source": [
    "Привели формат данных в колонке с рейтингом пользователей к числовому формату, а в колонке с годом выпуска к формату даты."
   ]
  },
  {
   "cell_type": "code",
   "execution_count": 223,
   "metadata": {
    "scrolled": false
   },
   "outputs": [
    {
     "data": {
      "text/plain": [
       "0        8.0\n",
       "1        0.0\n",
       "2        8.3\n",
       "3        8.0\n",
       "4        0.0\n",
       "        ... \n",
       "16710    0.0\n",
       "16711    0.0\n",
       "16712    0.0\n",
       "16713    0.0\n",
       "16714    0.0\n",
       "Name: user_score, Length: 16715, dtype: float64"
      ]
     },
     "execution_count": 223,
     "metadata": {},
     "output_type": "execute_result"
    }
   ],
   "source": [
    "data['critic_score'].fillna(0)\n",
    "data['user_score'].fillna(0)"
   ]
  },
  {
   "cell_type": "markdown",
   "metadata": {},
   "source": [
    "Заменили пропуски в колонках с оценками пользователей и критиков на ноль, чтобы нам было удобнее работать с данными - считать среднее и суммы.\n",
    "В колонках с рейтингами критиков и пользователей есть пропущенные значения, но они не влияют на общую картину: оценок все равно достаточно, рейтинг мы все еще посчитать можем."
   ]
  },
  {
   "cell_type": "code",
   "execution_count": 224,
   "metadata": {
    "scrolled": true
   },
   "outputs": [
    {
     "data": {
      "text/plain": [
       "0"
      ]
     },
     "execution_count": 224,
     "metadata": {},
     "output_type": "execute_result"
    }
   ],
   "source": [
    "data.duplicated().sum()"
   ]
  },
  {
   "cell_type": "markdown",
   "metadata": {},
   "source": [
    "Убедились, что в таблице нет дубликатов."
   ]
  },
  {
   "cell_type": "markdown",
   "metadata": {},
   "source": [
    "<b>Работа с приведением данных в нужный формат закончена. </b>"
   ]
  },
  {
   "cell_type": "markdown",
   "metadata": {},
   "source": [
    "## Анализ данных "
   ]
  },
  {
   "cell_type": "markdown",
   "metadata": {},
   "source": [
    "#### Связь оценок пользователей и критиков"
   ]
  },
  {
   "cell_type": "code",
   "execution_count": 225,
   "metadata": {
    "scrolled": false
   },
   "outputs": [
    {
     "data": {
      "text/html": [
       "<div>\n",
       "<style scoped>\n",
       "    .dataframe tbody tr th:only-of-type {\n",
       "        vertical-align: middle;\n",
       "    }\n",
       "\n",
       "    .dataframe tbody tr th {\n",
       "        vertical-align: top;\n",
       "    }\n",
       "\n",
       "    .dataframe thead th {\n",
       "        text-align: right;\n",
       "    }\n",
       "</style>\n",
       "<table border=\"1\" class=\"dataframe\">\n",
       "  <thead>\n",
       "    <tr style=\"text-align: right;\">\n",
       "      <th></th>\n",
       "      <th>year_of_release</th>\n",
       "      <th>critic_score</th>\n",
       "      <th>user_score</th>\n",
       "      <th>name</th>\n",
       "    </tr>\n",
       "  </thead>\n",
       "  <tbody>\n",
       "    <tr>\n",
       "      <th>36</th>\n",
       "      <td>2016-01-01</td>\n",
       "      <td>73.155172</td>\n",
       "      <td>6.629771</td>\n",
       "      <td>502</td>\n",
       "    </tr>\n",
       "    <tr>\n",
       "      <th>35</th>\n",
       "      <td>2015-01-01</td>\n",
       "      <td>72.871111</td>\n",
       "      <td>6.665993</td>\n",
       "      <td>606</td>\n",
       "    </tr>\n",
       "    <tr>\n",
       "      <th>34</th>\n",
       "      <td>2014-01-01</td>\n",
       "      <td>71.065134</td>\n",
       "      <td>6.580243</td>\n",
       "      <td>581</td>\n",
       "    </tr>\n",
       "    <tr>\n",
       "      <th>33</th>\n",
       "      <td>2013-01-01</td>\n",
       "      <td>71.278388</td>\n",
       "      <td>6.470724</td>\n",
       "      <td>544</td>\n",
       "    </tr>\n",
       "    <tr>\n",
       "      <th>32</th>\n",
       "      <td>2012-01-01</td>\n",
       "      <td>72.984424</td>\n",
       "      <td>6.817404</td>\n",
       "      <td>653</td>\n",
       "    </tr>\n",
       "    <tr>\n",
       "      <th>31</th>\n",
       "      <td>2011-01-01</td>\n",
       "      <td>68.692000</td>\n",
       "      <td>6.623553</td>\n",
       "      <td>1136</td>\n",
       "    </tr>\n",
       "    <tr>\n",
       "      <th>30</th>\n",
       "      <td>2010-01-01</td>\n",
       "      <td>67.482000</td>\n",
       "      <td>6.875375</td>\n",
       "      <td>1255</td>\n",
       "    </tr>\n",
       "    <tr>\n",
       "      <th>29</th>\n",
       "      <td>2009-01-01</td>\n",
       "      <td>67.554531</td>\n",
       "      <td>6.990717</td>\n",
       "      <td>1426</td>\n",
       "    </tr>\n",
       "    <tr>\n",
       "      <th>28</th>\n",
       "      <td>2008-01-01</td>\n",
       "      <td>65.904895</td>\n",
       "      <td>6.950983</td>\n",
       "      <td>1427</td>\n",
       "    </tr>\n",
       "    <tr>\n",
       "      <th>27</th>\n",
       "      <td>2007-01-01</td>\n",
       "      <td>66.180636</td>\n",
       "      <td>6.895707</td>\n",
       "      <td>1197</td>\n",
       "    </tr>\n",
       "    <tr>\n",
       "      <th>26</th>\n",
       "      <td>2006-01-01</td>\n",
       "      <td>67.338710</td>\n",
       "      <td>7.247283</td>\n",
       "      <td>1006</td>\n",
       "    </tr>\n",
       "    <tr>\n",
       "      <th>25</th>\n",
       "      <td>2005-01-01</td>\n",
       "      <td>68.819847</td>\n",
       "      <td>7.509605</td>\n",
       "      <td>939</td>\n",
       "    </tr>\n",
       "    <tr>\n",
       "      <th>24</th>\n",
       "      <td>2004-01-01</td>\n",
       "      <td>69.393939</td>\n",
       "      <td>7.750511</td>\n",
       "      <td>762</td>\n",
       "    </tr>\n",
       "    <tr>\n",
       "      <th>23</th>\n",
       "      <td>2003-01-01</td>\n",
       "      <td>70.181197</td>\n",
       "      <td>7.859884</td>\n",
       "      <td>775</td>\n",
       "    </tr>\n",
       "    <tr>\n",
       "      <th>22</th>\n",
       "      <td>2002-01-01</td>\n",
       "      <td>69.046252</td>\n",
       "      <td>7.585129</td>\n",
       "      <td>829</td>\n",
       "    </tr>\n",
       "    <tr>\n",
       "      <th>21</th>\n",
       "      <td>2001-01-01</td>\n",
       "      <td>71.414110</td>\n",
       "      <td>7.594942</td>\n",
       "      <td>482</td>\n",
       "    </tr>\n",
       "    <tr>\n",
       "      <th>20</th>\n",
       "      <td>2000-01-01</td>\n",
       "      <td>69.349650</td>\n",
       "      <td>7.531776</td>\n",
       "      <td>350</td>\n",
       "    </tr>\n",
       "    <tr>\n",
       "      <th>19</th>\n",
       "      <td>1999-01-01</td>\n",
       "      <td>75.769231</td>\n",
       "      <td>8.480645</td>\n",
       "      <td>338</td>\n",
       "    </tr>\n",
       "    <tr>\n",
       "      <th>18</th>\n",
       "      <td>1998-01-01</td>\n",
       "      <td>81.821429</td>\n",
       "      <td>8.506452</td>\n",
       "      <td>379</td>\n",
       "    </tr>\n",
       "    <tr>\n",
       "      <th>17</th>\n",
       "      <td>1997-01-01</td>\n",
       "      <td>85.294118</td>\n",
       "      <td>8.472222</td>\n",
       "      <td>289</td>\n",
       "    </tr>\n",
       "    <tr>\n",
       "      <th>16</th>\n",
       "      <td>1996-01-01</td>\n",
       "      <td>89.875000</td>\n",
       "      <td>8.400000</td>\n",
       "      <td>263</td>\n",
       "    </tr>\n",
       "    <tr>\n",
       "      <th>15</th>\n",
       "      <td>1995-01-01</td>\n",
       "      <td>NaN</td>\n",
       "      <td>NaN</td>\n",
       "      <td>219</td>\n",
       "    </tr>\n",
       "    <tr>\n",
       "      <th>14</th>\n",
       "      <td>1994-01-01</td>\n",
       "      <td>69.000000</td>\n",
       "      <td>6.300000</td>\n",
       "      <td>121</td>\n",
       "    </tr>\n",
       "    <tr>\n",
       "      <th>13</th>\n",
       "      <td>1993-01-01</td>\n",
       "      <td>NaN</td>\n",
       "      <td>NaN</td>\n",
       "      <td>60</td>\n",
       "    </tr>\n",
       "    <tr>\n",
       "      <th>12</th>\n",
       "      <td>1992-01-01</td>\n",
       "      <td>85.000000</td>\n",
       "      <td>8.200000</td>\n",
       "      <td>43</td>\n",
       "    </tr>\n",
       "    <tr>\n",
       "      <th>11</th>\n",
       "      <td>1991-01-01</td>\n",
       "      <td>NaN</td>\n",
       "      <td>NaN</td>\n",
       "      <td>41</td>\n",
       "    </tr>\n",
       "    <tr>\n",
       "      <th>10</th>\n",
       "      <td>1990-01-01</td>\n",
       "      <td>NaN</td>\n",
       "      <td>NaN</td>\n",
       "      <td>16</td>\n",
       "    </tr>\n",
       "    <tr>\n",
       "      <th>9</th>\n",
       "      <td>1989-01-01</td>\n",
       "      <td>NaN</td>\n",
       "      <td>NaN</td>\n",
       "      <td>17</td>\n",
       "    </tr>\n",
       "    <tr>\n",
       "      <th>8</th>\n",
       "      <td>1988-01-01</td>\n",
       "      <td>64.000000</td>\n",
       "      <td>2.200000</td>\n",
       "      <td>15</td>\n",
       "    </tr>\n",
       "    <tr>\n",
       "      <th>7</th>\n",
       "      <td>1987-01-01</td>\n",
       "      <td>NaN</td>\n",
       "      <td>NaN</td>\n",
       "      <td>16</td>\n",
       "    </tr>\n",
       "    <tr>\n",
       "      <th>6</th>\n",
       "      <td>1986-01-01</td>\n",
       "      <td>NaN</td>\n",
       "      <td>NaN</td>\n",
       "      <td>21</td>\n",
       "    </tr>\n",
       "    <tr>\n",
       "      <th>5</th>\n",
       "      <td>1985-01-01</td>\n",
       "      <td>59.000000</td>\n",
       "      <td>5.800000</td>\n",
       "      <td>14</td>\n",
       "    </tr>\n",
       "    <tr>\n",
       "      <th>4</th>\n",
       "      <td>1984-01-01</td>\n",
       "      <td>NaN</td>\n",
       "      <td>NaN</td>\n",
       "      <td>14</td>\n",
       "    </tr>\n",
       "    <tr>\n",
       "      <th>3</th>\n",
       "      <td>1983-01-01</td>\n",
       "      <td>NaN</td>\n",
       "      <td>NaN</td>\n",
       "      <td>17</td>\n",
       "    </tr>\n",
       "    <tr>\n",
       "      <th>2</th>\n",
       "      <td>1982-01-01</td>\n",
       "      <td>NaN</td>\n",
       "      <td>NaN</td>\n",
       "      <td>36</td>\n",
       "    </tr>\n",
       "    <tr>\n",
       "      <th>1</th>\n",
       "      <td>1981-01-01</td>\n",
       "      <td>NaN</td>\n",
       "      <td>NaN</td>\n",
       "      <td>46</td>\n",
       "    </tr>\n",
       "    <tr>\n",
       "      <th>0</th>\n",
       "      <td>1980-01-01</td>\n",
       "      <td>NaN</td>\n",
       "      <td>NaN</td>\n",
       "      <td>9</td>\n",
       "    </tr>\n",
       "  </tbody>\n",
       "</table>\n",
       "</div>"
      ],
      "text/plain": [
       "   year_of_release  critic_score  user_score  name\n",
       "36      2016-01-01     73.155172    6.629771   502\n",
       "35      2015-01-01     72.871111    6.665993   606\n",
       "34      2014-01-01     71.065134    6.580243   581\n",
       "33      2013-01-01     71.278388    6.470724   544\n",
       "32      2012-01-01     72.984424    6.817404   653\n",
       "31      2011-01-01     68.692000    6.623553  1136\n",
       "30      2010-01-01     67.482000    6.875375  1255\n",
       "29      2009-01-01     67.554531    6.990717  1426\n",
       "28      2008-01-01     65.904895    6.950983  1427\n",
       "27      2007-01-01     66.180636    6.895707  1197\n",
       "26      2006-01-01     67.338710    7.247283  1006\n",
       "25      2005-01-01     68.819847    7.509605   939\n",
       "24      2004-01-01     69.393939    7.750511   762\n",
       "23      2003-01-01     70.181197    7.859884   775\n",
       "22      2002-01-01     69.046252    7.585129   829\n",
       "21      2001-01-01     71.414110    7.594942   482\n",
       "20      2000-01-01     69.349650    7.531776   350\n",
       "19      1999-01-01     75.769231    8.480645   338\n",
       "18      1998-01-01     81.821429    8.506452   379\n",
       "17      1997-01-01     85.294118    8.472222   289\n",
       "16      1996-01-01     89.875000    8.400000   263\n",
       "15      1995-01-01           NaN         NaN   219\n",
       "14      1994-01-01     69.000000    6.300000   121\n",
       "13      1993-01-01           NaN         NaN    60\n",
       "12      1992-01-01     85.000000    8.200000    43\n",
       "11      1991-01-01           NaN         NaN    41\n",
       "10      1990-01-01           NaN         NaN    16\n",
       "9       1989-01-01           NaN         NaN    17\n",
       "8       1988-01-01     64.000000    2.200000    15\n",
       "7       1987-01-01           NaN         NaN    16\n",
       "6       1986-01-01           NaN         NaN    21\n",
       "5       1985-01-01     59.000000    5.800000    14\n",
       "4       1984-01-01           NaN         NaN    14\n",
       "3       1983-01-01           NaN         NaN    17\n",
       "2       1982-01-01           NaN         NaN    36\n",
       "1       1981-01-01           NaN         NaN    46\n",
       "0       1980-01-01           NaN         NaN     9"
      ]
     },
     "metadata": {},
     "output_type": "display_data"
    },
    {
     "data": {
      "text/plain": [
       "Text(0, 0.5, 'Средние оценки пользователей и критиков')"
      ]
     },
     "execution_count": 225,
     "metadata": {},
     "output_type": "execute_result"
    },
    {
     "data": {
      "image/png": "[encoded data removed]",
      "text/plain": [
       "<Figure size 1440x432 with 1 Axes>"
      ]
     },
     "metadata": {
      "needs_background": "light"
     },
     "output_type": "display_data"
    }
   ],
   "source": [
    "display(data.groupby(['year_of_release']).agg({'critic_score':'mean', 'user_score':'mean', 'name':'count'}).reset_index().sort_values(by='year_of_release', ascending=False))\n",
    "# посчитали средние оценки пользователей и критиков по годам\n",
    "data.pivot_table(index='year_of_release', values=['user_score','critic_score'], aggfunc='mean').plot(grid=True, figsize=(20, 6))\n",
    "# построили график для наглядности\n",
    "plt.title('Средние оценки пользователей и критиков по годам выхода игр')\n",
    "plt.xlabel('Годы выхода игр')\n",
    "plt.ylabel('Средние оценки пользователей и критиков')"
   ]
  },
  {
   "cell_type": "markdown",
   "metadata": {},
   "source": [
    "<b>Мы сгруппировали данные по году, подсчитав количество выпущенных игр, среднюю оценку пользователей и критиков в каждом представленном году. Видно, что количество игр начало расти с 2002 года, при этом оценки пользователей и критиков, скорее, падали. Мы можем предположить, что с ростом количества игр, выходит и больше посредственных игр, соответственно и общий рейтинг за год снижается.</b>"
   ]
  },
  {
   "cell_type": "markdown",
   "metadata": {},
   "source": [
    "#### Определяем популярные игровые платформы "
   ]
  },
  {
   "cell_type": "code",
   "execution_count": 226,
   "metadata": {
    "scrolled": false
   },
   "outputs": [
    {
     "data": {
      "text/html": [
       "<div>\n",
       "<style scoped>\n",
       "    .dataframe tbody tr th:only-of-type {\n",
       "        vertical-align: middle;\n",
       "    }\n",
       "\n",
       "    .dataframe tbody tr th {\n",
       "        vertical-align: top;\n",
       "    }\n",
       "\n",
       "    .dataframe thead th {\n",
       "        text-align: right;\n",
       "    }\n",
       "</style>\n",
       "<table border=\"1\" class=\"dataframe\">\n",
       "  <thead>\n",
       "    <tr style=\"text-align: right;\">\n",
       "      <th></th>\n",
       "      <th>sale_percentage</th>\n",
       "      <th>sum_of_sales</th>\n",
       "    </tr>\n",
       "    <tr>\n",
       "      <th>platform</th>\n",
       "      <th></th>\n",
       "      <th></th>\n",
       "    </tr>\n",
       "  </thead>\n",
       "  <tbody>\n",
       "    <tr>\n",
       "      <th>PS2</th>\n",
       "      <td>14.084913</td>\n",
       "      <td>1255.77</td>\n",
       "    </tr>\n",
       "    <tr>\n",
       "      <th>X360</th>\n",
       "      <td>10.895599</td>\n",
       "      <td>971.42</td>\n",
       "    </tr>\n",
       "    <tr>\n",
       "      <th>PS3</th>\n",
       "      <td>10.539262</td>\n",
       "      <td>939.65</td>\n",
       "    </tr>\n",
       "    <tr>\n",
       "      <th>Wii</th>\n",
       "      <td>10.178774</td>\n",
       "      <td>907.51</td>\n",
       "    </tr>\n",
       "    <tr>\n",
       "      <th>DS</th>\n",
       "      <td>9.041568</td>\n",
       "      <td>806.12</td>\n",
       "    </tr>\n",
       "    <tr>\n",
       "      <th>PS</th>\n",
       "      <td>8.197440</td>\n",
       "      <td>730.86</td>\n",
       "    </tr>\n",
       "    <tr>\n",
       "      <th>GBA</th>\n",
       "      <td>3.565055</td>\n",
       "      <td>317.85</td>\n",
       "    </tr>\n",
       "    <tr>\n",
       "      <th>PS4</th>\n",
       "      <td>3.523443</td>\n",
       "      <td>314.14</td>\n",
       "    </tr>\n",
       "    <tr>\n",
       "      <th>PSP</th>\n",
       "      <td>3.298111</td>\n",
       "      <td>294.05</td>\n",
       "    </tr>\n",
       "    <tr>\n",
       "      <th>PC</th>\n",
       "      <td>2.910817</td>\n",
       "      <td>259.52</td>\n",
       "    </tr>\n",
       "    <tr>\n",
       "      <th>3DS</th>\n",
       "      <td>2.904985</td>\n",
       "      <td>259.00</td>\n",
       "    </tr>\n",
       "    <tr>\n",
       "      <th>XB</th>\n",
       "      <td>2.890852</td>\n",
       "      <td>257.74</td>\n",
       "    </tr>\n",
       "    <tr>\n",
       "      <th>GB</th>\n",
       "      <td>2.865279</td>\n",
       "      <td>255.46</td>\n",
       "    </tr>\n",
       "    <tr>\n",
       "      <th>NES</th>\n",
       "      <td>2.815816</td>\n",
       "      <td>251.05</td>\n",
       "    </tr>\n",
       "    <tr>\n",
       "      <th>N64</th>\n",
       "      <td>2.452749</td>\n",
       "      <td>218.68</td>\n",
       "    </tr>\n",
       "    <tr>\n",
       "      <th>SNES</th>\n",
       "      <td>2.243680</td>\n",
       "      <td>200.04</td>\n",
       "    </tr>\n",
       "    <tr>\n",
       "      <th>GC</th>\n",
       "      <td>2.231230</td>\n",
       "      <td>198.93</td>\n",
       "    </tr>\n",
       "    <tr>\n",
       "      <th>XOne</th>\n",
       "      <td>1.786958</td>\n",
       "      <td>159.32</td>\n",
       "    </tr>\n",
       "    <tr>\n",
       "      <th>2600</th>\n",
       "      <td>1.087743</td>\n",
       "      <td>96.98</td>\n",
       "    </tr>\n",
       "    <tr>\n",
       "      <th>WiiU</th>\n",
       "      <td>0.921856</td>\n",
       "      <td>82.19</td>\n",
       "    </tr>\n",
       "    <tr>\n",
       "      <th>PSV</th>\n",
       "      <td>0.606458</td>\n",
       "      <td>54.07</td>\n",
       "    </tr>\n",
       "    <tr>\n",
       "      <th>SAT</th>\n",
       "      <td>0.376751</td>\n",
       "      <td>33.59</td>\n",
       "    </tr>\n",
       "    <tr>\n",
       "      <th>GEN</th>\n",
       "      <td>0.345121</td>\n",
       "      <td>30.77</td>\n",
       "    </tr>\n",
       "    <tr>\n",
       "      <th>DC</th>\n",
       "      <td>0.178898</td>\n",
       "      <td>15.95</td>\n",
       "    </tr>\n",
       "    <tr>\n",
       "      <th>SCD</th>\n",
       "      <td>0.020862</td>\n",
       "      <td>1.86</td>\n",
       "    </tr>\n",
       "    <tr>\n",
       "      <th>NG</th>\n",
       "      <td>0.016151</td>\n",
       "      <td>1.44</td>\n",
       "    </tr>\n",
       "    <tr>\n",
       "      <th>WS</th>\n",
       "      <td>0.015927</td>\n",
       "      <td>1.42</td>\n",
       "    </tr>\n",
       "    <tr>\n",
       "      <th>TG16</th>\n",
       "      <td>0.001795</td>\n",
       "      <td>0.16</td>\n",
       "    </tr>\n",
       "    <tr>\n",
       "      <th>3DO</th>\n",
       "      <td>0.001122</td>\n",
       "      <td>0.10</td>\n",
       "    </tr>\n",
       "    <tr>\n",
       "      <th>GG</th>\n",
       "      <td>0.000449</td>\n",
       "      <td>0.04</td>\n",
       "    </tr>\n",
       "    <tr>\n",
       "      <th>PCFX</th>\n",
       "      <td>0.000336</td>\n",
       "      <td>0.03</td>\n",
       "    </tr>\n",
       "  </tbody>\n",
       "</table>\n",
       "</div>"
      ],
      "text/plain": [
       "          sale_percentage  sum_of_sales\n",
       "platform                               \n",
       "PS2             14.084913       1255.77\n",
       "X360            10.895599        971.42\n",
       "PS3             10.539262        939.65\n",
       "Wii             10.178774        907.51\n",
       "DS               9.041568        806.12\n",
       "PS               8.197440        730.86\n",
       "GBA              3.565055        317.85\n",
       "PS4              3.523443        314.14\n",
       "PSP              3.298111        294.05\n",
       "PC               2.910817        259.52\n",
       "3DS              2.904985        259.00\n",
       "XB               2.890852        257.74\n",
       "GB               2.865279        255.46\n",
       "NES              2.815816        251.05\n",
       "N64              2.452749        218.68\n",
       "SNES             2.243680        200.04\n",
       "GC               2.231230        198.93\n",
       "XOne             1.786958        159.32\n",
       "2600             1.087743         96.98\n",
       "WiiU             0.921856         82.19\n",
       "PSV              0.606458         54.07\n",
       "SAT              0.376751         33.59\n",
       "GEN              0.345121         30.77\n",
       "DC               0.178898         15.95\n",
       "SCD              0.020862          1.86\n",
       "NG               0.016151          1.44\n",
       "WS               0.015927          1.42\n",
       "TG16             0.001795          0.16\n",
       "3DO              0.001122          0.10\n",
       "GG               0.000449          0.04\n",
       "PCFX             0.000336          0.03"
      ]
     },
     "execution_count": 226,
     "metadata": {},
     "output_type": "execute_result"
    }
   ],
   "source": [
    "best_selled_platform = data.pivot_table(index=['platform'], values=['sum_of_sales', 'sale_percentage'], aggfunc='sum')\n",
    "best_selled_platform.sort_values(by='sum_of_sales', ascending=False) # строим сводную таблицу по продажам игр по платформам"
   ]
  },
  {
   "cell_type": "markdown",
   "metadata": {},
   "source": [
    "Мы соотнесли платформы, на которых выпускали игр с суммой продаж и процентным соотношением продаж игр для этих платформ. Есть шесть платформ с выдающимися продажами: PS2 (14% от всех проданных игр), X360 (почти 11%), PS3 (10,5%),Wii (10,1%), DS(9%) и PS (8%)."
   ]
  },
  {
   "cell_type": "code",
   "execution_count": 227,
   "metadata": {
    "scrolled": false
   },
   "outputs": [
    {
     "data": {
      "text/plain": [
       "Text(0, 0.5, 'Сумма продаж в миллионах долларов')"
      ]
     },
     "execution_count": 227,
     "metadata": {},
     "output_type": "execute_result"
    },
    {
     "data": {
      "image/png": "[encoded data removed]",
      "text/plain": [
       "<Figure size 1080x576 with 1 Axes>"
      ]
     },
     "metadata": {
      "needs_background": "light"
     },
     "output_type": "display_data"
    }
   ],
   "source": [
    "data_saled_platform = data.query('platform == (\"DS\", \"PS2\", \"PS3\", \"Wii\", \"X360\", \"PS4\", \"XOne\",\"WiiU\") and year_of_release > 2000')\n",
    "data_saled_platform.pivot_table(index=['year_of_release'], columns='platform', values='sum_of_sales', aggfunc='sum').plot(grid=True, figsize=(15, 8))\n",
    "plt.title('Объем выручки от продаж по годам для выбранных платформ')\n",
    "plt.xlabel('Годы выпуска игр')\n",
    "plt.ylabel('Сумма продаж в миллионах долларов')"
   ]
  },
  {
   "cell_type": "markdown",
   "metadata": {},
   "source": [
    "<b>Также мы сделали таблицу с суммой продаж по годам для платформ, которые принесли больше всего прибыли и платформами, которые появились в последние несколько лет, чтобы увидеть тренды грядущего года. Можно сделать вывод, что в среднем платформы популярны 5-6 лет, потом сумма продаж по ним идет на спад, а потом платформа меняется. Конечно, есть и рекордные платформы: например, PS2 была популярна аж 9 лет. В последние несколько лет на рынок вышла PS4, можно ожидать спрос на игры на этой платформе в ближайшие несколько лет, как и на игры на платформе XOne.</b>"
   ]
  },
  {
   "cell_type": "markdown",
   "metadata": {},
   "source": [
    "### Прогноз на основании популярности платформ"
   ]
  },
  {
   "cell_type": "markdown",
   "metadata": {},
   "source": [
    "#### Определяем необходимые для составления прогноза данные"
   ]
  },
  {
   "cell_type": "code",
   "execution_count": 228,
   "metadata": {},
   "outputs": [],
   "source": [
    "data_saled_platform = data.query('platform == (\"DS\", \"PS2\", \"PS3\", \"Wii\", \"PS4\", \"XOne\")')"
   ]
  },
  {
   "cell_type": "markdown",
   "metadata": {},
   "source": [
    "Мы сделали сделали срез по платформам, которые нас интересуют: DS, PS2, PS3 и Wii (как платформы, которые принесли больше всего прибыли в прошлом) и PS4 и XOne (как потенциально прибыльные платформы в будущем)."
   ]
  },
  {
   "cell_type": "code",
   "execution_count": 229,
   "metadata": {
    "scrolled": true
   },
   "outputs": [
    {
     "name": "stdout",
     "output_type": "stream",
     "text": [
      "<class 'pandas.core.frame.DataFrame'>\n",
      "Int64Index: 1217 entries, 16 to 16710\n",
      "Data columns (total 13 columns):\n",
      " #   Column           Non-Null Count  Dtype         \n",
      "---  ------           --------------  -----         \n",
      " 0   name             1217 non-null   object        \n",
      " 1   platform         1217 non-null   object        \n",
      " 2   year_of_release  1217 non-null   datetime64[ns]\n",
      " 3   genre            1217 non-null   object        \n",
      " 4   na_sales         1217 non-null   float64       \n",
      " 5   eu_sales         1217 non-null   float64       \n",
      " 6   jp_sales         1217 non-null   float64       \n",
      " 7   other_sales      1217 non-null   float64       \n",
      " 8   critic_score     641 non-null    float64       \n",
      " 9   user_score       742 non-null    float64       \n",
      " 10  rating           790 non-null    object        \n",
      " 11  sum_of_sales     1217 non-null   float64       \n",
      " 12  sale_percentage  1217 non-null   float64       \n",
      "dtypes: datetime64[ns](1), float64(8), object(4)\n",
      "memory usage: 133.1+ KB\n"
     ]
    }
   ],
   "source": [
    "data_cleaned = data_saled_platform.query('year_of_release >= 2012 and platform == (\"DS\", \"PS2\", \"PS3\", \"Wii\", \"X360\", \"PS4\", \"XOne\", \"WiiU\")')\n",
    "data_cleaned.info() # сделали срез по данным, необходимым для прогноза, проверили данные"
   ]
  },
  {
   "cell_type": "code",
   "execution_count": 230,
   "metadata": {
    "scrolled": true
   },
   "outputs": [
    {
     "data": {
      "text/html": [
       "<div>\n",
       "<style scoped>\n",
       "    .dataframe tbody tr th:only-of-type {\n",
       "        vertical-align: middle;\n",
       "    }\n",
       "\n",
       "    .dataframe tbody tr th {\n",
       "        vertical-align: top;\n",
       "    }\n",
       "\n",
       "    .dataframe thead th {\n",
       "        text-align: right;\n",
       "    }\n",
       "</style>\n",
       "<table border=\"1\" class=\"dataframe\">\n",
       "  <thead>\n",
       "    <tr style=\"text-align: right;\">\n",
       "      <th></th>\n",
       "      <th>name</th>\n",
       "      <th>platform</th>\n",
       "      <th>year_of_release</th>\n",
       "      <th>genre</th>\n",
       "      <th>na_sales</th>\n",
       "      <th>eu_sales</th>\n",
       "      <th>jp_sales</th>\n",
       "      <th>other_sales</th>\n",
       "      <th>critic_score</th>\n",
       "      <th>user_score</th>\n",
       "      <th>rating</th>\n",
       "      <th>sum_of_sales</th>\n",
       "      <th>sale_percentage</th>\n",
       "    </tr>\n",
       "  </thead>\n",
       "  <tbody>\n",
       "    <tr>\n",
       "      <th>16</th>\n",
       "      <td>Grand Theft Auto V</td>\n",
       "      <td>PS3</td>\n",
       "      <td>2013-01-01</td>\n",
       "      <td>Action</td>\n",
       "      <td>7.02</td>\n",
       "      <td>9.09</td>\n",
       "      <td>0.98</td>\n",
       "      <td>3.96</td>\n",
       "      <td>97.0</td>\n",
       "      <td>8.2</td>\n",
       "      <td>M</td>\n",
       "      <td>21.05</td>\n",
       "      <td>0.236100</td>\n",
       "    </tr>\n",
       "    <tr>\n",
       "      <th>31</th>\n",
       "      <td>Call of Duty: Black Ops 3</td>\n",
       "      <td>PS4</td>\n",
       "      <td>2015-01-01</td>\n",
       "      <td>Shooter</td>\n",
       "      <td>6.03</td>\n",
       "      <td>5.86</td>\n",
       "      <td>0.36</td>\n",
       "      <td>2.38</td>\n",
       "      <td>NaN</td>\n",
       "      <td>NaN</td>\n",
       "      <td>NaN</td>\n",
       "      <td>14.63</td>\n",
       "      <td>0.164092</td>\n",
       "    </tr>\n",
       "    <tr>\n",
       "      <th>34</th>\n",
       "      <td>Call of Duty: Black Ops II</td>\n",
       "      <td>PS3</td>\n",
       "      <td>2012-01-01</td>\n",
       "      <td>Shooter</td>\n",
       "      <td>4.99</td>\n",
       "      <td>5.73</td>\n",
       "      <td>0.65</td>\n",
       "      <td>2.42</td>\n",
       "      <td>83.0</td>\n",
       "      <td>5.3</td>\n",
       "      <td>M</td>\n",
       "      <td>13.79</td>\n",
       "      <td>0.154671</td>\n",
       "    </tr>\n",
       "    <tr>\n",
       "      <th>42</th>\n",
       "      <td>Grand Theft Auto V</td>\n",
       "      <td>PS4</td>\n",
       "      <td>2014-01-01</td>\n",
       "      <td>Action</td>\n",
       "      <td>3.96</td>\n",
       "      <td>6.31</td>\n",
       "      <td>0.38</td>\n",
       "      <td>1.97</td>\n",
       "      <td>97.0</td>\n",
       "      <td>8.3</td>\n",
       "      <td>M</td>\n",
       "      <td>12.62</td>\n",
       "      <td>0.141548</td>\n",
       "    </tr>\n",
       "    <tr>\n",
       "      <th>69</th>\n",
       "      <td>Call of Duty: Ghosts</td>\n",
       "      <td>PS3</td>\n",
       "      <td>2013-01-01</td>\n",
       "      <td>Shooter</td>\n",
       "      <td>4.10</td>\n",
       "      <td>3.63</td>\n",
       "      <td>0.38</td>\n",
       "      <td>1.25</td>\n",
       "      <td>71.0</td>\n",
       "      <td>2.6</td>\n",
       "      <td>M</td>\n",
       "      <td>9.36</td>\n",
       "      <td>0.104983</td>\n",
       "    </tr>\n",
       "    <tr>\n",
       "      <th>77</th>\n",
       "      <td>FIFA 16</td>\n",
       "      <td>PS4</td>\n",
       "      <td>2015-01-01</td>\n",
       "      <td>Sports</td>\n",
       "      <td>1.12</td>\n",
       "      <td>6.12</td>\n",
       "      <td>0.06</td>\n",
       "      <td>1.28</td>\n",
       "      <td>82.0</td>\n",
       "      <td>4.3</td>\n",
       "      <td>E</td>\n",
       "      <td>8.58</td>\n",
       "      <td>0.096235</td>\n",
       "    </tr>\n",
       "    <tr>\n",
       "      <th>81</th>\n",
       "      <td>FIFA Soccer 13</td>\n",
       "      <td>PS3</td>\n",
       "      <td>2012-01-01</td>\n",
       "      <td>Action</td>\n",
       "      <td>1.06</td>\n",
       "      <td>5.01</td>\n",
       "      <td>0.13</td>\n",
       "      <td>1.97</td>\n",
       "      <td>88.0</td>\n",
       "      <td>6.6</td>\n",
       "      <td>E</td>\n",
       "      <td>8.17</td>\n",
       "      <td>0.091636</td>\n",
       "    </tr>\n",
       "    <tr>\n",
       "      <th>83</th>\n",
       "      <td>Pokemon Black 2/Pokemon White 2</td>\n",
       "      <td>DS</td>\n",
       "      <td>2012-01-01</td>\n",
       "      <td>Role-Playing</td>\n",
       "      <td>2.79</td>\n",
       "      <td>1.72</td>\n",
       "      <td>3.14</td>\n",
       "      <td>0.41</td>\n",
       "      <td>NaN</td>\n",
       "      <td>NaN</td>\n",
       "      <td>NaN</td>\n",
       "      <td>8.06</td>\n",
       "      <td>0.090402</td>\n",
       "    </tr>\n",
       "    <tr>\n",
       "      <th>87</th>\n",
       "      <td>Star Wars Battlefront (2015)</td>\n",
       "      <td>PS4</td>\n",
       "      <td>2015-01-01</td>\n",
       "      <td>Shooter</td>\n",
       "      <td>2.99</td>\n",
       "      <td>3.49</td>\n",
       "      <td>0.22</td>\n",
       "      <td>1.28</td>\n",
       "      <td>NaN</td>\n",
       "      <td>NaN</td>\n",
       "      <td>NaN</td>\n",
       "      <td>7.98</td>\n",
       "      <td>0.089505</td>\n",
       "    </tr>\n",
       "    <tr>\n",
       "      <th>92</th>\n",
       "      <td>Call of Duty: Advanced Warfare</td>\n",
       "      <td>PS4</td>\n",
       "      <td>2014-01-01</td>\n",
       "      <td>Shooter</td>\n",
       "      <td>2.81</td>\n",
       "      <td>3.48</td>\n",
       "      <td>0.14</td>\n",
       "      <td>1.23</td>\n",
       "      <td>83.0</td>\n",
       "      <td>5.7</td>\n",
       "      <td>M</td>\n",
       "      <td>7.66</td>\n",
       "      <td>0.085916</td>\n",
       "    </tr>\n",
       "  </tbody>\n",
       "</table>\n",
       "</div>"
      ],
      "text/plain": [
       "                               name platform year_of_release         genre  \\\n",
       "16               Grand Theft Auto V      PS3      2013-01-01        Action   \n",
       "31        Call of Duty: Black Ops 3      PS4      2015-01-01       Shooter   \n",
       "34       Call of Duty: Black Ops II      PS3      2012-01-01       Shooter   \n",
       "42               Grand Theft Auto V      PS4      2014-01-01        Action   \n",
       "69             Call of Duty: Ghosts      PS3      2013-01-01       Shooter   \n",
       "77                          FIFA 16      PS4      2015-01-01        Sports   \n",
       "81                   FIFA Soccer 13      PS3      2012-01-01        Action   \n",
       "83  Pokemon Black 2/Pokemon White 2       DS      2012-01-01  Role-Playing   \n",
       "87     Star Wars Battlefront (2015)      PS4      2015-01-01       Shooter   \n",
       "92   Call of Duty: Advanced Warfare      PS4      2014-01-01       Shooter   \n",
       "\n",
       "    na_sales  eu_sales  jp_sales  other_sales  critic_score  user_score  \\\n",
       "16      7.02      9.09      0.98         3.96          97.0         8.2   \n",
       "31      6.03      5.86      0.36         2.38           NaN         NaN   \n",
       "34      4.99      5.73      0.65         2.42          83.0         5.3   \n",
       "42      3.96      6.31      0.38         1.97          97.0         8.3   \n",
       "69      4.10      3.63      0.38         1.25          71.0         2.6   \n",
       "77      1.12      6.12      0.06         1.28          82.0         4.3   \n",
       "81      1.06      5.01      0.13         1.97          88.0         6.6   \n",
       "83      2.79      1.72      3.14         0.41           NaN         NaN   \n",
       "87      2.99      3.49      0.22         1.28           NaN         NaN   \n",
       "92      2.81      3.48      0.14         1.23          83.0         5.7   \n",
       "\n",
       "   rating  sum_of_sales  sale_percentage  \n",
       "16      M         21.05         0.236100  \n",
       "31    NaN         14.63         0.164092  \n",
       "34      M         13.79         0.154671  \n",
       "42      M         12.62         0.141548  \n",
       "69      M          9.36         0.104983  \n",
       "77      E          8.58         0.096235  \n",
       "81      E          8.17         0.091636  \n",
       "83    NaN          8.06         0.090402  \n",
       "87    NaN          7.98         0.089505  \n",
       "92      M          7.66         0.085916  "
      ]
     },
     "execution_count": 230,
     "metadata": {},
     "output_type": "execute_result"
    }
   ],
   "source": [
    "data_cleaned.head(10) # проверили данные еще раз"
   ]
  },
  {
   "cell_type": "markdown",
   "metadata": {},
   "source": [
    "Мы отфильтровали данные до тех, которые нас интересуют: оставили самые популярные платформы, а также убрали данные до 2012 года, чтобы получить репрезентативные оценки пользователей."
   ]
  },
  {
   "cell_type": "markdown",
   "metadata": {},
   "source": [
    "Для прицельного анализа мы выбрали 2015 год: в этом году вышло много (606) игр, а также на рынке присутствовало шесть игровых платформ, что достаточно, чтобы сделать анализ."
   ]
  },
  {
   "cell_type": "code",
   "execution_count": 231,
   "metadata": {
    "scrolled": true
   },
   "outputs": [
    {
     "name": "stdout",
     "output_type": "stream",
     "text": [
      "<class 'pandas.core.frame.DataFrame'>\n",
      "Int64Index: 606 entries, 31 to 16662\n",
      "Data columns (total 13 columns):\n",
      " #   Column           Non-Null Count  Dtype         \n",
      "---  ------           --------------  -----         \n",
      " 0   name             606 non-null    object        \n",
      " 1   platform         606 non-null    object        \n",
      " 2   year_of_release  606 non-null    datetime64[ns]\n",
      " 3   genre            606 non-null    object        \n",
      " 4   na_sales         606 non-null    float64       \n",
      " 5   eu_sales         606 non-null    float64       \n",
      " 6   jp_sales         606 non-null    float64       \n",
      " 7   other_sales      606 non-null    float64       \n",
      " 8   critic_score     225 non-null    float64       \n",
      " 9   user_score       297 non-null    float64       \n",
      " 10  rating           315 non-null    object        \n",
      " 11  sum_of_sales     606 non-null    float64       \n",
      " 12  sale_percentage  606 non-null    float64       \n",
      "dtypes: datetime64[ns](1), float64(8), object(4)\n",
      "memory usage: 66.3+ KB\n"
     ]
    }
   ],
   "source": [
    "data_year_prognosis = data.query('year_of_release == 2015') # сделали срез по нужному году\n",
    "data_year_prognosis.info()"
   ]
  },
  {
   "cell_type": "markdown",
   "metadata": {},
   "source": [
    "<b>Мы выбрали для составления прогноза популярности игр на определенных платформах 2015 год - это год, когда на рынке было шесть игровых платформ и вышло достаточно много игр. Этого достаточно, чтобы выявить основные закономерности. </b>"
   ]
  },
  {
   "cell_type": "markdown",
   "metadata": {},
   "source": [
    "#### Анализ распределения продаж по платформам"
   ]
  },
  {
   "cell_type": "code",
   "execution_count": 232,
   "metadata": {
    "scrolled": false
   },
   "outputs": [
    {
     "data": {
      "text/plain": [
       "count    1217.000000\n",
       "mean        0.665711\n",
       "std         1.427093\n",
       "min         0.010000\n",
       "25%         0.050000\n",
       "50%         0.200000\n",
       "75%         0.660000\n",
       "max        21.050000\n",
       "Name: sum_of_sales, dtype: float64"
      ]
     },
     "execution_count": 232,
     "metadata": {},
     "output_type": "execute_result"
    },
    {
     "data": {
      "image/png": "[encoded data removed]",
      "text/plain": [
       "<Figure size 432x288 with 1 Axes>"
      ]
     },
     "metadata": {
      "needs_background": "light"
     },
     "output_type": "display_data"
    }
   ],
   "source": [
    "data_cleaned.boxplot('sum_of_sales', by='platform') # распределили продажи по платформам\n",
    "data_cleaned['sum_of_sales'].describe()"
   ]
  },
  {
   "cell_type": "markdown",
   "metadata": {},
   "source": [
    "<b>Мы посмотрели, как распределяются данные по платформам. которые мы отобрали. У PS3 и PS4 есть значительные выбросы, как и у платформы DS. А вот у XOne и Wii данные сосредоточены компактно, что говорит о равномерном распределении продаж.</b>"
   ]
  },
  {
   "cell_type": "markdown",
   "metadata": {},
   "source": [
    "#### Анализ зависимости между суммой продаж игр на платформе и оценкой пользователей"
   ]
  },
  {
   "cell_type": "markdown",
   "metadata": {},
   "source": [
    "В этом разделе мы проанализируем связь продаж игр с оценками пользователей на самой популярной платформе (PS3) и на остальных платформах."
   ]
  },
  {
   "cell_type": "code",
   "execution_count": 233,
   "metadata": {
    "scrolled": true
   },
   "outputs": [
    {
     "data": {
      "image/png": "[encoded data removed]",
      "text/plain": [
       "<Figure size 432x288 with 1 Axes>"
      ]
     },
     "metadata": {
      "needs_background": "light"
     },
     "output_type": "display_data"
    }
   ],
   "source": [
    "data_ps3 = data.query('platform == \"PS3\" and sum_of_sales < 15') # сделали срез по платформе PS3 и убрали выбросы\n",
    "plt.scatter(data_ps3['user_score'], data_ps3['sum_of_sales']) # построили по срезу скаттерплот\n",
    "plt.title('correlation_user_score_sales_ps3')\n",
    "plt.xlabel('user_score')\n",
    "plt.ylabel('sum_of_sales')\n",
    "plt.show()"
   ]
  },
  {
   "cell_type": "code",
   "execution_count": 234,
   "metadata": {},
   "outputs": [
    {
     "name": "stdout",
     "output_type": "stream",
     "text": [
      "0.12\n"
     ]
    }
   ],
   "source": [
    "print('{0:.2f}'.format(data_ps3['user_score'].corr(data_ps3['sum_of_sales']))) # посчитали коэффициент корреляции"
   ]
  },
  {
   "cell_type": "markdown",
   "metadata": {},
   "source": [
    "Мы рассмотрели зависимость между суммой продаж и оценками пользователей для платформы PS3, как у самой популярной платформы. В процессе анализа мы убрали выбросы. Судя по графику и коэффициенту корреляции связь есть, но не очень сильная. Видно, что сумма продаж начинает расти примерно с оценки 5, но и оценку меньше 5 ставит мало пользователей.  "
   ]
  },
  {
   "cell_type": "code",
   "execution_count": 235,
   "metadata": {
    "scrolled": false
   },
   "outputs": [
    {
     "data": {
      "image/png": "[encoded data removed]",
      "text/plain": [
       "<Figure size 432x288 with 1 Axes>"
      ]
     },
     "metadata": {
      "needs_background": "light"
     },
     "output_type": "display_data"
    }
   ],
   "source": [
    "data_other_platforms = data.query('platform != \"PS3\"') # сделали срез по остальным платформам\n",
    "plt.scatter(data_other_platforms['user_score'], data_other_platforms['sum_of_sales']) # сделали скаттерплот\n",
    "plt.title('correlation_user_score_sales')\n",
    "plt.xlabel('user_score')\n",
    "plt.ylabel('sum_of_sales')\n",
    "plt.show()"
   ]
  },
  {
   "cell_type": "code",
   "execution_count": 236,
   "metadata": {},
   "outputs": [
    {
     "name": "stdout",
     "output_type": "stream",
     "text": [
      "0.09\n"
     ]
    }
   ],
   "source": [
    "print('{0:.2f}'.format(data_other_platforms['user_score'].corr(data_other_platforms['sum_of_sales']))) # посчитали коэффициент корреляции"
   ]
  },
  {
   "cell_type": "markdown",
   "metadata": {},
   "source": [
    "По другим платформам сумма продаж еще меньше связана с оценками - график ровный, продажи немного начинают расти с оценки 6, но не так сильно, как у PS3. Коэффициент корреляции показывают слабую положительную связь."
   ]
  },
  {
   "cell_type": "markdown",
   "metadata": {},
   "source": [
    "<b>На основании анализа связи суммы продаж игр и оценками пользователей можно сделать вывод, что связь между этими двумя факторами, но очень слабая. Это верно как для самой популярной платформы PS3, так и для остальных платформ.</b>"
   ]
  },
  {
   "cell_type": "markdown",
   "metadata": {},
   "source": [
    "#### Анализ зависимости между суммой продаж игр на платформе и оценкой критиков"
   ]
  },
  {
   "cell_type": "markdown",
   "metadata": {},
   "source": [
    "В этом разделе мы проанализиурем, насколько оценки критиков влияют на продажи игр на самой популярной платформе PS3 и остальных платформах."
   ]
  },
  {
   "cell_type": "code",
   "execution_count": 237,
   "metadata": {
    "scrolled": false
   },
   "outputs": [
    {
     "data": {
      "image/png": "[encoded data removed]",
      "text/plain": [
       "<Figure size 432x288 with 1 Axes>"
      ]
     },
     "metadata": {
      "needs_background": "light"
     },
     "output_type": "display_data"
    }
   ],
   "source": [
    "plt.scatter(data_ps3['critic_score'], data_ps3['sum_of_sales']) # построили график связи продаж игр на PS3 и оценкой критиков\n",
    "plt.title('correlation_critic_score_sales_ps3')\n",
    "plt.xlabel('critic_score')\n",
    "plt.ylabel('sum_of_sales')\n",
    "plt.show()"
   ]
  },
  {
   "cell_type": "code",
   "execution_count": 238,
   "metadata": {},
   "outputs": [
    {
     "name": "stdout",
     "output_type": "stream",
     "text": [
      "0.45\n"
     ]
    }
   ],
   "source": [
    "print('{0:.2f}'.format(data_ps3['critic_score'].corr(data_ps3['sum_of_sales']))) # посчитали коэффициент корреляции"
   ]
  },
  {
   "cell_type": "markdown",
   "metadata": {},
   "source": [
    "Мы сравнили продажи игр на платформе PS3 с оценками критиков. Здесь ситуация меняется: продажи игр больше связаны с оценкой критиков, чем с оценкой пользователей. Рост продаж у игр на платформе PS3 начинается с 65 и заметно растет к оценке 80. "
   ]
  },
  {
   "cell_type": "code",
   "execution_count": 239,
   "metadata": {
    "scrolled": false
   },
   "outputs": [
    {
     "data": {
      "image/png": "[encoded data removed]",
      "text/plain": [
       "<Figure size 432x288 with 1 Axes>"
      ]
     },
     "metadata": {
      "needs_background": "light"
     },
     "output_type": "display_data"
    }
   ],
   "source": [
    "plt.scatter(data_other_platforms['critic_score'], data_other_platforms['sum_of_sales']) \n",
    "# построили график связи продаж игр на других платформах и оценкой критиков\n",
    "plt.title('correlation_critic_score_sales')\n",
    "plt.xlabel('critic_score')\n",
    "plt.ylabel('sum_of_sales')\n",
    "plt.show()"
   ]
  },
  {
   "cell_type": "code",
   "execution_count": 240,
   "metadata": {},
   "outputs": [
    {
     "name": "stdout",
     "output_type": "stream",
     "text": [
      "0.23\n"
     ]
    }
   ],
   "source": [
    "print('{0:.2f}'.format(data_other_platforms['critic_score'].corr(data_other_platforms['sum_of_sales']))) # посчитали коэффициент корреляции"
   ]
  },
  {
   "cell_type": "markdown",
   "metadata": {},
   "source": [
    "Продажи игр на других платформах также имеют связь с оценкой критиков сильнее, чем с оценками пользователей."
   ]
  },
  {
   "cell_type": "markdown",
   "metadata": {},
   "source": [
    "<b>Можно предположить, что связь продаж игр с оценками критиков более сильная потому, что рецензии критиков обладают значительным весом и тиражируются больше, чем оценки пользователей. К тому же, критики часто имеют возможность оценить игру до ее официального релиза, и их оценки заранее формируют спрос на конкретную игру. </b>"
   ]
  },
  {
   "cell_type": "markdown",
   "metadata": {},
   "source": [
    "### Зависимость продаж игр от разных факторов"
   ]
  },
  {
   "cell_type": "markdown",
   "metadata": {},
   "source": [
    "#### Зависимость продаж игр от жанра"
   ]
  },
  {
   "cell_type": "markdown",
   "metadata": {},
   "source": [
    "В этом разделе мы рассмотрим как продаются игры разных жанров."
   ]
  },
  {
   "cell_type": "code",
   "execution_count": 241,
   "metadata": {
    "scrolled": true
   },
   "outputs": [
    {
     "data": {
      "text/html": [
       "<div>\n",
       "<style scoped>\n",
       "    .dataframe tbody tr th:only-of-type {\n",
       "        vertical-align: middle;\n",
       "    }\n",
       "\n",
       "    .dataframe tbody tr th {\n",
       "        vertical-align: top;\n",
       "    }\n",
       "\n",
       "    .dataframe thead th {\n",
       "        text-align: right;\n",
       "    }\n",
       "</style>\n",
       "<table border=\"1\" class=\"dataframe\">\n",
       "  <thead>\n",
       "    <tr style=\"text-align: right;\">\n",
       "      <th></th>\n",
       "      <th>sum_of_sales</th>\n",
       "      <th>sale_percentage</th>\n",
       "    </tr>\n",
       "    <tr>\n",
       "      <th>genre</th>\n",
       "      <th></th>\n",
       "      <th></th>\n",
       "    </tr>\n",
       "  </thead>\n",
       "  <tbody>\n",
       "    <tr>\n",
       "      <th>Action</th>\n",
       "      <td>261.73</td>\n",
       "      <td>32.305565</td>\n",
       "    </tr>\n",
       "    <tr>\n",
       "      <th>Shooter</th>\n",
       "      <td>209.28</td>\n",
       "      <td>25.831616</td>\n",
       "    </tr>\n",
       "    <tr>\n",
       "      <th>Sports</th>\n",
       "      <td>129.41</td>\n",
       "      <td>15.973191</td>\n",
       "    </tr>\n",
       "    <tr>\n",
       "      <th>Role-Playing</th>\n",
       "      <td>72.30</td>\n",
       "      <td>8.924053</td>\n",
       "    </tr>\n",
       "    <tr>\n",
       "      <th>Misc</th>\n",
       "      <td>42.84</td>\n",
       "      <td>5.287779</td>\n",
       "    </tr>\n",
       "    <tr>\n",
       "      <th>Racing</th>\n",
       "      <td>33.50</td>\n",
       "      <td>4.134935</td>\n",
       "    </tr>\n",
       "    <tr>\n",
       "      <th>Fighting</th>\n",
       "      <td>22.10</td>\n",
       "      <td>2.727823</td>\n",
       "    </tr>\n",
       "    <tr>\n",
       "      <th>Platform</th>\n",
       "      <td>15.82</td>\n",
       "      <td>1.952677</td>\n",
       "    </tr>\n",
       "    <tr>\n",
       "      <th>Adventure</th>\n",
       "      <td>15.36</td>\n",
       "      <td>1.895898</td>\n",
       "    </tr>\n",
       "    <tr>\n",
       "      <th>Simulation</th>\n",
       "      <td>4.13</td>\n",
       "      <td>0.509770</td>\n",
       "    </tr>\n",
       "    <tr>\n",
       "      <th>Strategy</th>\n",
       "      <td>2.88</td>\n",
       "      <td>0.355481</td>\n",
       "    </tr>\n",
       "    <tr>\n",
       "      <th>Puzzle</th>\n",
       "      <td>0.82</td>\n",
       "      <td>0.101213</td>\n",
       "    </tr>\n",
       "  </tbody>\n",
       "</table>\n",
       "</div>"
      ],
      "text/plain": [
       "              sum_of_sales  sale_percentage\n",
       "genre                                      \n",
       "Action              261.73        32.305565\n",
       "Shooter             209.28        25.831616\n",
       "Sports              129.41        15.973191\n",
       "Role-Playing         72.30         8.924053\n",
       "Misc                 42.84         5.287779\n",
       "Racing               33.50         4.134935\n",
       "Fighting             22.10         2.727823\n",
       "Platform             15.82         1.952677\n",
       "Adventure            15.36         1.895898\n",
       "Simulation            4.13         0.509770\n",
       "Strategy              2.88         0.355481\n",
       "Puzzle                0.82         0.101213"
      ]
     },
     "metadata": {},
     "output_type": "display_data"
    }
   ],
   "source": [
    "data_cleaned['sale_percentage'] = data_cleaned['sum_of_sales'] / data_cleaned['sum_of_sales'].sum() * 100 \n",
    "# посчитали процент продаж игр по жанрам\n",
    "data_genre = data_cleaned.groupby('genre').agg({'sum_of_sales':'sum', 'sale_percentage':'sum'}).sort_values(by='sale_percentage', ascending=False)\n",
    "display(data_genre.sort_values(by='sale_percentage', ascending=False))"
   ]
  },
  {
   "cell_type": "markdown",
   "metadata": {},
   "source": [
    "Судя по данным о продажах по всему миру, самый популярный и прибыльный жанр - это экшн. Помимо него, в топ-5 входят шутер, спорт, РПГ и миксы."
   ]
  },
  {
   "cell_type": "markdown",
   "metadata": {},
   "source": [
    "#### Зависимость продаж игр от платформы"
   ]
  },
  {
   "cell_type": "code",
   "execution_count": 242,
   "metadata": {
    "scrolled": false
   },
   "outputs": [
    {
     "data": {
      "text/html": [
       "<div>\n",
       "<style scoped>\n",
       "    .dataframe tbody tr th:only-of-type {\n",
       "        vertical-align: middle;\n",
       "    }\n",
       "\n",
       "    .dataframe tbody tr th {\n",
       "        vertical-align: top;\n",
       "    }\n",
       "\n",
       "    .dataframe thead th {\n",
       "        text-align: right;\n",
       "    }\n",
       "</style>\n",
       "<table border=\"1\" class=\"dataframe\">\n",
       "  <thead>\n",
       "    <tr style=\"text-align: right;\">\n",
       "      <th></th>\n",
       "      <th>sum</th>\n",
       "    </tr>\n",
       "    <tr>\n",
       "      <th>platform</th>\n",
       "      <th></th>\n",
       "    </tr>\n",
       "  </thead>\n",
       "  <tbody>\n",
       "    <tr>\n",
       "      <th>PS4</th>\n",
       "      <td>314.14</td>\n",
       "    </tr>\n",
       "    <tr>\n",
       "      <th>PS3</th>\n",
       "      <td>288.79</td>\n",
       "    </tr>\n",
       "    <tr>\n",
       "      <th>XOne</th>\n",
       "      <td>159.32</td>\n",
       "    </tr>\n",
       "    <tr>\n",
       "      <th>Wii</th>\n",
       "      <td>35.37</td>\n",
       "    </tr>\n",
       "    <tr>\n",
       "      <th>DS</th>\n",
       "      <td>12.55</td>\n",
       "    </tr>\n",
       "  </tbody>\n",
       "</table>\n",
       "</div>"
      ],
      "text/plain": [
       "             sum\n",
       "platform        \n",
       "PS4       314.14\n",
       "PS3       288.79\n",
       "XOne      159.32\n",
       "Wii        35.37\n",
       "DS         12.55"
      ]
     },
     "metadata": {},
     "output_type": "display_data"
    }
   ],
   "source": [
    "data_platform = data_cleaned.groupby('platform')['sum_of_sales'].agg(['sum']).sort_values(by='sum', ascending=False)\n",
    "display(data_platform) # разделили продажи по платформам"
   ]
  },
  {
   "cell_type": "markdown",
   "metadata": {},
   "source": [
    "Самыми прибыльными платформами в последние несколько лет в мире стали PS4, PS3 и XOne."
   ]
  },
  {
   "cell_type": "markdown",
   "metadata": {},
   "source": [
    "#### Зависимость продаж игр от рейтинга"
   ]
  },
  {
   "cell_type": "code",
   "execution_count": 243,
   "metadata": {
    "scrolled": false
   },
   "outputs": [
    {
     "data": {
      "text/html": [
       "<div>\n",
       "<style scoped>\n",
       "    .dataframe tbody tr th:only-of-type {\n",
       "        vertical-align: middle;\n",
       "    }\n",
       "\n",
       "    .dataframe tbody tr th {\n",
       "        vertical-align: top;\n",
       "    }\n",
       "\n",
       "    .dataframe thead th {\n",
       "        text-align: right;\n",
       "    }\n",
       "</style>\n",
       "<table border=\"1\" class=\"dataframe\">\n",
       "  <thead>\n",
       "    <tr style=\"text-align: right;\">\n",
       "      <th></th>\n",
       "      <th></th>\n",
       "      <th>sale_percentage</th>\n",
       "      <th>sum_of_sales</th>\n",
       "    </tr>\n",
       "    <tr>\n",
       "      <th>genre</th>\n",
       "      <th>rating</th>\n",
       "      <th></th>\n",
       "      <th></th>\n",
       "    </tr>\n",
       "  </thead>\n",
       "  <tbody>\n",
       "    <tr>\n",
       "      <th>Action</th>\n",
       "      <th>M</th>\n",
       "      <td>18.559068</td>\n",
       "      <td>150.36</td>\n",
       "    </tr>\n",
       "    <tr>\n",
       "      <th>Shooter</th>\n",
       "      <th>M</th>\n",
       "      <td>17.047040</td>\n",
       "      <td>138.11</td>\n",
       "    </tr>\n",
       "    <tr>\n",
       "      <th>Sports</th>\n",
       "      <th>E</th>\n",
       "      <td>12.992335</td>\n",
       "      <td>105.26</td>\n",
       "    </tr>\n",
       "    <tr>\n",
       "      <th>Role-Playing</th>\n",
       "      <th>M</th>\n",
       "      <td>4.265771</td>\n",
       "      <td>34.56</td>\n",
       "    </tr>\n",
       "    <tr>\n",
       "      <th>Action</th>\n",
       "      <th>E10+</th>\n",
       "      <td>3.969537</td>\n",
       "      <td>32.16</td>\n",
       "    </tr>\n",
       "    <tr>\n",
       "      <th>Shooter</th>\n",
       "      <th>T</th>\n",
       "      <td>3.491860</td>\n",
       "      <td>28.29</td>\n",
       "    </tr>\n",
       "    <tr>\n",
       "      <th>Action</th>\n",
       "      <th>T</th>\n",
       "      <td>3.225249</td>\n",
       "      <td>26.13</td>\n",
       "    </tr>\n",
       "    <tr>\n",
       "      <th>Misc</th>\n",
       "      <th>E10+</th>\n",
       "      <td>2.224225</td>\n",
       "      <td>18.02</td>\n",
       "    </tr>\n",
       "    <tr>\n",
       "      <th>Racing</th>\n",
       "      <th>E</th>\n",
       "      <td>2.141526</td>\n",
       "      <td>17.35</td>\n",
       "    </tr>\n",
       "    <tr>\n",
       "      <th>Action</th>\n",
       "      <th>E</th>\n",
       "      <td>1.721861</td>\n",
       "      <td>13.95</td>\n",
       "    </tr>\n",
       "  </tbody>\n",
       "</table>\n",
       "</div>"
      ],
      "text/plain": [
       "                     sale_percentage  sum_of_sales\n",
       "genre        rating                               \n",
       "Action       M             18.559068        150.36\n",
       "Shooter      M             17.047040        138.11\n",
       "Sports       E             12.992335        105.26\n",
       "Role-Playing M              4.265771         34.56\n",
       "Action       E10+           3.969537         32.16\n",
       "Shooter      T              3.491860         28.29\n",
       "Action       T              3.225249         26.13\n",
       "Misc         E10+           2.224225         18.02\n",
       "Racing       E              2.141526         17.35\n",
       "Action       E              1.721861         13.95"
      ]
     },
     "metadata": {},
     "output_type": "display_data"
    }
   ],
   "source": [
    "data_rating = data_cleaned.pivot_table(index=['genre','rating'], values=['sum_of_sales', 'sale_percentage'], aggfunc='sum').sort_values(by='sale_percentage', ascending=False)\n",
    "display(data_rating.head(10)) # построили таблицу с данными по продажам по рейтингу игр"
   ]
  },
  {
   "cell_type": "markdown",
   "metadata": {},
   "source": [
    "Больше всего продаж принадлежит играм в жанре экшен и шутер с рейтингом М, затем спорт с рейтингом Е, РПГ с рейтингом М и экшн с рейтингом Е10+. Можно сделать вывод, что основными покупателями игр - это взрослые люди, в пяти самых продаваемых жанров игр три заняты играми с рейтингом М. Также популярен спорт с рейтингом E - то есть для всех. "
   ]
  },
  {
   "cell_type": "markdown",
   "metadata": {},
   "source": [
    "### Гипотеза о спортивных событиях"
   ]
  },
  {
   "cell_type": "markdown",
   "metadata": {},
   "source": [
    "В процессе анализа популярности игр по жанрам, у нас возникла гипотеза, что на популярность игр в жанре спорт влияют проходящие чемпионаты и соревнования. Мы посмотрели на динамику продаж игр этого жанра c 2000 года (относительное свежие данные)."
   ]
  },
  {
   "cell_type": "code",
   "execution_count": 244,
   "metadata": {
    "scrolled": true
   },
   "outputs": [
    {
     "data": {
      "image/png": "[encoded data removed]",
      "text/plain": [
       "<Figure size 1440x432 with 1 Axes>"
      ]
     },
     "metadata": {
      "needs_background": "light"
     },
     "output_type": "display_data"
    }
   ],
   "source": [
    "data_sport = data.query('genre == \"Sports\" and year_of_release >= 2000')\n",
    "data_sport.pivot_table(index=['year_of_release'], values=['sum_of_sales'], aggfunc='sum') \\\n",
    "        .plot(grid=True, figsize=(20, 6), label='не TBD')\n",
    "plt.title('Продажи игр жанра спорт')\n",
    "plt.xlabel('год выпуска')\n",
    "plt.ylabel('сумма продаж')\n",
    "plt.show()"
   ]
  },
  {
   "cell_type": "markdown",
   "metadata": {},
   "source": [
    "<b>Видно, что у продаж игр в жанре спорт было два пика - в 2006 и в 2009 годах. В 2006 года вышла игра FIFA 07, которая стала очень популярной и значительно обошла своих конкурентов - игру Pro Evolution Soccer, а вот с чем связан взлет популярности в 2009 году непонятно. Так что мы не можем ни подтвердить ни опровергнуть нашу гипотезу.</b>"
   ]
  },
  {
   "cell_type": "markdown",
   "metadata": {},
   "source": [
    "## Анализ пользовательского поведения в разных регионах мира"
   ]
  },
  {
   "cell_type": "markdown",
   "metadata": {},
   "source": [
    "В этом разделе мы будем анализировать поведение средних пользователей в представленных в данных регионах."
   ]
  },
  {
   "cell_type": "markdown",
   "metadata": {},
   "source": [
    "### Пользовательское поведение в Северной Америке"
   ]
  },
  {
   "cell_type": "markdown",
   "metadata": {},
   "source": [
    "Проанализируем поведение пользователей в Северной Америке."
   ]
  },
  {
   "cell_type": "code",
   "execution_count": 245,
   "metadata": {
    "scrolled": false
   },
   "outputs": [
    {
     "data": {
      "text/html": [
       "<div>\n",
       "<style scoped>\n",
       "    .dataframe tbody tr th:only-of-type {\n",
       "        vertical-align: middle;\n",
       "    }\n",
       "\n",
       "    .dataframe tbody tr th {\n",
       "        vertical-align: top;\n",
       "    }\n",
       "\n",
       "    .dataframe thead th {\n",
       "        text-align: right;\n",
       "    }\n",
       "</style>\n",
       "<table border=\"1\" class=\"dataframe\">\n",
       "  <thead>\n",
       "    <tr style=\"text-align: right;\">\n",
       "      <th></th>\n",
       "      <th>na_sales</th>\n",
       "      <th>na_percentage</th>\n",
       "    </tr>\n",
       "    <tr>\n",
       "      <th>genre</th>\n",
       "      <th></th>\n",
       "      <th></th>\n",
       "    </tr>\n",
       "  </thead>\n",
       "  <tbody>\n",
       "    <tr>\n",
       "      <th>Action</th>\n",
       "      <td>101.06</td>\n",
       "      <td>30.878758</td>\n",
       "    </tr>\n",
       "    <tr>\n",
       "      <th>Shooter</th>\n",
       "      <td>91.83</td>\n",
       "      <td>28.058543</td>\n",
       "    </tr>\n",
       "    <tr>\n",
       "      <th>Sports</th>\n",
       "      <td>55.22</td>\n",
       "      <td>16.872403</td>\n",
       "    </tr>\n",
       "    <tr>\n",
       "      <th>Role-Playing</th>\n",
       "      <td>26.51</td>\n",
       "      <td>8.100098</td>\n",
       "    </tr>\n",
       "    <tr>\n",
       "      <th>Misc</th>\n",
       "      <td>20.25</td>\n",
       "      <td>6.187363</td>\n",
       "    </tr>\n",
       "    <tr>\n",
       "      <th>Racing</th>\n",
       "      <td>9.55</td>\n",
       "      <td>2.917991</td>\n",
       "    </tr>\n",
       "    <tr>\n",
       "      <th>Fighting</th>\n",
       "      <td>8.95</td>\n",
       "      <td>2.734661</td>\n",
       "    </tr>\n",
       "    <tr>\n",
       "      <th>Platform</th>\n",
       "      <td>6.28</td>\n",
       "      <td>1.918846</td>\n",
       "    </tr>\n",
       "    <tr>\n",
       "      <th>Adventure</th>\n",
       "      <td>5.48</td>\n",
       "      <td>1.674407</td>\n",
       "    </tr>\n",
       "    <tr>\n",
       "      <th>Simulation</th>\n",
       "      <td>1.22</td>\n",
       "      <td>0.372769</td>\n",
       "    </tr>\n",
       "    <tr>\n",
       "      <th>Strategy</th>\n",
       "      <td>0.93</td>\n",
       "      <td>0.284160</td>\n",
       "    </tr>\n",
       "    <tr>\n",
       "      <th>Puzzle</th>\n",
       "      <td>0.00</td>\n",
       "      <td>0.000000</td>\n",
       "    </tr>\n",
       "  </tbody>\n",
       "</table>\n",
       "</div>"
      ],
      "text/plain": [
       "              na_sales  na_percentage\n",
       "genre                                \n",
       "Action          101.06      30.878758\n",
       "Shooter          91.83      28.058543\n",
       "Sports           55.22      16.872403\n",
       "Role-Playing     26.51       8.100098\n",
       "Misc             20.25       6.187363\n",
       "Racing            9.55       2.917991\n",
       "Fighting          8.95       2.734661\n",
       "Platform          6.28       1.918846\n",
       "Adventure         5.48       1.674407\n",
       "Simulation        1.22       0.372769\n",
       "Strategy          0.93       0.284160\n",
       "Puzzle            0.00       0.000000"
      ]
     },
     "metadata": {},
     "output_type": "display_data"
    }
   ],
   "source": [
    "data_cleaned['na_percentage'] = data_cleaned['na_sales'] / data_cleaned['na_sales'].sum() * 100 \n",
    "# посчитали отдельно продажи по Северной Америке\n",
    "data_user_NA = data_cleaned.groupby('genre').agg({'na_sales':'sum', 'na_percentage':'sum'}).sort_values(by='na_percentage', ascending=False)\n",
    "display(data_user_NA)"
   ]
  },
  {
   "cell_type": "markdown",
   "metadata": {},
   "source": [
    "В Северной Америке статистика совпадает с общемировой: самый популярный жанр здесь экшн, вторым идет шутер, а дальше спортивные, РПГ и миксы."
   ]
  },
  {
   "cell_type": "code",
   "execution_count": 246,
   "metadata": {
    "scrolled": false
   },
   "outputs": [
    {
     "data": {
      "text/html": [
       "<div>\n",
       "<style scoped>\n",
       "    .dataframe tbody tr th:only-of-type {\n",
       "        vertical-align: middle;\n",
       "    }\n",
       "\n",
       "    .dataframe tbody tr th {\n",
       "        vertical-align: top;\n",
       "    }\n",
       "\n",
       "    .dataframe thead th {\n",
       "        text-align: right;\n",
       "    }\n",
       "</style>\n",
       "<table border=\"1\" class=\"dataframe\">\n",
       "  <thead>\n",
       "    <tr style=\"text-align: right;\">\n",
       "      <th></th>\n",
       "      <th>sum</th>\n",
       "    </tr>\n",
       "    <tr>\n",
       "      <th>platform</th>\n",
       "      <th></th>\n",
       "    </tr>\n",
       "  </thead>\n",
       "  <tbody>\n",
       "    <tr>\n",
       "      <th>PS4</th>\n",
       "      <td>108.74</td>\n",
       "    </tr>\n",
       "    <tr>\n",
       "      <th>PS3</th>\n",
       "      <td>103.38</td>\n",
       "    </tr>\n",
       "    <tr>\n",
       "      <th>XOne</th>\n",
       "      <td>93.12</td>\n",
       "    </tr>\n",
       "    <tr>\n",
       "      <th>Wii</th>\n",
       "      <td>17.45</td>\n",
       "    </tr>\n",
       "    <tr>\n",
       "      <th>DS</th>\n",
       "      <td>4.59</td>\n",
       "    </tr>\n",
       "  </tbody>\n",
       "</table>\n",
       "</div>"
      ],
      "text/plain": [
       "             sum\n",
       "platform        \n",
       "PS4       108.74\n",
       "PS3       103.38\n",
       "XOne       93.12\n",
       "Wii        17.45\n",
       "DS          4.59"
      ]
     },
     "metadata": {},
     "output_type": "display_data"
    }
   ],
   "source": [
    "data_platform_NA = data_cleaned.groupby('platform')['na_sales'].agg(['sum']).sort_values(by='sum', ascending=False) \n",
    "# посчитали продажи в регионе по платформам\n",
    "display(data_platform_NA)"
   ]
  },
  {
   "cell_type": "markdown",
   "metadata": {},
   "source": [
    "Самыми популярными платформами в Северной Америке, как и во всем мире, стали PS4, PS3 и XOne."
   ]
  },
  {
   "cell_type": "code",
   "execution_count": 247,
   "metadata": {
    "scrolled": false
   },
   "outputs": [
    {
     "data": {
      "text/html": [
       "<div>\n",
       "<style scoped>\n",
       "    .dataframe tbody tr th:only-of-type {\n",
       "        vertical-align: middle;\n",
       "    }\n",
       "\n",
       "    .dataframe tbody tr th {\n",
       "        vertical-align: top;\n",
       "    }\n",
       "\n",
       "    .dataframe thead th {\n",
       "        text-align: right;\n",
       "    }\n",
       "</style>\n",
       "<table border=\"1\" class=\"dataframe\">\n",
       "  <thead>\n",
       "    <tr style=\"text-align: right;\">\n",
       "      <th></th>\n",
       "      <th></th>\n",
       "      <th>na_percentage</th>\n",
       "      <th>na_sales</th>\n",
       "    </tr>\n",
       "    <tr>\n",
       "      <th>genre</th>\n",
       "      <th>rating</th>\n",
       "      <th></th>\n",
       "      <th></th>\n",
       "    </tr>\n",
       "  </thead>\n",
       "  <tbody>\n",
       "    <tr>\n",
       "      <th>Action</th>\n",
       "      <th>M</th>\n",
       "      <td>18.128208</td>\n",
       "      <td>59.33</td>\n",
       "    </tr>\n",
       "    <tr>\n",
       "      <th>Shooter</th>\n",
       "      <th>M</th>\n",
       "      <td>17.993767</td>\n",
       "      <td>58.89</td>\n",
       "    </tr>\n",
       "    <tr>\n",
       "      <th>Sports</th>\n",
       "      <th>E</th>\n",
       "      <td>13.214984</td>\n",
       "      <td>43.25</td>\n",
       "    </tr>\n",
       "    <tr>\n",
       "      <th>Action</th>\n",
       "      <th>E10+</th>\n",
       "      <td>4.494622</td>\n",
       "      <td>14.71</td>\n",
       "    </tr>\n",
       "    <tr>\n",
       "      <th>Role-Playing</th>\n",
       "      <th>M</th>\n",
       "      <td>4.219628</td>\n",
       "      <td>13.81</td>\n",
       "    </tr>\n",
       "    <tr>\n",
       "      <th>Shooter</th>\n",
       "      <th>T</th>\n",
       "      <td>4.164630</td>\n",
       "      <td>13.63</td>\n",
       "    </tr>\n",
       "    <tr>\n",
       "      <th>Misc</th>\n",
       "      <th>E10+</th>\n",
       "      <td>3.061599</td>\n",
       "      <td>10.02</td>\n",
       "    </tr>\n",
       "    <tr>\n",
       "      <th>Action</th>\n",
       "      <th>T</th>\n",
       "      <td>2.847714</td>\n",
       "      <td>9.32</td>\n",
       "    </tr>\n",
       "    <tr>\n",
       "      <th>Sports</th>\n",
       "      <th>E10+</th>\n",
       "      <td>2.233561</td>\n",
       "      <td>7.31</td>\n",
       "    </tr>\n",
       "    <tr>\n",
       "      <th>Fighting</th>\n",
       "      <th>T</th>\n",
       "      <td>1.530799</td>\n",
       "      <td>5.01</td>\n",
       "    </tr>\n",
       "  </tbody>\n",
       "</table>\n",
       "</div>"
      ],
      "text/plain": [
       "                     na_percentage  na_sales\n",
       "genre        rating                         \n",
       "Action       M           18.128208     59.33\n",
       "Shooter      M           17.993767     58.89\n",
       "Sports       E           13.214984     43.25\n",
       "Action       E10+         4.494622     14.71\n",
       "Role-Playing M            4.219628     13.81\n",
       "Shooter      T            4.164630     13.63\n",
       "Misc         E10+         3.061599     10.02\n",
       "Action       T            2.847714      9.32\n",
       "Sports       E10+         2.233561      7.31\n",
       "Fighting     T            1.530799      5.01"
      ]
     },
     "metadata": {},
     "output_type": "display_data"
    }
   ],
   "source": [
    "data_rating_NA = data_cleaned.pivot_table(index=['genre','rating'], values=['na_sales', 'na_percentage'], aggfunc='sum').sort_values(by='na_percentage', ascending=False)\n",
    "display(data_rating_NA.head(10)) # посчитали продажи по возрастному рейтингу и жанрам"
   ]
  },
  {
   "cell_type": "markdown",
   "metadata": {},
   "source": [
    "В Северной Америке распределение продаж по рейтингам почти не отличается от общемирового, только РПГ и экшн с рейтингом Е10+ поменялись местами."
   ]
  },
  {
   "cell_type": "markdown",
   "metadata": {},
   "source": [
    "<b>Исходя из анализа данных, типичный пользователь в Северной Америке выбирает жанры экшн, шутер, РПГ, миксы или спортивные игры, с высоким возрастным ограничением и пользуется платформой PS3 или PS4.</b>"
   ]
  },
  {
   "cell_type": "markdown",
   "metadata": {},
   "source": [
    "### Пользовательское поведение в Европе"
   ]
  },
  {
   "cell_type": "markdown",
   "metadata": {},
   "source": [
    "Проанализируем пользовательское поведение в Европе."
   ]
  },
  {
   "cell_type": "code",
   "execution_count": 248,
   "metadata": {
    "scrolled": false
   },
   "outputs": [
    {
     "data": {
      "text/html": [
       "<div>\n",
       "<style scoped>\n",
       "    .dataframe tbody tr th:only-of-type {\n",
       "        vertical-align: middle;\n",
       "    }\n",
       "\n",
       "    .dataframe tbody tr th {\n",
       "        vertical-align: top;\n",
       "    }\n",
       "\n",
       "    .dataframe thead th {\n",
       "        text-align: right;\n",
       "    }\n",
       "</style>\n",
       "<table border=\"1\" class=\"dataframe\">\n",
       "  <thead>\n",
       "    <tr style=\"text-align: right;\">\n",
       "      <th></th>\n",
       "      <th>eu_sales</th>\n",
       "      <th>eu_percentage</th>\n",
       "    </tr>\n",
       "    <tr>\n",
       "      <th>genre</th>\n",
       "      <th></th>\n",
       "      <th></th>\n",
       "    </tr>\n",
       "  </thead>\n",
       "  <tbody>\n",
       "    <tr>\n",
       "      <th>Action</th>\n",
       "      <td>103.03</td>\n",
       "      <td>32.708975</td>\n",
       "    </tr>\n",
       "    <tr>\n",
       "      <th>Shooter</th>\n",
       "      <td>81.52</td>\n",
       "      <td>25.880187</td>\n",
       "    </tr>\n",
       "    <tr>\n",
       "      <th>Sports</th>\n",
       "      <td>52.12</td>\n",
       "      <td>16.546557</td>\n",
       "    </tr>\n",
       "    <tr>\n",
       "      <th>Role-Playing</th>\n",
       "      <td>22.65</td>\n",
       "      <td>7.190704</td>\n",
       "    </tr>\n",
       "    <tr>\n",
       "      <th>Racing</th>\n",
       "      <td>18.30</td>\n",
       "      <td>5.809708</td>\n",
       "    </tr>\n",
       "    <tr>\n",
       "      <th>Misc</th>\n",
       "      <td>15.56</td>\n",
       "      <td>4.939839</td>\n",
       "    </tr>\n",
       "    <tr>\n",
       "      <th>Platform</th>\n",
       "      <td>6.84</td>\n",
       "      <td>2.171498</td>\n",
       "    </tr>\n",
       "    <tr>\n",
       "      <th>Adventure</th>\n",
       "      <td>6.38</td>\n",
       "      <td>2.025461</td>\n",
       "    </tr>\n",
       "    <tr>\n",
       "      <th>Fighting</th>\n",
       "      <td>6.09</td>\n",
       "      <td>1.933395</td>\n",
       "    </tr>\n",
       "    <tr>\n",
       "      <th>Simulation</th>\n",
       "      <td>1.61</td>\n",
       "      <td>0.511127</td>\n",
       "    </tr>\n",
       "  </tbody>\n",
       "</table>\n",
       "</div>"
      ],
      "text/plain": [
       "              eu_sales  eu_percentage\n",
       "genre                                \n",
       "Action          103.03      32.708975\n",
       "Shooter          81.52      25.880187\n",
       "Sports           52.12      16.546557\n",
       "Role-Playing     22.65       7.190704\n",
       "Racing           18.30       5.809708\n",
       "Misc             15.56       4.939839\n",
       "Platform          6.84       2.171498\n",
       "Adventure         6.38       2.025461\n",
       "Fighting          6.09       1.933395\n",
       "Simulation        1.61       0.511127"
      ]
     },
     "metadata": {},
     "output_type": "display_data"
    }
   ],
   "source": [
    "data_cleaned['eu_percentage'] = data_cleaned['eu_sales'] / data_cleaned['eu_sales'].sum() * 100\n",
    "# посчитали продажи отдельно по Европе\n",
    "data_user_EU = data_cleaned.groupby('genre').agg({'eu_sales':'sum', 'eu_percentage':'sum'}).sort_values(by='eu_percentage', ascending=False)\n",
    "display(data_user_EU.head(10))"
   ]
  },
  {
   "cell_type": "markdown",
   "metadata": {},
   "source": [
    "Распределение игр по жанрам в Европе незначительно отличается от общемирового: в топ-5 популярных жанров игр появляются гонки."
   ]
  },
  {
   "cell_type": "code",
   "execution_count": 249,
   "metadata": {
    "scrolled": false
   },
   "outputs": [
    {
     "data": {
      "text/html": [
       "<div>\n",
       "<style scoped>\n",
       "    .dataframe tbody tr th:only-of-type {\n",
       "        vertical-align: middle;\n",
       "    }\n",
       "\n",
       "    .dataframe tbody tr th {\n",
       "        vertical-align: top;\n",
       "    }\n",
       "\n",
       "    .dataframe thead th {\n",
       "        text-align: right;\n",
       "    }\n",
       "</style>\n",
       "<table border=\"1\" class=\"dataframe\">\n",
       "  <thead>\n",
       "    <tr style=\"text-align: right;\">\n",
       "      <th></th>\n",
       "      <th>sum</th>\n",
       "    </tr>\n",
       "    <tr>\n",
       "      <th>platform</th>\n",
       "      <th></th>\n",
       "    </tr>\n",
       "  </thead>\n",
       "  <tbody>\n",
       "    <tr>\n",
       "      <th>PS4</th>\n",
       "      <td>141.09</td>\n",
       "    </tr>\n",
       "    <tr>\n",
       "      <th>PS3</th>\n",
       "      <td>106.86</td>\n",
       "    </tr>\n",
       "    <tr>\n",
       "      <th>XOne</th>\n",
       "      <td>51.59</td>\n",
       "    </tr>\n",
       "    <tr>\n",
       "      <th>Wii</th>\n",
       "      <td>11.92</td>\n",
       "    </tr>\n",
       "    <tr>\n",
       "      <th>DS</th>\n",
       "      <td>3.53</td>\n",
       "    </tr>\n",
       "  </tbody>\n",
       "</table>\n",
       "</div>"
      ],
      "text/plain": [
       "             sum\n",
       "platform        \n",
       "PS4       141.09\n",
       "PS3       106.86\n",
       "XOne       51.59\n",
       "Wii        11.92\n",
       "DS          3.53"
      ]
     },
     "metadata": {},
     "output_type": "display_data"
    }
   ],
   "source": [
    "data_platform_EU = data_cleaned.groupby('platform')['eu_sales'].agg(['sum']).sort_values(by='sum', ascending=False)\n",
    "display(data_platform_EU) # посчитали продажи по платформам"
   ]
  },
  {
   "cell_type": "markdown",
   "metadata": {},
   "source": [
    "С распределением продаж по платформам все так же, как и в мире."
   ]
  },
  {
   "cell_type": "code",
   "execution_count": 250,
   "metadata": {
    "scrolled": true
   },
   "outputs": [
    {
     "data": {
      "text/html": [
       "<div>\n",
       "<style scoped>\n",
       "    .dataframe tbody tr th:only-of-type {\n",
       "        vertical-align: middle;\n",
       "    }\n",
       "\n",
       "    .dataframe tbody tr th {\n",
       "        vertical-align: top;\n",
       "    }\n",
       "\n",
       "    .dataframe thead th {\n",
       "        text-align: right;\n",
       "    }\n",
       "</style>\n",
       "<table border=\"1\" class=\"dataframe\">\n",
       "  <thead>\n",
       "    <tr style=\"text-align: right;\">\n",
       "      <th></th>\n",
       "      <th></th>\n",
       "      <th>eu_percentage</th>\n",
       "      <th>eu_sales</th>\n",
       "    </tr>\n",
       "    <tr>\n",
       "      <th>genre</th>\n",
       "      <th>rating</th>\n",
       "      <th></th>\n",
       "      <th></th>\n",
       "    </tr>\n",
       "  </thead>\n",
       "  <tbody>\n",
       "    <tr>\n",
       "      <th>Action</th>\n",
       "      <th>M</th>\n",
       "      <td>19.346646</td>\n",
       "      <td>60.94</td>\n",
       "    </tr>\n",
       "    <tr>\n",
       "      <th>Shooter</th>\n",
       "      <th>M</th>\n",
       "      <td>17.416426</td>\n",
       "      <td>54.86</td>\n",
       "    </tr>\n",
       "    <tr>\n",
       "      <th>Sports</th>\n",
       "      <th>E</th>\n",
       "      <td>14.254421</td>\n",
       "      <td>44.90</td>\n",
       "    </tr>\n",
       "    <tr>\n",
       "      <th>Role-Playing</th>\n",
       "      <th>M</th>\n",
       "      <td>4.400140</td>\n",
       "      <td>13.86</td>\n",
       "    </tr>\n",
       "    <tr>\n",
       "      <th>Action</th>\n",
       "      <th>E10+</th>\n",
       "      <td>4.095368</td>\n",
       "      <td>12.90</td>\n",
       "    </tr>\n",
       "    <tr>\n",
       "      <th>Shooter</th>\n",
       "      <th>T</th>\n",
       "      <td>3.193752</td>\n",
       "      <td>10.06</td>\n",
       "    </tr>\n",
       "    <tr>\n",
       "      <th>Racing</th>\n",
       "      <th>E</th>\n",
       "      <td>3.028668</td>\n",
       "      <td>9.54</td>\n",
       "    </tr>\n",
       "    <tr>\n",
       "      <th rowspan=\"2\" valign=\"top\">Action</th>\n",
       "      <th>T</th>\n",
       "      <td>2.781041</td>\n",
       "      <td>8.76</td>\n",
       "    </tr>\n",
       "    <tr>\n",
       "      <th>E</th>\n",
       "      <td>2.314359</td>\n",
       "      <td>7.29</td>\n",
       "    </tr>\n",
       "    <tr>\n",
       "      <th>Misc</th>\n",
       "      <th>E10+</th>\n",
       "      <td>1.996889</td>\n",
       "      <td>6.29</td>\n",
       "    </tr>\n",
       "  </tbody>\n",
       "</table>\n",
       "</div>"
      ],
      "text/plain": [
       "                     eu_percentage  eu_sales\n",
       "genre        rating                         \n",
       "Action       M           19.346646     60.94\n",
       "Shooter      M           17.416426     54.86\n",
       "Sports       E           14.254421     44.90\n",
       "Role-Playing M            4.400140     13.86\n",
       "Action       E10+         4.095368     12.90\n",
       "Shooter      T            3.193752     10.06\n",
       "Racing       E            3.028668      9.54\n",
       "Action       T            2.781041      8.76\n",
       "             E            2.314359      7.29\n",
       "Misc         E10+         1.996889      6.29"
      ]
     },
     "metadata": {},
     "output_type": "display_data"
    }
   ],
   "source": [
    "data_rating_EU = data_cleaned.pivot_table(index=['genre','rating'], values=['eu_sales', 'eu_percentage'], aggfunc='sum').sort_values(by='eu_percentage', ascending=False)\n",
    "display(data_rating_EU.head(10)) #посчитали продажи по жанру и рейтингу"
   ]
  },
  {
   "cell_type": "markdown",
   "metadata": {},
   "source": [
    "Распределение продаж по рейтингу не отличается от общемирового. Больше всего продаж так же принадлежит играм в жанре экшен и шутер с рейтингом М, затем спорт с рейтингом Е, РПГ с рейтингом М и экшн с рейтингом Е10+."
   ]
  },
  {
   "cell_type": "markdown",
   "metadata": {},
   "source": [
    "<b>Исходя из проведенного анализа, Европе пользователь похож на североамериканского, но миксам он предпочтет гонки.</b>"
   ]
  },
  {
   "cell_type": "markdown",
   "metadata": {},
   "source": [
    "### Пользовательское поведение в Японии"
   ]
  },
  {
   "cell_type": "markdown",
   "metadata": {},
   "source": [
    "Проанализируем пользовательское поведение в Японии."
   ]
  },
  {
   "cell_type": "code",
   "execution_count": 251,
   "metadata": {},
   "outputs": [
    {
     "data": {
      "text/html": [
       "<div>\n",
       "<style scoped>\n",
       "    .dataframe tbody tr th:only-of-type {\n",
       "        vertical-align: middle;\n",
       "    }\n",
       "\n",
       "    .dataframe tbody tr th {\n",
       "        vertical-align: top;\n",
       "    }\n",
       "\n",
       "    .dataframe thead th {\n",
       "        text-align: right;\n",
       "    }\n",
       "</style>\n",
       "<table border=\"1\" class=\"dataframe\">\n",
       "  <thead>\n",
       "    <tr style=\"text-align: right;\">\n",
       "      <th></th>\n",
       "      <th>jp_sales</th>\n",
       "      <th>jp_percentage</th>\n",
       "    </tr>\n",
       "    <tr>\n",
       "      <th>genre</th>\n",
       "      <th></th>\n",
       "      <th></th>\n",
       "    </tr>\n",
       "  </thead>\n",
       "  <tbody>\n",
       "    <tr>\n",
       "      <th>Action</th>\n",
       "      <td>20.53</td>\n",
       "      <td>34.974446</td>\n",
       "    </tr>\n",
       "    <tr>\n",
       "      <th>Role-Playing</th>\n",
       "      <td>14.99</td>\n",
       "      <td>25.536627</td>\n",
       "    </tr>\n",
       "    <tr>\n",
       "      <th>Shooter</th>\n",
       "      <td>6.99</td>\n",
       "      <td>11.908007</td>\n",
       "    </tr>\n",
       "    <tr>\n",
       "      <th>Fighting</th>\n",
       "      <td>4.28</td>\n",
       "      <td>7.291312</td>\n",
       "    </tr>\n",
       "    <tr>\n",
       "      <th>Sports</th>\n",
       "      <td>4.02</td>\n",
       "      <td>6.848382</td>\n",
       "    </tr>\n",
       "    <tr>\n",
       "      <th>Misc</th>\n",
       "      <td>2.31</td>\n",
       "      <td>3.935264</td>\n",
       "    </tr>\n",
       "    <tr>\n",
       "      <th>Adventure</th>\n",
       "      <td>1.52</td>\n",
       "      <td>2.589438</td>\n",
       "    </tr>\n",
       "    <tr>\n",
       "      <th>Racing</th>\n",
       "      <td>1.04</td>\n",
       "      <td>1.771721</td>\n",
       "    </tr>\n",
       "    <tr>\n",
       "      <th>Strategy</th>\n",
       "      <td>0.88</td>\n",
       "      <td>1.499148</td>\n",
       "    </tr>\n",
       "    <tr>\n",
       "      <th>Simulation</th>\n",
       "      <td>0.87</td>\n",
       "      <td>1.482112</td>\n",
       "    </tr>\n",
       "  </tbody>\n",
       "</table>\n",
       "</div>"
      ],
      "text/plain": [
       "              jp_sales  jp_percentage\n",
       "genre                                \n",
       "Action           20.53      34.974446\n",
       "Role-Playing     14.99      25.536627\n",
       "Shooter           6.99      11.908007\n",
       "Fighting          4.28       7.291312\n",
       "Sports            4.02       6.848382\n",
       "Misc              2.31       3.935264\n",
       "Adventure         1.52       2.589438\n",
       "Racing            1.04       1.771721\n",
       "Strategy          0.88       1.499148\n",
       "Simulation        0.87       1.482112"
      ]
     },
     "metadata": {},
     "output_type": "display_data"
    }
   ],
   "source": [
    "data_cleaned['jp_percentage'] = data_cleaned['jp_sales'] / data_cleaned['jp_sales'].sum() * 100\n",
    "# посчитали продажи отдельно по Японии\n",
    "data_user_JP = data_cleaned.groupby('genre').agg({'jp_sales':'sum', 'jp_percentage':'sum'}).sort_values(by='jp_percentage', ascending=False)\n",
    "display(data_user_JP.head(10))"
   ]
  },
  {
   "cell_type": "markdown",
   "metadata": {},
   "source": [
    "Статистика по Японии тоже меняет картину распределения продаж: на первом месте находится экшн, затем РПГ, на третьем шутеры, на четвертом, неожиданно, файтинг, а на пятом спорт. Миксы из топ-5 ушли совсем."
   ]
  },
  {
   "cell_type": "code",
   "execution_count": 252,
   "metadata": {
    "scrolled": false
   },
   "outputs": [
    {
     "data": {
      "text/html": [
       "<div>\n",
       "<style scoped>\n",
       "    .dataframe tbody tr th:only-of-type {\n",
       "        vertical-align: middle;\n",
       "    }\n",
       "\n",
       "    .dataframe tbody tr th {\n",
       "        vertical-align: top;\n",
       "    }\n",
       "\n",
       "    .dataframe thead th {\n",
       "        text-align: right;\n",
       "    }\n",
       "</style>\n",
       "<table border=\"1\" class=\"dataframe\">\n",
       "  <thead>\n",
       "    <tr style=\"text-align: right;\">\n",
       "      <th></th>\n",
       "      <th>sum</th>\n",
       "    </tr>\n",
       "    <tr>\n",
       "      <th>platform</th>\n",
       "      <th></th>\n",
       "    </tr>\n",
       "  </thead>\n",
       "  <tbody>\n",
       "    <tr>\n",
       "      <th>PS3</th>\n",
       "      <td>35.29</td>\n",
       "    </tr>\n",
       "    <tr>\n",
       "      <th>PS4</th>\n",
       "      <td>15.96</td>\n",
       "    </tr>\n",
       "    <tr>\n",
       "      <th>DS</th>\n",
       "      <td>3.72</td>\n",
       "    </tr>\n",
       "    <tr>\n",
       "      <th>Wii</th>\n",
       "      <td>3.39</td>\n",
       "    </tr>\n",
       "    <tr>\n",
       "      <th>XOne</th>\n",
       "      <td>0.34</td>\n",
       "    </tr>\n",
       "  </tbody>\n",
       "</table>\n",
       "</div>"
      ],
      "text/plain": [
       "            sum\n",
       "platform       \n",
       "PS3       35.29\n",
       "PS4       15.96\n",
       "DS         3.72\n",
       "Wii        3.39\n",
       "XOne       0.34"
      ]
     },
     "metadata": {},
     "output_type": "display_data"
    }
   ],
   "source": [
    "data_platform_JP = data_cleaned.groupby('platform')['jp_sales'].agg(['sum']).sort_values(by='sum', ascending=False)\n",
    "# посмотрели распределение по платформам\n",
    "display(data_platform_JP)"
   ]
  },
  {
   "cell_type": "markdown",
   "metadata": {},
   "source": [
    "С платформами в Японии тоже другая история: на первом месте оказался PS3, а не PS4, а на третьем DS, а не XOne, который спустился аж на пятое."
   ]
  },
  {
   "cell_type": "code",
   "execution_count": 253,
   "metadata": {
    "scrolled": true
   },
   "outputs": [
    {
     "data": {
      "text/html": [
       "<div>\n",
       "<style scoped>\n",
       "    .dataframe tbody tr th:only-of-type {\n",
       "        vertical-align: middle;\n",
       "    }\n",
       "\n",
       "    .dataframe tbody tr th {\n",
       "        vertical-align: top;\n",
       "    }\n",
       "\n",
       "    .dataframe thead th {\n",
       "        text-align: right;\n",
       "    }\n",
       "</style>\n",
       "<table border=\"1\" class=\"dataframe\">\n",
       "  <thead>\n",
       "    <tr style=\"text-align: right;\">\n",
       "      <th></th>\n",
       "      <th></th>\n",
       "      <th>jp_percentage</th>\n",
       "      <th>jp_sales</th>\n",
       "    </tr>\n",
       "    <tr>\n",
       "      <th>genre</th>\n",
       "      <th>rating</th>\n",
       "      <th></th>\n",
       "      <th></th>\n",
       "    </tr>\n",
       "  </thead>\n",
       "  <tbody>\n",
       "    <tr>\n",
       "      <th>Action</th>\n",
       "      <th>M</th>\n",
       "      <td>13.713799</td>\n",
       "      <td>8.05</td>\n",
       "    </tr>\n",
       "    <tr>\n",
       "      <th>Shooter</th>\n",
       "      <th>M</th>\n",
       "      <td>8.807496</td>\n",
       "      <td>5.17</td>\n",
       "    </tr>\n",
       "    <tr>\n",
       "      <th>Action</th>\n",
       "      <th>T</th>\n",
       "      <td>7.768313</td>\n",
       "      <td>4.56</td>\n",
       "    </tr>\n",
       "    <tr>\n",
       "      <th>Role-Playing</th>\n",
       "      <th>T</th>\n",
       "      <td>7.240204</td>\n",
       "      <td>4.25</td>\n",
       "    </tr>\n",
       "    <tr>\n",
       "      <th>Fighting</th>\n",
       "      <th>T</th>\n",
       "      <td>4.565588</td>\n",
       "      <td>2.68</td>\n",
       "    </tr>\n",
       "    <tr>\n",
       "      <th>Sports</th>\n",
       "      <th>E</th>\n",
       "      <td>4.003407</td>\n",
       "      <td>2.35</td>\n",
       "    </tr>\n",
       "    <tr>\n",
       "      <th>Role-Playing</th>\n",
       "      <th>M</th>\n",
       "      <td>3.884157</td>\n",
       "      <td>2.28</td>\n",
       "    </tr>\n",
       "    <tr>\n",
       "      <th>Shooter</th>\n",
       "      <th>T</th>\n",
       "      <td>1.345826</td>\n",
       "      <td>0.79</td>\n",
       "    </tr>\n",
       "    <tr>\n",
       "      <th>Misc</th>\n",
       "      <th>E</th>\n",
       "      <td>1.294719</td>\n",
       "      <td>0.76</td>\n",
       "    </tr>\n",
       "    <tr>\n",
       "      <th>Racing</th>\n",
       "      <th>E</th>\n",
       "      <td>1.124361</td>\n",
       "      <td>0.66</td>\n",
       "    </tr>\n",
       "  </tbody>\n",
       "</table>\n",
       "</div>"
      ],
      "text/plain": [
       "                     jp_percentage  jp_sales\n",
       "genre        rating                         \n",
       "Action       M           13.713799      8.05\n",
       "Shooter      M            8.807496      5.17\n",
       "Action       T            7.768313      4.56\n",
       "Role-Playing T            7.240204      4.25\n",
       "Fighting     T            4.565588      2.68\n",
       "Sports       E            4.003407      2.35\n",
       "Role-Playing M            3.884157      2.28\n",
       "Shooter      T            1.345826      0.79\n",
       "Misc         E            1.294719      0.76\n",
       "Racing       E            1.124361      0.66"
      ]
     },
     "metadata": {},
     "output_type": "display_data"
    }
   ],
   "source": [
    "data_rating_JP = data_cleaned.pivot_table(index=['genre','rating'], values=['jp_sales', 'jp_percentage'], aggfunc='sum').sort_values(by='jp_percentage', ascending=False)\n",
    "display(data_rating_JP.head(10))\n",
    "# посмотрели на продажи по рейтингам и жанрам"
   ]
  },
  {
   "cell_type": "markdown",
   "metadata": {},
   "source": [
    "С рейтингом распределение немного отличается от общемирвого: на первом месте экшн и шутер с рейтингом M, а вот на экшн с рейтингом T, дальше РПГ с рейтингом T и файтинг с рейтингом Т. При этом спорта в первой пятерке нет совсем. Интересно, что в первой пятерке совсем нет игр с рейтингом Е или Е10+. Возможно в Японии рейтинг определяется по-другому и его завышают или компьютерные игры популярны среди более взрослой аудитории, чем в среднем по миру."
   ]
  },
  {
   "cell_type": "markdown",
   "metadata": {},
   "source": [
    "<b>Японский пользователь чаще, чем североамериканский или европейский играет в РПГ и файтинги, но меньше в миксы, а популярные платформамы не только PS3 и PS4, но и DS и Wii. Также популярнее игры с высоким возрастным рейтингом.</b>"
   ]
  },
  {
   "cell_type": "markdown",
   "metadata": {},
   "source": [
    "### Выводы по пользовательскому поведению"
   ]
  },
  {
   "cell_type": "markdown",
   "metadata": {},
   "source": [
    "В этом разделе мы сделаем выводы по анализу пользовательского поведения в разных регионах."
   ]
  },
  {
   "cell_type": "code",
   "execution_count": 254,
   "metadata": {
    "scrolled": true
   },
   "outputs": [
    {
     "data": {
      "text/plain": [
       "Text(0, 0.5, 'Сумма продаж жанра в процентах')"
      ]
     },
     "execution_count": 254,
     "metadata": {},
     "output_type": "execute_result"
    },
    {
     "data": {
      "image/png": "[encoded data removed]",
      "text/plain": [
       "<Figure size 1080x288 with 1 Axes>"
      ]
     },
     "metadata": {
      "needs_background": "light"
     },
     "output_type": "display_data"
    }
   ],
   "source": [
    "data_cleaned.pivot_table(index=['genre'], values=['sale_percentage','na_percentage','eu_percentage','jp_percentage']).plot.bar(grid=True, figsize=(15, 4))\n",
    "plt.title('Популярность жанров игр в выбранных регионах')\n",
    "plt.xlabel('Жанры игр')\n",
    "plt.ylabel('Сумма продаж жанра в процентах')\n",
    "# построили график популярности жанров по регионам"
   ]
  },
  {
   "cell_type": "markdown",
   "metadata": {},
   "source": [
    "На основе представленного графика можно сделать вывод, что игры в жанре шутер самые продаваемые в мире, а в Северной Америке даже выше, чем в среднем по миру. В Японии. в отличии от остальных регионов, популярны игры в жанре файтинг, и не популярны спорт, гонки и шутеры. Тренд в Европе почти полностью совпадает с общемировым - только жанр гонки в Европе популярнее, чем в среднем по миру и среди других регионов."
   ]
  },
  {
   "cell_type": "code",
   "execution_count": 255,
   "metadata": {
    "scrolled": true
   },
   "outputs": [
    {
     "data": {
      "text/plain": [
       "Text(0, 0.5, 'Сумма продаж игр на платформах в процентах')"
      ]
     },
     "execution_count": 255,
     "metadata": {},
     "output_type": "execute_result"
    },
    {
     "data": {
      "image/png": "[encoded data removed]",
      "text/plain": [
       "<Figure size 1080x576 with 1 Axes>"
      ]
     },
     "metadata": {
      "needs_background": "light"
     },
     "output_type": "display_data"
    }
   ],
   "source": [
    "data_cleaned.pivot_table(index=['platform'], values=['sale_percentage','na_percentage','eu_percentage','jp_percentage']).plot.bar(grid=True, figsize=(15, 8))\n",
    "plt.title('Популярность игровых платформ в выбранных регионах')\n",
    "plt.xlabel('Платформы')\n",
    "plt.ylabel('Сумма продаж игр на платформах в процентах')\n",
    "# построили график популярности по платформам"
   ]
  },
  {
   "cell_type": "markdown",
   "metadata": {},
   "source": [
    "На основе представленного графика можно увидеть, что самая популярная платформа в среднем по миру - это PS4, и в среднем тренд по миру совпадает с трендом по региону. За исключением Японии - в ней самая популярная платформа DS, а вот XOne там почти не пользуются."
   ]
  },
  {
   "cell_type": "code",
   "execution_count": 256,
   "metadata": {
    "scrolled": true
   },
   "outputs": [
    {
     "data": {
      "text/plain": [
       "Text(0, 0.5, 'Распространенность игровых рейтингов в процентах')"
      ]
     },
     "execution_count": 256,
     "metadata": {},
     "output_type": "execute_result"
    },
    {
     "data": {
      "image/png": "[encoded data removed]",
      "text/plain": [
       "<Figure size 720x432 with 1 Axes>"
      ]
     },
     "metadata": {
      "needs_background": "light"
     },
     "output_type": "display_data"
    }
   ],
   "source": [
    "data_cleaned.pivot_table(index=['rating'], values=['sale_percentage','na_percentage','eu_percentage','jp_percentage']).T.plot.bar(grid=True, figsize=(10, 6), rot=0)\n",
    "plt.title('Распространенность игровых рейтингов в выбранных регионах')\n",
    "plt.xlabel('Рейтинги')\n",
    "plt.ylabel('Распространенность игровых рейтингов в процентах')\n",
    "# построили график популярности по рейтингу"
   ]
  },
  {
   "cell_type": "markdown",
   "metadata": {},
   "source": [
    "На графике видно, что общемировой тренд по распространенности игр с возрастным рейтингом практически совпадает с рейтингом по регионам. Самый популярный рейтинг везде M, самы непопулярный во всем мире, кроме Японии, T, а в Японии - Е10+."
   ]
  },
  {
   "cell_type": "markdown",
   "metadata": {},
   "source": [
    "<b>Из исследования продаж по регионам мы можем составить портрет типичного пользователя.\n",
    "В Северной Америке это будет человек, играющий в экшны. шутеры, РПГ, миксы или спортивные игры, с высоким возрастным ограничением и пользующийся платформой PS3 или PS4.\n",
    "В Европе пользователь будет похож на североамериканского, но миксам он предпочтет гонки.\n",
    "Японский пользователь будет чаще, чем североамериканский или европейский играть в РПГ и файтинги, но меньше в миксы, а популярными платформами будут не только PS3 и PS4, но и DS и Wii. И игры он предпочтет с более выскоим возрастным рейтингом.</b>"
   ]
  },
  {
   "cell_type": "markdown",
   "metadata": {},
   "source": [
    "## Прогноз на 2016 год"
   ]
  },
  {
   "cell_type": "code",
   "execution_count": 257,
   "metadata": {
    "scrolled": false
   },
   "outputs": [
    {
     "data": {
      "text/html": [
       "<div>\n",
       "<style scoped>\n",
       "    .dataframe tbody tr th:only-of-type {\n",
       "        vertical-align: middle;\n",
       "    }\n",
       "\n",
       "    .dataframe tbody tr th {\n",
       "        vertical-align: top;\n",
       "    }\n",
       "\n",
       "    .dataframe thead th {\n",
       "        text-align: right;\n",
       "    }\n",
       "</style>\n",
       "<table border=\"1\" class=\"dataframe\">\n",
       "  <thead>\n",
       "    <tr style=\"text-align: right;\">\n",
       "      <th></th>\n",
       "      <th>genre</th>\n",
       "      <th>critic_score</th>\n",
       "      <th>user_score</th>\n",
       "      <th>name</th>\n",
       "      <th>na_sales</th>\n",
       "      <th>eu_sales</th>\n",
       "      <th>jp_sales</th>\n",
       "      <th>other_sales</th>\n",
       "      <th>sum_of_sales</th>\n",
       "      <th>sale_percentage</th>\n",
       "    </tr>\n",
       "  </thead>\n",
       "  <tbody>\n",
       "    <tr>\n",
       "      <th>0</th>\n",
       "      <td>Action</td>\n",
       "      <td>71.822785</td>\n",
       "      <td>6.941667</td>\n",
       "      <td>253</td>\n",
       "      <td>24.39</td>\n",
       "      <td>24.14</td>\n",
       "      <td>15.98</td>\n",
       "      <td>7.51</td>\n",
       "      <td>72.02</td>\n",
       "      <td>26.875140</td>\n",
       "    </tr>\n",
       "    <tr>\n",
       "      <th>8</th>\n",
       "      <td>Shooter</td>\n",
       "      <td>75.150000</td>\n",
       "      <td>6.070833</td>\n",
       "      <td>34</td>\n",
       "      <td>31.94</td>\n",
       "      <td>24.38</td>\n",
       "      <td>2.73</td>\n",
       "      <td>8.46</td>\n",
       "      <td>67.51</td>\n",
       "      <td>25.192179</td>\n",
       "    </tr>\n",
       "    <tr>\n",
       "      <th>10</th>\n",
       "      <td>Sports</td>\n",
       "      <td>65.115385</td>\n",
       "      <td>5.006667</td>\n",
       "      <td>59</td>\n",
       "      <td>18.77</td>\n",
       "      <td>15.81</td>\n",
       "      <td>0.73</td>\n",
       "      <td>5.53</td>\n",
       "      <td>40.84</td>\n",
       "      <td>15.239943</td>\n",
       "    </tr>\n",
       "    <tr>\n",
       "      <th>7</th>\n",
       "      <td>Role-Playing</td>\n",
       "      <td>77.275862</td>\n",
       "      <td>7.827273</td>\n",
       "      <td>78</td>\n",
       "      <td>13.93</td>\n",
       "      <td>12.93</td>\n",
       "      <td>6.80</td>\n",
       "      <td>3.98</td>\n",
       "      <td>37.64</td>\n",
       "      <td>14.045824</td>\n",
       "    </tr>\n",
       "    <tr>\n",
       "      <th>3</th>\n",
       "      <td>Misc</td>\n",
       "      <td>74.857143</td>\n",
       "      <td>6.372222</td>\n",
       "      <td>39</td>\n",
       "      <td>4.82</td>\n",
       "      <td>3.60</td>\n",
       "      <td>2.15</td>\n",
       "      <td>1.00</td>\n",
       "      <td>11.57</td>\n",
       "      <td>4.317486</td>\n",
       "    </tr>\n",
       "    <tr>\n",
       "      <th>1</th>\n",
       "      <td>Adventure</td>\n",
       "      <td>76.900000</td>\n",
       "      <td>7.793333</td>\n",
       "      <td>54</td>\n",
       "      <td>2.89</td>\n",
       "      <td>3.35</td>\n",
       "      <td>1.04</td>\n",
       "      <td>0.88</td>\n",
       "      <td>8.16</td>\n",
       "      <td>3.045003</td>\n",
       "    </tr>\n",
       "    <tr>\n",
       "      <th>6</th>\n",
       "      <td>Racing</td>\n",
       "      <td>70.250000</td>\n",
       "      <td>5.863636</td>\n",
       "      <td>18</td>\n",
       "      <td>2.09</td>\n",
       "      <td>4.75</td>\n",
       "      <td>0.28</td>\n",
       "      <td>0.95</td>\n",
       "      <td>8.07</td>\n",
       "      <td>3.011419</td>\n",
       "    </tr>\n",
       "    <tr>\n",
       "      <th>2</th>\n",
       "      <td>Fighting</td>\n",
       "      <td>70.300000</td>\n",
       "      <td>6.900000</td>\n",
       "      <td>21</td>\n",
       "      <td>3.70</td>\n",
       "      <td>2.38</td>\n",
       "      <td>0.79</td>\n",
       "      <td>1.03</td>\n",
       "      <td>7.90</td>\n",
       "      <td>2.947981</td>\n",
       "    </tr>\n",
       "    <tr>\n",
       "      <th>4</th>\n",
       "      <td>Platform</td>\n",
       "      <td>83.750000</td>\n",
       "      <td>7.440000</td>\n",
       "      <td>13</td>\n",
       "      <td>2.49</td>\n",
       "      <td>1.81</td>\n",
       "      <td>1.31</td>\n",
       "      <td>0.44</td>\n",
       "      <td>6.05</td>\n",
       "      <td>2.257631</td>\n",
       "    </tr>\n",
       "    <tr>\n",
       "      <th>9</th>\n",
       "      <td>Simulation</td>\n",
       "      <td>75.333333</td>\n",
       "      <td>6.755556</td>\n",
       "      <td>15</td>\n",
       "      <td>1.20</td>\n",
       "      <td>2.47</td>\n",
       "      <td>1.60</td>\n",
       "      <td>0.39</td>\n",
       "      <td>5.66</td>\n",
       "      <td>2.112098</td>\n",
       "    </tr>\n",
       "    <tr>\n",
       "      <th>11</th>\n",
       "      <td>Strategy</td>\n",
       "      <td>71.500000</td>\n",
       "      <td>7.062500</td>\n",
       "      <td>16</td>\n",
       "      <td>0.58</td>\n",
       "      <td>0.98</td>\n",
       "      <td>0.16</td>\n",
       "      <td>0.13</td>\n",
       "      <td>1.85</td>\n",
       "      <td>0.690350</td>\n",
       "    </tr>\n",
       "    <tr>\n",
       "      <th>5</th>\n",
       "      <td>Puzzle</td>\n",
       "      <td>76.000000</td>\n",
       "      <td>7.766667</td>\n",
       "      <td>6</td>\n",
       "      <td>0.06</td>\n",
       "      <td>0.12</td>\n",
       "      <td>0.52</td>\n",
       "      <td>0.01</td>\n",
       "      <td>0.71</td>\n",
       "      <td>0.264945</td>\n",
       "    </tr>\n",
       "  </tbody>\n",
       "</table>\n",
       "</div>"
      ],
      "text/plain": [
       "           genre  critic_score  user_score  name  na_sales  eu_sales  \\\n",
       "0         Action     71.822785    6.941667   253     24.39     24.14   \n",
       "8        Shooter     75.150000    6.070833    34     31.94     24.38   \n",
       "10        Sports     65.115385    5.006667    59     18.77     15.81   \n",
       "7   Role-Playing     77.275862    7.827273    78     13.93     12.93   \n",
       "3           Misc     74.857143    6.372222    39      4.82      3.60   \n",
       "1      Adventure     76.900000    7.793333    54      2.89      3.35   \n",
       "6         Racing     70.250000    5.863636    18      2.09      4.75   \n",
       "2       Fighting     70.300000    6.900000    21      3.70      2.38   \n",
       "4       Platform     83.750000    7.440000    13      2.49      1.81   \n",
       "9     Simulation     75.333333    6.755556    15      1.20      2.47   \n",
       "11      Strategy     71.500000    7.062500    16      0.58      0.98   \n",
       "5         Puzzle     76.000000    7.766667     6      0.06      0.12   \n",
       "\n",
       "    jp_sales  other_sales  sum_of_sales  sale_percentage  \n",
       "0      15.98         7.51         72.02        26.875140  \n",
       "8       2.73         8.46         67.51        25.192179  \n",
       "10      0.73         5.53         40.84        15.239943  \n",
       "7       6.80         3.98         37.64        14.045824  \n",
       "3       2.15         1.00         11.57         4.317486  \n",
       "1       1.04         0.88          8.16         3.045003  \n",
       "6       0.28         0.95          8.07         3.011419  \n",
       "2       0.79         1.03          7.90         2.947981  \n",
       "4       1.31         0.44          6.05         2.257631  \n",
       "9       1.60         0.39          5.66         2.112098  \n",
       "11      0.16         0.13          1.85         0.690350  \n",
       "5       0.52         0.01          0.71         0.264945  "
      ]
     },
     "execution_count": 257,
     "metadata": {},
     "output_type": "execute_result"
    }
   ],
   "source": [
    "data_year_prognosis['sale_percentage'] = data_year_prognosis['sale_percentage'] / data_year_prognosis['sale_percentage'].sum() * 100\n",
    "data_year_prognosis.groupby(['genre']).agg({'critic_score':'mean', 'user_score':'mean', 'name':'count','na_sales':'sum', 'eu_sales':'sum', 'jp_sales':'sum', 'other_sales':'sum', 'sum_of_sales':'sum', 'sale_percentage':'sum'}).reset_index().sort_values(by='sum_of_sales', ascending=False) "
   ]
  },
  {
   "cell_type": "markdown",
   "metadata": {},
   "source": [
    "Судя по анализу выпущенных в 2015 году игр, самый выпускаемый жанр в мире - экшн. По странам ситуация разнится: в Северной Америке и Европе шутеры принесли больше выручки, чем экшн.\n",
    "При этом самые высокие оценки критиков получают игры в жанрах платформинга, РПГ и квесты, а пользователей в жанрах РПГ, паззл, и эдвенче.\n",
    "\n",
    "Если мы строим прогноз на 2017 год, то нам стоит сосредоточиться на играх в жанрах шутинг, экшн, квесты, РПГ и спорт по всему миру, но в Америке стоит продавать больше шутинга, в Европе добавить гонки, а в Японии файтинга. \n",
    "По поводу платформ, на которых выпускаются игры, то нужно смотреть на те, которые вышли порядка 3 лет назад и позже - больше шанс, что они будут популярны в будущем году.\n",
    "Рейтинги пользователей и критиков на продажи игр влияют незначительно, к тому же они появляются уже после выхода игры на рынок. Разве что в магазины можно поставлять больше игр с рейтингом критиков от 65."
   ]
  },
  {
   "cell_type": "markdown",
   "metadata": {},
   "source": [
    "## Сравнение популярности платформ XOne и PC"
   ]
  },
  {
   "cell_type": "markdown",
   "metadata": {},
   "source": [
    "В этом разделе мы узнаем, является ли значимым разница в распределении пользовательских оценок на двух популярных платформах - XOne и PC."
   ]
  },
  {
   "cell_type": "code",
   "execution_count": 258,
   "metadata": {},
   "outputs": [],
   "source": [
    "data_xone = data.query('platform==\"XOne\"') # сделали срез по XOne\n",
    "data_xone = data_xone[data_xone['user_score'].notna()] # избавились от пропусков\n",
    "data_pc = data.query('platform==\"PC\"') # сделали срез по PC\n",
    "data_pc = data_pc[data_pc['user_score'].notna()] # избавились от пропусков"
   ]
  },
  {
   "cell_type": "code",
   "execution_count": 259,
   "metadata": {
    "scrolled": true
   },
   "outputs": [
    {
     "name": "stdout",
     "output_type": "stream",
     "text": [
      "Стандартное отклонение пользовательского рейтинга на платформе XOne равно 1.90\n",
      "Стандартное отклонение пользовательского рейтинга на платформе PC равно 2.34\n"
     ]
    }
   ],
   "source": [
    "user_variance_xone = np.var(data_xone['user_score']) # считаем стандартное отклонение\n",
    "print('Стандартное отклонение пользовательского рейтинга на платформе XOne равно', '{0:.2f}'.format(user_variance_xone))\n",
    "user_variance_pc = np.var(data_pc['user_score'])\n",
    "print('Стандартное отклонение пользовательского рейтинга на платформе PC равно', '{0:.2f}'.format(user_variance_pc))"
   ]
  },
  {
   "cell_type": "code",
   "execution_count": 260,
   "metadata": {},
   "outputs": [
    {
     "name": "stdout",
     "output_type": "stream",
     "text": [
      "Девиация пользовательского рейтинга на платформе XOne равна 1.38\n",
      "Девиация пользовательского рейтинга на платформе PC равна 1.53\n"
     ]
    }
   ],
   "source": [
    "user_deviation_xone = np.std(data_xone['user_score'], ddof=1) # считаем девиацию\n",
    "print('Девиация пользовательского рейтинга на платформе XOne равна', '{0:.2f}'.format(user_deviation_xone))\n",
    "user_deviation_pc = np.std(data_pc['user_score'], ddof=1)\n",
    "print('Девиация пользовательского рейтинга на платформе PC равна', '{0:.2f}'.format(user_deviation_pc))"
   ]
  },
  {
   "cell_type": "code",
   "execution_count": 261,
   "metadata": {},
   "outputs": [
    {
     "data": {
      "text/plain": [
       "count    182.000000\n",
       "mean       6.521429\n",
       "std        1.380941\n",
       "min        1.600000\n",
       "25%        5.800000\n",
       "50%        6.800000\n",
       "75%        7.500000\n",
       "max        9.200000\n",
       "Name: user_score, dtype: float64"
      ]
     },
     "execution_count": 261,
     "metadata": {},
     "output_type": "execute_result"
    },
    {
     "data": {
      "image/png": "[encoded data removed]",
      "text/plain": [
       "<Figure size 432x288 with 1 Axes>"
      ]
     },
     "metadata": {
      "needs_background": "light"
     },
     "output_type": "display_data"
    }
   ],
   "source": [
    "data_xone.boxplot('user_score') # строим боксплот по xone\n",
    "data_xone['user_score'].describe()"
   ]
  },
  {
   "cell_type": "code",
   "execution_count": 262,
   "metadata": {},
   "outputs": [
    {
     "data": {
      "text/plain": [
       "count    770.000000\n",
       "mean       7.062468\n",
       "std        1.529963\n",
       "min        1.400000\n",
       "25%        6.200000\n",
       "50%        7.500000\n",
       "75%        8.200000\n",
       "max        9.300000\n",
       "Name: user_score, dtype: float64"
      ]
     },
     "execution_count": 262,
     "metadata": {},
     "output_type": "execute_result"
    },
    {
     "data": {
      "image/png": "[encoded data removed]",
      "text/plain": [
       "<Figure size 432x288 with 1 Axes>"
      ]
     },
     "metadata": {
      "needs_background": "light"
     },
     "output_type": "display_data"
    }
   ],
   "source": [
    "data_pc.boxplot('user_score') # строим боксплот по pc\n",
    "data_pc['user_score'].describe()"
   ]
  },
  {
   "cell_type": "markdown",
   "metadata": {},
   "source": [
    "Стандартное отклонение и девиация пользовательского рейтинга для платформы X-One немного меньше, чем для платформы PC. 99% оценок пользователей у платформы X-One, согласно правилу трех сигм, распределены между 5,8 и 7,5, а у платформы PC между 6,2 и 8,2. \n",
    "Мы выдвигаем гипотезу, что между пользовательскими рейтингами платформ XBox One и PC нет статистически значимой разницы, потому что их рейтинги выглядят близкими друг другу."
   ]
  },
  {
   "cell_type": "markdown",
   "metadata": {},
   "source": [
    "### Проверка гипотезы"
   ]
  },
  {
   "cell_type": "code",
   "execution_count": 263,
   "metadata": {},
   "outputs": [
    {
     "name": "stdout",
     "output_type": "stream",
     "text": [
      "p-value:  1.3896435533548819e-05\n",
      "\n",
      "Пользовательский рейтинг платформ PC и XOne имеет значимые отличия.\n"
     ]
    }
   ],
   "source": [
    "score_xone = data_xone['user_score'].values # считаем p-value\n",
    "score_pc = data_pc['user_score'].values\n",
    "\n",
    "results = st.ttest_ind(score_xone, score_pc, equal_var = True)\n",
    "\n",
    "alpha = 0.05\n",
    "print('p-value: ', results.pvalue)\n",
    "print()\n",
    "if results.pvalue < alpha:\n",
    "    print(\"Пользовательский рейтинг платформ PC и XOne имеет значимые отличия.\")\n",
    "else:\n",
    "    print(\"Пользовательский рейтинг платформ PC и XOne не имеет значимых отличий.\")"
   ]
  },
  {
   "cell_type": "markdown",
   "metadata": {},
   "source": [
    "<b>Наша нулевая гипотеза была, что пользовательский рейтинг платформ XOne и PC не имеет значимых отличий - и она не подтвердилась. На протяжении всех лет присутствия на рынках этих платформ, пользовательские рейтинги платформ XOne и PC имели статистически значимые отличия, и, судя по значениям в боксплоте и общих данных об оценках игр на этих платформах, оценки PC выше, чем у платформы X-One.</b>"
   ]
  },
  {
   "cell_type": "markdown",
   "metadata": {},
   "source": [
    "## Сравнение популярности жанров экшн и спорт"
   ]
  },
  {
   "cell_type": "markdown",
   "metadata": {},
   "source": [
    "В этом разделе мы сравним, есть ли значимое различие в пользовательских оценках между жанрами экшн и спорт."
   ]
  },
  {
   "cell_type": "code",
   "execution_count": 264,
   "metadata": {},
   "outputs": [],
   "source": [
    "data_action = data.query('genre==\"Action\"') # делаем срез по экшну \n",
    "data_action = data_action[data_action['user_score'].notna()] # убираем пропуски\n",
    "data_sport = data.query('genre==\"Sports\"') # делаем срез по спорту\n",
    "data_sport = data_sport[data_sport['user_score'].notna()] # убираем пропуски"
   ]
  },
  {
   "cell_type": "code",
   "execution_count": 265,
   "metadata": {},
   "outputs": [
    {
     "name": "stdout",
     "output_type": "stream",
     "text": [
      "Стандартное отклонение пользовательского рейтинга жанра \"Экшн\" 2.03\n",
      "Стандартное отклонение пользовательского рейтинга жанра \"\"Спорт 2.59\n"
     ]
    }
   ],
   "source": [
    "user_variance_action = np.var(data_action['user_score']) # считаем стандартное отклонение\n",
    "print('Стандартное отклонение пользовательского рейтинга жанра \"Экшн\"', '{0:.2f}'.format(user_variance_action))\n",
    "user_variance_sport = np.var(data_sport['user_score'])\n",
    "print('Стандартное отклонение пользовательского рейтинга жанра \"\"Спорт', '{0:.2f}'.format(user_variance_sport))"
   ]
  },
  {
   "cell_type": "code",
   "execution_count": 266,
   "metadata": {},
   "outputs": [
    {
     "name": "stdout",
     "output_type": "stream",
     "text": [
      "Девиация пользовательского рейтинга жанра \"Экшн\" 1.43\n",
      "Девиация пользовательского рейтинга жанра \"Спорт\" 1.61\n"
     ]
    }
   ],
   "source": [
    "user_deviation_action = np.std(data_action['user_score'], ddof=1) # считаем девиацию\n",
    "print('Девиация пользовательского рейтинга жанра \"Экшн\"',  '{0:.2f}'.format(user_deviation_action))\n",
    "user_deviation_sport = np.std(data_sport['user_score'], ddof=1)\n",
    "print('Девиация пользовательского рейтинга жанра \"Спорт\"', '{0:.2f}'.format(user_deviation_sport))"
   ]
  },
  {
   "cell_type": "code",
   "execution_count": 267,
   "metadata": {},
   "outputs": [
    {
     "data": {
      "text/plain": [
       "<AxesSubplot:title={'center':'user_score'}, xlabel='genre'>"
      ]
     },
     "execution_count": 267,
     "metadata": {},
     "output_type": "execute_result"
    },
    {
     "data": {
      "image/png": "[encoded data removed]",
      "text/plain": [
       "<Figure size 432x288 with 1 Axes>"
      ]
     },
     "metadata": {
      "needs_background": "light"
     },
     "output_type": "display_data"
    }
   ],
   "source": [
    "data_genres = data.query('genre==(\"Action\",\"Sports\")') # строим боксплоты\n",
    "data_genres.boxplot('user_score', by='genre')"
   ]
  },
  {
   "cell_type": "code",
   "execution_count": 268,
   "metadata": {},
   "outputs": [
    {
     "data": {
      "text/plain": [
       "count    1830.000000\n",
       "mean        7.054044\n",
       "std         1.425394\n",
       "min         0.300000\n",
       "25%         6.300000\n",
       "50%         7.400000\n",
       "75%         8.100000\n",
       "max         9.500000\n",
       "Name: user_score, dtype: float64"
      ]
     },
     "execution_count": 268,
     "metadata": {},
     "output_type": "execute_result"
    }
   ],
   "source": [
    "data_action['user_score'].describe() # смотрим на данные по оценкам в жанре экшн"
   ]
  },
  {
   "cell_type": "code",
   "execution_count": 269,
   "metadata": {},
   "outputs": [
    {
     "data": {
      "text/plain": [
       "count    1103.000000\n",
       "mean        6.961197\n",
       "std         1.611370\n",
       "min         0.200000\n",
       "25%         6.100000\n",
       "50%         7.400000\n",
       "75%         8.100000\n",
       "max         9.500000\n",
       "Name: user_score, dtype: float64"
      ]
     },
     "execution_count": 269,
     "metadata": {},
     "output_type": "execute_result"
    }
   ],
   "source": [
    "data_sport['user_score'].describe() # смотрим на данные по оценкам в жанре спорт"
   ]
  },
  {
   "cell_type": "markdown",
   "metadata": {},
   "source": [
    "Стандартное отклонение и девиация пользовательского рейтинга для игра в жанре экшн  немного меньше, чем для игра в жанре спорт. 99% оценок пользователей у жанра экшн, согласно правилу трех сигм, распределены между 6,3 и 8,1, а у жанра спорт между 6,1 и 8,1. \n",
    "Мы выдвигаем гипотезу, что между пользовательскими рейтингами платформ XBox One и PC нет статистически значимой разницы, потому что пользовательские рейтинги этих двух жанров выглядят близкими друг другу."
   ]
  },
  {
   "cell_type": "markdown",
   "metadata": {},
   "source": [
    "### Проверка гипотезы"
   ]
  },
  {
   "cell_type": "code",
   "execution_count": 270,
   "metadata": {
    "scrolled": true
   },
   "outputs": [
    {
     "name": "stdout",
     "output_type": "stream",
     "text": [
      "p-value:  0.10\n",
      "\n",
      "Средний пользовательский рейтинг жанров Action и Sport не имеет значимых различий\n"
     ]
    }
   ],
   "source": [
    "score_action = data_action['user_score'].values # считаем p-value \n",
    "score_sport = data_sport['user_score'].values\n",
    "\n",
    "results = st.ttest_ind(score_action, score_sport, equal_var = True)\n",
    "\n",
    "alpha = 0.05\n",
    "print('p-value: ', '{0:.2f}'.format(results.pvalue))\n",
    "print()\n",
    "if results.pvalue < alpha:\n",
    "    print('Средний пользовательский рейтинг жанров Action и Sport имеет значимые различия')\n",
    "else:\n",
    "    print('Средний пользовательский рейтинг жанров Action и Sport не имеет значимых различий')"
   ]
  },
  {
   "cell_type": "markdown",
   "metadata": {},
   "source": [
    "<b>Наша нулевая гипотеза была, что пользовательский рейтинг жанров экшн и спорт не имеет значимых отличий - и она подтвердилась. На основе представленных данных, пользовательские рейтинги жанров экшн и спорт оставались статистически близкими.</b>"
   ]
  },
  {
   "cell_type": "markdown",
   "metadata": {},
   "source": [
    "# Вывод по итогам исследования"
   ]
  },
  {
   "cell_type": "markdown",
   "metadata": {},
   "source": [
    "В ходе исследования мы определили годы, на которые нам стоит ориентироваться при составлении прогноза на следующий: в текущем случае это 2012 год и позже. \n",
    "\n",
    "Нашли среднюю продолжительность жизни игровых платформ - 5-6 лет, составили портрет типичных пользователей в основных регионах продаж.\n",
    "\n",
    "В Северной Америке это будет человек, играющий в экшны. шутеры, РПГ, миксы или спортивные игры, с высоким возрастным ограничением и пользующийся платформой PS3 или PS4.\n",
    "\n",
    "В Европе пользователь будет похож на североамериканского, но миксам он предпочтет гонки.\n",
    "\n",
    "Японский пользователь будет чаще, чем североамериканский или европейский играть в РПГ и файтинги, но меньше в миксы, а популярными платформами будут не только PS3 и PS4, но и DS и Wii. И игры он предпочтет с более высоким возрастным рейтингом.\n",
    "\n",
    "Узнали, что на продажу игр оценки критиков влияют сильнее, чем оценки пользоваетелей, но ни то ни другое не является значимым фактором, определяющим покупку.\n",
    "\n",
    "Мы выяснили, что самыми популярными жанрами являются экшн, шутер, спорт, РПГ и микс, и что пользовательский рейтинг жанров экшен и спорт не имеет значимых различий, а вот платформ PC и X-One имеет.\n",
    "\n",
    "Если мы строим прогноз на 2017 год, то нам стоит сосредоточиться на играх в жанрах шутинг, экшн, квесты, РПГ и спорт по всему миру, но в Америке стоит продавать больше шутинга, в Европе добавить гонки, а в Японии файтинга. \n",
    "\n",
    "По поводу платформ, на которых выпускаются игры, то нужно смотреть на те, которые вышли порядка 3 лет назад и позже - больше шанс, что они будут популярны в будущем году.\n",
    "\n",
    "Рейтинги пользователей и критиков на продажи игр влияют незначительно, к тому же они появляются уже после выхода игры на рынок. Разве что в магазины можно поставлять больше игр с рейтингом критиков от 65."
   ]
  }
 ],
 "metadata": {
  "ExecuteTimeLog": [
   {
    "duration": 960,
    "start_time": "2021-12-02T10:26:02.325Z"
   },
   {
    "duration": 60,
    "start_time": "2021-12-02T10:27:34.736Z"
   },
   {
    "duration": 16,
    "start_time": "2021-12-02T10:28:21.376Z"
   },
   {
    "duration": 31,
    "start_time": "2021-12-02T10:28:55.904Z"
   },
   {
    "duration": 28,
    "start_time": "2021-12-02T10:29:23.324Z"
   },
   {
    "duration": 544,
    "start_time": "2021-12-02T10:29:44.439Z"
   },
   {
    "duration": 33,
    "start_time": "2021-12-02T10:31:35.595Z"
   },
   {
    "duration": 317,
    "start_time": "2021-12-02T10:31:40.732Z"
   },
   {
    "duration": 26,
    "start_time": "2021-12-02T10:32:06.656Z"
   },
   {
    "duration": 119,
    "start_time": "2021-12-02T10:32:12.048Z"
   },
   {
    "duration": 126,
    "start_time": "2021-12-02T10:32:19.727Z"
   },
   {
    "duration": 61,
    "start_time": "2021-12-02T10:32:24.479Z"
   },
   {
    "duration": 21,
    "start_time": "2021-12-02T10:32:27.629Z"
   },
   {
    "duration": 43,
    "start_time": "2021-12-02T10:32:30.101Z"
   },
   {
    "duration": 19,
    "start_time": "2021-12-02T10:32:46.515Z"
   },
   {
    "duration": 21,
    "start_time": "2021-12-02T10:32:49.624Z"
   },
   {
    "duration": 22,
    "start_time": "2021-12-02T10:32:53.775Z"
   },
   {
    "duration": 344,
    "start_time": "2021-12-02T10:33:09.249Z"
   },
   {
    "duration": 7,
    "start_time": "2021-12-02T10:33:19.336Z"
   },
   {
    "duration": 57,
    "start_time": "2021-12-02T10:33:21.199Z"
   },
   {
    "duration": 4,
    "start_time": "2021-12-02T10:33:26.522Z"
   },
   {
    "duration": 59,
    "start_time": "2021-12-02T10:33:28.527Z"
   },
   {
    "duration": 22,
    "start_time": "2021-12-02T10:33:34.167Z"
   },
   {
    "duration": 38,
    "start_time": "2021-12-02T10:33:36.843Z"
   },
   {
    "duration": 22,
    "start_time": "2021-12-02T10:33:41.919Z"
   },
   {
    "duration": 348,
    "start_time": "2021-12-02T10:33:47.145Z"
   },
   {
    "duration": 37,
    "start_time": "2021-12-02T10:34:12.414Z"
   },
   {
    "duration": 765,
    "start_time": "2021-12-02T10:35:08.839Z"
   },
   {
    "duration": 119,
    "start_time": "2021-12-02T10:37:30.279Z"
   },
   {
    "duration": 322,
    "start_time": "2021-12-02T10:37:50.760Z"
   },
   {
    "duration": 14,
    "start_time": "2021-12-02T10:38:52.533Z"
   },
   {
    "duration": 40,
    "start_time": "2021-12-02T10:38:58.086Z"
   },
   {
    "duration": 309,
    "start_time": "2021-12-02T10:38:59.836Z"
   },
   {
    "duration": 307,
    "start_time": "2021-12-02T10:39:12.389Z"
   },
   {
    "duration": 313,
    "start_time": "2021-12-02T10:39:28.581Z"
   },
   {
    "duration": 115,
    "start_time": "2021-12-02T10:39:58.412Z"
   },
   {
    "duration": 313,
    "start_time": "2021-12-02T10:40:49.452Z"
   },
   {
    "duration": 31,
    "start_time": "2021-12-02T10:41:39.465Z"
   },
   {
    "duration": 10,
    "start_time": "2021-12-02T10:41:42.787Z"
   },
   {
    "duration": 298,
    "start_time": "2021-12-02T10:41:46.219Z"
   },
   {
    "duration": 614,
    "start_time": "2021-12-02T10:46:24.357Z"
   },
   {
    "duration": 30,
    "start_time": "2021-12-02T10:46:39.699Z"
   },
   {
    "duration": 470,
    "start_time": "2021-12-02T10:46:56.562Z"
   },
   {
    "duration": 66,
    "start_time": "2021-12-02T10:47:11.026Z"
   },
   {
    "duration": 369,
    "start_time": "2021-12-02T10:48:26.595Z"
   },
   {
    "duration": 23,
    "start_time": "2021-12-02T10:48:47.617Z"
   },
   {
    "duration": 817,
    "start_time": "2021-12-02T10:49:10.937Z"
   },
   {
    "duration": 25,
    "start_time": "2021-12-02T10:49:45.904Z"
   },
   {
    "duration": 27,
    "start_time": "2021-12-02T10:50:13.897Z"
   },
   {
    "duration": 323,
    "start_time": "2021-12-02T10:51:09.321Z"
   },
   {
    "duration": 36,
    "start_time": "2021-12-02T10:51:25.465Z"
   },
   {
    "duration": 342,
    "start_time": "2021-12-02T10:51:31.386Z"
   },
   {
    "duration": 4,
    "start_time": "2021-12-02T10:51:58.754Z"
   },
   {
    "duration": 63,
    "start_time": "2021-12-02T10:51:58.762Z"
   },
   {
    "duration": 23,
    "start_time": "2021-12-02T10:51:58.828Z"
   },
   {
    "duration": 43,
    "start_time": "2021-12-02T10:51:58.854Z"
   },
   {
    "duration": 34,
    "start_time": "2021-12-02T10:51:58.900Z"
   },
   {
    "duration": 25,
    "start_time": "2021-12-02T10:51:58.937Z"
   },
   {
    "duration": 25,
    "start_time": "2021-12-02T10:51:58.966Z"
   },
   {
    "duration": 55,
    "start_time": "2021-12-02T10:51:58.993Z"
   },
   {
    "duration": 329,
    "start_time": "2021-12-02T10:51:59.050Z"
   },
   {
    "duration": 102,
    "start_time": "2021-12-02T10:52:19.274Z"
   },
   {
    "duration": 115,
    "start_time": "2021-12-02T10:53:20.215Z"
   },
   {
    "duration": 331,
    "start_time": "2021-12-02T10:54:10.320Z"
   },
   {
    "duration": 10,
    "start_time": "2021-12-02T10:54:24.208Z"
   },
   {
    "duration": 25,
    "start_time": "2021-12-02T10:54:32.945Z"
   },
   {
    "duration": 345,
    "start_time": "2021-12-02T10:55:09.184Z"
   },
   {
    "duration": 10,
    "start_time": "2021-12-02T10:56:19.226Z"
   },
   {
    "duration": 339,
    "start_time": "2021-12-02T10:56:49.297Z"
   },
   {
    "duration": 72,
    "start_time": "2021-12-02T10:56:54.390Z"
   },
   {
    "duration": 385,
    "start_time": "2021-12-02T10:58:38.987Z"
   },
   {
    "duration": 11,
    "start_time": "2021-12-02T10:59:10.141Z"
   },
   {
    "duration": 66,
    "start_time": "2021-12-02T10:59:19.361Z"
   },
   {
    "duration": 1561,
    "start_time": "2021-12-02T11:22:36.113Z"
   },
   {
    "duration": 31,
    "start_time": "2021-12-02T11:23:25.702Z"
   },
   {
    "duration": 58,
    "start_time": "2021-12-02T11:23:45.780Z"
   },
   {
    "duration": 10,
    "start_time": "2021-12-02T11:26:35.445Z"
   },
   {
    "duration": 10,
    "start_time": "2021-12-02T11:27:54.010Z"
   },
   {
    "duration": 9,
    "start_time": "2021-12-02T11:28:04.370Z"
   },
   {
    "duration": 2515,
    "start_time": "2021-12-02T11:28:41.508Z"
   },
   {
    "duration": 2308,
    "start_time": "2021-12-02T11:33:03.129Z"
   },
   {
    "duration": 100,
    "start_time": "2021-12-02T11:43:07.549Z"
   },
   {
    "duration": 19,
    "start_time": "2021-12-02T11:43:16.042Z"
   },
   {
    "duration": 21,
    "start_time": "2021-12-02T11:44:05.084Z"
   },
   {
    "duration": 18,
    "start_time": "2021-12-02T11:44:08.795Z"
   },
   {
    "duration": 36,
    "start_time": "2021-12-02T11:44:57.163Z"
   },
   {
    "duration": 25,
    "start_time": "2021-12-02T11:47:59.803Z"
   },
   {
    "duration": 23,
    "start_time": "2021-12-02T11:49:17.932Z"
   },
   {
    "duration": 29,
    "start_time": "2021-12-02T11:49:41.178Z"
   },
   {
    "duration": 9,
    "start_time": "2021-12-02T11:51:18.162Z"
   },
   {
    "duration": 7,
    "start_time": "2021-12-02T11:51:32.185Z"
   },
   {
    "duration": 8,
    "start_time": "2021-12-02T11:51:46.409Z"
   },
   {
    "duration": 11031,
    "start_time": "2021-12-02T11:52:13.903Z"
   },
   {
    "duration": 3583505,
    "start_time": "2021-12-02T10:53:02.841Z"
   },
   {
    "duration": 3583504,
    "start_time": "2021-12-02T10:53:28.310Z"
   },
   {
    "duration": 3583494,
    "start_time": "2021-12-02T10:53:28.321Z"
   },
   {
    "duration": 12582,
    "start_time": "2021-12-02T11:53:14.526Z"
   },
   {
    "duration": 6,
    "start_time": "2021-12-02T11:53:44.466Z"
   },
   {
    "duration": 68,
    "start_time": "2021-12-02T11:53:44.475Z"
   },
   {
    "duration": 23,
    "start_time": "2021-12-02T11:53:44.546Z"
   },
   {
    "duration": 61,
    "start_time": "2021-12-02T11:53:44.573Z"
   },
   {
    "duration": 11,
    "start_time": "2021-12-02T11:53:44.637Z"
   },
   {
    "duration": 32,
    "start_time": "2021-12-02T11:53:44.651Z"
   },
   {
    "duration": 42,
    "start_time": "2021-12-02T11:53:44.686Z"
   },
   {
    "duration": 25,
    "start_time": "2021-12-02T11:53:44.731Z"
   },
   {
    "duration": 24,
    "start_time": "2021-12-02T11:53:44.759Z"
   },
   {
    "duration": 105,
    "start_time": "2021-12-02T11:53:44.786Z"
   },
   {
    "duration": 46,
    "start_time": "2021-12-02T11:53:44.894Z"
   },
   {
    "duration": 7,
    "start_time": "2021-12-02T11:53:44.942Z"
   },
   {
    "duration": 11,
    "start_time": "2021-12-02T11:53:52.183Z"
   },
   {
    "duration": 27,
    "start_time": "2021-12-02T13:21:19.733Z"
   },
   {
    "duration": 468,
    "start_time": "2021-12-02T13:22:35.540Z"
   },
   {
    "duration": 922,
    "start_time": "2021-12-02T13:23:28.276Z"
   },
   {
    "duration": 15,
    "start_time": "2021-12-02T13:23:42.196Z"
   },
   {
    "duration": 18,
    "start_time": "2021-12-02T13:23:54.764Z"
   },
   {
    "duration": 7,
    "start_time": "2021-12-02T13:39:00.397Z"
   },
   {
    "duration": 23,
    "start_time": "2021-12-02T13:39:47.653Z"
   },
   {
    "duration": 5,
    "start_time": "2021-12-02T13:40:49.640Z"
   },
   {
    "duration": 64,
    "start_time": "2021-12-02T13:40:49.648Z"
   },
   {
    "duration": 24,
    "start_time": "2021-12-02T13:40:49.728Z"
   },
   {
    "duration": 44,
    "start_time": "2021-12-02T13:40:49.755Z"
   },
   {
    "duration": 10,
    "start_time": "2021-12-02T13:40:49.829Z"
   },
   {
    "duration": 31,
    "start_time": "2021-12-02T13:40:49.842Z"
   },
   {
    "duration": 12,
    "start_time": "2021-12-02T13:40:49.878Z"
   },
   {
    "duration": 53,
    "start_time": "2021-12-02T13:40:49.893Z"
   },
   {
    "duration": 37,
    "start_time": "2021-12-02T13:40:49.949Z"
   },
   {
    "duration": 57,
    "start_time": "2021-12-02T13:40:49.989Z"
   },
   {
    "duration": 146,
    "start_time": "2021-12-02T13:40:50.050Z"
   },
   {
    "duration": 62,
    "start_time": "2021-12-02T13:40:50.200Z"
   },
   {
    "duration": 7,
    "start_time": "2021-12-02T13:40:50.265Z"
   },
   {
    "duration": 69,
    "start_time": "2021-12-02T13:40:50.275Z"
   },
   {
    "duration": 25,
    "start_time": "2021-12-02T13:40:50.347Z"
   },
   {
    "duration": 20,
    "start_time": "2021-12-02T13:41:05.613Z"
   },
   {
    "duration": 19,
    "start_time": "2021-12-02T13:42:28.790Z"
   },
   {
    "duration": 18,
    "start_time": "2021-12-02T13:42:42.420Z"
   },
   {
    "duration": 22,
    "start_time": "2021-12-02T14:28:58.581Z"
   },
   {
    "duration": 408,
    "start_time": "2021-12-02T14:29:32.060Z"
   },
   {
    "duration": 23,
    "start_time": "2021-12-02T14:31:22.827Z"
   },
   {
    "duration": 308,
    "start_time": "2021-12-02T14:35:15.141Z"
   },
   {
    "duration": 7,
    "start_time": "2021-12-02T14:35:23.051Z"
   },
   {
    "duration": 5,
    "start_time": "2021-12-02T14:35:45.046Z"
   },
   {
    "duration": 10,
    "start_time": "2021-12-02T14:36:11.314Z"
   },
   {
    "duration": 9,
    "start_time": "2021-12-02T14:36:24.899Z"
   },
   {
    "duration": 27,
    "start_time": "2021-12-02T14:38:49.934Z"
   },
   {
    "duration": 32,
    "start_time": "2021-12-02T14:47:54.982Z"
   },
   {
    "duration": 38,
    "start_time": "2021-12-02T14:48:28.414Z"
   },
   {
    "duration": 35,
    "start_time": "2021-12-02T14:49:08.414Z"
   },
   {
    "duration": 21,
    "start_time": "2021-12-02T14:49:28.478Z"
   },
   {
    "duration": 25,
    "start_time": "2021-12-02T14:50:52.590Z"
   },
   {
    "duration": 322,
    "start_time": "2021-12-02T14:51:47.749Z"
   },
   {
    "duration": 1319,
    "start_time": "2021-12-02T14:52:10.182Z"
   },
   {
    "duration": 1303,
    "start_time": "2021-12-02T14:52:28.262Z"
   },
   {
    "duration": 26,
    "start_time": "2021-12-02T14:52:37.238Z"
   },
   {
    "duration": 1208,
    "start_time": "2021-12-02T19:02:40.891Z"
   },
   {
    "duration": 46,
    "start_time": "2021-12-02T19:02:42.101Z"
   },
   {
    "duration": 17,
    "start_time": "2021-12-02T19:02:42.149Z"
   },
   {
    "duration": 39,
    "start_time": "2021-12-02T19:02:42.168Z"
   },
   {
    "duration": 6,
    "start_time": "2021-12-02T19:02:42.209Z"
   },
   {
    "duration": 23,
    "start_time": "2021-12-02T19:02:42.217Z"
   },
   {
    "duration": 14,
    "start_time": "2021-12-02T19:02:42.242Z"
   },
   {
    "duration": 20,
    "start_time": "2021-12-02T19:02:42.257Z"
   },
   {
    "duration": 34,
    "start_time": "2021-12-02T19:02:42.279Z"
   },
   {
    "duration": 15,
    "start_time": "2021-12-02T19:02:42.315Z"
   },
   {
    "duration": 18,
    "start_time": "2021-12-02T19:02:42.332Z"
   },
   {
    "duration": 64,
    "start_time": "2021-12-02T19:02:42.352Z"
   },
   {
    "duration": 20,
    "start_time": "2021-12-02T19:02:42.418Z"
   },
   {
    "duration": 6,
    "start_time": "2021-12-02T19:02:42.439Z"
   },
   {
    "duration": 24,
    "start_time": "2021-12-02T19:02:42.447Z"
   },
   {
    "duration": 42,
    "start_time": "2021-12-02T19:02:42.473Z"
   },
   {
    "duration": 15,
    "start_time": "2021-12-02T19:02:42.517Z"
   },
   {
    "duration": 17,
    "start_time": "2021-12-02T19:05:45.038Z"
   },
   {
    "duration": 15,
    "start_time": "2021-12-02T19:10:03.927Z"
   },
   {
    "duration": 44,
    "start_time": "2021-12-02T19:10:13.244Z"
   },
   {
    "duration": 31,
    "start_time": "2021-12-02T19:10:38.857Z"
   },
   {
    "duration": 16,
    "start_time": "2021-12-02T19:12:51.871Z"
   },
   {
    "duration": 24,
    "start_time": "2021-12-02T19:13:06.011Z"
   },
   {
    "duration": 17,
    "start_time": "2021-12-02T19:13:29.082Z"
   },
   {
    "duration": 459,
    "start_time": "2021-12-02T19:17:20.265Z"
   },
   {
    "duration": 13,
    "start_time": "2021-12-02T19:18:28.817Z"
   },
   {
    "duration": 118,
    "start_time": "2021-12-02T19:22:24.661Z"
   },
   {
    "duration": 13,
    "start_time": "2021-12-02T19:22:32.894Z"
   },
   {
    "duration": 13,
    "start_time": "2021-12-02T19:22:52.924Z"
   },
   {
    "duration": 13,
    "start_time": "2021-12-02T19:23:51.329Z"
   },
   {
    "duration": 12,
    "start_time": "2021-12-02T19:24:07.758Z"
   },
   {
    "duration": 12,
    "start_time": "2021-12-02T19:24:24.479Z"
   },
   {
    "duration": 12,
    "start_time": "2021-12-02T19:24:50.315Z"
   },
   {
    "duration": 664,
    "start_time": "2021-12-02T19:27:00.165Z"
   },
   {
    "duration": 21,
    "start_time": "2021-12-02T19:27:12.945Z"
   },
   {
    "duration": 26,
    "start_time": "2021-12-02T19:27:29.568Z"
   },
   {
    "duration": 16,
    "start_time": "2021-12-02T19:31:09.830Z"
   },
   {
    "duration": 384,
    "start_time": "2021-12-02T19:32:55.030Z"
   },
   {
    "duration": 47,
    "start_time": "2021-12-02T19:33:05.249Z"
   },
   {
    "duration": 16,
    "start_time": "2021-12-02T19:35:03.454Z"
   },
   {
    "duration": 29,
    "start_time": "2021-12-02T19:35:20.183Z"
   },
   {
    "duration": 32,
    "start_time": "2021-12-02T19:36:27.394Z"
   },
   {
    "duration": 437,
    "start_time": "2021-12-02T19:37:23.944Z"
   },
   {
    "duration": 30,
    "start_time": "2021-12-02T19:37:45.472Z"
   },
   {
    "duration": 30,
    "start_time": "2021-12-02T19:38:19.385Z"
   },
   {
    "duration": 3,
    "start_time": "2021-12-02T19:48:43.351Z"
   },
   {
    "duration": 48,
    "start_time": "2021-12-02T19:48:43.358Z"
   },
   {
    "duration": 15,
    "start_time": "2021-12-02T19:48:43.407Z"
   },
   {
    "duration": 26,
    "start_time": "2021-12-02T19:48:43.424Z"
   },
   {
    "duration": 6,
    "start_time": "2021-12-02T19:48:43.452Z"
   },
   {
    "duration": 16,
    "start_time": "2021-12-02T19:48:43.460Z"
   },
   {
    "duration": 8,
    "start_time": "2021-12-02T19:48:43.507Z"
   },
   {
    "duration": 15,
    "start_time": "2021-12-02T19:48:43.517Z"
   },
   {
    "duration": 38,
    "start_time": "2021-12-02T19:48:43.535Z"
   },
   {
    "duration": 42,
    "start_time": "2021-12-02T19:48:43.575Z"
   },
   {
    "duration": 35,
    "start_time": "2021-12-02T19:48:43.619Z"
   },
   {
    "duration": 14,
    "start_time": "2021-12-02T19:48:43.656Z"
   },
   {
    "duration": 44,
    "start_time": "2021-12-02T19:48:43.672Z"
   },
   {
    "duration": 41,
    "start_time": "2021-12-02T19:48:43.718Z"
   },
   {
    "duration": 17,
    "start_time": "2021-12-02T19:48:43.761Z"
   },
   {
    "duration": 26,
    "start_time": "2021-12-02T19:48:43.780Z"
   },
   {
    "duration": 18,
    "start_time": "2021-12-02T19:48:43.808Z"
   },
   {
    "duration": 12,
    "start_time": "2021-12-02T19:48:43.828Z"
   },
   {
    "duration": 9,
    "start_time": "2021-12-02T19:48:43.842Z"
   },
   {
    "duration": 9,
    "start_time": "2021-12-02T19:51:44.416Z"
   },
   {
    "duration": 13,
    "start_time": "2021-12-02T19:52:42.846Z"
   },
   {
    "duration": 16,
    "start_time": "2021-12-02T19:53:24.136Z"
   },
   {
    "duration": 4,
    "start_time": "2021-12-02T19:54:43.012Z"
   },
   {
    "duration": 44,
    "start_time": "2021-12-02T19:54:43.020Z"
   },
   {
    "duration": 14,
    "start_time": "2021-12-02T19:54:43.066Z"
   },
   {
    "duration": 35,
    "start_time": "2021-12-02T19:54:43.082Z"
   },
   {
    "duration": 5,
    "start_time": "2021-12-02T19:54:43.119Z"
   },
   {
    "duration": 17,
    "start_time": "2021-12-02T19:54:43.126Z"
   },
   {
    "duration": 7,
    "start_time": "2021-12-02T19:54:43.144Z"
   },
   {
    "duration": 22,
    "start_time": "2021-12-02T19:54:43.153Z"
   },
   {
    "duration": 42,
    "start_time": "2021-12-02T19:54:43.177Z"
   },
   {
    "duration": 14,
    "start_time": "2021-12-02T19:54:43.221Z"
   },
   {
    "duration": 32,
    "start_time": "2021-12-02T19:54:43.237Z"
   },
   {
    "duration": 42,
    "start_time": "2021-12-02T19:54:43.271Z"
   },
   {
    "duration": 13,
    "start_time": "2021-12-02T19:54:43.315Z"
   },
   {
    "duration": 17,
    "start_time": "2021-12-02T19:54:43.330Z"
   },
   {
    "duration": 4,
    "start_time": "2021-12-02T19:54:43.349Z"
   },
   {
    "duration": 20,
    "start_time": "2021-12-02T19:54:43.355Z"
   },
   {
    "duration": 40,
    "start_time": "2021-12-02T19:54:43.377Z"
   },
   {
    "duration": 10,
    "start_time": "2021-12-02T19:54:43.419Z"
   },
   {
    "duration": 370,
    "start_time": "2021-12-02T20:02:45.472Z"
   },
   {
    "duration": 32,
    "start_time": "2021-12-02T20:03:00.473Z"
   },
   {
    "duration": 53,
    "start_time": "2021-12-02T20:03:05.322Z"
   },
   {
    "duration": 30,
    "start_time": "2021-12-02T20:03:39.417Z"
   },
   {
    "duration": 16,
    "start_time": "2021-12-02T20:04:19.556Z"
   },
   {
    "duration": 16,
    "start_time": "2021-12-02T20:06:34.212Z"
   },
   {
    "duration": 139,
    "start_time": "2021-12-02T20:16:39.190Z"
   },
   {
    "duration": 147,
    "start_time": "2021-12-02T20:17:31.404Z"
   },
   {
    "duration": 139,
    "start_time": "2021-12-02T20:17:45.436Z"
   },
   {
    "duration": 133,
    "start_time": "2021-12-02T20:17:56.186Z"
   },
   {
    "duration": 137,
    "start_time": "2021-12-02T20:19:01.410Z"
   },
   {
    "duration": 1048,
    "start_time": "2021-12-03T08:09:02.770Z"
   },
   {
    "duration": 46,
    "start_time": "2021-12-03T08:09:03.820Z"
   },
   {
    "duration": 17,
    "start_time": "2021-12-03T08:09:03.868Z"
   },
   {
    "duration": 30,
    "start_time": "2021-12-03T08:09:03.886Z"
   },
   {
    "duration": 5,
    "start_time": "2021-12-03T08:09:03.917Z"
   },
   {
    "duration": 15,
    "start_time": "2021-12-03T08:09:03.924Z"
   },
   {
    "duration": 6,
    "start_time": "2021-12-03T08:09:03.941Z"
   },
   {
    "duration": 42,
    "start_time": "2021-12-03T08:09:03.949Z"
   },
   {
    "duration": 17,
    "start_time": "2021-12-03T08:09:03.993Z"
   },
   {
    "duration": 32,
    "start_time": "2021-12-03T08:09:04.011Z"
   },
   {
    "duration": 15,
    "start_time": "2021-12-03T08:09:04.045Z"
   },
   {
    "duration": 37,
    "start_time": "2021-12-03T08:09:04.062Z"
   },
   {
    "duration": 13,
    "start_time": "2021-12-03T08:09:04.101Z"
   },
   {
    "duration": 15,
    "start_time": "2021-12-03T08:09:04.116Z"
   },
   {
    "duration": 16,
    "start_time": "2021-12-03T08:09:04.133Z"
   },
   {
    "duration": 12,
    "start_time": "2021-12-03T08:09:04.150Z"
   },
   {
    "duration": 156,
    "start_time": "2021-12-03T08:09:04.192Z"
   },
   {
    "duration": 247,
    "start_time": "2021-12-03T08:09:20.655Z"
   },
   {
    "duration": 61,
    "start_time": "2021-12-03T08:09:42.458Z"
   },
   {
    "duration": 279,
    "start_time": "2021-12-03T08:09:54.643Z"
   },
   {
    "duration": 200,
    "start_time": "2021-12-03T08:10:13.066Z"
   },
   {
    "duration": 131,
    "start_time": "2021-12-03T08:11:18.828Z"
   },
   {
    "duration": 158,
    "start_time": "2021-12-03T08:20:26.749Z"
   },
   {
    "duration": 134,
    "start_time": "2021-12-03T08:21:58.019Z"
   },
   {
    "duration": 196,
    "start_time": "2021-12-03T08:26:05.558Z"
   },
   {
    "duration": 17,
    "start_time": "2021-12-03T08:26:13.217Z"
   },
   {
    "duration": 12,
    "start_time": "2021-12-03T08:26:33.697Z"
   },
   {
    "duration": 136,
    "start_time": "2021-12-03T08:26:50.625Z"
   },
   {
    "duration": 408,
    "start_time": "2021-12-03T08:32:10.137Z"
   },
   {
    "duration": 13,
    "start_time": "2021-12-03T08:35:20.467Z"
   },
   {
    "duration": 200,
    "start_time": "2021-12-03T08:36:17.682Z"
   },
   {
    "duration": 14,
    "start_time": "2021-12-03T08:36:45.470Z"
   },
   {
    "duration": 63,
    "start_time": "2021-12-03T08:37:27.181Z"
   },
   {
    "duration": 15,
    "start_time": "2021-12-03T08:37:38.860Z"
   },
   {
    "duration": 17,
    "start_time": "2021-12-03T08:37:51.458Z"
   },
   {
    "duration": 265,
    "start_time": "2021-12-03T08:38:02.785Z"
   },
   {
    "duration": 3,
    "start_time": "2021-12-03T09:34:44.481Z"
   },
   {
    "duration": 48,
    "start_time": "2021-12-03T09:34:44.486Z"
   },
   {
    "duration": 13,
    "start_time": "2021-12-03T09:34:44.536Z"
   },
   {
    "duration": 24,
    "start_time": "2021-12-03T09:34:44.551Z"
   },
   {
    "duration": 9,
    "start_time": "2021-12-03T09:34:44.592Z"
   },
   {
    "duration": 16,
    "start_time": "2021-12-03T09:34:44.604Z"
   },
   {
    "duration": 98,
    "start_time": "2021-12-03T09:34:44.623Z"
   },
   {
    "duration": 18,
    "start_time": "2021-12-03T09:34:44.723Z"
   },
   {
    "duration": 15,
    "start_time": "2021-12-03T09:34:44.742Z"
   },
   {
    "duration": 63,
    "start_time": "2021-12-03T09:34:44.758Z"
   },
   {
    "duration": 16,
    "start_time": "2021-12-03T09:34:44.822Z"
   },
   {
    "duration": 13,
    "start_time": "2021-12-03T09:34:44.839Z"
   },
   {
    "duration": 38,
    "start_time": "2021-12-03T09:34:44.853Z"
   },
   {
    "duration": 20,
    "start_time": "2021-12-03T09:34:44.894Z"
   },
   {
    "duration": 12,
    "start_time": "2021-12-03T09:34:44.916Z"
   },
   {
    "duration": 226,
    "start_time": "2021-12-03T09:34:44.930Z"
   },
   {
    "duration": 3581877,
    "start_time": "2021-12-03T08:35:03.282Z"
   },
   {
    "duration": 3581861,
    "start_time": "2021-12-03T08:35:03.299Z"
   },
   {
    "duration": 5,
    "start_time": "2021-12-03T09:35:03.497Z"
   },
   {
    "duration": 47,
    "start_time": "2021-12-03T09:35:03.505Z"
   },
   {
    "duration": 13,
    "start_time": "2021-12-03T09:35:03.554Z"
   },
   {
    "duration": 38,
    "start_time": "2021-12-03T09:35:03.569Z"
   },
   {
    "duration": 6,
    "start_time": "2021-12-03T09:35:03.609Z"
   },
   {
    "duration": 20,
    "start_time": "2021-12-03T09:35:03.617Z"
   },
   {
    "duration": 7,
    "start_time": "2021-12-03T09:35:03.639Z"
   },
   {
    "duration": 24,
    "start_time": "2021-12-03T09:35:03.647Z"
   },
   {
    "duration": 38,
    "start_time": "2021-12-03T09:35:03.674Z"
   },
   {
    "duration": 45,
    "start_time": "2021-12-03T09:35:03.715Z"
   },
   {
    "duration": 15,
    "start_time": "2021-12-03T09:35:03.761Z"
   },
   {
    "duration": 32,
    "start_time": "2021-12-03T09:35:03.778Z"
   },
   {
    "duration": 14,
    "start_time": "2021-12-03T09:35:03.812Z"
   },
   {
    "duration": 20,
    "start_time": "2021-12-03T09:35:03.827Z"
   },
   {
    "duration": 12,
    "start_time": "2021-12-03T09:35:03.849Z"
   },
   {
    "duration": 232,
    "start_time": "2021-12-03T09:35:03.862Z"
   },
   {
    "duration": 3582810,
    "start_time": "2021-12-03T08:35:21.288Z"
   },
   {
    "duration": 3582807,
    "start_time": "2021-12-03T08:35:21.293Z"
   },
   {
    "duration": 18,
    "start_time": "2021-12-03T09:35:35.508Z"
   },
   {
    "duration": 13,
    "start_time": "2021-12-03T09:35:40.246Z"
   },
   {
    "duration": 196,
    "start_time": "2021-12-03T09:35:46.310Z"
   },
   {
    "duration": 17,
    "start_time": "2021-12-03T09:36:10.740Z"
   },
   {
    "duration": 13,
    "start_time": "2021-12-03T09:36:16.365Z"
   },
   {
    "duration": 33,
    "start_time": "2021-12-03T09:36:39.455Z"
   },
   {
    "duration": 3,
    "start_time": "2021-12-03T09:36:43.969Z"
   },
   {
    "duration": 47,
    "start_time": "2021-12-03T09:36:43.977Z"
   },
   {
    "duration": 17,
    "start_time": "2021-12-03T09:36:44.026Z"
   },
   {
    "duration": 51,
    "start_time": "2021-12-03T09:36:44.046Z"
   },
   {
    "duration": 7,
    "start_time": "2021-12-03T09:36:44.100Z"
   },
   {
    "duration": 15,
    "start_time": "2021-12-03T09:36:44.109Z"
   },
   {
    "duration": 7,
    "start_time": "2021-12-03T09:36:44.126Z"
   },
   {
    "duration": 16,
    "start_time": "2021-12-03T09:36:44.134Z"
   },
   {
    "duration": 47,
    "start_time": "2021-12-03T09:36:44.153Z"
   },
   {
    "duration": 31,
    "start_time": "2021-12-03T09:36:44.202Z"
   },
   {
    "duration": 16,
    "start_time": "2021-12-03T09:36:44.235Z"
   },
   {
    "duration": 46,
    "start_time": "2021-12-03T09:36:44.253Z"
   },
   {
    "duration": 15,
    "start_time": "2021-12-03T09:36:44.301Z"
   },
   {
    "duration": 18,
    "start_time": "2021-12-03T09:36:44.317Z"
   },
   {
    "duration": 18,
    "start_time": "2021-12-03T09:36:44.336Z"
   },
   {
    "duration": 49,
    "start_time": "2021-12-03T09:36:44.357Z"
   },
   {
    "duration": 164,
    "start_time": "2021-12-03T09:36:44.409Z"
   },
   {
    "duration": 282,
    "start_time": "2021-12-03T09:36:44.575Z"
   },
   {
    "duration": 471,
    "start_time": "2021-12-03T09:43:02.660Z"
   },
   {
    "duration": 301,
    "start_time": "2021-12-03T09:43:30.138Z"
   },
   {
    "duration": 18,
    "start_time": "2021-12-03T10:03:38.297Z"
   },
   {
    "duration": 17,
    "start_time": "2021-12-03T10:03:42.468Z"
   },
   {
    "duration": 281,
    "start_time": "2021-12-03T10:03:48.555Z"
   },
   {
    "duration": 134,
    "start_time": "2021-12-03T10:05:55.617Z"
   },
   {
    "duration": 5641,
    "start_time": "2021-12-03T10:07:57.001Z"
   },
   {
    "duration": 235,
    "start_time": "2021-12-03T10:08:33.258Z"
   },
   {
    "duration": 22,
    "start_time": "2021-12-03T10:15:29.692Z"
   },
   {
    "duration": 291,
    "start_time": "2021-12-03T10:15:47.078Z"
   },
   {
    "duration": 273,
    "start_time": "2021-12-03T10:16:06.364Z"
   },
   {
    "duration": 280,
    "start_time": "2021-12-03T10:16:31.342Z"
   },
   {
    "duration": 271,
    "start_time": "2021-12-03T10:16:36.412Z"
   },
   {
    "duration": 4,
    "start_time": "2021-12-03T10:17:03.848Z"
   },
   {
    "duration": 47,
    "start_time": "2021-12-03T10:17:03.854Z"
   },
   {
    "duration": 13,
    "start_time": "2021-12-03T10:17:03.904Z"
   },
   {
    "duration": 26,
    "start_time": "2021-12-03T10:17:03.919Z"
   },
   {
    "duration": 5,
    "start_time": "2021-12-03T10:17:03.946Z"
   },
   {
    "duration": 44,
    "start_time": "2021-12-03T10:17:03.953Z"
   },
   {
    "duration": 7,
    "start_time": "2021-12-03T10:17:04.000Z"
   },
   {
    "duration": 16,
    "start_time": "2021-12-03T10:17:04.009Z"
   },
   {
    "duration": 136,
    "start_time": "2021-12-03T10:17:04.027Z"
   },
   {
    "duration": 39,
    "start_time": "2021-12-03T10:17:04.164Z"
   },
   {
    "duration": 16,
    "start_time": "2021-12-03T10:17:04.205Z"
   },
   {
    "duration": 15,
    "start_time": "2021-12-03T10:17:04.222Z"
   },
   {
    "duration": 15,
    "start_time": "2021-12-03T10:17:04.238Z"
   },
   {
    "duration": 46,
    "start_time": "2021-12-03T10:17:04.255Z"
   },
   {
    "duration": 18,
    "start_time": "2021-12-03T10:17:04.302Z"
   },
   {
    "duration": 18,
    "start_time": "2021-12-03T10:17:04.321Z"
   },
   {
    "duration": 303,
    "start_time": "2021-12-03T10:17:04.341Z"
   },
   {
    "duration": 279,
    "start_time": "2021-12-03T10:17:04.646Z"
   },
   {
    "duration": 234,
    "start_time": "2021-12-03T10:17:04.928Z"
   },
   {
    "duration": 266,
    "start_time": "2021-12-03T10:18:24.187Z"
   },
   {
    "duration": 327,
    "start_time": "2021-12-03T10:18:46.738Z"
   },
   {
    "duration": 314,
    "start_time": "2021-12-03T10:19:19.242Z"
   },
   {
    "duration": 314,
    "start_time": "2021-12-03T10:19:45.980Z"
   },
   {
    "duration": 292,
    "start_time": "2021-12-03T10:20:11.714Z"
   },
   {
    "duration": 289,
    "start_time": "2021-12-03T10:21:40.930Z"
   },
   {
    "duration": 441,
    "start_time": "2021-12-03T10:21:55.417Z"
   },
   {
    "duration": 369,
    "start_time": "2021-12-03T10:22:26.986Z"
   },
   {
    "duration": 265,
    "start_time": "2021-12-03T10:23:20.490Z"
   },
   {
    "duration": 335,
    "start_time": "2021-12-03T10:23:27.530Z"
   },
   {
    "duration": 392,
    "start_time": "2021-12-03T10:23:45.252Z"
   },
   {
    "duration": 357,
    "start_time": "2021-12-03T10:24:00.664Z"
   },
   {
    "duration": 304,
    "start_time": "2021-12-03T10:24:52.794Z"
   },
   {
    "duration": 324,
    "start_time": "2021-12-03T10:26:19.641Z"
   },
   {
    "duration": 314,
    "start_time": "2021-12-03T10:29:28.936Z"
   },
   {
    "duration": 384,
    "start_time": "2021-12-03T10:30:27.713Z"
   },
   {
    "duration": 195,
    "start_time": "2021-12-03T10:33:39.766Z"
   },
   {
    "duration": 351,
    "start_time": "2021-12-03T10:33:52.482Z"
   },
   {
    "duration": 9,
    "start_time": "2021-12-03T10:34:00.189Z"
   },
   {
    "duration": 7,
    "start_time": "2021-12-03T10:34:18.565Z"
   },
   {
    "duration": 7,
    "start_time": "2021-12-03T10:34:23.427Z"
   },
   {
    "duration": 6,
    "start_time": "2021-12-03T10:35:11.253Z"
   },
   {
    "duration": 7,
    "start_time": "2021-12-03T10:35:13.909Z"
   },
   {
    "duration": 257,
    "start_time": "2021-12-03T10:38:13.543Z"
   },
   {
    "duration": 284,
    "start_time": "2021-12-03T10:38:48.821Z"
   },
   {
    "duration": 21,
    "start_time": "2021-12-03T10:40:21.811Z"
   },
   {
    "duration": 41,
    "start_time": "2021-12-03T10:40:42.564Z"
   },
   {
    "duration": 65,
    "start_time": "2021-12-03T10:42:02.938Z"
   },
   {
    "duration": 13,
    "start_time": "2021-12-03T10:42:13.693Z"
   },
   {
    "duration": 202,
    "start_time": "2021-12-03T10:43:17.132Z"
   },
   {
    "duration": 100,
    "start_time": "2021-12-03T10:44:13.282Z"
   },
   {
    "duration": 16,
    "start_time": "2021-12-03T10:45:03.483Z"
   },
   {
    "duration": 15,
    "start_time": "2021-12-03T10:45:10.147Z"
   },
   {
    "duration": 15,
    "start_time": "2021-12-03T10:45:17.700Z"
   },
   {
    "duration": 94,
    "start_time": "2021-12-03T10:47:04.780Z"
   },
   {
    "duration": 200,
    "start_time": "2021-12-03T10:47:14.843Z"
   },
   {
    "duration": 32,
    "start_time": "2021-12-03T10:47:39.340Z"
   },
   {
    "duration": 3,
    "start_time": "2021-12-03T10:48:36.374Z"
   },
   {
    "duration": 66,
    "start_time": "2021-12-03T10:48:36.379Z"
   },
   {
    "duration": 15,
    "start_time": "2021-12-03T10:48:36.447Z"
   },
   {
    "duration": 44,
    "start_time": "2021-12-03T10:48:36.464Z"
   },
   {
    "duration": 6,
    "start_time": "2021-12-03T10:48:36.510Z"
   },
   {
    "duration": 36,
    "start_time": "2021-12-03T10:48:36.518Z"
   },
   {
    "duration": 16,
    "start_time": "2021-12-03T10:48:36.557Z"
   },
   {
    "duration": 30,
    "start_time": "2021-12-03T10:48:36.575Z"
   },
   {
    "duration": 16,
    "start_time": "2021-12-03T10:48:36.606Z"
   },
   {
    "duration": 32,
    "start_time": "2021-12-03T10:48:36.623Z"
   },
   {
    "duration": 8,
    "start_time": "2021-12-03T10:48:36.657Z"
   },
   {
    "duration": 40,
    "start_time": "2021-12-03T10:48:36.666Z"
   },
   {
    "duration": 24,
    "start_time": "2021-12-03T10:48:36.708Z"
   },
   {
    "duration": 15,
    "start_time": "2021-12-03T10:48:36.734Z"
   },
   {
    "duration": 18,
    "start_time": "2021-12-03T10:48:36.751Z"
   },
   {
    "duration": 38,
    "start_time": "2021-12-03T10:48:36.771Z"
   },
   {
    "duration": 29,
    "start_time": "2021-12-03T10:48:36.811Z"
   },
   {
    "duration": 258,
    "start_time": "2021-12-03T10:48:36.843Z"
   },
   {
    "duration": 308,
    "start_time": "2021-12-03T10:48:37.105Z"
   },
   {
    "duration": 322,
    "start_time": "2021-12-03T10:48:37.415Z"
   },
   {
    "duration": 6,
    "start_time": "2021-12-03T10:48:37.739Z"
   },
   {
    "duration": 21,
    "start_time": "2021-12-03T10:48:37.747Z"
   },
   {
    "duration": 321,
    "start_time": "2021-12-03T10:48:37.770Z"
   },
   {
    "duration": 353,
    "start_time": "2021-12-03T10:48:38.093Z"
   },
   {
    "duration": 5,
    "start_time": "2021-12-03T10:48:38.448Z"
   },
   {
    "duration": 30,
    "start_time": "2021-12-03T10:48:38.455Z"
   },
   {
    "duration": 29,
    "start_time": "2021-12-03T10:48:38.486Z"
   },
   {
    "duration": 252,
    "start_time": "2021-12-03T10:51:16.139Z"
   },
   {
    "duration": 15,
    "start_time": "2021-12-03T10:51:42.212Z"
   },
   {
    "duration": 13,
    "start_time": "2021-12-03T10:52:53.087Z"
   },
   {
    "duration": 15,
    "start_time": "2021-12-03T10:53:22.264Z"
   },
   {
    "duration": 14,
    "start_time": "2021-12-03T10:53:40.592Z"
   },
   {
    "duration": 23,
    "start_time": "2021-12-03T10:54:20.312Z"
   },
   {
    "duration": 14,
    "start_time": "2021-12-03T10:54:34.368Z"
   },
   {
    "duration": 195,
    "start_time": "2021-12-03T10:54:56.815Z"
   },
   {
    "duration": 215,
    "start_time": "2021-12-03T10:55:03.344Z"
   },
   {
    "duration": 14,
    "start_time": "2021-12-03T10:55:21.658Z"
   },
   {
    "duration": 14,
    "start_time": "2021-12-03T10:55:49.216Z"
   },
   {
    "duration": 15,
    "start_time": "2021-12-03T10:55:54.511Z"
   },
   {
    "duration": 14,
    "start_time": "2021-12-03T10:56:18.953Z"
   },
   {
    "duration": 18,
    "start_time": "2021-12-03T10:56:25.792Z"
   },
   {
    "duration": 14,
    "start_time": "2021-12-03T10:56:41.408Z"
   },
   {
    "duration": 13,
    "start_time": "2021-12-03T10:56:55.631Z"
   },
   {
    "duration": 15,
    "start_time": "2021-12-03T10:57:04.392Z"
   },
   {
    "duration": 14,
    "start_time": "2021-12-03T10:57:06.779Z"
   },
   {
    "duration": 196,
    "start_time": "2021-12-03T10:57:39.464Z"
   },
   {
    "duration": 13,
    "start_time": "2021-12-03T10:57:48.207Z"
   },
   {
    "duration": 14,
    "start_time": "2021-12-03T10:58:23.000Z"
   },
   {
    "duration": 14,
    "start_time": "2021-12-03T10:58:34.807Z"
   },
   {
    "duration": 14,
    "start_time": "2021-12-03T10:58:37.680Z"
   },
   {
    "duration": 16,
    "start_time": "2021-12-03T10:59:18.649Z"
   },
   {
    "duration": 269,
    "start_time": "2021-12-03T11:01:08.433Z"
   },
   {
    "duration": 16,
    "start_time": "2021-12-03T11:01:36.753Z"
   },
   {
    "duration": 17,
    "start_time": "2021-12-03T11:01:54.311Z"
   },
   {
    "duration": 18,
    "start_time": "2021-12-03T11:02:01.735Z"
   },
   {
    "duration": 15,
    "start_time": "2021-12-03T11:02:51.380Z"
   },
   {
    "duration": 24,
    "start_time": "2021-12-03T11:03:10.581Z"
   },
   {
    "duration": 3,
    "start_time": "2021-12-03T11:03:13.677Z"
   },
   {
    "duration": 55,
    "start_time": "2021-12-03T11:03:13.682Z"
   },
   {
    "duration": 15,
    "start_time": "2021-12-03T11:03:13.739Z"
   },
   {
    "duration": 38,
    "start_time": "2021-12-03T11:03:13.756Z"
   },
   {
    "duration": 5,
    "start_time": "2021-12-03T11:03:13.796Z"
   },
   {
    "duration": 16,
    "start_time": "2021-12-03T11:03:13.803Z"
   },
   {
    "duration": 15,
    "start_time": "2021-12-03T11:03:13.821Z"
   },
   {
    "duration": 13,
    "start_time": "2021-12-03T11:03:13.838Z"
   },
   {
    "duration": 68,
    "start_time": "2021-12-03T11:03:13.853Z"
   },
   {
    "duration": 7,
    "start_time": "2021-12-03T11:03:13.923Z"
   },
   {
    "duration": 23,
    "start_time": "2021-12-03T11:03:13.932Z"
   },
   {
    "duration": 35,
    "start_time": "2021-12-03T11:03:13.957Z"
   },
   {
    "duration": 16,
    "start_time": "2021-12-03T11:03:13.994Z"
   },
   {
    "duration": 21,
    "start_time": "2021-12-03T11:03:14.012Z"
   },
   {
    "duration": 18,
    "start_time": "2021-12-03T11:03:14.035Z"
   },
   {
    "duration": 36,
    "start_time": "2021-12-03T11:03:14.055Z"
   },
   {
    "duration": 254,
    "start_time": "2021-12-03T11:03:14.093Z"
   },
   {
    "duration": 276,
    "start_time": "2021-12-03T11:03:14.349Z"
   },
   {
    "duration": 309,
    "start_time": "2021-12-03T11:03:14.627Z"
   },
   {
    "duration": 5,
    "start_time": "2021-12-03T11:03:14.938Z"
   },
   {
    "duration": 10,
    "start_time": "2021-12-03T11:03:14.944Z"
   },
   {
    "duration": 280,
    "start_time": "2021-12-03T11:03:14.955Z"
   },
   {
    "duration": 411,
    "start_time": "2021-12-03T11:03:15.236Z"
   },
   {
    "duration": 6,
    "start_time": "2021-12-03T11:03:15.649Z"
   },
   {
    "duration": 10,
    "start_time": "2021-12-03T11:03:15.657Z"
   },
   {
    "duration": 25,
    "start_time": "2021-12-03T11:03:15.669Z"
   },
   {
    "duration": 13,
    "start_time": "2021-12-03T11:03:15.695Z"
   },
   {
    "duration": 12,
    "start_time": "2021-12-03T11:03:15.709Z"
   },
   {
    "duration": 16,
    "start_time": "2021-12-03T11:03:15.722Z"
   },
   {
    "duration": 16,
    "start_time": "2021-12-03T11:03:55.103Z"
   },
   {
    "duration": 16,
    "start_time": "2021-12-03T11:04:07.472Z"
   },
   {
    "duration": 213,
    "start_time": "2021-12-03T11:04:19.647Z"
   },
   {
    "duration": 17,
    "start_time": "2021-12-03T11:04:36.718Z"
   },
   {
    "duration": 29,
    "start_time": "2021-12-03T11:11:45.043Z"
   },
   {
    "duration": 17,
    "start_time": "2021-12-03T11:12:05.008Z"
   },
   {
    "duration": 17,
    "start_time": "2021-12-03T11:13:04.110Z"
   },
   {
    "duration": 19,
    "start_time": "2021-12-03T11:14:20.453Z"
   },
   {
    "duration": 18,
    "start_time": "2021-12-03T11:15:13.707Z"
   },
   {
    "duration": 14,
    "start_time": "2021-12-03T11:15:28.379Z"
   },
   {
    "duration": 247,
    "start_time": "2021-12-03T11:15:40.642Z"
   },
   {
    "duration": 13,
    "start_time": "2021-12-03T11:16:00.197Z"
   },
   {
    "duration": 14,
    "start_time": "2021-12-03T11:18:25.778Z"
   },
   {
    "duration": 14,
    "start_time": "2021-12-03T11:19:23.480Z"
   },
   {
    "duration": 15,
    "start_time": "2021-12-03T11:19:40.680Z"
   },
   {
    "duration": 60,
    "start_time": "2021-12-03T11:21:54.821Z"
   },
   {
    "duration": 64,
    "start_time": "2021-12-03T11:22:00.951Z"
   },
   {
    "duration": 16,
    "start_time": "2021-12-03T11:22:09.173Z"
   },
   {
    "duration": 73,
    "start_time": "2021-12-03T11:23:32.846Z"
   },
   {
    "duration": 82,
    "start_time": "2021-12-03T11:23:38.420Z"
   },
   {
    "duration": 71,
    "start_time": "2021-12-03T11:23:54.237Z"
   },
   {
    "duration": 71,
    "start_time": "2021-12-03T11:27:18.187Z"
   },
   {
    "duration": 14,
    "start_time": "2021-12-03T11:27:46.938Z"
   },
   {
    "duration": 574,
    "start_time": "2021-12-03T11:28:13.410Z"
   },
   {
    "duration": 194,
    "start_time": "2021-12-03T11:28:44.702Z"
   },
   {
    "duration": 194,
    "start_time": "2021-12-03T11:28:59.563Z"
   },
   {
    "duration": 8,
    "start_time": "2021-12-03T11:29:12.355Z"
   },
   {
    "duration": 14,
    "start_time": "2021-12-03T11:29:31.946Z"
   },
   {
    "duration": 82,
    "start_time": "2021-12-03T11:29:52.228Z"
   },
   {
    "duration": 205,
    "start_time": "2021-12-03T11:29:57.342Z"
   },
   {
    "duration": 203,
    "start_time": "2021-12-03T11:30:03.107Z"
   },
   {
    "duration": 61,
    "start_time": "2021-12-03T11:30:51.196Z"
   },
   {
    "duration": 210,
    "start_time": "2021-12-03T11:31:27.577Z"
   },
   {
    "duration": 13,
    "start_time": "2021-12-03T11:31:51.353Z"
   },
   {
    "duration": 16,
    "start_time": "2021-12-03T11:32:16.543Z"
   },
   {
    "duration": 15,
    "start_time": "2021-12-03T11:33:02.121Z"
   },
   {
    "duration": 14,
    "start_time": "2021-12-03T11:33:12.236Z"
   },
   {
    "duration": 9,
    "start_time": "2021-12-03T11:34:00.191Z"
   },
   {
    "duration": 13,
    "start_time": "2021-12-03T11:34:13.871Z"
   },
   {
    "duration": 391,
    "start_time": "2021-12-03T11:35:09.343Z"
   },
   {
    "duration": 12,
    "start_time": "2021-12-03T11:35:20.473Z"
   },
   {
    "duration": 12,
    "start_time": "2021-12-03T11:36:27.378Z"
   },
   {
    "duration": 13,
    "start_time": "2021-12-03T11:36:55.206Z"
   },
   {
    "duration": 13,
    "start_time": "2021-12-03T11:37:26.191Z"
   },
   {
    "duration": 17,
    "start_time": "2021-12-03T11:40:26.296Z"
   },
   {
    "duration": 12,
    "start_time": "2021-12-03T11:40:46.147Z"
   },
   {
    "duration": 192,
    "start_time": "2021-12-03T11:41:02.696Z"
   },
   {
    "duration": 11,
    "start_time": "2021-12-03T11:41:09.236Z"
   },
   {
    "duration": 22,
    "start_time": "2021-12-03T11:41:40.931Z"
   },
   {
    "duration": 12,
    "start_time": "2021-12-03T11:42:04.524Z"
   },
   {
    "duration": 416,
    "start_time": "2021-12-03T11:55:49.651Z"
   },
   {
    "duration": 12,
    "start_time": "2021-12-03T11:56:26.851Z"
   },
   {
    "duration": 17,
    "start_time": "2021-12-03T11:58:03.289Z"
   },
   {
    "duration": 401,
    "start_time": "2021-12-03T19:51:06.670Z"
   },
   {
    "duration": 1361,
    "start_time": "2021-12-03T19:51:11.823Z"
   },
   {
    "duration": 64,
    "start_time": "2021-12-03T19:51:13.186Z"
   },
   {
    "duration": 27,
    "start_time": "2021-12-03T19:51:13.253Z"
   },
   {
    "duration": 69,
    "start_time": "2021-12-03T19:51:13.283Z"
   },
   {
    "duration": 8,
    "start_time": "2021-12-03T19:51:13.354Z"
   },
   {
    "duration": 26,
    "start_time": "2021-12-03T19:51:13.365Z"
   },
   {
    "duration": 54,
    "start_time": "2021-12-03T19:51:13.393Z"
   },
   {
    "duration": 27,
    "start_time": "2021-12-03T19:51:13.451Z"
   },
   {
    "duration": 55,
    "start_time": "2021-12-03T19:51:13.480Z"
   },
   {
    "duration": 59,
    "start_time": "2021-12-03T19:51:13.537Z"
   },
   {
    "duration": 9,
    "start_time": "2021-12-03T19:51:13.598Z"
   },
   {
    "duration": 45,
    "start_time": "2021-12-03T19:51:13.610Z"
   },
   {
    "duration": 27,
    "start_time": "2021-12-03T19:51:13.658Z"
   },
   {
    "duration": 421,
    "start_time": "2021-12-03T19:51:13.687Z"
   },
   {
    "duration": 434,
    "start_time": "2021-12-03T19:51:14.110Z"
   },
   {
    "duration": 454,
    "start_time": "2021-12-03T19:51:14.547Z"
   },
   {
    "duration": 8,
    "start_time": "2021-12-03T19:51:15.003Z"
   },
   {
    "duration": 15,
    "start_time": "2021-12-03T19:51:15.029Z"
   },
   {
    "duration": 405,
    "start_time": "2021-12-03T19:51:15.047Z"
   },
   {
    "duration": 483,
    "start_time": "2021-12-03T19:51:15.454Z"
   },
   {
    "duration": 10,
    "start_time": "2021-12-03T19:51:15.939Z"
   },
   {
    "duration": 9,
    "start_time": "2021-12-03T19:51:15.952Z"
   },
   {
    "duration": 3,
    "start_time": "2021-12-03T19:51:15.968Z"
   },
   {
    "duration": 69,
    "start_time": "2021-12-03T19:51:15.974Z"
   },
   {
    "duration": 21,
    "start_time": "2021-12-03T19:51:16.046Z"
   },
   {
    "duration": 19,
    "start_time": "2021-12-03T19:51:16.069Z"
   },
   {
    "duration": 56,
    "start_time": "2021-12-03T19:51:16.091Z"
   },
   {
    "duration": 17,
    "start_time": "2021-12-03T19:51:16.150Z"
   },
   {
    "duration": 15,
    "start_time": "2021-12-03T19:51:16.170Z"
   },
   {
    "duration": 53,
    "start_time": "2021-12-03T19:51:16.188Z"
   },
   {
    "duration": 19,
    "start_time": "2021-12-03T19:51:16.243Z"
   },
   {
    "duration": 16,
    "start_time": "2021-12-03T19:51:16.264Z"
   },
   {
    "duration": 21,
    "start_time": "2021-12-03T19:51:16.282Z"
   },
   {
    "duration": 19,
    "start_time": "2021-12-03T19:51:16.331Z"
   },
   {
    "duration": 15,
    "start_time": "2021-12-03T19:51:16.353Z"
   },
   {
    "duration": 33,
    "start_time": "2021-12-03T19:51:16.370Z"
   },
   {
    "duration": 9,
    "start_time": "2021-12-03T19:52:18.959Z"
   },
   {
    "duration": 13,
    "start_time": "2021-12-03T19:54:12.043Z"
   },
   {
    "duration": 12,
    "start_time": "2021-12-03T19:54:58.325Z"
   },
   {
    "duration": 18,
    "start_time": "2021-12-03T19:55:36.803Z"
   },
   {
    "duration": 10,
    "start_time": "2021-12-03T19:55:54.328Z"
   },
   {
    "duration": 7,
    "start_time": "2021-12-03T19:56:19.219Z"
   },
   {
    "duration": 6,
    "start_time": "2021-12-03T19:56:42.244Z"
   },
   {
    "duration": 21,
    "start_time": "2021-12-03T19:56:57.666Z"
   },
   {
    "duration": 18,
    "start_time": "2021-12-03T19:59:59.964Z"
   },
   {
    "duration": 21,
    "start_time": "2021-12-03T20:00:19.147Z"
   },
   {
    "duration": 25,
    "start_time": "2021-12-03T20:00:39.525Z"
   },
   {
    "duration": 450,
    "start_time": "2021-12-03T20:01:29.265Z"
   },
   {
    "duration": 21,
    "start_time": "2021-12-03T20:01:39.529Z"
   },
   {
    "duration": 1076,
    "start_time": "2021-12-04T19:08:34.679Z"
   },
   {
    "duration": 46,
    "start_time": "2021-12-04T19:08:35.757Z"
   },
   {
    "duration": 5,
    "start_time": "2021-12-04T19:08:35.805Z"
   },
   {
    "duration": 22,
    "start_time": "2021-12-04T19:08:35.812Z"
   },
   {
    "duration": 7,
    "start_time": "2021-12-04T19:08:35.835Z"
   },
   {
    "duration": 34,
    "start_time": "2021-12-04T19:08:35.844Z"
   },
   {
    "duration": 14,
    "start_time": "2021-12-04T19:08:35.880Z"
   },
   {
    "duration": 30,
    "start_time": "2021-12-04T19:08:35.897Z"
   },
   {
    "duration": 10,
    "start_time": "2021-12-04T19:08:35.929Z"
   },
   {
    "duration": 32,
    "start_time": "2021-12-04T19:08:35.941Z"
   },
   {
    "duration": 12,
    "start_time": "2021-12-04T19:08:35.975Z"
   },
   {
    "duration": 39,
    "start_time": "2021-12-04T19:08:35.988Z"
   },
   {
    "duration": 36,
    "start_time": "2021-12-04T19:08:36.029Z"
   },
   {
    "duration": 7,
    "start_time": "2021-12-04T19:08:36.067Z"
   },
   {
    "duration": 37,
    "start_time": "2021-12-04T19:08:36.076Z"
   },
   {
    "duration": 20,
    "start_time": "2021-12-04T19:08:36.115Z"
   },
   {
    "duration": 24,
    "start_time": "2021-12-04T19:08:36.137Z"
   },
   {
    "duration": 17,
    "start_time": "2021-12-04T19:08:36.163Z"
   },
   {
    "duration": 11,
    "start_time": "2021-12-04T19:08:36.182Z"
   },
   {
    "duration": 25,
    "start_time": "2021-12-04T19:08:36.194Z"
   },
   {
    "duration": 13,
    "start_time": "2021-12-04T19:08:36.221Z"
   },
   {
    "duration": 42,
    "start_time": "2021-12-04T19:08:36.235Z"
   },
   {
    "duration": 7,
    "start_time": "2021-12-04T19:08:36.281Z"
   },
   {
    "duration": 18,
    "start_time": "2021-12-04T19:08:36.289Z"
   },
   {
    "duration": 16,
    "start_time": "2021-12-04T19:08:36.308Z"
   },
   {
    "duration": 249,
    "start_time": "2021-12-04T19:08:36.326Z"
   },
   {
    "duration": 291,
    "start_time": "2021-12-04T19:08:36.577Z"
   },
   {
    "duration": 324,
    "start_time": "2021-12-04T19:08:36.870Z"
   },
   {
    "duration": 5,
    "start_time": "2021-12-04T19:08:37.196Z"
   },
   {
    "duration": 7,
    "start_time": "2021-12-04T19:08:37.203Z"
   },
   {
    "duration": 274,
    "start_time": "2021-12-04T19:08:37.212Z"
   },
   {
    "duration": 327,
    "start_time": "2021-12-04T19:08:37.487Z"
   },
   {
    "duration": 6,
    "start_time": "2021-12-04T19:08:37.816Z"
   },
   {
    "duration": 21,
    "start_time": "2021-12-04T19:08:37.823Z"
   },
   {
    "duration": 4,
    "start_time": "2021-12-04T19:08:37.846Z"
   },
   {
    "duration": 18,
    "start_time": "2021-12-04T19:08:37.851Z"
   },
   {
    "duration": 16,
    "start_time": "2021-12-04T19:08:37.871Z"
   },
   {
    "duration": 12,
    "start_time": "2021-12-04T19:08:37.890Z"
   },
   {
    "duration": 11,
    "start_time": "2021-12-04T19:08:37.904Z"
   },
   {
    "duration": 12,
    "start_time": "2021-12-04T19:08:37.916Z"
   },
   {
    "duration": 45,
    "start_time": "2021-12-04T19:08:37.929Z"
   },
   {
    "duration": 13,
    "start_time": "2021-12-04T19:08:37.975Z"
   },
   {
    "duration": 12,
    "start_time": "2021-12-04T19:08:37.989Z"
   },
   {
    "duration": 12,
    "start_time": "2021-12-04T19:08:38.003Z"
   },
   {
    "duration": 48,
    "start_time": "2021-12-04T19:08:38.016Z"
   },
   {
    "duration": 13,
    "start_time": "2021-12-04T19:08:38.066Z"
   },
   {
    "duration": 14,
    "start_time": "2021-12-04T19:08:38.081Z"
   },
   {
    "duration": 15,
    "start_time": "2021-12-04T19:08:38.096Z"
   },
   {
    "duration": 7,
    "start_time": "2021-12-04T19:16:03.976Z"
   },
   {
    "duration": 39,
    "start_time": "2021-12-04T19:22:33.479Z"
   },
   {
    "duration": 13,
    "start_time": "2021-12-04T19:27:42.972Z"
   },
   {
    "duration": 7,
    "start_time": "2021-12-04T19:27:48.810Z"
   },
   {
    "duration": 14,
    "start_time": "2021-12-04T19:27:51.442Z"
   },
   {
    "duration": 12,
    "start_time": "2021-12-04T19:28:03.749Z"
   },
   {
    "duration": 15,
    "start_time": "2021-12-04T19:28:14.884Z"
   },
   {
    "duration": 3,
    "start_time": "2021-12-04T19:29:09.083Z"
   },
   {
    "duration": 49,
    "start_time": "2021-12-04T19:29:09.088Z"
   },
   {
    "duration": 4,
    "start_time": "2021-12-04T19:29:09.139Z"
   },
   {
    "duration": 15,
    "start_time": "2021-12-04T19:29:09.144Z"
   },
   {
    "duration": 8,
    "start_time": "2021-12-04T19:29:09.161Z"
   },
   {
    "duration": 31,
    "start_time": "2021-12-04T19:29:09.171Z"
   },
   {
    "duration": 13,
    "start_time": "2021-12-04T19:29:09.204Z"
   },
   {
    "duration": 12,
    "start_time": "2021-12-04T19:29:09.219Z"
   },
   {
    "duration": 32,
    "start_time": "2021-12-04T19:29:09.233Z"
   },
   {
    "duration": 36,
    "start_time": "2021-12-04T19:29:09.267Z"
   },
   {
    "duration": 34,
    "start_time": "2021-12-04T19:29:09.305Z"
   },
   {
    "duration": 5,
    "start_time": "2021-12-04T19:29:09.341Z"
   },
   {
    "duration": 20,
    "start_time": "2021-12-04T19:29:09.348Z"
   },
   {
    "duration": 17,
    "start_time": "2021-12-04T19:29:09.370Z"
   },
   {
    "duration": 13,
    "start_time": "2021-12-04T19:29:09.389Z"
   },
   {
    "duration": 71,
    "start_time": "2021-12-04T19:29:09.404Z"
   },
   {
    "duration": 7,
    "start_time": "2021-12-04T19:29:09.476Z"
   },
   {
    "duration": 15,
    "start_time": "2021-12-04T19:29:09.485Z"
   },
   {
    "duration": 21,
    "start_time": "2021-12-04T19:29:09.502Z"
   },
   {
    "duration": 229,
    "start_time": "2021-12-04T19:29:09.525Z"
   },
   {
    "duration": 298,
    "start_time": "2021-12-04T19:29:09.756Z"
   },
   {
    "duration": 319,
    "start_time": "2021-12-04T19:29:10.064Z"
   },
   {
    "duration": 4,
    "start_time": "2021-12-04T19:29:10.385Z"
   },
   {
    "duration": 10,
    "start_time": "2021-12-04T19:29:10.392Z"
   },
   {
    "duration": 367,
    "start_time": "2021-12-04T19:29:10.404Z"
   },
   {
    "duration": 315,
    "start_time": "2021-12-04T19:29:10.772Z"
   },
   {
    "duration": 5,
    "start_time": "2021-12-04T19:29:11.088Z"
   },
   {
    "duration": 34,
    "start_time": "2021-12-04T19:29:11.094Z"
   },
   {
    "duration": 10,
    "start_time": "2021-12-04T19:29:11.129Z"
   },
   {
    "duration": 20,
    "start_time": "2021-12-04T19:29:11.141Z"
   },
   {
    "duration": 22,
    "start_time": "2021-12-04T19:29:11.163Z"
   },
   {
    "duration": 19,
    "start_time": "2021-12-04T19:29:11.187Z"
   },
   {
    "duration": 54,
    "start_time": "2021-12-04T19:29:11.207Z"
   },
   {
    "duration": 12,
    "start_time": "2021-12-04T19:29:11.263Z"
   },
   {
    "duration": 11,
    "start_time": "2021-12-04T19:29:11.277Z"
   },
   {
    "duration": 11,
    "start_time": "2021-12-04T19:29:11.289Z"
   },
   {
    "duration": 24,
    "start_time": "2021-12-04T19:29:11.301Z"
   },
   {
    "duration": 15,
    "start_time": "2021-12-04T19:29:11.327Z"
   },
   {
    "duration": 27,
    "start_time": "2021-12-04T19:29:11.344Z"
   },
   {
    "duration": 12,
    "start_time": "2021-12-04T19:29:11.373Z"
   },
   {
    "duration": 12,
    "start_time": "2021-12-04T19:29:11.387Z"
   },
   {
    "duration": 24,
    "start_time": "2021-12-04T19:29:11.400Z"
   },
   {
    "duration": 200,
    "start_time": "2021-12-04T19:30:14.845Z"
   },
   {
    "duration": 190,
    "start_time": "2021-12-04T19:30:26.531Z"
   },
   {
    "duration": 327,
    "start_time": "2021-12-04T19:32:48.844Z"
   },
   {
    "duration": 293,
    "start_time": "2021-12-04T19:32:56.592Z"
   },
   {
    "duration": 7,
    "start_time": "2021-12-04T19:33:02.345Z"
   },
   {
    "duration": 6,
    "start_time": "2021-12-04T19:33:05.011Z"
   },
   {
    "duration": 6,
    "start_time": "2021-12-04T19:34:40.600Z"
   },
   {
    "duration": 275,
    "start_time": "2021-12-04T19:35:03.912Z"
   },
   {
    "duration": 296,
    "start_time": "2021-12-04T19:47:52.357Z"
   },
   {
    "duration": 615,
    "start_time": "2021-12-04T19:48:03.445Z"
   },
   {
    "duration": 296,
    "start_time": "2021-12-04T19:48:22.552Z"
   },
   {
    "duration": 6,
    "start_time": "2021-12-04T19:49:52.852Z"
   },
   {
    "duration": 5,
    "start_time": "2021-12-04T19:51:41.348Z"
   },
   {
    "duration": 357,
    "start_time": "2021-12-04T19:52:15.482Z"
   },
   {
    "duration": 6,
    "start_time": "2021-12-04T19:52:20.138Z"
   },
   {
    "duration": 5,
    "start_time": "2021-12-04T19:54:53.876Z"
   },
   {
    "duration": 317,
    "start_time": "2021-12-04T19:57:01.347Z"
   },
   {
    "duration": 328,
    "start_time": "2021-12-04T19:57:21.697Z"
   },
   {
    "duration": 5,
    "start_time": "2021-12-04T19:57:28.730Z"
   },
   {
    "duration": 6,
    "start_time": "2021-12-04T19:57:44.804Z"
   },
   {
    "duration": 16,
    "start_time": "2021-12-04T20:00:06.594Z"
   },
   {
    "duration": 16,
    "start_time": "2021-12-04T20:00:40.535Z"
   },
   {
    "duration": 15,
    "start_time": "2021-12-04T20:06:00.977Z"
   },
   {
    "duration": 10,
    "start_time": "2021-12-04T20:06:22.999Z"
   },
   {
    "duration": 1094,
    "start_time": "2021-12-05T10:09:24.900Z"
   },
   {
    "duration": 4,
    "start_time": "2021-12-05T10:09:27.793Z"
   },
   {
    "duration": 60,
    "start_time": "2021-12-05T10:09:27.800Z"
   },
   {
    "duration": 7,
    "start_time": "2021-12-05T10:09:27.863Z"
   },
   {
    "duration": 19,
    "start_time": "2021-12-05T10:09:27.873Z"
   },
   {
    "duration": 7,
    "start_time": "2021-12-05T10:09:27.908Z"
   },
   {
    "duration": 28,
    "start_time": "2021-12-05T10:09:27.917Z"
   },
   {
    "duration": 14,
    "start_time": "2021-12-05T10:09:27.947Z"
   },
   {
    "duration": 54,
    "start_time": "2021-12-05T10:09:27.963Z"
   },
   {
    "duration": 10,
    "start_time": "2021-12-05T10:09:28.020Z"
   },
   {
    "duration": 13,
    "start_time": "2021-12-05T10:09:28.032Z"
   },
   {
    "duration": 29,
    "start_time": "2021-12-05T10:09:28.047Z"
   },
   {
    "duration": 6,
    "start_time": "2021-12-05T10:09:28.107Z"
   },
   {
    "duration": 17,
    "start_time": "2021-12-05T10:09:28.114Z"
   },
   {
    "duration": 17,
    "start_time": "2021-12-05T10:09:28.133Z"
   },
   {
    "duration": 14,
    "start_time": "2021-12-05T10:09:28.152Z"
   },
   {
    "duration": 62,
    "start_time": "2021-12-05T10:09:28.167Z"
   },
   {
    "duration": 7,
    "start_time": "2021-12-05T10:09:28.231Z"
   },
   {
    "duration": 14,
    "start_time": "2021-12-05T10:09:28.239Z"
   },
   {
    "duration": 14,
    "start_time": "2021-12-05T10:09:28.254Z"
   },
   {
    "duration": 238,
    "start_time": "2021-12-05T10:09:28.270Z"
   },
   {
    "duration": 297,
    "start_time": "2021-12-05T10:09:28.510Z"
   },
   {
    "duration": 5,
    "start_time": "2021-12-05T10:09:28.809Z"
   },
   {
    "duration": 375,
    "start_time": "2021-12-05T10:09:28.816Z"
   },
   {
    "duration": 12,
    "start_time": "2021-12-05T10:09:29.194Z"
   },
   {
    "duration": 299,
    "start_time": "2021-12-05T10:09:29.208Z"
   },
   {
    "duration": 4,
    "start_time": "2021-12-05T10:09:29.509Z"
   },
   {
    "duration": 311,
    "start_time": "2021-12-05T10:09:29.515Z"
   },
   {
    "duration": 5,
    "start_time": "2021-12-05T10:09:29.827Z"
   },
   {
    "duration": 8,
    "start_time": "2021-12-05T10:09:29.833Z"
   },
   {
    "duration": 10,
    "start_time": "2021-12-05T10:09:29.843Z"
   },
   {
    "duration": 12,
    "start_time": "2021-12-05T10:09:29.854Z"
   },
   {
    "duration": 11,
    "start_time": "2021-12-05T10:09:29.867Z"
   },
   {
    "duration": 10,
    "start_time": "2021-12-05T10:09:29.907Z"
   },
   {
    "duration": 12,
    "start_time": "2021-12-05T10:09:29.919Z"
   },
   {
    "duration": 10,
    "start_time": "2021-12-05T10:09:29.933Z"
   },
   {
    "duration": 11,
    "start_time": "2021-12-05T10:09:29.945Z"
   },
   {
    "duration": 13,
    "start_time": "2021-12-05T10:09:29.957Z"
   },
   {
    "duration": 45,
    "start_time": "2021-12-05T10:09:29.971Z"
   },
   {
    "duration": 13,
    "start_time": "2021-12-05T10:09:30.018Z"
   },
   {
    "duration": 14,
    "start_time": "2021-12-05T10:09:30.032Z"
   },
   {
    "duration": 22,
    "start_time": "2021-12-05T10:09:30.049Z"
   },
   {
    "duration": 39,
    "start_time": "2021-12-05T10:09:30.072Z"
   },
   {
    "duration": 14,
    "start_time": "2021-12-05T10:15:19.873Z"
   },
   {
    "duration": 9,
    "start_time": "2021-12-05T10:15:24.025Z"
   },
   {
    "duration": 14,
    "start_time": "2021-12-05T10:15:29.167Z"
   },
   {
    "duration": 14,
    "start_time": "2021-12-05T10:16:38.494Z"
   },
   {
    "duration": 12,
    "start_time": "2021-12-05T10:23:30.983Z"
   },
   {
    "duration": 9,
    "start_time": "2021-12-05T10:25:52.814Z"
   },
   {
    "duration": 12,
    "start_time": "2021-12-05T10:26:19.524Z"
   },
   {
    "duration": 18,
    "start_time": "2021-12-05T10:27:10.667Z"
   },
   {
    "duration": 12,
    "start_time": "2021-12-05T10:27:24.563Z"
   },
   {
    "duration": 12,
    "start_time": "2021-12-05T10:28:17.601Z"
   },
   {
    "duration": 12,
    "start_time": "2021-12-05T10:29:08.076Z"
   },
   {
    "duration": 12,
    "start_time": "2021-12-05T10:29:39.342Z"
   },
   {
    "duration": 13,
    "start_time": "2021-12-05T10:39:46.220Z"
   },
   {
    "duration": 13,
    "start_time": "2021-12-05T10:41:22.224Z"
   },
   {
    "duration": 14,
    "start_time": "2021-12-05T10:41:35.900Z"
   },
   {
    "duration": 12,
    "start_time": "2021-12-05T10:41:49.807Z"
   },
   {
    "duration": 12,
    "start_time": "2021-12-05T10:41:55.692Z"
   },
   {
    "duration": 15,
    "start_time": "2021-12-05T10:42:00.983Z"
   },
   {
    "duration": 13,
    "start_time": "2021-12-05T10:42:07.476Z"
   },
   {
    "duration": 12,
    "start_time": "2021-12-05T10:42:14.371Z"
   },
   {
    "duration": 14,
    "start_time": "2021-12-05T10:45:38.491Z"
   },
   {
    "duration": 12,
    "start_time": "2021-12-05T11:13:08.281Z"
   },
   {
    "duration": 1280,
    "start_time": "2021-12-05T15:48:17.209Z"
   },
   {
    "duration": 64,
    "start_time": "2021-12-05T15:48:18.491Z"
   },
   {
    "duration": 6,
    "start_time": "2021-12-05T15:48:18.558Z"
   },
   {
    "duration": 16,
    "start_time": "2021-12-05T15:48:18.566Z"
   },
   {
    "duration": 8,
    "start_time": "2021-12-05T15:48:18.585Z"
   },
   {
    "duration": 50,
    "start_time": "2021-12-05T15:48:18.595Z"
   },
   {
    "duration": 14,
    "start_time": "2021-12-05T15:48:18.647Z"
   },
   {
    "duration": 13,
    "start_time": "2021-12-05T15:48:18.663Z"
   },
   {
    "duration": 11,
    "start_time": "2021-12-05T15:48:18.679Z"
   },
   {
    "duration": 12,
    "start_time": "2021-12-05T15:48:18.693Z"
   },
   {
    "duration": 67,
    "start_time": "2021-12-05T15:48:18.707Z"
   },
   {
    "duration": 8,
    "start_time": "2021-12-05T15:48:18.776Z"
   },
   {
    "duration": 16,
    "start_time": "2021-12-05T15:48:18.786Z"
   },
   {
    "duration": 49,
    "start_time": "2021-12-05T15:48:18.804Z"
   },
   {
    "duration": 13,
    "start_time": "2021-12-05T15:48:18.855Z"
   },
   {
    "duration": 36,
    "start_time": "2021-12-05T15:48:18.870Z"
   },
   {
    "duration": 7,
    "start_time": "2021-12-05T15:48:18.908Z"
   },
   {
    "duration": 39,
    "start_time": "2021-12-05T15:48:18.916Z"
   },
   {
    "duration": 15,
    "start_time": "2021-12-05T15:48:18.957Z"
   },
   {
    "duration": 11,
    "start_time": "2021-12-05T15:48:18.975Z"
   },
   {
    "duration": 241,
    "start_time": "2021-12-05T15:48:18.988Z"
   },
   {
    "duration": 318,
    "start_time": "2021-12-05T15:48:19.231Z"
   },
   {
    "duration": 5,
    "start_time": "2021-12-05T15:48:19.551Z"
   },
   {
    "duration": 371,
    "start_time": "2021-12-05T15:48:19.558Z"
   },
   {
    "duration": 5,
    "start_time": "2021-12-05T15:48:19.931Z"
   },
   {
    "duration": 290,
    "start_time": "2021-12-05T15:48:19.944Z"
   },
   {
    "duration": 5,
    "start_time": "2021-12-05T15:48:20.246Z"
   },
   {
    "duration": 315,
    "start_time": "2021-12-05T15:48:20.253Z"
   },
   {
    "duration": 4,
    "start_time": "2021-12-05T15:48:20.570Z"
   },
   {
    "duration": 8,
    "start_time": "2021-12-05T15:48:20.576Z"
   },
   {
    "duration": 19,
    "start_time": "2021-12-05T15:48:20.585Z"
   },
   {
    "duration": 10,
    "start_time": "2021-12-05T15:48:20.606Z"
   },
   {
    "duration": 28,
    "start_time": "2021-12-05T15:48:20.618Z"
   },
   {
    "duration": 14,
    "start_time": "2021-12-05T15:48:20.648Z"
   },
   {
    "duration": 11,
    "start_time": "2021-12-05T15:48:20.663Z"
   },
   {
    "duration": 11,
    "start_time": "2021-12-05T15:48:20.676Z"
   },
   {
    "duration": 14,
    "start_time": "2021-12-05T15:48:20.689Z"
   },
   {
    "duration": 49,
    "start_time": "2021-12-05T15:48:20.705Z"
   },
   {
    "duration": 11,
    "start_time": "2021-12-05T15:48:20.756Z"
   },
   {
    "duration": 12,
    "start_time": "2021-12-05T15:48:20.769Z"
   },
   {
    "duration": 14,
    "start_time": "2021-12-05T15:48:20.783Z"
   },
   {
    "duration": 12,
    "start_time": "2021-12-05T15:48:20.798Z"
   },
   {
    "duration": 21,
    "start_time": "2021-12-05T15:48:20.844Z"
   },
   {
    "duration": 13,
    "start_time": "2021-12-05T15:48:20.866Z"
   },
   {
    "duration": 17,
    "start_time": "2021-12-05T15:48:20.881Z"
   },
   {
    "duration": 20,
    "start_time": "2021-12-05T15:55:19.811Z"
   },
   {
    "duration": 737,
    "start_time": "2021-12-05T16:04:19.668Z"
   },
   {
    "duration": 92,
    "start_time": "2021-12-05T16:09:26.153Z"
   },
   {
    "duration": 85,
    "start_time": "2021-12-05T16:09:46.287Z"
   },
   {
    "duration": 304,
    "start_time": "2021-12-05T16:09:57.660Z"
   },
   {
    "duration": 88,
    "start_time": "2021-12-05T16:10:20.061Z"
   },
   {
    "duration": 95,
    "start_time": "2021-12-05T16:12:49.511Z"
   },
   {
    "duration": 34,
    "start_time": "2021-12-05T16:13:26.405Z"
   },
   {
    "duration": 94,
    "start_time": "2021-12-05T16:14:25.375Z"
   },
   {
    "duration": 147,
    "start_time": "2021-12-05T16:15:25.270Z"
   },
   {
    "duration": 342,
    "start_time": "2021-12-05T16:15:35.856Z"
   },
   {
    "duration": 40,
    "start_time": "2021-12-05T16:15:58.098Z"
   },
   {
    "duration": 38,
    "start_time": "2021-12-05T16:16:39.302Z"
   },
   {
    "duration": 312,
    "start_time": "2021-12-05T16:17:30.891Z"
   },
   {
    "duration": 32,
    "start_time": "2021-12-05T16:17:39.971Z"
   },
   {
    "duration": 34,
    "start_time": "2021-12-05T16:18:07.593Z"
   },
   {
    "duration": 179,
    "start_time": "2021-12-05T16:19:54.818Z"
   },
   {
    "duration": 212,
    "start_time": "2021-12-05T16:20:24.292Z"
   },
   {
    "duration": 159,
    "start_time": "2021-12-05T16:20:42.153Z"
   },
   {
    "duration": 261,
    "start_time": "2021-12-05T16:21:34.072Z"
   },
   {
    "duration": 6698,
    "start_time": "2021-12-05T16:21:41.655Z"
   },
   {
    "duration": 386,
    "start_time": "2021-12-06T06:02:17.451Z"
   },
   {
    "duration": 1026,
    "start_time": "2021-12-06T06:02:23.760Z"
   },
   {
    "duration": 46,
    "start_time": "2021-12-06T06:02:24.787Z"
   },
   {
    "duration": 6,
    "start_time": "2021-12-06T06:02:24.835Z"
   },
   {
    "duration": 18,
    "start_time": "2021-12-06T06:02:24.842Z"
   },
   {
    "duration": 7,
    "start_time": "2021-12-06T06:02:24.861Z"
   },
   {
    "duration": 39,
    "start_time": "2021-12-06T06:02:24.869Z"
   },
   {
    "duration": 13,
    "start_time": "2021-12-06T06:02:24.910Z"
   },
   {
    "duration": 13,
    "start_time": "2021-12-06T06:02:24.926Z"
   },
   {
    "duration": 9,
    "start_time": "2021-12-06T06:02:24.941Z"
   },
   {
    "duration": 11,
    "start_time": "2021-12-06T06:02:24.951Z"
   },
   {
    "duration": 62,
    "start_time": "2021-12-06T06:02:24.963Z"
   },
   {
    "duration": 6,
    "start_time": "2021-12-06T06:02:25.027Z"
   },
   {
    "duration": 16,
    "start_time": "2021-12-06T06:02:25.034Z"
   },
   {
    "duration": 17,
    "start_time": "2021-12-06T06:02:25.051Z"
   },
   {
    "duration": 43,
    "start_time": "2021-12-06T06:02:25.070Z"
   },
   {
    "duration": 35,
    "start_time": "2021-12-06T06:02:25.115Z"
   },
   {
    "duration": 6,
    "start_time": "2021-12-06T06:02:25.152Z"
   },
   {
    "duration": 11,
    "start_time": "2021-12-06T06:02:25.160Z"
   },
   {
    "duration": 35,
    "start_time": "2021-12-06T06:02:25.173Z"
   },
   {
    "duration": 13,
    "start_time": "2021-12-06T06:02:25.209Z"
   },
   {
    "duration": 380,
    "start_time": "2021-12-06T06:02:25.223Z"
   },
   {
    "duration": 95,
    "start_time": "2021-12-06T06:02:25.511Z"
   },
   {
    "duration": 89,
    "start_time": "2021-12-06T06:02:25.518Z"
   },
   {
    "duration": 84,
    "start_time": "2021-12-06T06:02:25.524Z"
   },
   {
    "duration": 82,
    "start_time": "2021-12-06T06:02:25.528Z"
   },
   {
    "duration": 72,
    "start_time": "2021-12-06T06:02:25.539Z"
   },
   {
    "duration": 70,
    "start_time": "2021-12-06T06:02:25.543Z"
   },
   {
    "duration": 66,
    "start_time": "2021-12-06T06:02:25.548Z"
   },
   {
    "duration": 64,
    "start_time": "2021-12-06T06:02:25.552Z"
   },
   {
    "duration": 61,
    "start_time": "2021-12-06T06:02:25.556Z"
   },
   {
    "duration": 59,
    "start_time": "2021-12-06T06:02:25.560Z"
   },
   {
    "duration": 56,
    "start_time": "2021-12-06T06:02:25.564Z"
   },
   {
    "duration": 53,
    "start_time": "2021-12-06T06:02:25.569Z"
   },
   {
    "duration": 50,
    "start_time": "2021-12-06T06:02:25.573Z"
   },
   {
    "duration": 48,
    "start_time": "2021-12-06T06:02:25.577Z"
   },
   {
    "duration": 44,
    "start_time": "2021-12-06T06:02:25.582Z"
   },
   {
    "duration": 41,
    "start_time": "2021-12-06T06:02:25.586Z"
   },
   {
    "duration": 39,
    "start_time": "2021-12-06T06:02:25.590Z"
   },
   {
    "duration": 36,
    "start_time": "2021-12-06T06:02:25.594Z"
   },
   {
    "duration": 34,
    "start_time": "2021-12-06T06:02:25.598Z"
   },
   {
    "duration": 31,
    "start_time": "2021-12-06T06:02:25.602Z"
   },
   {
    "duration": 29,
    "start_time": "2021-12-06T06:02:25.606Z"
   },
   {
    "duration": 26,
    "start_time": "2021-12-06T06:02:25.610Z"
   },
   {
    "duration": 24,
    "start_time": "2021-12-06T06:02:25.614Z"
   },
   {
    "duration": 21,
    "start_time": "2021-12-06T06:02:25.618Z"
   },
   {
    "duration": 19,
    "start_time": "2021-12-06T06:02:25.622Z"
   },
   {
    "duration": 12,
    "start_time": "2021-12-06T06:03:11.778Z"
   },
   {
    "duration": 12,
    "start_time": "2021-12-06T06:03:41.806Z"
   },
   {
    "duration": 13,
    "start_time": "2021-12-06T06:04:34.910Z"
   },
   {
    "duration": 113,
    "start_time": "2021-12-06T06:05:15.056Z"
   },
   {
    "duration": 133,
    "start_time": "2021-12-06T06:05:31.166Z"
   },
   {
    "duration": 122,
    "start_time": "2021-12-06T06:06:39.472Z"
   },
   {
    "duration": 125,
    "start_time": "2021-12-06T06:06:48.952Z"
   },
   {
    "duration": 19,
    "start_time": "2021-12-06T06:07:02.812Z"
   },
   {
    "duration": 19,
    "start_time": "2021-12-06T06:07:24.343Z"
   },
   {
    "duration": 19,
    "start_time": "2021-12-06T06:08:39.548Z"
   },
   {
    "duration": 13,
    "start_time": "2021-12-06T06:09:40.148Z"
   },
   {
    "duration": 13,
    "start_time": "2021-12-06T06:09:51.266Z"
   },
   {
    "duration": 138,
    "start_time": "2021-12-06T06:13:12.283Z"
   },
   {
    "duration": 115,
    "start_time": "2021-12-06T06:13:32.253Z"
   },
   {
    "duration": 9819,
    "start_time": "2021-12-06T06:14:11.047Z"
   },
   {
    "duration": 18,
    "start_time": "2021-12-06T06:14:47.410Z"
   },
   {
    "duration": 1100,
    "start_time": "2021-12-06T07:50:12.986Z"
   },
   {
    "duration": 45,
    "start_time": "2021-12-06T07:50:14.088Z"
   },
   {
    "duration": 5,
    "start_time": "2021-12-06T07:50:14.135Z"
   },
   {
    "duration": 28,
    "start_time": "2021-12-06T07:50:14.142Z"
   },
   {
    "duration": 6,
    "start_time": "2021-12-06T07:50:14.172Z"
   },
   {
    "duration": 32,
    "start_time": "2021-12-06T07:50:14.180Z"
   },
   {
    "duration": 13,
    "start_time": "2021-12-06T07:50:14.214Z"
   },
   {
    "duration": 14,
    "start_time": "2021-12-06T07:50:14.230Z"
   },
   {
    "duration": 11,
    "start_time": "2021-12-06T07:50:14.246Z"
   },
   {
    "duration": 11,
    "start_time": "2021-12-06T07:50:14.258Z"
   },
   {
    "duration": 60,
    "start_time": "2021-12-06T07:50:14.270Z"
   },
   {
    "duration": 6,
    "start_time": "2021-12-06T07:50:14.332Z"
   },
   {
    "duration": 18,
    "start_time": "2021-12-06T07:50:14.339Z"
   },
   {
    "duration": 17,
    "start_time": "2021-12-06T07:50:14.359Z"
   },
   {
    "duration": 39,
    "start_time": "2021-12-06T07:50:14.378Z"
   },
   {
    "duration": 36,
    "start_time": "2021-12-06T07:50:14.419Z"
   },
   {
    "duration": 6,
    "start_time": "2021-12-06T07:50:14.457Z"
   },
   {
    "duration": 16,
    "start_time": "2021-12-06T07:50:14.465Z"
   },
   {
    "duration": 14,
    "start_time": "2021-12-06T07:50:14.507Z"
   },
   {
    "duration": 12,
    "start_time": "2021-12-06T07:50:14.523Z"
   },
   {
    "duration": 19,
    "start_time": "2021-12-06T07:50:14.537Z"
   },
   {
    "duration": 111,
    "start_time": "2021-12-06T07:50:14.557Z"
   },
   {
    "duration": 3580585,
    "start_time": "2021-12-06T06:50:34.085Z"
   },
   {
    "duration": 3580577,
    "start_time": "2021-12-06T06:50:34.094Z"
   },
   {
    "duration": 3580571,
    "start_time": "2021-12-06T06:50:34.101Z"
   },
   {
    "duration": 3580564,
    "start_time": "2021-12-06T06:50:34.109Z"
   },
   {
    "duration": 3580554,
    "start_time": "2021-12-06T06:50:34.120Z"
   },
   {
    "duration": 3580546,
    "start_time": "2021-12-06T06:50:34.129Z"
   },
   {
    "duration": 3580539,
    "start_time": "2021-12-06T06:50:34.137Z"
   },
   {
    "duration": 3580479,
    "start_time": "2021-12-06T06:50:34.198Z"
   },
   {
    "duration": 3580471,
    "start_time": "2021-12-06T06:50:34.207Z"
   },
   {
    "duration": 3580459,
    "start_time": "2021-12-06T06:50:34.220Z"
   },
   {
    "duration": 3580448,
    "start_time": "2021-12-06T06:50:34.232Z"
   },
   {
    "duration": 3580435,
    "start_time": "2021-12-06T06:50:34.246Z"
   },
   {
    "duration": 3580427,
    "start_time": "2021-12-06T06:50:34.255Z"
   },
   {
    "duration": 3580419,
    "start_time": "2021-12-06T06:50:34.264Z"
   },
   {
    "duration": 3580413,
    "start_time": "2021-12-06T06:50:34.271Z"
   },
   {
    "duration": 3580399,
    "start_time": "2021-12-06T06:50:34.286Z"
   },
   {
    "duration": 3580393,
    "start_time": "2021-12-06T06:50:34.293Z"
   },
   {
    "duration": 3580348,
    "start_time": "2021-12-06T06:50:34.339Z"
   },
   {
    "duration": 3580339,
    "start_time": "2021-12-06T06:50:34.349Z"
   },
   {
    "duration": 3580332,
    "start_time": "2021-12-06T06:50:34.357Z"
   },
   {
    "duration": 3580325,
    "start_time": "2021-12-06T06:50:34.365Z"
   },
   {
    "duration": 3580318,
    "start_time": "2021-12-06T06:50:34.373Z"
   },
   {
    "duration": 3580310,
    "start_time": "2021-12-06T06:50:34.382Z"
   },
   {
    "duration": 3580304,
    "start_time": "2021-12-06T06:50:34.390Z"
   },
   {
    "duration": 3580297,
    "start_time": "2021-12-06T06:50:34.398Z"
   },
   {
    "duration": 3,
    "start_time": "2021-12-06T07:57:49.643Z"
   },
   {
    "duration": 49,
    "start_time": "2021-12-06T07:57:49.650Z"
   },
   {
    "duration": 4,
    "start_time": "2021-12-06T07:57:49.701Z"
   },
   {
    "duration": 13,
    "start_time": "2021-12-06T07:57:49.707Z"
   },
   {
    "duration": 6,
    "start_time": "2021-12-06T07:57:49.722Z"
   },
   {
    "duration": 22,
    "start_time": "2021-12-06T07:57:49.729Z"
   },
   {
    "duration": 13,
    "start_time": "2021-12-06T07:57:49.753Z"
   },
   {
    "duration": 45,
    "start_time": "2021-12-06T07:57:49.768Z"
   },
   {
    "duration": 11,
    "start_time": "2021-12-06T07:57:49.816Z"
   },
   {
    "duration": 10,
    "start_time": "2021-12-06T07:57:49.829Z"
   },
   {
    "duration": 29,
    "start_time": "2021-12-06T07:57:49.840Z"
   },
   {
    "duration": 6,
    "start_time": "2021-12-06T07:57:49.907Z"
   },
   {
    "duration": 17,
    "start_time": "2021-12-06T07:57:49.915Z"
   },
   {
    "duration": 16,
    "start_time": "2021-12-06T07:57:49.934Z"
   },
   {
    "duration": 14,
    "start_time": "2021-12-06T07:57:49.952Z"
   },
   {
    "duration": 72,
    "start_time": "2021-12-06T07:57:49.967Z"
   },
   {
    "duration": 7,
    "start_time": "2021-12-06T07:57:50.040Z"
   },
   {
    "duration": 13,
    "start_time": "2021-12-06T07:57:50.048Z"
   },
   {
    "duration": 14,
    "start_time": "2021-12-06T07:57:50.062Z"
   },
   {
    "duration": 30,
    "start_time": "2021-12-06T07:57:50.077Z"
   },
   {
    "duration": 9067,
    "start_time": "2021-12-06T07:57:50.108Z"
   },
   {
    "duration": 3580993,
    "start_time": "2021-12-06T06:58:18.185Z"
   },
   {
    "duration": 3580985,
    "start_time": "2021-12-06T06:58:18.195Z"
   },
   {
    "duration": 3580979,
    "start_time": "2021-12-06T06:58:18.202Z"
   },
   {
    "duration": 3580973,
    "start_time": "2021-12-06T06:58:18.210Z"
   },
   {
    "duration": 3580967,
    "start_time": "2021-12-06T06:58:18.217Z"
   },
   {
    "duration": 3580960,
    "start_time": "2021-12-06T06:58:18.225Z"
   },
   {
    "duration": 3580953,
    "start_time": "2021-12-06T06:58:18.233Z"
   },
   {
    "duration": 3580947,
    "start_time": "2021-12-06T06:58:18.240Z"
   },
   {
    "duration": 3580941,
    "start_time": "2021-12-06T06:58:18.247Z"
   },
   {
    "duration": 3580933,
    "start_time": "2021-12-06T06:58:18.255Z"
   },
   {
    "duration": 3580926,
    "start_time": "2021-12-06T06:58:18.263Z"
   },
   {
    "duration": 3580903,
    "start_time": "2021-12-06T06:58:18.287Z"
   },
   {
    "duration": 3580896,
    "start_time": "2021-12-06T06:58:18.295Z"
   },
   {
    "duration": 3580888,
    "start_time": "2021-12-06T06:58:18.304Z"
   },
   {
    "duration": 3580882,
    "start_time": "2021-12-06T06:58:18.311Z"
   },
   {
    "duration": 3580875,
    "start_time": "2021-12-06T06:58:18.319Z"
   },
   {
    "duration": 3580869,
    "start_time": "2021-12-06T06:58:18.326Z"
   },
   {
    "duration": 3580862,
    "start_time": "2021-12-06T06:58:18.334Z"
   },
   {
    "duration": 3580856,
    "start_time": "2021-12-06T06:58:18.341Z"
   },
   {
    "duration": 3580850,
    "start_time": "2021-12-06T06:58:18.348Z"
   },
   {
    "duration": 3580844,
    "start_time": "2021-12-06T06:58:18.355Z"
   },
   {
    "duration": 3580837,
    "start_time": "2021-12-06T06:58:18.363Z"
   },
   {
    "duration": 3580831,
    "start_time": "2021-12-06T06:58:18.370Z"
   },
   {
    "duration": 3580824,
    "start_time": "2021-12-06T06:58:18.378Z"
   },
   {
    "duration": 3580819,
    "start_time": "2021-12-06T06:58:18.385Z"
   },
   {
    "duration": 3580796,
    "start_time": "2021-12-06T06:58:18.409Z"
   },
   {
    "duration": 4,
    "start_time": "2021-12-06T08:00:41.510Z"
   },
   {
    "duration": 45,
    "start_time": "2021-12-06T08:00:41.518Z"
   },
   {
    "duration": 5,
    "start_time": "2021-12-06T08:00:41.565Z"
   },
   {
    "duration": 14,
    "start_time": "2021-12-06T08:00:41.573Z"
   },
   {
    "duration": 25,
    "start_time": "2021-12-06T08:00:41.589Z"
   },
   {
    "duration": 26,
    "start_time": "2021-12-06T08:00:41.616Z"
   },
   {
    "duration": 19,
    "start_time": "2021-12-06T08:00:41.644Z"
   },
   {
    "duration": 52,
    "start_time": "2021-12-06T08:00:41.665Z"
   },
   {
    "duration": 15,
    "start_time": "2021-12-06T08:00:41.721Z"
   },
   {
    "duration": 10,
    "start_time": "2021-12-06T08:00:41.738Z"
   },
   {
    "duration": 58,
    "start_time": "2021-12-06T08:00:41.750Z"
   },
   {
    "duration": 6,
    "start_time": "2021-12-06T08:00:41.809Z"
   },
   {
    "duration": 19,
    "start_time": "2021-12-06T08:00:41.817Z"
   },
   {
    "duration": 18,
    "start_time": "2021-12-06T08:00:41.838Z"
   },
   {
    "duration": 14,
    "start_time": "2021-12-06T08:00:41.858Z"
   },
   {
    "duration": 37,
    "start_time": "2021-12-06T08:00:41.906Z"
   },
   {
    "duration": 6,
    "start_time": "2021-12-06T08:00:41.945Z"
   },
   {
    "duration": 12,
    "start_time": "2021-12-06T08:00:41.953Z"
   },
   {
    "duration": 14,
    "start_time": "2021-12-06T08:00:41.967Z"
   },
   {
    "duration": 10,
    "start_time": "2021-12-06T08:00:42.007Z"
   },
   {
    "duration": 9269,
    "start_time": "2021-12-06T08:00:42.019Z"
   },
   {
    "duration": 3580986,
    "start_time": "2021-12-06T07:01:10.305Z"
   },
   {
    "duration": 3580975,
    "start_time": "2021-12-06T07:01:10.317Z"
   },
   {
    "duration": 3580966,
    "start_time": "2021-12-06T07:01:10.327Z"
   },
   {
    "duration": 3580958,
    "start_time": "2021-12-06T07:01:10.336Z"
   },
   {
    "duration": 3580950,
    "start_time": "2021-12-06T07:01:10.345Z"
   },
   {
    "duration": 3580943,
    "start_time": "2021-12-06T07:01:10.353Z"
   },
   {
    "duration": 3580936,
    "start_time": "2021-12-06T07:01:10.361Z"
   },
   {
    "duration": 3580930,
    "start_time": "2021-12-06T07:01:10.368Z"
   },
   {
    "duration": 3580922,
    "start_time": "2021-12-06T07:01:10.377Z"
   },
   {
    "duration": 3580915,
    "start_time": "2021-12-06T07:01:10.385Z"
   },
   {
    "duration": 3580890,
    "start_time": "2021-12-06T07:01:10.411Z"
   },
   {
    "duration": 3580882,
    "start_time": "2021-12-06T07:01:10.420Z"
   },
   {
    "duration": 3580874,
    "start_time": "2021-12-06T07:01:10.429Z"
   },
   {
    "duration": 3580867,
    "start_time": "2021-12-06T07:01:10.437Z"
   },
   {
    "duration": 3580860,
    "start_time": "2021-12-06T07:01:10.445Z"
   },
   {
    "duration": 3580854,
    "start_time": "2021-12-06T07:01:10.452Z"
   },
   {
    "duration": 3580848,
    "start_time": "2021-12-06T07:01:10.460Z"
   },
   {
    "duration": 3580842,
    "start_time": "2021-12-06T07:01:10.467Z"
   },
   {
    "duration": 3580835,
    "start_time": "2021-12-06T07:01:10.475Z"
   },
   {
    "duration": 3580829,
    "start_time": "2021-12-06T07:01:10.482Z"
   },
   {
    "duration": 3580822,
    "start_time": "2021-12-06T07:01:10.490Z"
   },
   {
    "duration": 3580816,
    "start_time": "2021-12-06T07:01:10.497Z"
   },
   {
    "duration": 3580808,
    "start_time": "2021-12-06T07:01:10.506Z"
   },
   {
    "duration": 3580786,
    "start_time": "2021-12-06T07:01:10.529Z"
   },
   {
    "duration": 3580779,
    "start_time": "2021-12-06T07:01:10.537Z"
   },
   {
    "duration": 3580773,
    "start_time": "2021-12-06T07:01:10.544Z"
   },
   {
    "duration": 3,
    "start_time": "2021-12-06T08:02:39.764Z"
   },
   {
    "duration": 46,
    "start_time": "2021-12-06T08:02:39.770Z"
   },
   {
    "duration": 5,
    "start_time": "2021-12-06T08:02:39.817Z"
   },
   {
    "duration": 14,
    "start_time": "2021-12-06T08:02:39.824Z"
   },
   {
    "duration": 7,
    "start_time": "2021-12-06T08:02:39.839Z"
   },
   {
    "duration": 27,
    "start_time": "2021-12-06T08:02:39.847Z"
   },
   {
    "duration": 43,
    "start_time": "2021-12-06T08:02:39.875Z"
   },
   {
    "duration": 12,
    "start_time": "2021-12-06T08:02:39.920Z"
   },
   {
    "duration": 10,
    "start_time": "2021-12-06T08:02:39.934Z"
   },
   {
    "duration": 12,
    "start_time": "2021-12-06T08:02:39.946Z"
   },
   {
    "duration": 66,
    "start_time": "2021-12-06T08:02:39.959Z"
   },
   {
    "duration": 6,
    "start_time": "2021-12-06T08:02:40.026Z"
   },
   {
    "duration": 16,
    "start_time": "2021-12-06T08:02:40.033Z"
   },
   {
    "duration": 17,
    "start_time": "2021-12-06T08:02:40.051Z"
   },
   {
    "duration": 50,
    "start_time": "2021-12-06T08:02:40.070Z"
   },
   {
    "duration": 35,
    "start_time": "2021-12-06T08:02:40.121Z"
   },
   {
    "duration": 6,
    "start_time": "2021-12-06T08:02:40.158Z"
   },
   {
    "duration": 13,
    "start_time": "2021-12-06T08:02:40.165Z"
   },
   {
    "duration": 43,
    "start_time": "2021-12-06T08:02:40.180Z"
   },
   {
    "duration": 13,
    "start_time": "2021-12-06T08:02:40.225Z"
   },
   {
    "duration": 8720,
    "start_time": "2021-12-06T08:02:40.240Z"
   },
   {
    "duration": 3580998,
    "start_time": "2021-12-06T07:03:07.965Z"
   },
   {
    "duration": 3580989,
    "start_time": "2021-12-06T07:03:07.975Z"
   },
   {
    "duration": 3580980,
    "start_time": "2021-12-06T07:03:07.985Z"
   },
   {
    "duration": 3580971,
    "start_time": "2021-12-06T07:03:07.995Z"
   },
   {
    "duration": 3580964,
    "start_time": "2021-12-06T07:03:08.003Z"
   },
   {
    "duration": 3580956,
    "start_time": "2021-12-06T07:03:08.012Z"
   },
   {
    "duration": 3580948,
    "start_time": "2021-12-06T07:03:08.021Z"
   },
   {
    "duration": 3580941,
    "start_time": "2021-12-06T07:03:08.029Z"
   },
   {
    "duration": 3580936,
    "start_time": "2021-12-06T07:03:08.035Z"
   },
   {
    "duration": 3580929,
    "start_time": "2021-12-06T07:03:08.043Z"
   },
   {
    "duration": 3580908,
    "start_time": "2021-12-06T07:03:08.065Z"
   },
   {
    "duration": 3580901,
    "start_time": "2021-12-06T07:03:08.073Z"
   },
   {
    "duration": 3580895,
    "start_time": "2021-12-06T07:03:08.080Z"
   },
   {
    "duration": 3580888,
    "start_time": "2021-12-06T07:03:08.088Z"
   },
   {
    "duration": 3580881,
    "start_time": "2021-12-06T07:03:08.096Z"
   },
   {
    "duration": 3580875,
    "start_time": "2021-12-06T07:03:08.103Z"
   },
   {
    "duration": 3580868,
    "start_time": "2021-12-06T07:03:08.111Z"
   },
   {
    "duration": 3580863,
    "start_time": "2021-12-06T07:03:08.118Z"
   },
   {
    "duration": 3580857,
    "start_time": "2021-12-06T07:03:08.125Z"
   },
   {
    "duration": 3580852,
    "start_time": "2021-12-06T07:03:08.132Z"
   },
   {
    "duration": 3580846,
    "start_time": "2021-12-06T07:03:08.139Z"
   },
   {
    "duration": 3580840,
    "start_time": "2021-12-06T07:03:08.147Z"
   },
   {
    "duration": 3580834,
    "start_time": "2021-12-06T07:03:08.154Z"
   },
   {
    "duration": 3580828,
    "start_time": "2021-12-06T07:03:08.162Z"
   },
   {
    "duration": 3580805,
    "start_time": "2021-12-06T07:03:08.186Z"
   },
   {
    "duration": 3580798,
    "start_time": "2021-12-06T07:03:08.194Z"
   },
   {
    "duration": 4,
    "start_time": "2021-12-06T08:04:56.610Z"
   },
   {
    "duration": 45,
    "start_time": "2021-12-06T08:04:56.618Z"
   },
   {
    "duration": 4,
    "start_time": "2021-12-06T08:04:56.665Z"
   },
   {
    "duration": 25,
    "start_time": "2021-12-06T08:04:56.671Z"
   },
   {
    "duration": 9,
    "start_time": "2021-12-06T08:04:56.698Z"
   },
   {
    "duration": 26,
    "start_time": "2021-12-06T08:04:56.709Z"
   },
   {
    "duration": 13,
    "start_time": "2021-12-06T08:04:56.737Z"
   },
   {
    "duration": 11,
    "start_time": "2021-12-06T08:04:56.752Z"
   },
   {
    "duration": 41,
    "start_time": "2021-12-06T08:04:56.766Z"
   },
   {
    "duration": 10,
    "start_time": "2021-12-06T08:04:56.810Z"
   },
   {
    "duration": 31,
    "start_time": "2021-12-06T08:04:56.821Z"
   },
   {
    "duration": 6,
    "start_time": "2021-12-06T08:04:56.854Z"
   },
   {
    "duration": 51,
    "start_time": "2021-12-06T08:04:56.861Z"
   },
   {
    "duration": 17,
    "start_time": "2021-12-06T08:04:56.913Z"
   },
   {
    "duration": 14,
    "start_time": "2021-12-06T08:04:56.932Z"
   },
   {
    "duration": 61,
    "start_time": "2021-12-06T08:04:56.947Z"
   },
   {
    "duration": 6,
    "start_time": "2021-12-06T08:04:57.010Z"
   },
   {
    "duration": 12,
    "start_time": "2021-12-06T08:04:57.018Z"
   },
   {
    "duration": 14,
    "start_time": "2021-12-06T08:04:57.032Z"
   },
   {
    "duration": 9,
    "start_time": "2021-12-06T08:04:57.048Z"
   },
   {
    "duration": 9178,
    "start_time": "2021-12-06T08:04:57.059Z"
   },
   {
    "duration": 3580993,
    "start_time": "2021-12-06T07:05:25.247Z"
   },
   {
    "duration": 3580984,
    "start_time": "2021-12-06T07:05:25.257Z"
   },
   {
    "duration": 3580976,
    "start_time": "2021-12-06T07:05:25.266Z"
   },
   {
    "duration": 3580969,
    "start_time": "2021-12-06T07:05:25.274Z"
   },
   {
    "duration": 3580962,
    "start_time": "2021-12-06T07:05:25.282Z"
   },
   {
    "duration": 3580956,
    "start_time": "2021-12-06T07:05:25.289Z"
   },
   {
    "duration": 3580950,
    "start_time": "2021-12-06T07:05:25.296Z"
   },
   {
    "duration": 3580943,
    "start_time": "2021-12-06T07:05:25.304Z"
   },
   {
    "duration": 3580938,
    "start_time": "2021-12-06T07:05:25.310Z"
   },
   {
    "duration": 3580929,
    "start_time": "2021-12-06T07:05:25.320Z"
   },
   {
    "duration": 3580921,
    "start_time": "2021-12-06T07:05:25.329Z"
   },
   {
    "duration": 3580899,
    "start_time": "2021-12-06T07:05:25.353Z"
   },
   {
    "duration": 3580891,
    "start_time": "2021-12-06T07:05:25.362Z"
   },
   {
    "duration": 3580884,
    "start_time": "2021-12-06T07:05:25.370Z"
   },
   {
    "duration": 3580878,
    "start_time": "2021-12-06T07:05:25.377Z"
   },
   {
    "duration": 3580871,
    "start_time": "2021-12-06T07:05:25.385Z"
   },
   {
    "duration": 3580866,
    "start_time": "2021-12-06T07:05:25.391Z"
   },
   {
    "duration": 3580859,
    "start_time": "2021-12-06T07:05:25.399Z"
   },
   {
    "duration": 3580853,
    "start_time": "2021-12-06T07:05:25.406Z"
   },
   {
    "duration": 3580846,
    "start_time": "2021-12-06T07:05:25.414Z"
   },
   {
    "duration": 3580841,
    "start_time": "2021-12-06T07:05:25.420Z"
   },
   {
    "duration": 3580833,
    "start_time": "2021-12-06T07:05:25.429Z"
   },
   {
    "duration": 3580827,
    "start_time": "2021-12-06T07:05:25.436Z"
   },
   {
    "duration": 3580820,
    "start_time": "2021-12-06T07:05:25.445Z"
   },
   {
    "duration": 3580799,
    "start_time": "2021-12-06T07:05:25.467Z"
   },
   {
    "duration": 3580792,
    "start_time": "2021-12-06T07:05:25.475Z"
   },
   {
    "duration": 4,
    "start_time": "2021-12-06T08:11:03.178Z"
   },
   {
    "duration": 49,
    "start_time": "2021-12-06T08:11:03.184Z"
   },
   {
    "duration": 5,
    "start_time": "2021-12-06T08:11:03.235Z"
   },
   {
    "duration": 13,
    "start_time": "2021-12-06T08:11:03.242Z"
   },
   {
    "duration": 8,
    "start_time": "2021-12-06T08:11:03.257Z"
   },
   {
    "duration": 50,
    "start_time": "2021-12-06T08:11:03.267Z"
   },
   {
    "duration": 14,
    "start_time": "2021-12-06T08:11:03.319Z"
   },
   {
    "duration": 14,
    "start_time": "2021-12-06T08:11:03.335Z"
   },
   {
    "duration": 10,
    "start_time": "2021-12-06T08:11:03.351Z"
   },
   {
    "duration": 48,
    "start_time": "2021-12-06T08:11:03.363Z"
   },
   {
    "duration": 31,
    "start_time": "2021-12-06T08:11:03.413Z"
   },
   {
    "duration": 7,
    "start_time": "2021-12-06T08:11:03.446Z"
   },
   {
    "duration": 52,
    "start_time": "2021-12-06T08:11:03.454Z"
   },
   {
    "duration": 18,
    "start_time": "2021-12-06T08:11:03.508Z"
   },
   {
    "duration": 15,
    "start_time": "2021-12-06T08:11:03.528Z"
   },
   {
    "duration": 63,
    "start_time": "2021-12-06T08:11:03.544Z"
   },
   {
    "duration": 7,
    "start_time": "2021-12-06T08:11:03.609Z"
   },
   {
    "duration": 28,
    "start_time": "2021-12-06T08:11:03.618Z"
   },
   {
    "duration": 17,
    "start_time": "2021-12-06T08:11:03.650Z"
   },
   {
    "duration": 14,
    "start_time": "2021-12-06T08:11:03.669Z"
   },
   {
    "duration": 8798,
    "start_time": "2021-12-06T08:11:03.684Z"
   },
   {
    "duration": 3580983,
    "start_time": "2021-12-06T07:11:31.502Z"
   },
   {
    "duration": 3580974,
    "start_time": "2021-12-06T07:11:31.512Z"
   },
   {
    "duration": 3580968,
    "start_time": "2021-12-06T07:11:31.520Z"
   },
   {
    "duration": 3580962,
    "start_time": "2021-12-06T07:11:31.528Z"
   },
   {
    "duration": 3580956,
    "start_time": "2021-12-06T07:11:31.535Z"
   },
   {
    "duration": 3580948,
    "start_time": "2021-12-06T07:11:31.544Z"
   },
   {
    "duration": 3580942,
    "start_time": "2021-12-06T07:11:31.551Z"
   },
   {
    "duration": 3580935,
    "start_time": "2021-12-06T07:11:31.559Z"
   },
   {
    "duration": 3580929,
    "start_time": "2021-12-06T07:11:31.566Z"
   },
   {
    "duration": 3580917,
    "start_time": "2021-12-06T07:11:31.579Z"
   },
   {
    "duration": 3580911,
    "start_time": "2021-12-06T07:11:31.586Z"
   },
   {
    "duration": 3580890,
    "start_time": "2021-12-06T07:11:31.608Z"
   },
   {
    "duration": 3580885,
    "start_time": "2021-12-06T07:11:31.615Z"
   },
   {
    "duration": 3580879,
    "start_time": "2021-12-06T07:11:31.623Z"
   },
   {
    "duration": 3580873,
    "start_time": "2021-12-06T07:11:31.630Z"
   },
   {
    "duration": 3580867,
    "start_time": "2021-12-06T07:11:31.637Z"
   },
   {
    "duration": 3580862,
    "start_time": "2021-12-06T07:11:31.644Z"
   },
   {
    "duration": 3580855,
    "start_time": "2021-12-06T07:11:31.652Z"
   },
   {
    "duration": 3580850,
    "start_time": "2021-12-06T07:11:31.658Z"
   },
   {
    "duration": 3580846,
    "start_time": "2021-12-06T07:11:31.666Z"
   },
   {
    "duration": 3580839,
    "start_time": "2021-12-06T07:11:31.675Z"
   },
   {
    "duration": 3580834,
    "start_time": "2021-12-06T07:11:31.681Z"
   },
   {
    "duration": 3580827,
    "start_time": "2021-12-06T07:11:31.689Z"
   },
   {
    "duration": 3580822,
    "start_time": "2021-12-06T07:11:31.695Z"
   },
   {
    "duration": 3580815,
    "start_time": "2021-12-06T07:11:31.703Z"
   },
   {
    "duration": 3580794,
    "start_time": "2021-12-06T07:11:31.725Z"
   },
   {
    "duration": 3,
    "start_time": "2021-12-06T08:17:19.676Z"
   },
   {
    "duration": 174,
    "start_time": "2021-12-06T08:17:19.684Z"
   },
   {
    "duration": 5,
    "start_time": "2021-12-06T08:17:19.859Z"
   },
   {
    "duration": 15,
    "start_time": "2021-12-06T08:17:19.866Z"
   },
   {
    "duration": 8,
    "start_time": "2021-12-06T08:17:19.884Z"
   },
   {
    "duration": 31,
    "start_time": "2021-12-06T08:17:19.894Z"
   },
   {
    "duration": 15,
    "start_time": "2021-12-06T08:17:19.927Z"
   },
   {
    "duration": 20,
    "start_time": "2021-12-06T08:17:19.944Z"
   },
   {
    "duration": 10,
    "start_time": "2021-12-06T08:17:19.966Z"
   },
   {
    "duration": 13,
    "start_time": "2021-12-06T08:17:20.007Z"
   },
   {
    "duration": 31,
    "start_time": "2021-12-06T08:17:20.021Z"
   },
   {
    "duration": 6,
    "start_time": "2021-12-06T08:17:20.054Z"
   },
   {
    "duration": 51,
    "start_time": "2021-12-06T08:17:20.062Z"
   },
   {
    "duration": 17,
    "start_time": "2021-12-06T08:17:20.115Z"
   },
   {
    "duration": 15,
    "start_time": "2021-12-06T08:17:20.134Z"
   },
   {
    "duration": 58,
    "start_time": "2021-12-06T08:17:20.151Z"
   },
   {
    "duration": 7,
    "start_time": "2021-12-06T08:17:20.211Z"
   },
   {
    "duration": 10,
    "start_time": "2021-12-06T08:17:20.220Z"
   },
   {
    "duration": 15,
    "start_time": "2021-12-06T08:17:20.231Z"
   },
   {
    "duration": 13,
    "start_time": "2021-12-06T08:17:20.248Z"
   },
   {
    "duration": 11893,
    "start_time": "2021-12-06T08:17:20.263Z"
   },
   {
    "duration": 3580996,
    "start_time": "2021-12-06T07:17:51.162Z"
   },
   {
    "duration": 3580988,
    "start_time": "2021-12-06T07:17:51.172Z"
   },
   {
    "duration": 3580980,
    "start_time": "2021-12-06T07:17:51.181Z"
   },
   {
    "duration": 3580972,
    "start_time": "2021-12-06T07:17:51.190Z"
   },
   {
    "duration": 3580967,
    "start_time": "2021-12-06T07:17:51.196Z"
   },
   {
    "duration": 3580960,
    "start_time": "2021-12-06T07:17:51.204Z"
   },
   {
    "duration": 3580954,
    "start_time": "2021-12-06T07:17:51.211Z"
   },
   {
    "duration": 3580948,
    "start_time": "2021-12-06T07:17:51.218Z"
   },
   {
    "duration": 3580942,
    "start_time": "2021-12-06T07:17:51.225Z"
   },
   {
    "duration": 3580935,
    "start_time": "2021-12-06T07:17:51.233Z"
   },
   {
    "duration": 3580930,
    "start_time": "2021-12-06T07:17:51.239Z"
   },
   {
    "duration": 3580907,
    "start_time": "2021-12-06T07:17:51.263Z"
   },
   {
    "duration": 3580901,
    "start_time": "2021-12-06T07:17:51.270Z"
   },
   {
    "duration": 3580893,
    "start_time": "2021-12-06T07:17:51.279Z"
   },
   {
    "duration": 3580888,
    "start_time": "2021-12-06T07:17:51.285Z"
   },
   {
    "duration": 3580880,
    "start_time": "2021-12-06T07:17:51.294Z"
   },
   {
    "duration": 3580875,
    "start_time": "2021-12-06T07:17:51.300Z"
   },
   {
    "duration": 3580868,
    "start_time": "2021-12-06T07:17:51.308Z"
   },
   {
    "duration": 3580863,
    "start_time": "2021-12-06T07:17:51.314Z"
   },
   {
    "duration": 3580856,
    "start_time": "2021-12-06T07:17:51.322Z"
   },
   {
    "duration": 3580849,
    "start_time": "2021-12-06T07:17:51.329Z"
   },
   {
    "duration": 3580843,
    "start_time": "2021-12-06T07:17:51.336Z"
   },
   {
    "duration": 3580837,
    "start_time": "2021-12-06T07:17:51.343Z"
   },
   {
    "duration": 3580830,
    "start_time": "2021-12-06T07:17:51.351Z"
   },
   {
    "duration": 3580824,
    "start_time": "2021-12-06T07:17:51.357Z"
   },
   {
    "duration": 3580800,
    "start_time": "2021-12-06T07:17:51.382Z"
   },
   {
    "duration": 3,
    "start_time": "2021-12-06T08:25:07.879Z"
   },
   {
    "duration": 50,
    "start_time": "2021-12-06T08:25:07.886Z"
   },
   {
    "duration": 5,
    "start_time": "2021-12-06T08:25:07.938Z"
   },
   {
    "duration": 24,
    "start_time": "2021-12-06T08:25:07.945Z"
   },
   {
    "duration": 8,
    "start_time": "2021-12-06T08:25:07.971Z"
   },
   {
    "duration": 45,
    "start_time": "2021-12-06T08:25:07.981Z"
   },
   {
    "duration": 28,
    "start_time": "2021-12-06T08:25:08.027Z"
   },
   {
    "duration": 18,
    "start_time": "2021-12-06T08:25:08.057Z"
   },
   {
    "duration": 33,
    "start_time": "2021-12-06T08:25:08.079Z"
   },
   {
    "duration": 15,
    "start_time": "2021-12-06T08:25:08.114Z"
   },
   {
    "duration": 36,
    "start_time": "2021-12-06T08:25:08.131Z"
   },
   {
    "duration": 6,
    "start_time": "2021-12-06T08:25:08.169Z"
   },
   {
    "duration": 17,
    "start_time": "2021-12-06T08:25:08.207Z"
   },
   {
    "duration": 19,
    "start_time": "2021-12-06T08:25:08.225Z"
   },
   {
    "duration": 19,
    "start_time": "2021-12-06T08:25:08.246Z"
   },
   {
    "duration": 73,
    "start_time": "2021-12-06T08:25:08.268Z"
   },
   {
    "duration": 7,
    "start_time": "2021-12-06T08:25:08.343Z"
   },
   {
    "duration": 14,
    "start_time": "2021-12-06T08:25:08.352Z"
   },
   {
    "duration": 39,
    "start_time": "2021-12-06T08:25:08.368Z"
   },
   {
    "duration": 10,
    "start_time": "2021-12-06T08:25:08.409Z"
   },
   {
    "duration": 9635,
    "start_time": "2021-12-06T08:25:08.422Z"
   },
   {
    "duration": 3580950,
    "start_time": "2021-12-06T07:25:37.111Z"
   },
   {
    "duration": 3580941,
    "start_time": "2021-12-06T07:25:37.120Z"
   },
   {
    "duration": 3580932,
    "start_time": "2021-12-06T07:25:37.130Z"
   },
   {
    "duration": 3580924,
    "start_time": "2021-12-06T07:25:37.139Z"
   },
   {
    "duration": 3580918,
    "start_time": "2021-12-06T07:25:37.146Z"
   },
   {
    "duration": 3580910,
    "start_time": "2021-12-06T07:25:37.155Z"
   },
   {
    "duration": 3580902,
    "start_time": "2021-12-06T07:25:37.164Z"
   },
   {
    "duration": 3580895,
    "start_time": "2021-12-06T07:25:37.172Z"
   },
   {
    "duration": 3580889,
    "start_time": "2021-12-06T07:25:37.179Z"
   },
   {
    "duration": 3580882,
    "start_time": "2021-12-06T07:25:37.186Z"
   },
   {
    "duration": 3580877,
    "start_time": "2021-12-06T07:25:37.193Z"
   },
   {
    "duration": 3580870,
    "start_time": "2021-12-06T07:25:37.201Z"
   },
   {
    "duration": 3580864,
    "start_time": "2021-12-06T07:25:37.208Z"
   },
   {
    "duration": 3580842,
    "start_time": "2021-12-06T07:25:37.231Z"
   },
   {
    "duration": 3580835,
    "start_time": "2021-12-06T07:25:37.239Z"
   },
   {
    "duration": 3580827,
    "start_time": "2021-12-06T07:25:37.248Z"
   },
   {
    "duration": 3580818,
    "start_time": "2021-12-06T07:25:37.258Z"
   },
   {
    "duration": 3580811,
    "start_time": "2021-12-06T07:25:37.266Z"
   },
   {
    "duration": 3580804,
    "start_time": "2021-12-06T07:25:37.274Z"
   },
   {
    "duration": 3580797,
    "start_time": "2021-12-06T07:25:37.282Z"
   },
   {
    "duration": 3580791,
    "start_time": "2021-12-06T07:25:37.289Z"
   },
   {
    "duration": 3580785,
    "start_time": "2021-12-06T07:25:37.296Z"
   },
   {
    "duration": 3580766,
    "start_time": "2021-12-06T07:25:37.316Z"
   },
   {
    "duration": 3580750,
    "start_time": "2021-12-06T07:25:37.333Z"
   },
   {
    "duration": 3580733,
    "start_time": "2021-12-06T07:25:37.351Z"
   },
   {
    "duration": 3580715,
    "start_time": "2021-12-06T07:25:37.370Z"
   },
   {
    "duration": 19,
    "start_time": "2021-12-06T08:25:31.778Z"
   },
   {
    "duration": 397,
    "start_time": "2021-12-06T08:25:44.368Z"
   },
   {
    "duration": 20,
    "start_time": "2021-12-06T08:25:55.317Z"
   },
   {
    "duration": 20,
    "start_time": "2021-12-06T08:26:56.400Z"
   },
   {
    "duration": 11,
    "start_time": "2021-12-06T08:28:11.724Z"
   },
   {
    "duration": 13,
    "start_time": "2021-12-06T08:28:40.916Z"
   },
   {
    "duration": 350,
    "start_time": "2021-12-06T08:29:25.699Z"
   },
   {
    "duration": 353,
    "start_time": "2021-12-06T08:29:53.914Z"
   },
   {
    "duration": 3,
    "start_time": "2021-12-06T08:30:00.694Z"
   },
   {
    "duration": 174,
    "start_time": "2021-12-06T08:30:00.708Z"
   },
   {
    "duration": 5,
    "start_time": "2021-12-06T08:30:00.885Z"
   },
   {
    "duration": 15,
    "start_time": "2021-12-06T08:30:00.892Z"
   },
   {
    "duration": 7,
    "start_time": "2021-12-06T08:30:00.910Z"
   },
   {
    "duration": 24,
    "start_time": "2021-12-06T08:30:00.919Z"
   },
   {
    "duration": 13,
    "start_time": "2021-12-06T08:30:00.945Z"
   },
   {
    "duration": 48,
    "start_time": "2021-12-06T08:30:00.960Z"
   },
   {
    "duration": 11,
    "start_time": "2021-12-06T08:30:01.009Z"
   },
   {
    "duration": 11,
    "start_time": "2021-12-06T08:30:01.023Z"
   },
   {
    "duration": 30,
    "start_time": "2021-12-06T08:30:01.036Z"
   },
   {
    "duration": 39,
    "start_time": "2021-12-06T08:30:01.067Z"
   },
   {
    "duration": 17,
    "start_time": "2021-12-06T08:30:01.108Z"
   },
   {
    "duration": 18,
    "start_time": "2021-12-06T08:30:01.126Z"
   },
   {
    "duration": 18,
    "start_time": "2021-12-06T08:30:01.146Z"
   },
   {
    "duration": 71,
    "start_time": "2021-12-06T08:30:01.166Z"
   },
   {
    "duration": 7,
    "start_time": "2021-12-06T08:30:01.239Z"
   },
   {
    "duration": 17,
    "start_time": "2021-12-06T08:30:01.248Z"
   },
   {
    "duration": 16,
    "start_time": "2021-12-06T08:30:01.267Z"
   },
   {
    "duration": 30,
    "start_time": "2021-12-06T08:30:01.285Z"
   },
   {
    "duration": 9711,
    "start_time": "2021-12-06T08:30:01.317Z"
   },
   {
    "duration": 3580920,
    "start_time": "2021-12-06T07:30:30.112Z"
   },
   {
    "duration": 3580913,
    "start_time": "2021-12-06T07:30:30.121Z"
   },
   {
    "duration": 3580907,
    "start_time": "2021-12-06T07:30:30.128Z"
   },
   {
    "duration": 3580901,
    "start_time": "2021-12-06T07:30:30.136Z"
   },
   {
    "duration": 3580893,
    "start_time": "2021-12-06T07:30:30.145Z"
   },
   {
    "duration": 3580887,
    "start_time": "2021-12-06T07:30:30.153Z"
   },
   {
    "duration": 3580875,
    "start_time": "2021-12-06T07:30:30.166Z"
   },
   {
    "duration": 3580868,
    "start_time": "2021-12-06T07:30:30.175Z"
   },
   {
    "duration": 3580862,
    "start_time": "2021-12-06T07:30:30.182Z"
   },
   {
    "duration": 3580856,
    "start_time": "2021-12-06T07:30:30.190Z"
   },
   {
    "duration": 3580850,
    "start_time": "2021-12-06T07:30:30.197Z"
   },
   {
    "duration": 3580831,
    "start_time": "2021-12-06T07:30:30.218Z"
   },
   {
    "duration": 3580825,
    "start_time": "2021-12-06T07:30:30.225Z"
   },
   {
    "duration": 3580818,
    "start_time": "2021-12-06T07:30:30.233Z"
   },
   {
    "duration": 3580813,
    "start_time": "2021-12-06T07:30:30.240Z"
   },
   {
    "duration": 3580806,
    "start_time": "2021-12-06T07:30:30.248Z"
   },
   {
    "duration": 3580801,
    "start_time": "2021-12-06T07:30:30.255Z"
   },
   {
    "duration": 3580773,
    "start_time": "2021-12-06T07:30:30.284Z"
   },
   {
    "duration": 3580766,
    "start_time": "2021-12-06T07:30:30.292Z"
   },
   {
    "duration": 3580749,
    "start_time": "2021-12-06T07:30:30.311Z"
   },
   {
    "duration": 3580734,
    "start_time": "2021-12-06T07:30:30.329Z"
   },
   {
    "duration": 3580717,
    "start_time": "2021-12-06T07:30:30.347Z"
   },
   {
    "duration": 3580693,
    "start_time": "2021-12-06T07:30:30.373Z"
   },
   {
    "duration": 3580686,
    "start_time": "2021-12-06T07:30:30.381Z"
   },
   {
    "duration": 3580680,
    "start_time": "2021-12-06T07:30:30.388Z"
   },
   {
    "duration": 3580709,
    "start_time": "2021-12-06T07:30:30.396Z"
   },
   {
    "duration": 20,
    "start_time": "2021-12-06T08:30:33.649Z"
   },
   {
    "duration": 18,
    "start_time": "2021-12-06T08:31:19.057Z"
   },
   {
    "duration": 20,
    "start_time": "2021-12-06T08:33:09.003Z"
   },
   {
    "duration": 16,
    "start_time": "2021-12-06T08:33:39.303Z"
   },
   {
    "duration": 24,
    "start_time": "2021-12-06T08:35:41.597Z"
   },
   {
    "duration": 4,
    "start_time": "2021-12-06T08:37:09.306Z"
   },
   {
    "duration": 49,
    "start_time": "2021-12-06T08:37:09.312Z"
   },
   {
    "duration": 6,
    "start_time": "2021-12-06T08:37:09.363Z"
   },
   {
    "duration": 14,
    "start_time": "2021-12-06T08:37:09.371Z"
   },
   {
    "duration": 9,
    "start_time": "2021-12-06T08:37:09.407Z"
   },
   {
    "duration": 32,
    "start_time": "2021-12-06T08:37:09.418Z"
   },
   {
    "duration": 14,
    "start_time": "2021-12-06T08:37:09.452Z"
   },
   {
    "duration": 51,
    "start_time": "2021-12-06T08:37:09.468Z"
   },
   {
    "duration": 12,
    "start_time": "2021-12-06T08:37:09.522Z"
   },
   {
    "duration": 11,
    "start_time": "2021-12-06T08:37:09.537Z"
   },
   {
    "duration": 69,
    "start_time": "2021-12-06T08:37:09.550Z"
   },
   {
    "duration": 8,
    "start_time": "2021-12-06T08:37:09.621Z"
   },
   {
    "duration": 19,
    "start_time": "2021-12-06T08:37:09.631Z"
   },
   {
    "duration": 19,
    "start_time": "2021-12-06T08:37:09.652Z"
   },
   {
    "duration": 21,
    "start_time": "2021-12-06T08:37:09.709Z"
   },
   {
    "duration": 40,
    "start_time": "2021-12-06T08:37:09.731Z"
   },
   {
    "duration": 35,
    "start_time": "2021-12-06T08:37:09.772Z"
   },
   {
    "duration": 13,
    "start_time": "2021-12-06T08:37:09.809Z"
   },
   {
    "duration": 24,
    "start_time": "2021-12-06T08:37:09.824Z"
   },
   {
    "duration": 14,
    "start_time": "2021-12-06T08:37:09.850Z"
   },
   {
    "duration": 18,
    "start_time": "2021-12-06T08:37:09.866Z"
   },
   {
    "duration": 2,
    "start_time": "2021-12-06T08:37:09.885Z"
   },
   {
    "duration": 250,
    "start_time": "2021-12-06T08:37:09.907Z"
   },
   {
    "duration": 321,
    "start_time": "2021-12-06T08:37:10.160Z"
   },
   {
    "duration": 5,
    "start_time": "2021-12-06T08:37:10.483Z"
   },
   {
    "duration": 418,
    "start_time": "2021-12-06T08:37:10.489Z"
   },
   {
    "duration": 6,
    "start_time": "2021-12-06T08:37:10.909Z"
   },
   {
    "duration": 306,
    "start_time": "2021-12-06T08:37:10.917Z"
   },
   {
    "duration": 7,
    "start_time": "2021-12-06T08:37:11.226Z"
   },
   {
    "duration": 321,
    "start_time": "2021-12-06T08:37:11.235Z"
   },
   {
    "duration": 5,
    "start_time": "2021-12-06T08:37:11.558Z"
   },
   {
    "duration": 4,
    "start_time": "2021-12-06T08:37:11.564Z"
   },
   {
    "duration": 14,
    "start_time": "2021-12-06T08:37:11.569Z"
   },
   {
    "duration": 16,
    "start_time": "2021-12-06T08:37:11.606Z"
   },
   {
    "duration": 13,
    "start_time": "2021-12-06T08:37:11.625Z"
   },
   {
    "duration": 12,
    "start_time": "2021-12-06T08:37:11.640Z"
   },
   {
    "duration": 11,
    "start_time": "2021-12-06T08:37:11.654Z"
   },
   {
    "duration": 50,
    "start_time": "2021-12-06T08:37:11.667Z"
   },
   {
    "duration": 14,
    "start_time": "2021-12-06T08:37:11.720Z"
   },
   {
    "duration": 12,
    "start_time": "2021-12-06T08:37:11.736Z"
   },
   {
    "duration": 17,
    "start_time": "2021-12-06T08:37:11.750Z"
   },
   {
    "duration": 39,
    "start_time": "2021-12-06T08:37:11.769Z"
   },
   {
    "duration": 18,
    "start_time": "2021-12-06T08:37:11.811Z"
   },
   {
    "duration": 13,
    "start_time": "2021-12-06T08:37:11.831Z"
   },
   {
    "duration": 19,
    "start_time": "2021-12-06T08:37:11.846Z"
   },
   {
    "duration": 43,
    "start_time": "2021-12-06T08:37:11.868Z"
   },
   {
    "duration": 17,
    "start_time": "2021-12-06T08:37:11.914Z"
   },
   {
    "duration": 14,
    "start_time": "2021-12-06T08:37:11.933Z"
   },
   {
    "duration": 13,
    "start_time": "2021-12-06T08:49:11.978Z"
   },
   {
    "duration": 15,
    "start_time": "2021-12-06T08:53:55.281Z"
   },
   {
    "duration": 13,
    "start_time": "2021-12-06T08:54:34.696Z"
   },
   {
    "duration": 10,
    "start_time": "2021-12-06T08:58:46.450Z"
   },
   {
    "duration": 6,
    "start_time": "2021-12-06T08:58:48.393Z"
   },
   {
    "duration": 5,
    "start_time": "2021-12-06T08:58:50.859Z"
   },
   {
    "duration": 11,
    "start_time": "2021-12-06T09:00:16.611Z"
   },
   {
    "duration": 6,
    "start_time": "2021-12-06T09:00:27.788Z"
   },
   {
    "duration": 5,
    "start_time": "2021-12-06T09:00:59.020Z"
   },
   {
    "duration": 345,
    "start_time": "2021-12-06T09:01:53.428Z"
   },
   {
    "duration": 5,
    "start_time": "2021-12-06T09:02:05.732Z"
   },
   {
    "duration": 5,
    "start_time": "2021-12-06T09:03:35.846Z"
   },
   {
    "duration": 6,
    "start_time": "2021-12-06T09:05:41.052Z"
   },
   {
    "duration": 4,
    "start_time": "2021-12-06T09:06:11.213Z"
   },
   {
    "duration": 5,
    "start_time": "2021-12-06T09:06:13.684Z"
   },
   {
    "duration": 3,
    "start_time": "2021-12-06T09:06:24.099Z"
   },
   {
    "duration": 47,
    "start_time": "2021-12-06T09:06:24.133Z"
   },
   {
    "duration": 4,
    "start_time": "2021-12-06T09:06:24.182Z"
   },
   {
    "duration": 13,
    "start_time": "2021-12-06T09:06:24.188Z"
   },
   {
    "duration": 6,
    "start_time": "2021-12-06T09:06:24.203Z"
   },
   {
    "duration": 21,
    "start_time": "2021-12-06T09:06:24.211Z"
   },
   {
    "duration": 14,
    "start_time": "2021-12-06T09:06:24.233Z"
   },
   {
    "duration": 13,
    "start_time": "2021-12-06T09:06:24.248Z"
   },
   {
    "duration": 46,
    "start_time": "2021-12-06T09:06:24.262Z"
   },
   {
    "duration": 11,
    "start_time": "2021-12-06T09:06:24.310Z"
   },
   {
    "duration": 29,
    "start_time": "2021-12-06T09:06:24.323Z"
   },
   {
    "duration": 6,
    "start_time": "2021-12-06T09:06:24.353Z"
   },
   {
    "duration": 51,
    "start_time": "2021-12-06T09:06:24.361Z"
   },
   {
    "duration": 17,
    "start_time": "2021-12-06T09:06:24.413Z"
   },
   {
    "duration": 13,
    "start_time": "2021-12-06T09:06:24.432Z"
   },
   {
    "duration": 62,
    "start_time": "2021-12-06T09:06:24.447Z"
   },
   {
    "duration": 9,
    "start_time": "2021-12-06T09:06:24.511Z"
   },
   {
    "duration": 13,
    "start_time": "2021-12-06T09:06:24.521Z"
   },
   {
    "duration": 15,
    "start_time": "2021-12-06T09:06:24.536Z"
   },
   {
    "duration": 11,
    "start_time": "2021-12-06T09:06:24.553Z"
   },
   {
    "duration": 56,
    "start_time": "2021-12-06T09:06:24.566Z"
   },
   {
    "duration": 2,
    "start_time": "2021-12-06T09:06:24.625Z"
   },
   {
    "duration": 294,
    "start_time": "2021-12-06T09:06:24.628Z"
   },
   {
    "duration": 309,
    "start_time": "2021-12-06T09:06:24.924Z"
   },
   {
    "duration": 4,
    "start_time": "2021-12-06T09:06:25.235Z"
   },
   {
    "duration": 398,
    "start_time": "2021-12-06T09:06:25.241Z"
   },
   {
    "duration": 4,
    "start_time": "2021-12-06T09:06:25.640Z"
   },
   {
    "duration": 279,
    "start_time": "2021-12-06T09:06:25.648Z"
   },
   {
    "duration": 5,
    "start_time": "2021-12-06T09:06:25.929Z"
   },
   {
    "duration": 303,
    "start_time": "2021-12-06T09:06:25.936Z"
   },
   {
    "duration": 5,
    "start_time": "2021-12-06T09:06:26.241Z"
   },
   {
    "duration": 5,
    "start_time": "2021-12-06T09:06:26.247Z"
   },
   {
    "duration": 15,
    "start_time": "2021-12-06T09:06:26.254Z"
   },
   {
    "duration": 37,
    "start_time": "2021-12-06T09:06:26.271Z"
   },
   {
    "duration": 12,
    "start_time": "2021-12-06T09:06:26.310Z"
   },
   {
    "duration": 15,
    "start_time": "2021-12-06T09:06:26.324Z"
   },
   {
    "duration": 12,
    "start_time": "2021-12-06T09:06:26.340Z"
   },
   {
    "duration": 12,
    "start_time": "2021-12-06T09:06:26.353Z"
   },
   {
    "duration": 47,
    "start_time": "2021-12-06T09:06:26.367Z"
   },
   {
    "duration": 11,
    "start_time": "2021-12-06T09:06:26.416Z"
   },
   {
    "duration": 13,
    "start_time": "2021-12-06T09:06:26.429Z"
   },
   {
    "duration": 13,
    "start_time": "2021-12-06T09:06:26.443Z"
   },
   {
    "duration": 11,
    "start_time": "2021-12-06T09:06:26.458Z"
   },
   {
    "duration": 47,
    "start_time": "2021-12-06T09:06:26.471Z"
   },
   {
    "duration": 20,
    "start_time": "2021-12-06T09:06:26.520Z"
   },
   {
    "duration": 11,
    "start_time": "2021-12-06T09:06:26.541Z"
   },
   {
    "duration": 5,
    "start_time": "2021-12-06T09:06:26.554Z"
   },
   {
    "duration": 9,
    "start_time": "2021-12-06T09:06:26.561Z"
   },
   {
    "duration": 38,
    "start_time": "2021-12-06T09:06:26.572Z"
   },
   {
    "duration": 20,
    "start_time": "2021-12-06T09:06:26.612Z"
   },
   {
    "duration": 14,
    "start_time": "2021-12-06T09:06:26.634Z"
   },
   {
    "duration": 6,
    "start_time": "2021-12-06T09:06:26.650Z"
   },
   {
    "duration": 13,
    "start_time": "2021-12-06T09:06:26.658Z"
   },
   {
    "duration": 34,
    "start_time": "2021-12-06T09:06:26.673Z"
   },
   {
    "duration": 1153,
    "start_time": "2021-12-06T20:33:08.006Z"
   },
   {
    "duration": 56,
    "start_time": "2021-12-06T20:33:09.162Z"
   },
   {
    "duration": 15,
    "start_time": "2021-12-06T20:33:09.220Z"
   },
   {
    "duration": 52,
    "start_time": "2021-12-06T20:33:09.238Z"
   },
   {
    "duration": 7,
    "start_time": "2021-12-06T20:33:09.292Z"
   },
   {
    "duration": 31,
    "start_time": "2021-12-06T20:33:09.300Z"
   },
   {
    "duration": 17,
    "start_time": "2021-12-06T20:33:09.333Z"
   },
   {
    "duration": 19,
    "start_time": "2021-12-06T20:33:09.353Z"
   },
   {
    "duration": 11,
    "start_time": "2021-12-06T20:33:09.375Z"
   },
   {
    "duration": 15,
    "start_time": "2021-12-06T20:33:09.388Z"
   },
   {
    "duration": 147,
    "start_time": "2021-12-06T20:33:09.404Z"
   },
   {
    "duration": 6,
    "start_time": "2021-12-06T20:33:09.553Z"
   },
   {
    "duration": 32,
    "start_time": "2021-12-06T20:33:09.561Z"
   },
   {
    "duration": 18,
    "start_time": "2021-12-06T20:33:09.595Z"
   },
   {
    "duration": 15,
    "start_time": "2021-12-06T20:33:09.615Z"
   },
   {
    "duration": 46,
    "start_time": "2021-12-06T20:33:09.632Z"
   },
   {
    "duration": 7,
    "start_time": "2021-12-06T20:33:09.680Z"
   },
   {
    "duration": 13,
    "start_time": "2021-12-06T20:33:09.689Z"
   },
   {
    "duration": 15,
    "start_time": "2021-12-06T20:33:09.704Z"
   },
   {
    "duration": 15,
    "start_time": "2021-12-06T20:33:09.721Z"
   },
   {
    "duration": 43,
    "start_time": "2021-12-06T20:33:09.737Z"
   },
   {
    "duration": 29,
    "start_time": "2021-12-06T20:33:09.782Z"
   },
   {
    "duration": 239,
    "start_time": "2021-12-06T20:33:09.815Z"
   },
   {
    "duration": 319,
    "start_time": "2021-12-06T20:33:10.057Z"
   },
   {
    "duration": 6,
    "start_time": "2021-12-06T20:33:10.377Z"
   },
   {
    "duration": 379,
    "start_time": "2021-12-06T20:33:10.385Z"
   },
   {
    "duration": 6,
    "start_time": "2021-12-06T20:33:10.766Z"
   },
   {
    "duration": 320,
    "start_time": "2021-12-06T20:33:10.774Z"
   },
   {
    "duration": 6,
    "start_time": "2021-12-06T20:33:11.096Z"
   },
   {
    "duration": 317,
    "start_time": "2021-12-06T20:33:11.103Z"
   },
   {
    "duration": 5,
    "start_time": "2021-12-06T20:33:11.422Z"
   },
   {
    "duration": 45,
    "start_time": "2021-12-06T20:33:11.429Z"
   },
   {
    "duration": 270,
    "start_time": "2021-12-06T20:33:11.476Z"
   },
   {
    "duration": 81,
    "start_time": "2021-12-06T20:33:11.748Z"
   },
   {
    "duration": 45,
    "start_time": "2021-12-06T20:33:11.830Z"
   },
   {
    "duration": 27,
    "start_time": "2021-12-06T20:33:11.878Z"
   },
   {
    "duration": 34,
    "start_time": "2021-12-06T20:33:11.908Z"
   },
   {
    "duration": 19,
    "start_time": "2021-12-06T20:33:11.944Z"
   },
   {
    "duration": 32,
    "start_time": "2021-12-06T20:33:11.965Z"
   },
   {
    "duration": 15,
    "start_time": "2021-12-06T20:33:11.999Z"
   },
   {
    "duration": 18,
    "start_time": "2021-12-06T20:33:12.016Z"
   },
   {
    "duration": 25,
    "start_time": "2021-12-06T20:33:12.035Z"
   },
   {
    "duration": 20,
    "start_time": "2021-12-06T20:33:12.061Z"
   },
   {
    "duration": 59,
    "start_time": "2021-12-06T20:33:12.083Z"
   },
   {
    "duration": 25,
    "start_time": "2021-12-06T20:33:12.144Z"
   },
   {
    "duration": 11,
    "start_time": "2021-12-06T20:33:12.172Z"
   },
   {
    "duration": 7,
    "start_time": "2021-12-06T20:33:12.185Z"
   },
   {
    "duration": 12,
    "start_time": "2021-12-06T20:33:12.194Z"
   },
   {
    "duration": 15,
    "start_time": "2021-12-06T20:33:12.208Z"
   },
   {
    "duration": 26,
    "start_time": "2021-12-06T20:33:12.225Z"
   },
   {
    "duration": 21,
    "start_time": "2021-12-06T20:33:12.264Z"
   },
   {
    "duration": 16,
    "start_time": "2021-12-06T20:33:12.287Z"
   },
   {
    "duration": 18,
    "start_time": "2021-12-06T20:33:12.305Z"
   },
   {
    "duration": 18,
    "start_time": "2021-12-06T20:33:12.325Z"
   },
   {
    "duration": 13,
    "start_time": "2021-12-06T20:42:54.361Z"
   },
   {
    "duration": 79,
    "start_time": "2021-12-06T20:58:04.981Z"
   },
   {
    "duration": 13,
    "start_time": "2021-12-06T21:06:55.295Z"
   },
   {
    "duration": 12,
    "start_time": "2021-12-06T21:07:03.916Z"
   },
   {
    "duration": 12,
    "start_time": "2021-12-06T21:07:12.740Z"
   },
   {
    "duration": 14,
    "start_time": "2021-12-06T21:07:21.000Z"
   },
   {
    "duration": 14,
    "start_time": "2021-12-06T21:07:41.265Z"
   },
   {
    "duration": 362,
    "start_time": "2021-12-06T21:08:24.674Z"
   },
   {
    "duration": 253,
    "start_time": "2021-12-06T21:08:52.435Z"
   },
   {
    "duration": 12,
    "start_time": "2021-12-06T21:09:04.839Z"
   },
   {
    "duration": 13,
    "start_time": "2021-12-06T21:09:21.139Z"
   },
   {
    "duration": 10,
    "start_time": "2021-12-06T21:11:23.617Z"
   },
   {
    "duration": 12,
    "start_time": "2021-12-06T21:12:44.208Z"
   },
   {
    "duration": 13,
    "start_time": "2021-12-06T21:13:02.132Z"
   },
   {
    "duration": 13,
    "start_time": "2021-12-06T21:13:40.115Z"
   },
   {
    "duration": 11,
    "start_time": "2021-12-06T21:13:54.312Z"
   },
   {
    "duration": 13,
    "start_time": "2021-12-06T21:13:57.619Z"
   },
   {
    "duration": 1168,
    "start_time": "2021-12-06T21:23:40.999Z"
   },
   {
    "duration": 51,
    "start_time": "2021-12-06T21:23:42.169Z"
   },
   {
    "duration": 6,
    "start_time": "2021-12-06T21:23:42.223Z"
   },
   {
    "duration": 22,
    "start_time": "2021-12-06T21:23:42.232Z"
   },
   {
    "duration": 11,
    "start_time": "2021-12-06T21:23:42.256Z"
   },
   {
    "duration": 26,
    "start_time": "2021-12-06T21:23:42.269Z"
   },
   {
    "duration": 16,
    "start_time": "2021-12-06T21:23:42.297Z"
   },
   {
    "duration": 16,
    "start_time": "2021-12-06T21:23:42.315Z"
   },
   {
    "duration": 40,
    "start_time": "2021-12-06T21:23:42.334Z"
   },
   {
    "duration": 11,
    "start_time": "2021-12-06T21:23:42.376Z"
   },
   {
    "duration": 13,
    "start_time": "2021-12-06T21:23:42.388Z"
   },
   {
    "duration": 32,
    "start_time": "2021-12-06T21:23:42.403Z"
   },
   {
    "duration": 8,
    "start_time": "2021-12-06T21:23:42.464Z"
   },
   {
    "duration": 16,
    "start_time": "2021-12-06T21:23:42.474Z"
   },
   {
    "duration": 17,
    "start_time": "2021-12-06T21:23:42.492Z"
   },
   {
    "duration": 15,
    "start_time": "2021-12-06T21:23:42.511Z"
   },
   {
    "duration": 72,
    "start_time": "2021-12-06T21:23:42.528Z"
   },
   {
    "duration": 7,
    "start_time": "2021-12-06T21:23:42.602Z"
   },
   {
    "duration": 11,
    "start_time": "2021-12-06T21:23:42.611Z"
   },
   {
    "duration": 41,
    "start_time": "2021-12-06T21:23:42.624Z"
   },
   {
    "duration": 10,
    "start_time": "2021-12-06T21:23:42.666Z"
   },
   {
    "duration": 19,
    "start_time": "2021-12-06T21:23:42.678Z"
   },
   {
    "duration": 2,
    "start_time": "2021-12-06T21:23:42.700Z"
   },
   {
    "duration": 243,
    "start_time": "2021-12-06T21:23:42.704Z"
   },
   {
    "duration": 318,
    "start_time": "2021-12-06T21:23:42.948Z"
   },
   {
    "duration": 4,
    "start_time": "2021-12-06T21:23:43.268Z"
   },
   {
    "duration": 382,
    "start_time": "2021-12-06T21:23:43.274Z"
   },
   {
    "duration": 8,
    "start_time": "2021-12-06T21:23:43.658Z"
   },
   {
    "duration": 296,
    "start_time": "2021-12-06T21:23:43.668Z"
   },
   {
    "duration": 5,
    "start_time": "2021-12-06T21:23:43.966Z"
   },
   {
    "duration": 326,
    "start_time": "2021-12-06T21:23:43.972Z"
   },
   {
    "duration": 5,
    "start_time": "2021-12-06T21:23:44.300Z"
   },
   {
    "duration": 5,
    "start_time": "2021-12-06T21:23:44.307Z"
   },
   {
    "duration": 18,
    "start_time": "2021-12-06T21:23:44.314Z"
   },
   {
    "duration": 34,
    "start_time": "2021-12-06T21:23:44.334Z"
   },
   {
    "duration": 12,
    "start_time": "2021-12-06T21:23:44.369Z"
   },
   {
    "duration": 17,
    "start_time": "2021-12-06T21:23:44.383Z"
   },
   {
    "duration": 11,
    "start_time": "2021-12-06T21:23:44.402Z"
   },
   {
    "duration": 17,
    "start_time": "2021-12-06T21:23:44.415Z"
   },
   {
    "duration": 40,
    "start_time": "2021-12-06T21:23:44.433Z"
   },
   {
    "duration": 13,
    "start_time": "2021-12-06T21:23:44.475Z"
   },
   {
    "duration": 18,
    "start_time": "2021-12-06T21:23:44.489Z"
   },
   {
    "duration": 17,
    "start_time": "2021-12-06T21:23:44.509Z"
   },
   {
    "duration": 42,
    "start_time": "2021-12-06T21:23:44.528Z"
   },
   {
    "duration": 17,
    "start_time": "2021-12-06T21:23:44.572Z"
   },
   {
    "duration": 29,
    "start_time": "2021-12-06T21:23:44.591Z"
   },
   {
    "duration": 10,
    "start_time": "2021-12-06T21:23:44.622Z"
   },
   {
    "duration": 11,
    "start_time": "2021-12-06T21:23:44.634Z"
   },
   {
    "duration": 21,
    "start_time": "2021-12-06T21:23:44.646Z"
   },
   {
    "duration": 7,
    "start_time": "2021-12-06T21:23:44.668Z"
   },
   {
    "duration": 18,
    "start_time": "2021-12-06T21:23:44.677Z"
   },
   {
    "duration": 19,
    "start_time": "2021-12-06T21:23:44.697Z"
   },
   {
    "duration": 5,
    "start_time": "2021-12-06T21:23:44.718Z"
   },
   {
    "duration": 12,
    "start_time": "2021-12-06T21:23:44.724Z"
   },
   {
    "duration": 13,
    "start_time": "2021-12-06T21:23:44.738Z"
   },
   {
    "duration": 292,
    "start_time": "2021-12-07T06:03:22.821Z"
   },
   {
    "duration": 1061,
    "start_time": "2021-12-07T06:03:25.970Z"
   },
   {
    "duration": 55,
    "start_time": "2021-12-07T06:03:28.592Z"
   },
   {
    "duration": 3,
    "start_time": "2021-12-07T06:04:42.542Z"
   },
   {
    "duration": 57,
    "start_time": "2021-12-07T06:04:42.547Z"
   },
   {
    "duration": 5,
    "start_time": "2021-12-07T06:04:42.606Z"
   },
   {
    "duration": 18,
    "start_time": "2021-12-07T06:04:42.612Z"
   },
   {
    "duration": 6,
    "start_time": "2021-12-07T06:04:42.645Z"
   },
   {
    "duration": 25,
    "start_time": "2021-12-07T06:04:42.652Z"
   },
   {
    "duration": 15,
    "start_time": "2021-12-07T06:04:42.679Z"
   },
   {
    "duration": 13,
    "start_time": "2021-12-07T06:04:42.696Z"
   },
   {
    "duration": 45,
    "start_time": "2021-12-07T06:04:42.711Z"
   },
   {
    "duration": 11,
    "start_time": "2021-12-07T06:04:42.758Z"
   },
   {
    "duration": 13,
    "start_time": "2021-12-07T06:04:42.771Z"
   },
   {
    "duration": 60,
    "start_time": "2021-12-07T06:04:42.786Z"
   },
   {
    "duration": 5,
    "start_time": "2021-12-07T06:04:42.848Z"
   },
   {
    "duration": 25,
    "start_time": "2021-12-07T06:04:42.855Z"
   },
   {
    "duration": 17,
    "start_time": "2021-12-07T06:04:42.882Z"
   },
   {
    "duration": 13,
    "start_time": "2021-12-07T06:04:42.900Z"
   },
   {
    "duration": 59,
    "start_time": "2021-12-07T06:04:42.915Z"
   },
   {
    "duration": 6,
    "start_time": "2021-12-07T06:04:42.976Z"
   },
   {
    "duration": 11,
    "start_time": "2021-12-07T06:04:42.985Z"
   },
   {
    "duration": 13,
    "start_time": "2021-12-07T06:04:42.998Z"
   },
   {
    "duration": 34,
    "start_time": "2021-12-07T06:04:43.013Z"
   },
   {
    "duration": 17,
    "start_time": "2021-12-07T06:04:43.048Z"
   },
   {
    "duration": 3,
    "start_time": "2021-12-07T06:04:43.066Z"
   },
   {
    "duration": 222,
    "start_time": "2021-12-07T06:04:43.070Z"
   },
   {
    "duration": 279,
    "start_time": "2021-12-07T06:04:43.294Z"
   },
   {
    "duration": 4,
    "start_time": "2021-12-07T06:04:43.575Z"
   },
   {
    "duration": 367,
    "start_time": "2021-12-07T06:04:43.580Z"
   },
   {
    "duration": 4,
    "start_time": "2021-12-07T06:04:43.948Z"
   },
   {
    "duration": 274,
    "start_time": "2021-12-07T06:04:43.954Z"
   },
   {
    "duration": 15,
    "start_time": "2021-12-07T06:04:44.230Z"
   },
   {
    "duration": 353,
    "start_time": "2021-12-07T06:04:44.247Z"
   },
   {
    "duration": 4,
    "start_time": "2021-12-07T06:04:44.602Z"
   },
   {
    "duration": 4,
    "start_time": "2021-12-07T06:04:44.608Z"
   },
   {
    "duration": 31,
    "start_time": "2021-12-07T06:04:44.614Z"
   },
   {
    "duration": 13,
    "start_time": "2021-12-07T06:04:44.647Z"
   },
   {
    "duration": 11,
    "start_time": "2021-12-07T06:04:44.661Z"
   },
   {
    "duration": 12,
    "start_time": "2021-12-07T06:04:44.673Z"
   },
   {
    "duration": 11,
    "start_time": "2021-12-07T06:04:44.687Z"
   },
   {
    "duration": 44,
    "start_time": "2021-12-07T06:04:44.700Z"
   },
   {
    "duration": 13,
    "start_time": "2021-12-07T06:04:44.746Z"
   },
   {
    "duration": 13,
    "start_time": "2021-12-07T06:04:44.761Z"
   },
   {
    "duration": 14,
    "start_time": "2021-12-07T06:04:44.776Z"
   },
   {
    "duration": 13,
    "start_time": "2021-12-07T06:04:44.792Z"
   },
   {
    "duration": 40,
    "start_time": "2021-12-07T06:04:44.806Z"
   },
   {
    "duration": 12,
    "start_time": "2021-12-07T06:04:44.847Z"
   },
   {
    "duration": 32,
    "start_time": "2021-12-07T06:04:44.860Z"
   },
   {
    "duration": 14,
    "start_time": "2021-12-07T06:04:44.894Z"
   },
   {
    "duration": 7,
    "start_time": "2021-12-07T06:04:44.910Z"
   },
   {
    "duration": 22,
    "start_time": "2021-12-07T06:04:44.919Z"
   },
   {
    "duration": 29,
    "start_time": "2021-12-07T06:04:44.943Z"
   },
   {
    "duration": 24,
    "start_time": "2021-12-07T06:04:44.973Z"
   },
   {
    "duration": 17,
    "start_time": "2021-12-07T06:04:44.999Z"
   },
   {
    "duration": 9,
    "start_time": "2021-12-07T06:04:45.018Z"
   },
   {
    "duration": 19,
    "start_time": "2021-12-07T06:04:45.029Z"
   },
   {
    "duration": 29,
    "start_time": "2021-12-07T06:04:45.053Z"
   },
   {
    "duration": 326,
    "start_time": "2021-12-07T06:06:38.720Z"
   },
   {
    "duration": 10,
    "start_time": "2021-12-07T06:07:07.193Z"
   },
   {
    "duration": 11,
    "start_time": "2021-12-07T06:07:23.680Z"
   },
   {
    "duration": 285,
    "start_time": "2021-12-07T06:08:58.205Z"
   },
   {
    "duration": 11,
    "start_time": "2021-12-07T06:09:12.591Z"
   },
   {
    "duration": 16,
    "start_time": "2021-12-07T06:10:47.966Z"
   },
   {
    "duration": 7055,
    "start_time": "2021-12-07T06:11:19.817Z"
   },
   {
    "duration": 93,
    "start_time": "2021-12-07T06:13:19.410Z"
   },
   {
    "duration": 11,
    "start_time": "2021-12-07T06:14:22.301Z"
   },
   {
    "duration": 306,
    "start_time": "2021-12-07T06:14:41.701Z"
   },
   {
    "duration": 1065,
    "start_time": "2021-12-07T09:42:30.174Z"
   },
   {
    "duration": 1428,
    "start_time": "2021-12-07T09:42:37.381Z"
   },
   {
    "duration": 78,
    "start_time": "2021-12-07T09:42:38.812Z"
   },
   {
    "duration": 7,
    "start_time": "2021-12-07T09:42:38.894Z"
   },
   {
    "duration": 43,
    "start_time": "2021-12-07T09:42:38.903Z"
   },
   {
    "duration": 16,
    "start_time": "2021-12-07T09:42:38.954Z"
   },
   {
    "duration": 71,
    "start_time": "2021-12-07T09:42:38.972Z"
   },
   {
    "duration": 25,
    "start_time": "2021-12-07T09:42:39.046Z"
   },
   {
    "duration": 16,
    "start_time": "2021-12-07T09:42:39.075Z"
   },
   {
    "duration": 52,
    "start_time": "2021-12-07T09:42:39.095Z"
   },
   {
    "duration": 17,
    "start_time": "2021-12-07T09:42:39.149Z"
   },
   {
    "duration": 23,
    "start_time": "2021-12-07T09:42:39.169Z"
   },
   {
    "duration": 77,
    "start_time": "2021-12-07T09:42:39.194Z"
   },
   {
    "duration": 9,
    "start_time": "2021-12-07T09:42:39.274Z"
   },
   {
    "duration": 70,
    "start_time": "2021-12-07T09:42:39.286Z"
   },
   {
    "duration": 41,
    "start_time": "2021-12-07T09:42:39.359Z"
   },
   {
    "duration": 42,
    "start_time": "2021-12-07T09:42:39.404Z"
   },
   {
    "duration": 82,
    "start_time": "2021-12-07T09:42:39.449Z"
   },
   {
    "duration": 11,
    "start_time": "2021-12-07T09:42:39.534Z"
   },
   {
    "duration": 32,
    "start_time": "2021-12-07T09:42:39.548Z"
   },
   {
    "duration": 44,
    "start_time": "2021-12-07T09:42:39.582Z"
   },
   {
    "duration": 20,
    "start_time": "2021-12-07T09:42:39.630Z"
   },
   {
    "duration": 31,
    "start_time": "2021-12-07T09:42:39.653Z"
   },
   {
    "duration": 3,
    "start_time": "2021-12-07T09:42:39.689Z"
   },
   {
    "duration": 412,
    "start_time": "2021-12-07T09:42:39.695Z"
   },
   {
    "duration": 425,
    "start_time": "2021-12-07T09:42:40.110Z"
   },
   {
    "duration": 7,
    "start_time": "2021-12-07T09:42:40.539Z"
   },
   {
    "duration": 699,
    "start_time": "2021-12-07T09:42:40.549Z"
   },
   {
    "duration": 7,
    "start_time": "2021-12-07T09:42:41.252Z"
   },
   {
    "duration": 410,
    "start_time": "2021-12-07T09:42:41.261Z"
   },
   {
    "duration": 6,
    "start_time": "2021-12-07T09:42:41.674Z"
   },
   {
    "duration": 467,
    "start_time": "2021-12-07T09:42:41.682Z"
   },
   {
    "duration": 7,
    "start_time": "2021-12-07T09:42:42.153Z"
   },
   {
    "duration": 37,
    "start_time": "2021-12-07T09:42:42.163Z"
   },
   {
    "duration": 51,
    "start_time": "2021-12-07T09:42:42.202Z"
   },
   {
    "duration": 36,
    "start_time": "2021-12-07T09:42:42.256Z"
   },
   {
    "duration": 30,
    "start_time": "2021-12-07T09:42:42.295Z"
   },
   {
    "duration": 47,
    "start_time": "2021-12-07T09:42:42.336Z"
   },
   {
    "duration": 42,
    "start_time": "2021-12-07T09:42:42.385Z"
   },
   {
    "duration": 69,
    "start_time": "2021-12-07T09:42:42.430Z"
   },
   {
    "duration": 47,
    "start_time": "2021-12-07T09:42:42.502Z"
   },
   {
    "duration": 40,
    "start_time": "2021-12-07T09:42:42.552Z"
   },
   {
    "duration": 35,
    "start_time": "2021-12-07T09:42:42.595Z"
   },
   {
    "duration": 37,
    "start_time": "2021-12-07T09:42:42.633Z"
   },
   {
    "duration": 42,
    "start_time": "2021-12-07T09:42:42.673Z"
   },
   {
    "duration": 37,
    "start_time": "2021-12-07T09:42:42.718Z"
   },
   {
    "duration": 47,
    "start_time": "2021-12-07T09:42:42.758Z"
   },
   {
    "duration": 37,
    "start_time": "2021-12-07T09:42:42.807Z"
   },
   {
    "duration": 34,
    "start_time": "2021-12-07T09:42:42.847Z"
   },
   {
    "duration": 51,
    "start_time": "2021-12-07T09:42:42.884Z"
   },
   {
    "duration": 36,
    "start_time": "2021-12-07T09:42:42.940Z"
   },
   {
    "duration": 54,
    "start_time": "2021-12-07T09:42:42.979Z"
   },
   {
    "duration": 50,
    "start_time": "2021-12-07T09:42:43.036Z"
   },
   {
    "duration": 24,
    "start_time": "2021-12-07T09:42:43.088Z"
   },
   {
    "duration": 46,
    "start_time": "2021-12-07T09:42:43.115Z"
   },
   {
    "duration": 41,
    "start_time": "2021-12-07T09:42:43.164Z"
   },
   {
    "duration": 28,
    "start_time": "2021-12-07T09:43:28.920Z"
   },
   {
    "duration": 35,
    "start_time": "2021-12-07T09:44:11.034Z"
   },
   {
    "duration": 29,
    "start_time": "2021-12-07T09:45:24.887Z"
   },
   {
    "duration": 4,
    "start_time": "2021-12-07T09:45:31.336Z"
   },
   {
    "duration": 97,
    "start_time": "2021-12-07T09:45:31.346Z"
   },
   {
    "duration": 7,
    "start_time": "2021-12-07T09:45:31.446Z"
   },
   {
    "duration": 22,
    "start_time": "2021-12-07T09:45:31.457Z"
   },
   {
    "duration": 51,
    "start_time": "2021-12-07T09:45:31.482Z"
   },
   {
    "duration": 43,
    "start_time": "2021-12-07T09:45:31.539Z"
   },
   {
    "duration": 65,
    "start_time": "2021-12-07T09:45:31.584Z"
   },
   {
    "duration": 18,
    "start_time": "2021-12-07T09:45:31.652Z"
   },
   {
    "duration": 26,
    "start_time": "2021-12-07T09:45:31.675Z"
   },
   {
    "duration": 23,
    "start_time": "2021-12-07T09:45:31.732Z"
   },
   {
    "duration": 17,
    "start_time": "2021-12-07T09:45:31.757Z"
   },
   {
    "duration": 71,
    "start_time": "2021-12-07T09:45:31.777Z"
   },
   {
    "duration": 11,
    "start_time": "2021-12-07T09:45:31.851Z"
   },
   {
    "duration": 23,
    "start_time": "2021-12-07T09:45:31.865Z"
   },
   {
    "duration": 30,
    "start_time": "2021-12-07T09:45:31.929Z"
   },
   {
    "duration": 41,
    "start_time": "2021-12-07T09:45:31.961Z"
   },
   {
    "duration": 85,
    "start_time": "2021-12-07T09:45:32.004Z"
   },
   {
    "duration": 10,
    "start_time": "2021-12-07T09:45:32.091Z"
   },
   {
    "duration": 127,
    "start_time": "2021-12-07T09:45:32.103Z"
   },
   {
    "duration": 71,
    "start_time": "2021-12-07T09:45:32.232Z"
   },
   {
    "duration": 58,
    "start_time": "2021-12-07T09:45:32.306Z"
   },
   {
    "duration": 72,
    "start_time": "2021-12-07T09:45:32.366Z"
   },
   {
    "duration": 20,
    "start_time": "2021-12-07T09:45:32.444Z"
   },
   {
    "duration": 399,
    "start_time": "2021-12-07T09:45:32.470Z"
   },
   {
    "duration": 487,
    "start_time": "2021-12-07T09:45:32.873Z"
   },
   {
    "duration": 6,
    "start_time": "2021-12-07T09:45:33.362Z"
   },
   {
    "duration": 604,
    "start_time": "2021-12-07T09:45:33.371Z"
   },
   {
    "duration": 6,
    "start_time": "2021-12-07T09:45:33.978Z"
   },
   {
    "duration": 486,
    "start_time": "2021-12-07T09:45:33.986Z"
   },
   {
    "duration": 7,
    "start_time": "2021-12-07T09:45:34.475Z"
   },
   {
    "duration": 545,
    "start_time": "2021-12-07T09:45:34.485Z"
   },
   {
    "duration": 11,
    "start_time": "2021-12-07T09:45:35.033Z"
   },
   {
    "duration": 8,
    "start_time": "2021-12-07T09:45:35.047Z"
   },
   {
    "duration": 40,
    "start_time": "2021-12-07T09:45:35.058Z"
   },
   {
    "duration": 52,
    "start_time": "2021-12-07T09:45:35.101Z"
   },
   {
    "duration": 24,
    "start_time": "2021-12-07T09:45:35.155Z"
   },
   {
    "duration": 44,
    "start_time": "2021-12-07T09:45:35.181Z"
   },
   {
    "duration": 22,
    "start_time": "2021-12-07T09:45:35.230Z"
   },
   {
    "duration": 18,
    "start_time": "2021-12-07T09:45:35.255Z"
   },
   {
    "duration": 54,
    "start_time": "2021-12-07T09:45:35.275Z"
   },
   {
    "duration": 22,
    "start_time": "2021-12-07T09:45:35.332Z"
   },
   {
    "duration": 19,
    "start_time": "2021-12-07T09:45:35.356Z"
   },
   {
    "duration": 55,
    "start_time": "2021-12-07T09:45:35.377Z"
   },
   {
    "duration": 18,
    "start_time": "2021-12-07T09:45:35.435Z"
   },
   {
    "duration": 17,
    "start_time": "2021-12-07T09:45:35.455Z"
   },
   {
    "duration": 61,
    "start_time": "2021-12-07T09:45:35.476Z"
   },
   {
    "duration": 17,
    "start_time": "2021-12-07T09:45:35.540Z"
   },
   {
    "duration": 11,
    "start_time": "2021-12-07T09:45:35.560Z"
   },
   {
    "duration": 11,
    "start_time": "2021-12-07T09:45:35.574Z"
   },
   {
    "duration": 46,
    "start_time": "2021-12-07T09:45:35.588Z"
   },
   {
    "duration": 33,
    "start_time": "2021-12-07T09:45:35.637Z"
   },
   {
    "duration": 21,
    "start_time": "2021-12-07T09:45:35.673Z"
   },
   {
    "duration": 30,
    "start_time": "2021-12-07T09:45:35.697Z"
   },
   {
    "duration": 8,
    "start_time": "2021-12-07T09:45:35.730Z"
   },
   {
    "duration": 14,
    "start_time": "2021-12-07T09:45:35.741Z"
   },
   {
    "duration": 372,
    "start_time": "2021-12-07T09:48:01.604Z"
   },
   {
    "duration": 314,
    "start_time": "2021-12-07T09:48:19.217Z"
   },
   {
    "duration": 4,
    "start_time": "2021-12-07T09:48:34.404Z"
   },
   {
    "duration": 73,
    "start_time": "2021-12-07T09:48:34.415Z"
   },
   {
    "duration": 6,
    "start_time": "2021-12-07T09:48:34.491Z"
   },
   {
    "duration": 42,
    "start_time": "2021-12-07T09:48:34.500Z"
   },
   {
    "duration": 17,
    "start_time": "2021-12-07T09:48:34.545Z"
   },
   {
    "duration": 77,
    "start_time": "2021-12-07T09:48:34.565Z"
   },
   {
    "duration": 301,
    "start_time": "2021-12-07T09:48:34.644Z"
   },
   {
    "duration": 3580425,
    "start_time": "2021-12-07T08:48:54.527Z"
   },
   {
    "duration": 3580415,
    "start_time": "2021-12-07T08:48:54.539Z"
   },
   {
    "duration": 3580406,
    "start_time": "2021-12-07T08:48:54.550Z"
   },
   {
    "duration": 3580399,
    "start_time": "2021-12-07T08:48:54.559Z"
   },
   {
    "duration": 3580313,
    "start_time": "2021-12-07T08:48:54.647Z"
   },
   {
    "duration": 3580304,
    "start_time": "2021-12-07T08:48:54.658Z"
   },
   {
    "duration": 3580295,
    "start_time": "2021-12-07T08:48:54.669Z"
   },
   {
    "duration": 3580289,
    "start_time": "2021-12-07T08:48:54.678Z"
   },
   {
    "duration": 3580281,
    "start_time": "2021-12-07T08:48:54.688Z"
   },
   {
    "duration": 3580274,
    "start_time": "2021-12-07T08:48:54.697Z"
   },
   {
    "duration": 3580265,
    "start_time": "2021-12-07T08:48:54.708Z"
   },
   {
    "duration": 3580258,
    "start_time": "2021-12-07T08:48:54.717Z"
   },
   {
    "duration": 3580250,
    "start_time": "2021-12-07T08:48:54.727Z"
   },
   {
    "duration": 3580243,
    "start_time": "2021-12-07T08:48:54.736Z"
   },
   {
    "duration": 3580220,
    "start_time": "2021-12-07T08:48:54.761Z"
   },
   {
    "duration": 3580213,
    "start_time": "2021-12-07T08:48:54.771Z"
   },
   {
    "duration": 3580199,
    "start_time": "2021-12-07T08:48:54.787Z"
   },
   {
    "duration": 3580228,
    "start_time": "2021-12-07T08:48:54.796Z"
   },
   {
    "duration": 3580221,
    "start_time": "2021-12-07T08:48:54.806Z"
   },
   {
    "duration": 3580213,
    "start_time": "2021-12-07T08:48:54.815Z"
   },
   {
    "duration": 3580205,
    "start_time": "2021-12-07T08:48:54.825Z"
   },
   {
    "duration": 3580198,
    "start_time": "2021-12-07T08:48:54.834Z"
   },
   {
    "duration": 3580189,
    "start_time": "2021-12-07T08:48:54.844Z"
   },
   {
    "duration": 3580172,
    "start_time": "2021-12-07T08:48:54.865Z"
   },
   {
    "duration": 3580118,
    "start_time": "2021-12-07T08:48:54.923Z"
   },
   {
    "duration": 3580102,
    "start_time": "2021-12-07T08:48:54.941Z"
   },
   {
    "duration": 3580095,
    "start_time": "2021-12-07T08:48:54.951Z"
   },
   {
    "duration": 3580088,
    "start_time": "2021-12-07T08:48:54.960Z"
   },
   {
    "duration": 3580079,
    "start_time": "2021-12-07T08:48:54.970Z"
   },
   {
    "duration": 3580072,
    "start_time": "2021-12-07T08:48:54.979Z"
   },
   {
    "duration": 3580051,
    "start_time": "2021-12-07T08:48:55.001Z"
   },
   {
    "duration": 3580017,
    "start_time": "2021-12-07T08:48:55.037Z"
   },
   {
    "duration": 3580010,
    "start_time": "2021-12-07T08:48:55.046Z"
   },
   {
    "duration": 3580003,
    "start_time": "2021-12-07T08:48:55.055Z"
   },
   {
    "duration": 3579995,
    "start_time": "2021-12-07T08:48:55.065Z"
   },
   {
    "duration": 3579989,
    "start_time": "2021-12-07T08:48:55.074Z"
   },
   {
    "duration": 3579982,
    "start_time": "2021-12-07T08:48:55.083Z"
   },
   {
    "duration": 3579975,
    "start_time": "2021-12-07T08:48:55.092Z"
   },
   {
    "duration": 3579958,
    "start_time": "2021-12-07T08:48:55.110Z"
   },
   {
    "duration": 3580002,
    "start_time": "2021-12-07T08:48:55.121Z"
   },
   {
    "duration": 3579992,
    "start_time": "2021-12-07T08:48:55.133Z"
   },
   {
    "duration": 3579966,
    "start_time": "2021-12-07T08:48:55.160Z"
   },
   {
    "duration": 3579953,
    "start_time": "2021-12-07T08:48:55.175Z"
   },
   {
    "duration": 3579946,
    "start_time": "2021-12-07T08:48:55.184Z"
   },
   {
    "duration": 3579937,
    "start_time": "2021-12-07T08:48:55.194Z"
   },
   {
    "duration": 3579929,
    "start_time": "2021-12-07T08:48:55.203Z"
   },
   {
    "duration": 3579920,
    "start_time": "2021-12-07T08:48:55.213Z"
   },
   {
    "duration": 3579912,
    "start_time": "2021-12-07T08:48:55.223Z"
   },
   {
    "duration": 24,
    "start_time": "2021-12-07T09:49:48.939Z"
   },
   {
    "duration": 86,
    "start_time": "2021-12-07T09:53:51.519Z"
   },
   {
    "duration": 334,
    "start_time": "2021-12-07T09:54:00.191Z"
   },
   {
    "duration": 24,
    "start_time": "2021-12-07T09:54:07.695Z"
   },
   {
    "duration": 19,
    "start_time": "2021-12-07T09:57:43.541Z"
   },
   {
    "duration": 293,
    "start_time": "2021-12-07T09:58:37.880Z"
   },
   {
    "duration": 18,
    "start_time": "2021-12-07T09:58:55.887Z"
   },
   {
    "duration": 310,
    "start_time": "2021-12-07T09:59:07.583Z"
   },
   {
    "duration": 51,
    "start_time": "2021-12-07T09:59:28.524Z"
   },
   {
    "duration": 324,
    "start_time": "2021-12-07T10:00:55.570Z"
   },
   {
    "duration": 293,
    "start_time": "2021-12-07T10:01:34.859Z"
   },
   {
    "duration": 16,
    "start_time": "2021-12-07T10:02:11.953Z"
   },
   {
    "duration": 20,
    "start_time": "2021-12-07T10:02:37.541Z"
   },
   {
    "duration": 31,
    "start_time": "2021-12-07T10:02:37.564Z"
   },
   {
    "duration": 34,
    "start_time": "2021-12-07T10:02:37.598Z"
   },
   {
    "duration": 70,
    "start_time": "2021-12-07T10:02:37.634Z"
   },
   {
    "duration": 26,
    "start_time": "2021-12-07T10:02:37.706Z"
   },
   {
    "duration": 60,
    "start_time": "2021-12-07T10:02:37.736Z"
   },
   {
    "duration": 28,
    "start_time": "2021-12-07T10:02:37.799Z"
   },
   {
    "duration": 30,
    "start_time": "2021-12-07T10:02:37.832Z"
   },
   {
    "duration": 77,
    "start_time": "2021-12-07T10:02:37.865Z"
   },
   {
    "duration": 9,
    "start_time": "2021-12-07T10:02:37.944Z"
   },
   {
    "duration": 19,
    "start_time": "2021-12-07T10:02:37.955Z"
   },
   {
    "duration": 55,
    "start_time": "2021-12-07T10:02:37.976Z"
   },
   {
    "duration": 22,
    "start_time": "2021-12-07T10:02:38.034Z"
   },
   {
    "duration": 29,
    "start_time": "2021-12-07T10:02:38.059Z"
   },
   {
    "duration": 3,
    "start_time": "2021-12-07T10:02:38.090Z"
   },
   {
    "duration": 391,
    "start_time": "2021-12-07T10:02:38.095Z"
   },
   {
    "duration": 440,
    "start_time": "2021-12-07T10:02:38.489Z"
   },
   {
    "duration": 7,
    "start_time": "2021-12-07T10:02:38.932Z"
   },
   {
    "duration": 587,
    "start_time": "2021-12-07T10:02:38.941Z"
   },
   {
    "duration": 6,
    "start_time": "2021-12-07T10:02:39.531Z"
   },
   {
    "duration": 387,
    "start_time": "2021-12-07T10:02:39.540Z"
   },
   {
    "duration": 10,
    "start_time": "2021-12-07T10:02:39.930Z"
   },
   {
    "duration": 443,
    "start_time": "2021-12-07T10:02:39.945Z"
   },
   {
    "duration": 7,
    "start_time": "2021-12-07T10:02:40.390Z"
   },
   {
    "duration": 30,
    "start_time": "2021-12-07T10:02:40.399Z"
   },
   {
    "duration": 29,
    "start_time": "2021-12-07T10:02:40.431Z"
   },
   {
    "duration": 16,
    "start_time": "2021-12-07T10:02:40.463Z"
   },
   {
    "duration": 16,
    "start_time": "2021-12-07T10:02:40.481Z"
   },
   {
    "duration": 21,
    "start_time": "2021-12-07T10:02:40.528Z"
   },
   {
    "duration": 17,
    "start_time": "2021-12-07T10:02:40.551Z"
   },
   {
    "duration": 15,
    "start_time": "2021-12-07T10:02:40.570Z"
   },
   {
    "duration": 51,
    "start_time": "2021-12-07T10:02:40.588Z"
   },
   {
    "duration": 21,
    "start_time": "2021-12-07T10:02:40.642Z"
   },
   {
    "duration": 17,
    "start_time": "2021-12-07T10:02:40.665Z"
   },
   {
    "duration": 49,
    "start_time": "2021-12-07T10:02:40.684Z"
   },
   {
    "duration": 18,
    "start_time": "2021-12-07T10:02:40.735Z"
   },
   {
    "duration": 16,
    "start_time": "2021-12-07T10:02:40.755Z"
   },
   {
    "duration": 64,
    "start_time": "2021-12-07T10:02:40.773Z"
   },
   {
    "duration": 14,
    "start_time": "2021-12-07T10:02:40.840Z"
   },
   {
    "duration": 8,
    "start_time": "2021-12-07T10:02:40.856Z"
   },
   {
    "duration": 9,
    "start_time": "2021-12-07T10:02:40.867Z"
   },
   {
    "duration": 9,
    "start_time": "2021-12-07T10:02:40.879Z"
   },
   {
    "duration": 24,
    "start_time": "2021-12-07T10:02:40.928Z"
   },
   {
    "duration": 18,
    "start_time": "2021-12-07T10:02:40.954Z"
   },
   {
    "duration": 6,
    "start_time": "2021-12-07T10:02:40.974Z"
   },
   {
    "duration": 51,
    "start_time": "2021-12-07T10:02:40.982Z"
   },
   {
    "duration": 17,
    "start_time": "2021-12-07T10:02:41.036Z"
   },
   {
    "duration": 107,
    "start_time": "2021-12-07T10:05:31.378Z"
   },
   {
    "duration": 23,
    "start_time": "2021-12-07T10:05:55.113Z"
   },
   {
    "duration": 10,
    "start_time": "2021-12-07T10:06:43.481Z"
   },
   {
    "duration": 16,
    "start_time": "2021-12-07T10:07:17.280Z"
   },
   {
    "duration": 13,
    "start_time": "2021-12-07T10:07:21.345Z"
   },
   {
    "duration": 14,
    "start_time": "2021-12-07T10:08:24.613Z"
   },
   {
    "duration": 4,
    "start_time": "2021-12-07T10:08:41.167Z"
   },
   {
    "duration": 72,
    "start_time": "2021-12-07T10:08:45.400Z"
   },
   {
    "duration": 7,
    "start_time": "2021-12-07T10:08:49.846Z"
   },
   {
    "duration": 18,
    "start_time": "2021-12-07T10:08:52.983Z"
   },
   {
    "duration": 10,
    "start_time": "2021-12-07T10:09:06.103Z"
   },
   {
    "duration": 20,
    "start_time": "2021-12-07T10:09:41.769Z"
   },
   {
    "duration": 10,
    "start_time": "2021-12-07T10:10:13.270Z"
   },
   {
    "duration": 35,
    "start_time": "2021-12-07T10:10:16.247Z"
   },
   {
    "duration": 17,
    "start_time": "2021-12-07T10:10:41.152Z"
   },
   {
    "duration": 17,
    "start_time": "2021-12-07T10:10:49.809Z"
   },
   {
    "duration": 19,
    "start_time": "2021-12-07T10:10:59.335Z"
   },
   {
    "duration": 17,
    "start_time": "2021-12-07T10:11:03.857Z"
   },
   {
    "duration": 18,
    "start_time": "2021-12-07T10:12:06.329Z"
   },
   {
    "duration": 308,
    "start_time": "2021-12-07T10:21:49.708Z"
   },
   {
    "duration": 434,
    "start_time": "2021-12-07T10:21:57.659Z"
   },
   {
    "duration": 446,
    "start_time": "2021-12-07T10:22:51.333Z"
   },
   {
    "duration": 439,
    "start_time": "2021-12-07T10:33:47.248Z"
   },
   {
    "duration": 529,
    "start_time": "2021-12-07T10:34:02.558Z"
   },
   {
    "duration": 461,
    "start_time": "2021-12-07T10:34:45.526Z"
   },
   {
    "duration": 3,
    "start_time": "2021-12-07T10:35:09.475Z"
   },
   {
    "duration": 44,
    "start_time": "2021-12-07T10:41:55.894Z"
   },
   {
    "duration": 9,
    "start_time": "2021-12-07T10:42:01.195Z"
   },
   {
    "duration": 906,
    "start_time": "2021-12-07T10:43:05.676Z"
   },
   {
    "duration": 30,
    "start_time": "2021-12-07T10:43:18.818Z"
   },
   {
    "duration": 324,
    "start_time": "2021-12-07T10:45:55.612Z"
   },
   {
    "duration": 103,
    "start_time": "2021-12-07T10:46:07.810Z"
   },
   {
    "duration": 273,
    "start_time": "2021-12-07T10:46:32.767Z"
   },
   {
    "duration": 309,
    "start_time": "2021-12-07T10:47:30.489Z"
   },
   {
    "duration": 285,
    "start_time": "2021-12-07T10:48:06.945Z"
   },
   {
    "duration": 278,
    "start_time": "2021-12-07T10:48:18.853Z"
   },
   {
    "duration": 107,
    "start_time": "2021-12-07T10:48:26.030Z"
   },
   {
    "duration": 18,
    "start_time": "2021-12-07T10:48:35.153Z"
   },
   {
    "duration": 14,
    "start_time": "2021-12-07T10:52:01.660Z"
   },
   {
    "duration": 29,
    "start_time": "2021-12-07T10:52:46.378Z"
   },
   {
    "duration": 424,
    "start_time": "2021-12-07T10:53:28.366Z"
   },
   {
    "duration": 489,
    "start_time": "2021-12-07T10:53:37.437Z"
   },
   {
    "duration": 20,
    "start_time": "2021-12-07T10:54:18.669Z"
   },
   {
    "duration": 31,
    "start_time": "2021-12-07T10:54:35.076Z"
   },
   {
    "duration": 23,
    "start_time": "2021-12-07T10:55:19.596Z"
   },
   {
    "duration": 15,
    "start_time": "2021-12-07T10:56:48.007Z"
   },
   {
    "duration": 14,
    "start_time": "2021-12-07T10:57:25.220Z"
   },
   {
    "duration": 22,
    "start_time": "2021-12-07T10:58:02.181Z"
   },
   {
    "duration": 23,
    "start_time": "2021-12-07T10:58:57.732Z"
   },
   {
    "duration": 34,
    "start_time": "2021-12-07T11:00:38.006Z"
   },
   {
    "duration": 32,
    "start_time": "2021-12-07T11:01:08.868Z"
   },
   {
    "duration": 30,
    "start_time": "2021-12-07T11:01:30.462Z"
   },
   {
    "duration": 27,
    "start_time": "2021-12-07T11:05:04.119Z"
   },
   {
    "duration": 25,
    "start_time": "2021-12-07T11:05:12.955Z"
   },
   {
    "duration": 278,
    "start_time": "2021-12-07T11:10:42.470Z"
   },
   {
    "duration": 21,
    "start_time": "2021-12-07T11:10:56.290Z"
   },
   {
    "duration": 29,
    "start_time": "2021-12-07T11:11:19.320Z"
   },
   {
    "duration": 29,
    "start_time": "2021-12-07T11:12:30.232Z"
   },
   {
    "duration": 32,
    "start_time": "2021-12-07T11:17:05.337Z"
   },
   {
    "duration": 30,
    "start_time": "2021-12-07T11:17:59.014Z"
   },
   {
    "duration": 14,
    "start_time": "2021-12-07T11:18:16.687Z"
   },
   {
    "duration": 288,
    "start_time": "2021-12-07T11:20:49.052Z"
   },
   {
    "duration": 16,
    "start_time": "2021-12-07T11:21:11.236Z"
   },
   {
    "duration": 15,
    "start_time": "2021-12-07T11:21:29.307Z"
   },
   {
    "duration": 30,
    "start_time": "2021-12-07T11:22:03.108Z"
   },
   {
    "duration": 17,
    "start_time": "2021-12-07T11:22:18.996Z"
   },
   {
    "duration": 17,
    "start_time": "2021-12-07T11:23:39.571Z"
   },
   {
    "duration": 150,
    "start_time": "2021-12-07T11:26:12.539Z"
   },
   {
    "duration": 15,
    "start_time": "2021-12-07T11:26:19.620Z"
   },
   {
    "duration": 14,
    "start_time": "2021-12-07T11:27:21.839Z"
   },
   {
    "duration": 14,
    "start_time": "2021-12-07T11:27:54.423Z"
   },
   {
    "duration": 265,
    "start_time": "2021-12-07T11:28:41.379Z"
   },
   {
    "duration": 281,
    "start_time": "2021-12-07T11:29:50.793Z"
   },
   {
    "duration": 281,
    "start_time": "2021-12-07T11:30:05.265Z"
   },
   {
    "duration": 27,
    "start_time": "2021-12-07T11:30:28.958Z"
   },
   {
    "duration": 27,
    "start_time": "2021-12-07T11:30:44.753Z"
   },
   {
    "duration": 17,
    "start_time": "2021-12-07T11:33:24.486Z"
   },
   {
    "duration": 14,
    "start_time": "2021-12-07T11:34:36.989Z"
   },
   {
    "duration": 9173,
    "start_time": "2021-12-07T11:38:40.412Z"
   },
   {
    "duration": 24,
    "start_time": "2021-12-07T11:39:17.717Z"
   },
   {
    "duration": 14,
    "start_time": "2021-12-07T11:39:30.242Z"
   },
   {
    "duration": 334,
    "start_time": "2021-12-07T11:39:39.220Z"
   },
   {
    "duration": 27,
    "start_time": "2021-12-07T11:39:54.893Z"
   },
   {
    "duration": 22,
    "start_time": "2021-12-07T11:41:38.990Z"
   },
   {
    "duration": 16,
    "start_time": "2021-12-07T11:42:44.852Z"
   },
   {
    "duration": 26,
    "start_time": "2021-12-07T11:43:02.342Z"
   },
   {
    "duration": 25,
    "start_time": "2021-12-07T11:44:02.299Z"
   },
   {
    "duration": 19,
    "start_time": "2021-12-07T11:46:07.417Z"
   },
   {
    "duration": 17,
    "start_time": "2021-12-07T11:47:02.741Z"
   },
   {
    "duration": 31,
    "start_time": "2021-12-07T11:49:31.565Z"
   },
   {
    "duration": 26,
    "start_time": "2021-12-07T11:54:38.810Z"
   },
   {
    "duration": 19,
    "start_time": "2021-12-07T11:54:48.532Z"
   },
   {
    "duration": 18,
    "start_time": "2021-12-07T11:55:05.422Z"
   },
   {
    "duration": 30,
    "start_time": "2021-12-07T11:55:41.244Z"
   },
   {
    "duration": 7072,
    "start_time": "2021-12-07T11:58:13.151Z"
   },
   {
    "duration": 7161,
    "start_time": "2021-12-07T11:59:19.070Z"
   },
   {
    "duration": 5,
    "start_time": "2021-12-07T12:44:14.667Z"
   },
   {
    "duration": 78,
    "start_time": "2021-12-07T12:44:14.684Z"
   },
   {
    "duration": 8,
    "start_time": "2021-12-07T12:44:14.765Z"
   },
   {
    "duration": 35,
    "start_time": "2021-12-07T12:44:14.776Z"
   },
   {
    "duration": 18,
    "start_time": "2021-12-07T12:44:14.813Z"
   },
   {
    "duration": 50,
    "start_time": "2021-12-07T12:44:14.833Z"
   },
   {
    "duration": 17,
    "start_time": "2021-12-07T12:44:14.885Z"
   },
   {
    "duration": 514,
    "start_time": "2021-12-07T12:44:14.924Z"
   },
   {
    "duration": 44,
    "start_time": "2021-12-07T12:44:15.441Z"
   },
   {
    "duration": 8,
    "start_time": "2021-12-07T12:44:15.488Z"
   },
   {
    "duration": 48,
    "start_time": "2021-12-07T12:44:15.498Z"
   },
   {
    "duration": 41,
    "start_time": "2021-12-07T12:44:15.548Z"
   },
   {
    "duration": 39,
    "start_time": "2021-12-07T12:44:15.591Z"
   },
   {
    "duration": 61,
    "start_time": "2021-12-07T12:44:15.632Z"
   },
   {
    "duration": 9,
    "start_time": "2021-12-07T12:44:15.697Z"
   },
   {
    "duration": 21,
    "start_time": "2021-12-07T12:44:15.724Z"
   },
   {
    "duration": 47,
    "start_time": "2021-12-07T12:44:15.747Z"
   },
   {
    "duration": 41,
    "start_time": "2021-12-07T12:44:15.797Z"
   },
   {
    "duration": 55,
    "start_time": "2021-12-07T12:44:15.840Z"
   },
   {
    "duration": 345,
    "start_time": "2021-12-07T12:44:15.897Z"
   },
   {
    "duration": 413,
    "start_time": "2021-12-07T12:44:16.245Z"
   },
   {
    "duration": 7,
    "start_time": "2021-12-07T12:44:16.661Z"
   },
   {
    "duration": 580,
    "start_time": "2021-12-07T12:44:16.671Z"
   },
   {
    "duration": 7,
    "start_time": "2021-12-07T12:44:17.253Z"
   },
   {
    "duration": 396,
    "start_time": "2021-12-07T12:44:17.262Z"
   },
   {
    "duration": 6,
    "start_time": "2021-12-07T12:44:17.660Z"
   },
   {
    "duration": 503,
    "start_time": "2021-12-07T12:44:17.669Z"
   },
   {
    "duration": 9,
    "start_time": "2021-12-07T12:44:18.175Z"
   },
   {
    "duration": 43,
    "start_time": "2021-12-07T12:44:18.186Z"
   },
   {
    "duration": 15,
    "start_time": "2021-12-07T12:44:18.232Z"
   },
   {
    "duration": 30,
    "start_time": "2021-12-07T12:44:18.251Z"
   },
   {
    "duration": 62,
    "start_time": "2021-12-07T12:44:18.284Z"
   },
   {
    "duration": 18,
    "start_time": "2021-12-07T12:44:18.349Z"
   },
   {
    "duration": 20,
    "start_time": "2021-12-07T12:44:18.370Z"
   },
   {
    "duration": 57,
    "start_time": "2021-12-07T12:44:18.395Z"
   },
   {
    "duration": 18,
    "start_time": "2021-12-07T12:44:18.455Z"
   },
   {
    "duration": 14,
    "start_time": "2021-12-07T12:44:18.475Z"
   },
   {
    "duration": 54,
    "start_time": "2021-12-07T12:44:18.491Z"
   },
   {
    "duration": 33,
    "start_time": "2021-12-07T12:44:18.548Z"
   },
   {
    "duration": 19,
    "start_time": "2021-12-07T12:44:18.584Z"
   },
   {
    "duration": 130,
    "start_time": "2021-12-07T12:44:18.624Z"
   },
   {
    "duration": 8694,
    "start_time": "2021-12-07T12:44:18.757Z"
   },
   {
    "duration": 3580395,
    "start_time": "2021-12-07T11:44:47.059Z"
   },
   {
    "duration": 3580385,
    "start_time": "2021-12-07T11:44:47.070Z"
   },
   {
    "duration": 3580379,
    "start_time": "2021-12-07T11:44:47.078Z"
   },
   {
    "duration": 3580372,
    "start_time": "2021-12-07T11:44:47.087Z"
   },
   {
    "duration": 3580365,
    "start_time": "2021-12-07T11:44:47.095Z"
   },
   {
    "duration": 3580357,
    "start_time": "2021-12-07T11:44:47.105Z"
   },
   {
    "duration": 3580351,
    "start_time": "2021-12-07T11:44:47.113Z"
   },
   {
    "duration": 3580343,
    "start_time": "2021-12-07T11:44:47.122Z"
   },
   {
    "duration": 3580337,
    "start_time": "2021-12-07T11:44:47.129Z"
   },
   {
    "duration": 4,
    "start_time": "2021-12-07T12:45:36.223Z"
   },
   {
    "duration": 69,
    "start_time": "2021-12-07T12:45:36.240Z"
   },
   {
    "duration": 13,
    "start_time": "2021-12-07T12:45:36.312Z"
   },
   {
    "duration": 30,
    "start_time": "2021-12-07T12:45:36.328Z"
   },
   {
    "duration": 19,
    "start_time": "2021-12-07T12:45:36.362Z"
   },
   {
    "duration": 65,
    "start_time": "2021-12-07T12:45:36.383Z"
   },
   {
    "duration": 27,
    "start_time": "2021-12-07T12:45:36.452Z"
   },
   {
    "duration": 507,
    "start_time": "2021-12-07T12:45:36.482Z"
   },
   {
    "duration": 59,
    "start_time": "2021-12-07T12:45:36.992Z"
   },
   {
    "duration": 9,
    "start_time": "2021-12-07T12:45:37.057Z"
   },
   {
    "duration": 62,
    "start_time": "2021-12-07T12:45:37.070Z"
   },
   {
    "duration": 36,
    "start_time": "2021-12-07T12:45:37.134Z"
   },
   {
    "duration": 50,
    "start_time": "2021-12-07T12:45:37.173Z"
   },
   {
    "duration": 79,
    "start_time": "2021-12-07T12:45:37.226Z"
   },
   {
    "duration": 24,
    "start_time": "2021-12-07T12:45:37.308Z"
   },
   {
    "duration": 38,
    "start_time": "2021-12-07T12:45:37.335Z"
   },
   {
    "duration": 32,
    "start_time": "2021-12-07T12:45:37.376Z"
   },
   {
    "duration": 36,
    "start_time": "2021-12-07T12:45:37.410Z"
   },
   {
    "duration": 40,
    "start_time": "2021-12-07T12:45:37.449Z"
   },
   {
    "duration": 361,
    "start_time": "2021-12-07T12:45:37.491Z"
   },
   {
    "duration": 458,
    "start_time": "2021-12-07T12:45:37.854Z"
   },
   {
    "duration": 13,
    "start_time": "2021-12-07T12:45:38.314Z"
   },
   {
    "duration": 561,
    "start_time": "2021-12-07T12:45:38.329Z"
   },
   {
    "duration": 6,
    "start_time": "2021-12-07T12:45:38.892Z"
   },
   {
    "duration": 402,
    "start_time": "2021-12-07T12:45:38.900Z"
   },
   {
    "duration": 22,
    "start_time": "2021-12-07T12:45:39.304Z"
   },
   {
    "duration": 432,
    "start_time": "2021-12-07T12:45:39.329Z"
   },
   {
    "duration": 6,
    "start_time": "2021-12-07T12:45:39.767Z"
   },
   {
    "duration": 49,
    "start_time": "2021-12-07T12:45:39.775Z"
   },
   {
    "duration": 13,
    "start_time": "2021-12-07T12:45:39.827Z"
   },
   {
    "duration": 53,
    "start_time": "2021-12-07T12:45:39.842Z"
   },
   {
    "duration": 32,
    "start_time": "2021-12-07T12:45:39.897Z"
   },
   {
    "duration": 40,
    "start_time": "2021-12-07T12:45:39.931Z"
   },
   {
    "duration": 21,
    "start_time": "2021-12-07T12:45:39.973Z"
   },
   {
    "duration": 36,
    "start_time": "2021-12-07T12:45:39.996Z"
   },
   {
    "duration": 24,
    "start_time": "2021-12-07T12:45:40.034Z"
   },
   {
    "duration": 14,
    "start_time": "2021-12-07T12:45:40.060Z"
   },
   {
    "duration": 49,
    "start_time": "2021-12-07T12:45:40.076Z"
   },
   {
    "duration": 19,
    "start_time": "2021-12-07T12:45:40.127Z"
   },
   {
    "duration": 14,
    "start_time": "2021-12-07T12:45:40.148Z"
   },
   {
    "duration": 61,
    "start_time": "2021-12-07T12:45:40.164Z"
   },
   {
    "duration": 8358,
    "start_time": "2021-12-07T12:45:40.228Z"
   },
   {
    "duration": 3580242,
    "start_time": "2021-12-07T11:46:08.347Z"
   },
   {
    "duration": 3580234,
    "start_time": "2021-12-07T11:46:08.356Z"
   },
   {
    "duration": 3580225,
    "start_time": "2021-12-07T11:46:08.366Z"
   },
   {
    "duration": 3580217,
    "start_time": "2021-12-07T11:46:08.376Z"
   },
   {
    "duration": 3580208,
    "start_time": "2021-12-07T11:46:08.386Z"
   },
   {
    "duration": 3580200,
    "start_time": "2021-12-07T11:46:08.396Z"
   },
   {
    "duration": 3580190,
    "start_time": "2021-12-07T11:46:08.407Z"
   },
   {
    "duration": 3580182,
    "start_time": "2021-12-07T11:46:08.416Z"
   },
   {
    "duration": 3580174,
    "start_time": "2021-12-07T11:46:08.426Z"
   },
   {
    "duration": 32,
    "start_time": "2021-12-07T12:47:06.358Z"
   },
   {
    "duration": 18,
    "start_time": "2021-12-07T12:47:48.671Z"
   },
   {
    "duration": 18,
    "start_time": "2021-12-07T12:48:26.695Z"
   },
   {
    "duration": 7670,
    "start_time": "2021-12-07T12:49:23.881Z"
   },
   {
    "duration": 28,
    "start_time": "2021-12-07T12:50:04.610Z"
   },
   {
    "duration": 30,
    "start_time": "2021-12-07T12:50:49.706Z"
   },
   {
    "duration": 15,
    "start_time": "2021-12-07T12:51:34.856Z"
   },
   {
    "duration": 7,
    "start_time": "2021-12-07T12:51:39.847Z"
   },
   {
    "duration": 7,
    "start_time": "2021-12-07T12:52:09.541Z"
   },
   {
    "duration": 7,
    "start_time": "2021-12-07T12:52:33.426Z"
   },
   {
    "duration": 333,
    "start_time": "2021-12-07T13:04:38.234Z"
   },
   {
    "duration": 61,
    "start_time": "2021-12-07T13:04:51.615Z"
   },
   {
    "duration": 33,
    "start_time": "2021-12-07T13:05:36.722Z"
   },
   {
    "duration": 599,
    "start_time": "2021-12-07T13:12:27.337Z"
   },
   {
    "duration": 570,
    "start_time": "2021-12-07T13:12:43.642Z"
   },
   {
    "duration": 679,
    "start_time": "2021-12-07T13:13:48.142Z"
   },
   {
    "duration": 328,
    "start_time": "2021-12-07T13:16:26.220Z"
   },
   {
    "duration": 226,
    "start_time": "2021-12-07T13:16:43.219Z"
   },
   {
    "duration": 246,
    "start_time": "2021-12-07T13:17:05.877Z"
   },
   {
    "duration": 222,
    "start_time": "2021-12-07T13:18:19.475Z"
   },
   {
    "duration": 7,
    "start_time": "2021-12-07T13:27:39.816Z"
   },
   {
    "duration": 7,
    "start_time": "2021-12-07T13:28:11.824Z"
   },
   {
    "duration": 295,
    "start_time": "2021-12-07T13:34:38.387Z"
   },
   {
    "duration": 15,
    "start_time": "2021-12-07T13:34:51.398Z"
   },
   {
    "duration": 7,
    "start_time": "2021-12-07T13:34:53.352Z"
   },
   {
    "duration": 7,
    "start_time": "2021-12-07T13:34:55.536Z"
   },
   {
    "duration": 234,
    "start_time": "2021-12-07T13:34:58.111Z"
   },
   {
    "duration": 7,
    "start_time": "2021-12-07T13:35:04.250Z"
   },
   {
    "duration": 23,
    "start_time": "2021-12-07T13:36:13.190Z"
   },
   {
    "duration": 15,
    "start_time": "2021-12-07T13:36:17.500Z"
   },
   {
    "duration": 8,
    "start_time": "2021-12-07T13:36:23.392Z"
   },
   {
    "duration": 7,
    "start_time": "2021-12-07T13:36:26.089Z"
   },
   {
    "duration": 7,
    "start_time": "2021-12-07T13:36:50.487Z"
   },
   {
    "duration": 6,
    "start_time": "2021-12-07T13:36:52.094Z"
   },
   {
    "duration": 205,
    "start_time": "2021-12-07T13:38:23.661Z"
   },
   {
    "duration": 210,
    "start_time": "2021-12-07T13:38:41.262Z"
   },
   {
    "duration": 8,
    "start_time": "2021-12-07T13:40:31.125Z"
   },
   {
    "duration": 5,
    "start_time": "2021-12-07T13:43:17.806Z"
   },
   {
    "duration": 74,
    "start_time": "2021-12-07T13:43:17.813Z"
   },
   {
    "duration": 6,
    "start_time": "2021-12-07T13:43:17.890Z"
   },
   {
    "duration": 35,
    "start_time": "2021-12-07T13:43:17.899Z"
   },
   {
    "duration": 8,
    "start_time": "2021-12-07T13:43:17.936Z"
   },
   {
    "duration": 35,
    "start_time": "2021-12-07T13:43:17.947Z"
   },
   {
    "duration": 52,
    "start_time": "2021-12-07T13:43:17.985Z"
   },
   {
    "duration": 514,
    "start_time": "2021-12-07T13:43:18.040Z"
   },
   {
    "duration": 42,
    "start_time": "2021-12-07T13:43:18.556Z"
   },
   {
    "duration": 11,
    "start_time": "2021-12-07T13:43:18.624Z"
   },
   {
    "duration": 32,
    "start_time": "2021-12-07T13:43:18.637Z"
   },
   {
    "duration": 53,
    "start_time": "2021-12-07T13:43:18.672Z"
   },
   {
    "duration": 25,
    "start_time": "2021-12-07T13:43:18.728Z"
   },
   {
    "duration": 85,
    "start_time": "2021-12-07T13:43:18.756Z"
   },
   {
    "duration": 11,
    "start_time": "2021-12-07T13:43:18.844Z"
   },
   {
    "duration": 28,
    "start_time": "2021-12-07T13:43:18.857Z"
   },
   {
    "duration": 43,
    "start_time": "2021-12-07T13:43:18.887Z"
   },
   {
    "duration": 34,
    "start_time": "2021-12-07T13:43:18.935Z"
   },
   {
    "duration": 16,
    "start_time": "2021-12-07T13:43:18.972Z"
   },
   {
    "duration": 329,
    "start_time": "2021-12-07T13:43:18.990Z"
   },
   {
    "duration": 402,
    "start_time": "2021-12-07T13:43:19.324Z"
   },
   {
    "duration": 6,
    "start_time": "2021-12-07T13:43:19.728Z"
   },
   {
    "duration": 654,
    "start_time": "2021-12-07T13:43:19.736Z"
   },
   {
    "duration": 6,
    "start_time": "2021-12-07T13:43:20.392Z"
   },
   {
    "duration": 423,
    "start_time": "2021-12-07T13:43:20.400Z"
   },
   {
    "duration": 6,
    "start_time": "2021-12-07T13:43:20.825Z"
   },
   {
    "duration": 521,
    "start_time": "2021-12-07T13:43:20.833Z"
   },
   {
    "duration": 6,
    "start_time": "2021-12-07T13:43:21.356Z"
   },
   {
    "duration": 42,
    "start_time": "2021-12-07T13:43:21.364Z"
   },
   {
    "duration": 26,
    "start_time": "2021-12-07T13:43:21.409Z"
   },
   {
    "duration": 41,
    "start_time": "2021-12-07T13:43:21.437Z"
   },
   {
    "duration": 33,
    "start_time": "2021-12-07T13:43:21.480Z"
   },
   {
    "duration": 37,
    "start_time": "2021-12-07T13:43:21.515Z"
   },
   {
    "duration": 26,
    "start_time": "2021-12-07T13:43:21.554Z"
   },
   {
    "duration": 40,
    "start_time": "2021-12-07T13:43:21.583Z"
   },
   {
    "duration": 29,
    "start_time": "2021-12-07T13:43:21.625Z"
   },
   {
    "duration": 19,
    "start_time": "2021-12-07T13:43:21.656Z"
   },
   {
    "duration": 55,
    "start_time": "2021-12-07T13:43:21.677Z"
   },
   {
    "duration": 18,
    "start_time": "2021-12-07T13:43:21.735Z"
   },
   {
    "duration": 27,
    "start_time": "2021-12-07T13:43:21.756Z"
   },
   {
    "duration": 47,
    "start_time": "2021-12-07T13:43:21.786Z"
   },
   {
    "duration": 38,
    "start_time": "2021-12-07T13:43:21.836Z"
   },
   {
    "duration": 13,
    "start_time": "2021-12-07T13:43:21.877Z"
   },
   {
    "duration": 27,
    "start_time": "2021-12-07T13:43:21.892Z"
   },
   {
    "duration": 23,
    "start_time": "2021-12-07T13:43:21.922Z"
   },
   {
    "duration": 236,
    "start_time": "2021-12-07T13:43:21.948Z"
   },
   {
    "duration": 253,
    "start_time": "2021-12-07T13:43:22.187Z"
   },
   {
    "duration": 8,
    "start_time": "2021-12-07T13:43:22.443Z"
   },
   {
    "duration": 25,
    "start_time": "2021-12-07T13:43:22.454Z"
   },
   {
    "duration": 43,
    "start_time": "2021-12-07T13:43:22.486Z"
   },
   {
    "duration": 7,
    "start_time": "2021-12-07T13:43:22.532Z"
   },
   {
    "duration": 7,
    "start_time": "2021-12-07T13:43:22.542Z"
   },
   {
    "duration": 245,
    "start_time": "2021-12-07T13:43:22.552Z"
   },
   {
    "duration": 224,
    "start_time": "2021-12-07T13:43:22.799Z"
   },
   {
    "duration": 7,
    "start_time": "2021-12-07T13:43:23.025Z"
   },
   {
    "duration": 382,
    "start_time": "2021-12-08T06:19:54.807Z"
   },
   {
    "duration": 1762,
    "start_time": "2021-12-08T06:20:08.559Z"
   },
   {
    "duration": 79,
    "start_time": "2021-12-08T06:20:10.324Z"
   },
   {
    "duration": 7,
    "start_time": "2021-12-08T06:20:10.405Z"
   },
   {
    "duration": 27,
    "start_time": "2021-12-08T06:20:10.414Z"
   },
   {
    "duration": 1670,
    "start_time": "2021-12-08T06:20:10.460Z"
   },
   {
    "duration": 1255,
    "start_time": "2021-12-08T06:20:10.880Z"
   },
   {
    "duration": 1253,
    "start_time": "2021-12-08T06:20:10.883Z"
   },
   {
    "duration": 1229,
    "start_time": "2021-12-08T06:20:10.909Z"
   },
   {
    "duration": 1228,
    "start_time": "2021-12-08T06:20:10.912Z"
   },
   {
    "duration": 1226,
    "start_time": "2021-12-08T06:20:10.915Z"
   },
   {
    "duration": 1226,
    "start_time": "2021-12-08T06:20:10.917Z"
   },
   {
    "duration": 1225,
    "start_time": "2021-12-08T06:20:10.919Z"
   },
   {
    "duration": 1224,
    "start_time": "2021-12-08T06:20:10.922Z"
   },
   {
    "duration": 1223,
    "start_time": "2021-12-08T06:20:10.924Z"
   },
   {
    "duration": 1223,
    "start_time": "2021-12-08T06:20:10.926Z"
   },
   {
    "duration": 1222,
    "start_time": "2021-12-08T06:20:10.928Z"
   },
   {
    "duration": 1221,
    "start_time": "2021-12-08T06:20:10.930Z"
   },
   {
    "duration": 1221,
    "start_time": "2021-12-08T06:20:10.931Z"
   },
   {
    "duration": 1221,
    "start_time": "2021-12-08T06:20:10.933Z"
   },
   {
    "duration": 1220,
    "start_time": "2021-12-08T06:20:10.935Z"
   },
   {
    "duration": 1219,
    "start_time": "2021-12-08T06:20:10.937Z"
   },
   {
    "duration": 1218,
    "start_time": "2021-12-08T06:20:10.939Z"
   },
   {
    "duration": 1209,
    "start_time": "2021-12-08T06:20:10.949Z"
   },
   {
    "duration": 1209,
    "start_time": "2021-12-08T06:20:10.951Z"
   },
   {
    "duration": 1208,
    "start_time": "2021-12-08T06:20:10.953Z"
   },
   {
    "duration": 1207,
    "start_time": "2021-12-08T06:20:10.955Z"
   },
   {
    "duration": 1182,
    "start_time": "2021-12-08T06:20:10.981Z"
   },
   {
    "duration": 1172,
    "start_time": "2021-12-08T06:20:10.992Z"
   },
   {
    "duration": 1171,
    "start_time": "2021-12-08T06:20:10.995Z"
   },
   {
    "duration": 1168,
    "start_time": "2021-12-08T06:20:10.999Z"
   },
   {
    "duration": 1166,
    "start_time": "2021-12-08T06:20:11.003Z"
   },
   {
    "duration": 1164,
    "start_time": "2021-12-08T06:20:11.007Z"
   },
   {
    "duration": 1155,
    "start_time": "2021-12-08T06:20:11.018Z"
   },
   {
    "duration": 1153,
    "start_time": "2021-12-08T06:20:11.021Z"
   },
   {
    "duration": 1153,
    "start_time": "2021-12-08T06:20:11.023Z"
   },
   {
    "duration": 1153,
    "start_time": "2021-12-08T06:20:11.024Z"
   },
   {
    "duration": 1153,
    "start_time": "2021-12-08T06:20:11.026Z"
   },
   {
    "duration": 1152,
    "start_time": "2021-12-08T06:20:11.028Z"
   },
   {
    "duration": 1139,
    "start_time": "2021-12-08T06:20:11.043Z"
   },
   {
    "duration": 1138,
    "start_time": "2021-12-08T06:20:11.045Z"
   },
   {
    "duration": 1138,
    "start_time": "2021-12-08T06:20:11.046Z"
   },
   {
    "duration": 1138,
    "start_time": "2021-12-08T06:20:11.048Z"
   },
   {
    "duration": 1137,
    "start_time": "2021-12-08T06:20:11.050Z"
   },
   {
    "duration": 1132,
    "start_time": "2021-12-08T06:20:11.056Z"
   },
   {
    "duration": 1132,
    "start_time": "2021-12-08T06:20:11.058Z"
   },
   {
    "duration": 1130,
    "start_time": "2021-12-08T06:20:11.061Z"
   },
   {
    "duration": 1130,
    "start_time": "2021-12-08T06:20:11.062Z"
   },
   {
    "duration": 1128,
    "start_time": "2021-12-08T06:20:11.066Z"
   },
   {
    "duration": 1115,
    "start_time": "2021-12-08T06:20:11.080Z"
   },
   {
    "duration": 1114,
    "start_time": "2021-12-08T06:20:11.082Z"
   },
   {
    "duration": 1113,
    "start_time": "2021-12-08T06:20:11.085Z"
   },
   {
    "duration": 1173,
    "start_time": "2021-12-08T06:20:11.087Z"
   },
   {
    "duration": 1172,
    "start_time": "2021-12-08T06:20:11.089Z"
   },
   {
    "duration": 1173,
    "start_time": "2021-12-08T06:20:11.090Z"
   },
   {
    "duration": 1172,
    "start_time": "2021-12-08T06:20:11.092Z"
   },
   {
    "duration": 1172,
    "start_time": "2021-12-08T06:20:11.094Z"
   },
   {
    "duration": 9,
    "start_time": "2021-12-08T06:20:24.501Z"
   },
   {
    "duration": 1350,
    "start_time": "2021-12-08T06:20:58.356Z"
   },
   {
    "duration": 75,
    "start_time": "2021-12-08T06:20:59.709Z"
   },
   {
    "duration": 7,
    "start_time": "2021-12-08T06:20:59.787Z"
   },
   {
    "duration": 22,
    "start_time": "2021-12-08T06:20:59.797Z"
   },
   {
    "duration": 37,
    "start_time": "2021-12-08T06:20:59.822Z"
   },
   {
    "duration": 36,
    "start_time": "2021-12-08T06:20:59.862Z"
   },
   {
    "duration": 19,
    "start_time": "2021-12-08T06:20:59.900Z"
   },
   {
    "duration": 541,
    "start_time": "2021-12-08T06:20:59.921Z"
   },
   {
    "duration": 48,
    "start_time": "2021-12-08T06:21:00.466Z"
   },
   {
    "duration": 43,
    "start_time": "2021-12-08T06:21:00.519Z"
   },
   {
    "duration": 30,
    "start_time": "2021-12-08T06:21:00.565Z"
   },
   {
    "duration": 30,
    "start_time": "2021-12-08T06:21:00.598Z"
   },
   {
    "duration": 50,
    "start_time": "2021-12-08T06:21:00.631Z"
   },
   {
    "duration": 82,
    "start_time": "2021-12-08T06:21:00.684Z"
   },
   {
    "duration": 9,
    "start_time": "2021-12-08T06:21:00.768Z"
   },
   {
    "duration": 17,
    "start_time": "2021-12-08T06:21:00.780Z"
   },
   {
    "duration": 23,
    "start_time": "2021-12-08T06:21:00.799Z"
   },
   {
    "duration": 45,
    "start_time": "2021-12-08T06:21:00.825Z"
   },
   {
    "duration": 4,
    "start_time": "2021-12-08T06:21:00.873Z"
   },
   {
    "duration": 375,
    "start_time": "2021-12-08T06:21:00.879Z"
   },
   {
    "duration": 408,
    "start_time": "2021-12-08T06:21:01.260Z"
   },
   {
    "duration": 7,
    "start_time": "2021-12-08T06:21:01.670Z"
   },
   {
    "duration": 570,
    "start_time": "2021-12-08T06:21:01.680Z"
   },
   {
    "duration": 7,
    "start_time": "2021-12-08T06:21:02.259Z"
   },
   {
    "duration": 376,
    "start_time": "2021-12-08T06:21:02.268Z"
   },
   {
    "duration": 16,
    "start_time": "2021-12-08T06:21:02.646Z"
   },
   {
    "duration": 521,
    "start_time": "2021-12-08T06:21:02.668Z"
   },
   {
    "duration": 9,
    "start_time": "2021-12-08T06:21:03.194Z"
   },
   {
    "duration": 25,
    "start_time": "2021-12-08T06:21:03.206Z"
   },
   {
    "duration": 44,
    "start_time": "2021-12-08T06:21:03.234Z"
   },
   {
    "duration": 40,
    "start_time": "2021-12-08T06:21:03.281Z"
   },
   {
    "duration": 63,
    "start_time": "2021-12-08T06:21:03.323Z"
   },
   {
    "duration": 21,
    "start_time": "2021-12-08T06:21:03.390Z"
   },
   {
    "duration": 49,
    "start_time": "2021-12-08T06:21:03.414Z"
   },
   {
    "duration": 28,
    "start_time": "2021-12-08T06:21:03.466Z"
   },
   {
    "duration": 20,
    "start_time": "2021-12-08T06:21:03.496Z"
   },
   {
    "duration": 52,
    "start_time": "2021-12-08T06:21:03.519Z"
   },
   {
    "duration": 27,
    "start_time": "2021-12-08T06:21:03.574Z"
   },
   {
    "duration": 57,
    "start_time": "2021-12-08T06:21:03.604Z"
   },
   {
    "duration": 18,
    "start_time": "2021-12-08T06:21:03.664Z"
   },
   {
    "duration": 26,
    "start_time": "2021-12-08T06:21:03.685Z"
   },
   {
    "duration": 65,
    "start_time": "2021-12-08T06:21:03.713Z"
   },
   {
    "duration": 14,
    "start_time": "2021-12-08T06:21:03.780Z"
   },
   {
    "duration": 8,
    "start_time": "2021-12-08T06:21:03.796Z"
   },
   {
    "duration": 9,
    "start_time": "2021-12-08T06:21:03.807Z"
   },
   {
    "duration": 277,
    "start_time": "2021-12-08T06:21:03.818Z"
   },
   {
    "duration": 249,
    "start_time": "2021-12-08T06:21:04.098Z"
   },
   {
    "duration": 17,
    "start_time": "2021-12-08T06:21:04.350Z"
   },
   {
    "duration": 458,
    "start_time": "2021-12-08T06:21:04.369Z"
   },
   {
    "duration": 1232,
    "start_time": "2021-12-08T06:21:03.597Z"
   },
   {
    "duration": 1230,
    "start_time": "2021-12-08T06:21:03.601Z"
   },
   {
    "duration": 1228,
    "start_time": "2021-12-08T06:21:03.604Z"
   },
   {
    "duration": 1228,
    "start_time": "2021-12-08T06:21:03.606Z"
   },
   {
    "duration": 1227,
    "start_time": "2021-12-08T06:21:03.608Z"
   },
   {
    "duration": 1227,
    "start_time": "2021-12-08T06:21:03.610Z"
   },
   {
    "duration": 542,
    "start_time": "2021-12-08T06:25:28.152Z"
   },
   {
    "duration": 8,
    "start_time": "2021-12-08T06:31:10.269Z"
   },
   {
    "duration": 215,
    "start_time": "2021-12-08T06:32:04.952Z"
   },
   {
    "duration": 131,
    "start_time": "2021-12-08T06:32:12.711Z"
   },
   {
    "duration": 134,
    "start_time": "2021-12-08T06:32:18.050Z"
   },
   {
    "duration": 126,
    "start_time": "2021-12-08T06:32:21.081Z"
   },
   {
    "duration": 6,
    "start_time": "2021-12-08T06:32:27.602Z"
   },
   {
    "duration": 119,
    "start_time": "2021-12-08T06:40:59.392Z"
   },
   {
    "duration": 140,
    "start_time": "2021-12-08T06:41:06.430Z"
   },
   {
    "duration": 23,
    "start_time": "2021-12-08T06:48:18.315Z"
   },
   {
    "duration": 507,
    "start_time": "2021-12-08T06:48:27.200Z"
   },
   {
    "duration": 326,
    "start_time": "2021-12-08T06:48:41.430Z"
   },
   {
    "duration": 97,
    "start_time": "2021-12-08T06:49:08.590Z"
   },
   {
    "duration": 546,
    "start_time": "2021-12-08T06:49:13.846Z"
   },
   {
    "duration": 36,
    "start_time": "2021-12-08T06:53:26.442Z"
   },
   {
    "duration": 96,
    "start_time": "2021-12-08T06:53:43.232Z"
   },
   {
    "duration": 352,
    "start_time": "2021-12-08T06:54:25.102Z"
   },
   {
    "duration": 36,
    "start_time": "2021-12-08T06:54:41.762Z"
   },
   {
    "duration": 330,
    "start_time": "2021-12-08T06:54:58.412Z"
   },
   {
    "duration": 109,
    "start_time": "2021-12-08T06:56:18.406Z"
   },
   {
    "duration": 37,
    "start_time": "2021-12-08T06:56:58.223Z"
   },
   {
    "duration": 295,
    "start_time": "2021-12-08T06:57:38.531Z"
   },
   {
    "duration": 301,
    "start_time": "2021-12-08T06:57:54.092Z"
   },
   {
    "duration": 402,
    "start_time": "2021-12-08T06:58:37.642Z"
   },
   {
    "duration": 404,
    "start_time": "2021-12-08T06:59:12.155Z"
   },
   {
    "duration": 517,
    "start_time": "2021-12-08T06:59:16.113Z"
   },
   {
    "duration": 604,
    "start_time": "2021-12-08T07:00:21.032Z"
   },
   {
    "duration": 397,
    "start_time": "2021-12-08T07:00:27.342Z"
   },
   {
    "duration": 106,
    "start_time": "2021-12-08T07:00:45.181Z"
   },
   {
    "duration": 405,
    "start_time": "2021-12-08T07:00:48.862Z"
   },
   {
    "duration": 402,
    "start_time": "2021-12-08T07:01:04.850Z"
   },
   {
    "duration": 653,
    "start_time": "2021-12-08T07:01:35.163Z"
   },
   {
    "duration": 493,
    "start_time": "2021-12-08T07:01:39.460Z"
   },
   {
    "duration": 477,
    "start_time": "2021-12-08T07:05:01.882Z"
   },
   {
    "duration": 281,
    "start_time": "2021-12-08T07:41:07.556Z"
   },
   {
    "duration": 998,
    "start_time": "2021-12-08T07:41:15.457Z"
   },
   {
    "duration": 53,
    "start_time": "2021-12-08T07:41:16.458Z"
   },
   {
    "duration": 4,
    "start_time": "2021-12-08T07:41:16.513Z"
   },
   {
    "duration": 18,
    "start_time": "2021-12-08T07:41:16.518Z"
   },
   {
    "duration": 6,
    "start_time": "2021-12-08T07:41:16.537Z"
   },
   {
    "duration": 22,
    "start_time": "2021-12-08T07:41:16.544Z"
   },
   {
    "duration": 25,
    "start_time": "2021-12-08T07:41:16.567Z"
   },
   {
    "duration": 265,
    "start_time": "2021-12-08T07:41:16.593Z"
   },
   {
    "duration": 37,
    "start_time": "2021-12-08T07:41:16.861Z"
   },
   {
    "duration": 5,
    "start_time": "2021-12-08T07:41:16.900Z"
   },
   {
    "duration": 4,
    "start_time": "2021-12-08T07:41:16.906Z"
   },
   {
    "duration": 18,
    "start_time": "2021-12-08T07:41:16.911Z"
   },
   {
    "duration": 16,
    "start_time": "2021-12-08T07:41:16.930Z"
   },
   {
    "duration": 42,
    "start_time": "2021-12-08T07:41:16.947Z"
   },
   {
    "duration": 32,
    "start_time": "2021-12-08T07:41:16.990Z"
   },
   {
    "duration": 5,
    "start_time": "2021-12-08T07:41:17.024Z"
   },
   {
    "duration": 15,
    "start_time": "2021-12-08T07:41:17.031Z"
   },
   {
    "duration": 12,
    "start_time": "2021-12-08T07:41:17.048Z"
   },
   {
    "duration": 27,
    "start_time": "2021-12-08T07:41:17.062Z"
   },
   {
    "duration": 2,
    "start_time": "2021-12-08T07:41:17.091Z"
   },
   {
    "duration": 192,
    "start_time": "2021-12-08T07:41:17.094Z"
   },
   {
    "duration": 306,
    "start_time": "2021-12-08T07:41:17.288Z"
   },
   {
    "duration": 3,
    "start_time": "2021-12-08T07:41:17.596Z"
   },
   {
    "duration": 363,
    "start_time": "2021-12-08T07:41:17.601Z"
   },
   {
    "duration": 4,
    "start_time": "2021-12-08T07:41:17.965Z"
   },
   {
    "duration": 307,
    "start_time": "2021-12-08T07:41:17.970Z"
   },
   {
    "duration": 4,
    "start_time": "2021-12-08T07:41:18.289Z"
   },
   {
    "duration": 310,
    "start_time": "2021-12-08T07:41:18.294Z"
   },
   {
    "duration": 4,
    "start_time": "2021-12-08T07:41:18.606Z"
   },
   {
    "duration": 12,
    "start_time": "2021-12-08T07:41:18.611Z"
   },
   {
    "duration": 8,
    "start_time": "2021-12-08T07:41:18.624Z"
   },
   {
    "duration": 15,
    "start_time": "2021-12-08T07:41:18.633Z"
   },
   {
    "duration": 41,
    "start_time": "2021-12-08T07:41:18.650Z"
   },
   {
    "duration": 11,
    "start_time": "2021-12-08T07:41:18.693Z"
   },
   {
    "duration": 9,
    "start_time": "2021-12-08T07:41:18.706Z"
   },
   {
    "duration": 15,
    "start_time": "2021-12-08T07:41:18.716Z"
   },
   {
    "duration": 12,
    "start_time": "2021-12-08T07:41:18.733Z"
   },
   {
    "duration": 43,
    "start_time": "2021-12-08T07:41:18.746Z"
   },
   {
    "duration": 16,
    "start_time": "2021-12-08T07:41:18.791Z"
   },
   {
    "duration": 10,
    "start_time": "2021-12-08T07:41:18.808Z"
   },
   {
    "duration": 8,
    "start_time": "2021-12-08T07:41:18.819Z"
   },
   {
    "duration": 20,
    "start_time": "2021-12-08T07:41:18.829Z"
   },
   {
    "duration": 41,
    "start_time": "2021-12-08T07:41:18.851Z"
   },
   {
    "duration": 8,
    "start_time": "2021-12-08T07:41:18.894Z"
   },
   {
    "duration": 9,
    "start_time": "2021-12-08T07:41:18.904Z"
   },
   {
    "duration": 5,
    "start_time": "2021-12-08T07:41:18.915Z"
   },
   {
    "duration": 135,
    "start_time": "2021-12-08T07:41:18.922Z"
   },
   {
    "duration": 134,
    "start_time": "2021-12-08T07:41:19.059Z"
   },
   {
    "duration": 5,
    "start_time": "2021-12-08T07:41:19.194Z"
   },
   {
    "duration": 298,
    "start_time": "2021-12-08T07:41:19.200Z"
   },
   {
    "duration": 1162,
    "start_time": "2021-12-08T07:41:18.338Z"
   },
   {
    "duration": 1158,
    "start_time": "2021-12-08T07:41:18.343Z"
   },
   {
    "duration": 1155,
    "start_time": "2021-12-08T07:41:18.347Z"
   },
   {
    "duration": 1153,
    "start_time": "2021-12-08T07:41:18.350Z"
   },
   {
    "duration": 1149,
    "start_time": "2021-12-08T07:41:18.354Z"
   },
   {
    "duration": 1146,
    "start_time": "2021-12-08T07:41:18.358Z"
   },
   {
    "duration": 12,
    "start_time": "2021-12-08T07:41:49.622Z"
   },
   {
    "duration": 5,
    "start_time": "2021-12-08T07:41:54.442Z"
   },
   {
    "duration": 5,
    "start_time": "2021-12-08T07:41:59.790Z"
   },
   {
    "duration": 177,
    "start_time": "2021-12-08T07:42:00.192Z"
   },
   {
    "duration": 121,
    "start_time": "2021-12-08T07:42:08.782Z"
   },
   {
    "duration": 5,
    "start_time": "2021-12-08T07:42:44.431Z"
   },
   {
    "duration": 5,
    "start_time": "2021-12-08T08:01:50.082Z"
   },
   {
    "duration": 4,
    "start_time": "2021-12-08T08:02:34.731Z"
   },
   {
    "duration": 72,
    "start_time": "2021-12-08T08:09:10.062Z"
   },
   {
    "duration": 946,
    "start_time": "2021-12-08T08:20:57.206Z"
   },
   {
    "duration": 52,
    "start_time": "2021-12-08T08:20:58.153Z"
   },
   {
    "duration": 4,
    "start_time": "2021-12-08T08:20:58.207Z"
   },
   {
    "duration": 14,
    "start_time": "2021-12-08T08:20:58.213Z"
   },
   {
    "duration": 6,
    "start_time": "2021-12-08T08:20:58.228Z"
   },
   {
    "duration": 22,
    "start_time": "2021-12-08T08:20:58.235Z"
   },
   {
    "duration": 31,
    "start_time": "2021-12-08T08:20:58.259Z"
   },
   {
    "duration": 270,
    "start_time": "2021-12-08T08:20:58.292Z"
   },
   {
    "duration": 37,
    "start_time": "2021-12-08T08:20:58.565Z"
   },
   {
    "duration": 6,
    "start_time": "2021-12-08T08:20:58.604Z"
   },
   {
    "duration": 5,
    "start_time": "2021-12-08T08:20:58.611Z"
   },
   {
    "duration": 15,
    "start_time": "2021-12-08T08:20:58.618Z"
   },
   {
    "duration": 15,
    "start_time": "2021-12-08T08:20:58.635Z"
   },
   {
    "duration": 41,
    "start_time": "2021-12-08T08:20:58.652Z"
   },
   {
    "duration": 32,
    "start_time": "2021-12-08T08:20:58.695Z"
   },
   {
    "duration": 7,
    "start_time": "2021-12-08T08:20:58.728Z"
   },
   {
    "duration": 11,
    "start_time": "2021-12-08T08:20:58.736Z"
   },
   {
    "duration": 14,
    "start_time": "2021-12-08T08:20:58.748Z"
   },
   {
    "duration": 9,
    "start_time": "2021-12-08T08:20:58.788Z"
   },
   {
    "duration": 2,
    "start_time": "2021-12-08T08:20:58.799Z"
   },
   {
    "duration": 197,
    "start_time": "2021-12-08T08:20:58.803Z"
   },
   {
    "duration": 298,
    "start_time": "2021-12-08T08:20:59.002Z"
   },
   {
    "duration": 5,
    "start_time": "2021-12-08T08:20:59.302Z"
   },
   {
    "duration": 357,
    "start_time": "2021-12-08T08:20:59.309Z"
   },
   {
    "duration": 5,
    "start_time": "2021-12-08T08:20:59.668Z"
   },
   {
    "duration": 286,
    "start_time": "2021-12-08T08:20:59.687Z"
   },
   {
    "duration": 14,
    "start_time": "2021-12-08T08:20:59.976Z"
   },
   {
    "duration": 318,
    "start_time": "2021-12-08T08:20:59.992Z"
   },
   {
    "duration": 5,
    "start_time": "2021-12-08T08:21:00.312Z"
   },
   {
    "duration": 23,
    "start_time": "2021-12-08T08:21:00.319Z"
   },
   {
    "duration": 19,
    "start_time": "2021-12-08T08:21:00.344Z"
   },
   {
    "duration": 24,
    "start_time": "2021-12-08T08:21:00.365Z"
   },
   {
    "duration": 3,
    "start_time": "2021-12-08T08:21:00.391Z"
   },
   {
    "duration": 28,
    "start_time": "2021-12-08T08:21:00.396Z"
   },
   {
    "duration": 17,
    "start_time": "2021-12-08T08:21:00.426Z"
   },
   {
    "duration": 14,
    "start_time": "2021-12-08T08:21:00.445Z"
   },
   {
    "duration": 25,
    "start_time": "2021-12-08T08:21:00.460Z"
   },
   {
    "duration": 12,
    "start_time": "2021-12-08T08:21:00.487Z"
   },
   {
    "duration": 8,
    "start_time": "2021-12-08T08:21:00.501Z"
   },
   {
    "duration": 21,
    "start_time": "2021-12-08T08:21:00.510Z"
   },
   {
    "duration": 19,
    "start_time": "2021-12-08T08:21:00.533Z"
   },
   {
    "duration": 13,
    "start_time": "2021-12-08T08:21:00.553Z"
   },
   {
    "duration": 30,
    "start_time": "2021-12-08T08:21:00.568Z"
   },
   {
    "duration": 16,
    "start_time": "2021-12-08T08:21:00.600Z"
   },
   {
    "duration": 8,
    "start_time": "2021-12-08T08:21:00.618Z"
   },
   {
    "duration": 16,
    "start_time": "2021-12-08T08:21:00.627Z"
   },
   {
    "duration": 13,
    "start_time": "2021-12-08T08:21:00.645Z"
   },
   {
    "duration": 231,
    "start_time": "2021-12-08T08:21:00.659Z"
   },
   {
    "duration": 136,
    "start_time": "2021-12-08T08:21:00.892Z"
   },
   {
    "duration": 4,
    "start_time": "2021-12-08T08:21:01.029Z"
   },
   {
    "duration": 419,
    "start_time": "2021-12-08T08:21:01.035Z"
   },
   {
    "duration": 1152,
    "start_time": "2021-12-08T08:21:00.303Z"
   },
   {
    "duration": 1149,
    "start_time": "2021-12-08T08:21:00.307Z"
   },
   {
    "duration": 1148,
    "start_time": "2021-12-08T08:21:00.310Z"
   },
   {
    "duration": 1145,
    "start_time": "2021-12-08T08:21:00.314Z"
   },
   {
    "duration": 1144,
    "start_time": "2021-12-08T08:21:00.316Z"
   },
   {
    "duration": 1142,
    "start_time": "2021-12-08T08:21:00.319Z"
   },
   {
    "duration": 20,
    "start_time": "2021-12-08T08:21:22.611Z"
   },
   {
    "duration": 5,
    "start_time": "2021-12-08T08:21:23.073Z"
   },
   {
    "duration": 5,
    "start_time": "2021-12-08T08:21:23.501Z"
   },
   {
    "duration": 120,
    "start_time": "2021-12-08T08:21:23.981Z"
   },
   {
    "duration": 175,
    "start_time": "2021-12-08T08:21:26.081Z"
   },
   {
    "duration": 5,
    "start_time": "2021-12-08T08:21:29.039Z"
   },
   {
    "duration": 1036,
    "start_time": "2021-12-08T17:28:03.445Z"
   },
   {
    "duration": 60,
    "start_time": "2021-12-08T17:28:04.483Z"
   },
   {
    "duration": 4,
    "start_time": "2021-12-08T17:28:04.545Z"
   },
   {
    "duration": 19,
    "start_time": "2021-12-08T17:28:04.551Z"
   },
   {
    "duration": 6,
    "start_time": "2021-12-08T17:28:04.572Z"
   },
   {
    "duration": 35,
    "start_time": "2021-12-08T17:28:04.579Z"
   },
   {
    "duration": 12,
    "start_time": "2021-12-08T17:28:04.615Z"
   },
   {
    "duration": 317,
    "start_time": "2021-12-08T17:28:04.629Z"
   },
   {
    "duration": 52,
    "start_time": "2021-12-08T17:28:04.949Z"
   },
   {
    "duration": 7,
    "start_time": "2021-12-08T17:28:05.003Z"
   },
   {
    "duration": 4,
    "start_time": "2021-12-08T17:28:05.012Z"
   },
   {
    "duration": 17,
    "start_time": "2021-12-08T17:28:05.017Z"
   },
   {
    "duration": 17,
    "start_time": "2021-12-08T17:28:05.036Z"
   },
   {
    "duration": 45,
    "start_time": "2021-12-08T17:28:05.055Z"
   },
   {
    "duration": 40,
    "start_time": "2021-12-08T17:28:05.102Z"
   },
   {
    "duration": 8,
    "start_time": "2021-12-08T17:28:05.144Z"
   },
   {
    "duration": 40,
    "start_time": "2021-12-08T17:28:05.153Z"
   },
   {
    "duration": 17,
    "start_time": "2021-12-08T17:28:05.195Z"
   },
   {
    "duration": 23,
    "start_time": "2021-12-08T17:28:05.213Z"
   },
   {
    "duration": 19,
    "start_time": "2021-12-08T17:28:05.238Z"
   },
   {
    "duration": 241,
    "start_time": "2021-12-08T17:28:05.258Z"
   },
   {
    "duration": 326,
    "start_time": "2021-12-08T17:28:05.501Z"
   },
   {
    "duration": 5,
    "start_time": "2021-12-08T17:28:05.832Z"
   },
   {
    "duration": 455,
    "start_time": "2021-12-08T17:28:05.839Z"
   },
   {
    "duration": 5,
    "start_time": "2021-12-08T17:28:06.297Z"
   },
   {
    "duration": 292,
    "start_time": "2021-12-08T17:28:06.304Z"
   },
   {
    "duration": 5,
    "start_time": "2021-12-08T17:28:06.597Z"
   },
   {
    "duration": 326,
    "start_time": "2021-12-08T17:28:06.603Z"
   },
   {
    "duration": 5,
    "start_time": "2021-12-08T17:28:06.930Z"
   },
   {
    "duration": 21,
    "start_time": "2021-12-08T17:28:06.936Z"
   },
   {
    "duration": 23,
    "start_time": "2021-12-08T17:28:06.958Z"
   },
   {
    "duration": 21,
    "start_time": "2021-12-08T17:28:06.983Z"
   },
   {
    "duration": 4,
    "start_time": "2021-12-08T17:28:07.006Z"
   },
   {
    "duration": 36,
    "start_time": "2021-12-08T17:28:07.012Z"
   },
   {
    "duration": 28,
    "start_time": "2021-12-08T17:28:07.050Z"
   },
   {
    "duration": 14,
    "start_time": "2021-12-08T17:28:07.080Z"
   },
   {
    "duration": 26,
    "start_time": "2021-12-08T17:28:07.096Z"
   },
   {
    "duration": 14,
    "start_time": "2021-12-08T17:28:07.124Z"
   },
   {
    "duration": 23,
    "start_time": "2021-12-08T17:28:07.140Z"
   },
   {
    "duration": 30,
    "start_time": "2021-12-08T17:28:07.165Z"
   },
   {
    "duration": 14,
    "start_time": "2021-12-08T17:28:07.197Z"
   },
   {
    "duration": 25,
    "start_time": "2021-12-08T17:28:07.213Z"
   },
   {
    "duration": 30,
    "start_time": "2021-12-08T17:28:07.240Z"
   },
   {
    "duration": 25,
    "start_time": "2021-12-08T17:28:07.271Z"
   },
   {
    "duration": 11,
    "start_time": "2021-12-08T17:28:07.298Z"
   },
   {
    "duration": 16,
    "start_time": "2021-12-08T17:28:07.310Z"
   },
   {
    "duration": 17,
    "start_time": "2021-12-08T17:28:07.328Z"
   },
   {
    "duration": 183,
    "start_time": "2021-12-08T17:28:07.347Z"
   },
   {
    "duration": 151,
    "start_time": "2021-12-08T17:28:07.533Z"
   },
   {
    "duration": 10,
    "start_time": "2021-12-08T17:28:07.686Z"
   },
   {
    "duration": 251,
    "start_time": "2021-12-08T17:28:07.698Z"
   },
   {
    "duration": -2473,
    "start_time": "2021-12-08T17:28:10.424Z"
   },
   {
    "duration": -2479,
    "start_time": "2021-12-08T17:28:10.431Z"
   },
   {
    "duration": -2485,
    "start_time": "2021-12-08T17:28:10.438Z"
   },
   {
    "duration": -2490,
    "start_time": "2021-12-08T17:28:10.445Z"
   },
   {
    "duration": -2495,
    "start_time": "2021-12-08T17:28:10.451Z"
   },
   {
    "duration": -2501,
    "start_time": "2021-12-08T17:28:10.458Z"
   },
   {
    "duration": 15,
    "start_time": "2021-12-08T17:28:22.006Z"
   },
   {
    "duration": 12,
    "start_time": "2021-12-08T17:28:26.001Z"
   },
   {
    "duration": 5,
    "start_time": "2021-12-08T17:28:26.015Z"
   },
   {
    "duration": 9,
    "start_time": "2021-12-08T17:28:26.022Z"
   },
   {
    "duration": 151,
    "start_time": "2021-12-08T17:28:26.033Z"
   },
   {
    "duration": 222,
    "start_time": "2021-12-08T17:28:26.186Z"
   },
   {
    "duration": 5,
    "start_time": "2021-12-08T17:28:26.410Z"
   },
   {
    "duration": 25,
    "start_time": "2021-12-08T17:39:14.807Z"
   },
   {
    "duration": 24,
    "start_time": "2021-12-08T17:39:20.069Z"
   },
   {
    "duration": 12,
    "start_time": "2021-12-08T17:39:26.731Z"
   },
   {
    "duration": 13,
    "start_time": "2021-12-08T17:39:32.772Z"
   },
   {
    "duration": 12,
    "start_time": "2021-12-08T17:39:37.397Z"
   },
   {
    "duration": 3,
    "start_time": "2021-12-08T17:39:44.359Z"
   },
   {
    "duration": 58,
    "start_time": "2021-12-08T17:39:47.270Z"
   },
   {
    "duration": 4,
    "start_time": "2021-12-08T17:39:51.134Z"
   },
   {
    "duration": 16,
    "start_time": "2021-12-08T17:39:53.652Z"
   },
   {
    "duration": 7,
    "start_time": "2021-12-08T17:39:57.350Z"
   },
   {
    "duration": 14,
    "start_time": "2021-12-08T17:40:15.339Z"
   },
   {
    "duration": 23,
    "start_time": "2021-12-08T17:40:33.724Z"
   },
   {
    "duration": 14,
    "start_time": "2021-12-08T17:41:10.221Z"
   },
   {
    "duration": 15,
    "start_time": "2021-12-08T17:41:59.301Z"
   },
   {
    "duration": 12,
    "start_time": "2021-12-08T17:42:09.738Z"
   },
   {
    "duration": 17,
    "start_time": "2021-12-08T17:43:25.821Z"
   },
   {
    "duration": 14,
    "start_time": "2021-12-08T17:44:01.143Z"
   },
   {
    "duration": 20,
    "start_time": "2021-12-08T17:44:28.134Z"
   },
   {
    "duration": 25,
    "start_time": "2021-12-08T17:44:53.226Z"
   },
   {
    "duration": 16,
    "start_time": "2021-12-08T17:45:02.573Z"
   },
   {
    "duration": 16,
    "start_time": "2021-12-08T17:47:09.646Z"
   },
   {
    "duration": 17,
    "start_time": "2021-12-08T17:47:38.817Z"
   },
   {
    "duration": 575,
    "start_time": "2021-12-08T17:51:34.001Z"
   },
   {
    "duration": 583,
    "start_time": "2021-12-08T17:52:13.295Z"
   },
   {
    "duration": 594,
    "start_time": "2021-12-08T18:25:51.623Z"
   },
   {
    "duration": 600,
    "start_time": "2021-12-08T18:27:00.196Z"
   },
   {
    "duration": 645,
    "start_time": "2021-12-08T18:27:16.664Z"
   },
   {
    "duration": 180,
    "start_time": "2021-12-08T18:30:11.351Z"
   },
   {
    "duration": 58,
    "start_time": "2021-12-08T18:31:22.822Z"
   },
   {
    "duration": 192,
    "start_time": "2021-12-08T18:31:35.452Z"
   },
   {
    "duration": 177,
    "start_time": "2021-12-08T18:32:14.404Z"
   },
   {
    "duration": 272,
    "start_time": "2021-12-08T18:32:51.805Z"
   },
   {
    "duration": 228,
    "start_time": "2021-12-08T18:33:04.526Z"
   },
   {
    "duration": 189,
    "start_time": "2021-12-08T18:33:22.688Z"
   },
   {
    "duration": 3,
    "start_time": "2021-12-08T18:33:40.915Z"
   },
   {
    "duration": 58,
    "start_time": "2021-12-08T18:33:40.920Z"
   },
   {
    "duration": 5,
    "start_time": "2021-12-08T18:33:40.980Z"
   },
   {
    "duration": 15,
    "start_time": "2021-12-08T18:33:40.986Z"
   },
   {
    "duration": 6,
    "start_time": "2021-12-08T18:33:41.003Z"
   },
   {
    "duration": 22,
    "start_time": "2021-12-08T18:33:41.011Z"
   },
   {
    "duration": 17,
    "start_time": "2021-12-08T18:33:41.036Z"
   },
   {
    "duration": 39,
    "start_time": "2021-12-08T18:33:41.054Z"
   },
   {
    "duration": 648,
    "start_time": "2021-12-08T18:33:41.096Z"
   },
   {
    "duration": 31,
    "start_time": "2021-12-08T18:33:41.746Z"
   },
   {
    "duration": 6,
    "start_time": "2021-12-08T18:33:41.790Z"
   },
   {
    "duration": 15,
    "start_time": "2021-12-08T18:33:41.797Z"
   },
   {
    "duration": 24,
    "start_time": "2021-12-08T18:33:41.814Z"
   },
   {
    "duration": 20,
    "start_time": "2021-12-08T18:33:44.842Z"
   },
   {
    "duration": 544,
    "start_time": "2021-12-08T18:33:50.414Z"
   },
   {
    "duration": 273,
    "start_time": "2021-12-08T18:34:10.898Z"
   },
   {
    "duration": 100,
    "start_time": "2021-12-08T18:34:30.311Z"
   },
   {
    "duration": 289,
    "start_time": "2021-12-08T18:35:35.540Z"
   },
   {
    "duration": 296,
    "start_time": "2021-12-08T18:37:31.579Z"
   },
   {
    "duration": 18,
    "start_time": "2021-12-08T18:38:35.715Z"
   },
   {
    "duration": 51,
    "start_time": "2021-12-08T18:49:55.365Z"
   },
   {
    "duration": 16,
    "start_time": "2021-12-08T18:50:17.247Z"
   },
   {
    "duration": 419,
    "start_time": "2021-12-08T18:50:44.538Z"
   },
   {
    "duration": 698,
    "start_time": "2021-12-08T18:51:46.350Z"
   },
   {
    "duration": 753,
    "start_time": "2021-12-08T18:55:28.214Z"
   },
   {
    "duration": 673,
    "start_time": "2021-12-08T18:55:55.272Z"
   },
   {
    "duration": 330,
    "start_time": "2021-12-08T18:56:10.457Z"
   },
   {
    "duration": 314,
    "start_time": "2021-12-08T18:56:24.423Z"
   },
   {
    "duration": 443,
    "start_time": "2021-12-08T19:08:09.041Z"
   },
   {
    "duration": 351,
    "start_time": "2021-12-08T19:09:06.657Z"
   },
   {
    "duration": 369,
    "start_time": "2021-12-08T19:10:03.269Z"
   },
   {
    "duration": 390,
    "start_time": "2021-12-08T19:10:20.476Z"
   },
   {
    "duration": 507,
    "start_time": "2021-12-08T19:10:26.653Z"
   },
   {
    "duration": 405,
    "start_time": "2021-12-08T19:10:32.266Z"
   },
   {
    "duration": 478,
    "start_time": "2021-12-08T19:10:40.489Z"
   },
   {
    "duration": 396,
    "start_time": "2021-12-08T19:11:44.649Z"
   },
   {
    "duration": 14,
    "start_time": "2021-12-08T19:16:43.338Z"
   },
   {
    "duration": 3,
    "start_time": "2021-12-08T19:17:19.041Z"
   },
   {
    "duration": 58,
    "start_time": "2021-12-08T19:17:19.046Z"
   },
   {
    "duration": 5,
    "start_time": "2021-12-08T19:17:19.106Z"
   },
   {
    "duration": 15,
    "start_time": "2021-12-08T19:17:19.113Z"
   },
   {
    "duration": 6,
    "start_time": "2021-12-08T19:17:19.129Z"
   },
   {
    "duration": 16,
    "start_time": "2021-12-08T19:17:19.137Z"
   },
   {
    "duration": 52,
    "start_time": "2021-12-08T19:17:19.154Z"
   },
   {
    "duration": 13,
    "start_time": "2021-12-08T19:17:19.207Z"
   },
   {
    "duration": 738,
    "start_time": "2021-12-08T19:17:19.224Z"
   },
   {
    "duration": 37,
    "start_time": "2021-12-08T19:17:19.964Z"
   },
   {
    "duration": 8,
    "start_time": "2021-12-08T19:17:20.004Z"
   },
   {
    "duration": 5,
    "start_time": "2021-12-08T19:17:20.013Z"
   },
   {
    "duration": 18,
    "start_time": "2021-12-08T19:17:20.020Z"
   },
   {
    "duration": 362,
    "start_time": "2021-12-08T19:17:20.040Z"
   },
   {
    "duration": 19,
    "start_time": "2021-12-08T19:17:20.405Z"
   },
   {
    "duration": 426,
    "start_time": "2021-12-08T19:17:20.426Z"
   },
   {
    "duration": 9,
    "start_time": "2021-12-08T19:17:20.854Z"
   },
   {
    "duration": 31,
    "start_time": "2021-12-08T19:17:20.867Z"
   },
   {
    "duration": 16,
    "start_time": "2021-12-08T19:17:20.900Z"
   },
   {
    "duration": 10,
    "start_time": "2021-12-08T19:17:20.918Z"
   },
   {
    "duration": 2,
    "start_time": "2021-12-08T19:17:20.930Z"
   },
   {
    "duration": 250,
    "start_time": "2021-12-08T19:17:20.933Z"
   },
   {
    "duration": 346,
    "start_time": "2021-12-08T19:17:21.185Z"
   },
   {
    "duration": 5,
    "start_time": "2021-12-08T19:17:21.533Z"
   },
   {
    "duration": 442,
    "start_time": "2021-12-08T19:17:21.540Z"
   },
   {
    "duration": 10,
    "start_time": "2021-12-08T19:17:21.984Z"
   },
   {
    "duration": 319,
    "start_time": "2021-12-08T19:17:21.995Z"
   },
   {
    "duration": 4,
    "start_time": "2021-12-08T19:17:22.316Z"
   },
   {
    "duration": 303,
    "start_time": "2021-12-08T19:17:22.321Z"
   },
   {
    "duration": 5,
    "start_time": "2021-12-08T19:17:22.626Z"
   },
   {
    "duration": 13,
    "start_time": "2021-12-08T19:17:22.632Z"
   },
   {
    "duration": 9,
    "start_time": "2021-12-08T19:17:22.646Z"
   },
   {
    "duration": 45,
    "start_time": "2021-12-08T19:17:22.657Z"
   },
   {
    "duration": 4,
    "start_time": "2021-12-08T19:17:22.704Z"
   },
   {
    "duration": 20,
    "start_time": "2021-12-08T19:17:22.709Z"
   },
   {
    "duration": 11,
    "start_time": "2021-12-08T19:17:22.731Z"
   },
   {
    "duration": 14,
    "start_time": "2021-12-08T19:17:22.744Z"
   },
   {
    "duration": 40,
    "start_time": "2021-12-08T19:17:22.759Z"
   },
   {
    "duration": 13,
    "start_time": "2021-12-08T19:17:22.801Z"
   },
   {
    "duration": 20,
    "start_time": "2021-12-08T19:17:22.816Z"
   },
   {
    "duration": 21,
    "start_time": "2021-12-08T19:17:22.838Z"
   },
   {
    "duration": 13,
    "start_time": "2021-12-08T19:17:22.860Z"
   },
   {
    "duration": 32,
    "start_time": "2021-12-08T19:17:22.874Z"
   },
   {
    "duration": 27,
    "start_time": "2021-12-08T19:17:22.910Z"
   },
   {
    "duration": 31,
    "start_time": "2021-12-08T19:17:22.938Z"
   },
   {
    "duration": 15,
    "start_time": "2021-12-08T19:17:22.970Z"
   },
   {
    "duration": 12,
    "start_time": "2021-12-08T19:17:22.986Z"
   },
   {
    "duration": 27,
    "start_time": "2021-12-08T19:17:22.999Z"
   },
   {
    "duration": 157,
    "start_time": "2021-12-08T19:17:23.027Z"
   },
   {
    "duration": 153,
    "start_time": "2021-12-08T19:17:23.186Z"
   },
   {
    "duration": 6,
    "start_time": "2021-12-08T19:17:23.341Z"
   },
   {
    "duration": 19,
    "start_time": "2021-12-08T19:17:23.348Z"
   },
   {
    "duration": 27,
    "start_time": "2021-12-08T19:17:23.369Z"
   },
   {
    "duration": 5,
    "start_time": "2021-12-08T19:17:23.397Z"
   },
   {
    "duration": 6,
    "start_time": "2021-12-08T19:17:23.404Z"
   },
   {
    "duration": 158,
    "start_time": "2021-12-08T19:17:23.412Z"
   },
   {
    "duration": 262,
    "start_time": "2021-12-08T19:17:23.572Z"
   },
   {
    "duration": 5,
    "start_time": "2021-12-08T19:17:23.836Z"
   },
   {
    "duration": 16,
    "start_time": "2021-12-08T19:20:04.329Z"
   },
   {
    "duration": 17889,
    "start_time": "2021-12-08T19:25:28.341Z"
   },
   {
    "duration": 332,
    "start_time": "2021-12-08T19:28:17.869Z"
   },
   {
    "duration": 303,
    "start_time": "2021-12-08T19:30:39.148Z"
   },
   {
    "duration": 12,
    "start_time": "2021-12-08T19:36:13.642Z"
   },
   {
    "duration": 316,
    "start_time": "2021-12-08T19:40:31.870Z"
   },
   {
    "duration": 308,
    "start_time": "2021-12-08T19:40:34.836Z"
   },
   {
    "duration": 288,
    "start_time": "2021-12-08T19:40:38.917Z"
   },
   {
    "duration": 318,
    "start_time": "2021-12-08T19:42:24.830Z"
   },
   {
    "duration": 304,
    "start_time": "2021-12-08T19:43:04.537Z"
   },
   {
    "duration": 341,
    "start_time": "2021-12-08T19:43:46.241Z"
   },
   {
    "duration": 302,
    "start_time": "2021-12-08T19:44:02.760Z"
   },
   {
    "duration": 13,
    "start_time": "2021-12-08T19:45:15.330Z"
   },
   {
    "duration": 13,
    "start_time": "2021-12-08T19:45:24.409Z"
   },
   {
    "duration": 13,
    "start_time": "2021-12-08T19:46:08.644Z"
   },
   {
    "duration": 12,
    "start_time": "2021-12-08T19:46:26.121Z"
   },
   {
    "duration": 13,
    "start_time": "2021-12-08T19:46:44.889Z"
   },
   {
    "duration": 19,
    "start_time": "2021-12-08T19:46:55.239Z"
   },
   {
    "duration": 13,
    "start_time": "2021-12-08T19:46:55.297Z"
   },
   {
    "duration": 11,
    "start_time": "2021-12-08T19:46:55.312Z"
   },
   {
    "duration": 16,
    "start_time": "2021-12-08T19:46:55.325Z"
   },
   {
    "duration": 11,
    "start_time": "2021-12-08T19:46:55.343Z"
   },
   {
    "duration": 43,
    "start_time": "2021-12-08T19:46:55.356Z"
   },
   {
    "duration": 19,
    "start_time": "2021-12-08T19:46:55.401Z"
   },
   {
    "duration": 11,
    "start_time": "2021-12-08T19:46:55.422Z"
   },
   {
    "duration": 8,
    "start_time": "2021-12-08T19:46:55.435Z"
   },
   {
    "duration": 58,
    "start_time": "2021-12-08T19:46:55.444Z"
   },
   {
    "duration": 320,
    "start_time": "2021-12-08T19:46:55.503Z"
   },
   {
    "duration": 335,
    "start_time": "2021-12-08T19:46:55.824Z"
   },
   {
    "duration": 331,
    "start_time": "2021-12-08T19:46:56.161Z"
   },
   {
    "duration": 21,
    "start_time": "2021-12-08T19:46:56.493Z"
   },
   {
    "duration": 10,
    "start_time": "2021-12-08T19:46:56.516Z"
   },
   {
    "duration": 5,
    "start_time": "2021-12-08T19:46:56.528Z"
   },
   {
    "duration": 6,
    "start_time": "2021-12-08T19:46:56.535Z"
   },
   {
    "duration": 186,
    "start_time": "2021-12-08T19:46:56.543Z"
   },
   {
    "duration": 162,
    "start_time": "2021-12-08T19:46:56.732Z"
   },
   {
    "duration": 5,
    "start_time": "2021-12-08T19:46:56.896Z"
   },
   {
    "duration": 19,
    "start_time": "2021-12-08T19:46:56.903Z"
   },
   {
    "duration": 13,
    "start_time": "2021-12-08T19:46:56.924Z"
   },
   {
    "duration": 5,
    "start_time": "2021-12-08T19:46:56.939Z"
   },
   {
    "duration": 6,
    "start_time": "2021-12-08T19:46:56.947Z"
   },
   {
    "duration": 219,
    "start_time": "2021-12-08T19:46:56.955Z"
   },
   {
    "duration": 160,
    "start_time": "2021-12-08T19:46:57.176Z"
   },
   {
    "duration": 6,
    "start_time": "2021-12-08T19:46:57.337Z"
   },
   {
    "duration": 320,
    "start_time": "2021-12-08T19:48:51.622Z"
   },
   {
    "duration": 287,
    "start_time": "2021-12-08T19:49:02.814Z"
   },
   {
    "duration": 259,
    "start_time": "2021-12-08T19:49:39.532Z"
   },
   {
    "duration": 322,
    "start_time": "2021-12-08T19:52:54.912Z"
   },
   {
    "duration": 358,
    "start_time": "2021-12-08T19:53:33.124Z"
   },
   {
    "duration": 319,
    "start_time": "2021-12-08T19:57:12.091Z"
   },
   {
    "duration": 321,
    "start_time": "2021-12-08T19:59:50.542Z"
   },
   {
    "duration": 21,
    "start_time": "2021-12-08T20:01:55.533Z"
   },
   {
    "duration": 21,
    "start_time": "2021-12-08T20:04:41.203Z"
   },
   {
    "duration": 24,
    "start_time": "2021-12-08T20:05:01.784Z"
   },
   {
    "duration": 16,
    "start_time": "2021-12-08T20:05:19.848Z"
   },
   {
    "duration": 7,
    "start_time": "2021-12-08T20:07:39.587Z"
   },
   {
    "duration": 159,
    "start_time": "2021-12-08T20:08:06.808Z"
   },
   {
    "duration": 164,
    "start_time": "2021-12-08T20:08:49.430Z"
   },
   {
    "duration": 203,
    "start_time": "2021-12-08T20:09:07.723Z"
   },
   {
    "duration": 30,
    "start_time": "2021-12-08T20:09:16.059Z"
   },
   {
    "duration": 379,
    "start_time": "2021-12-08T20:13:36.990Z"
   },
   {
    "duration": 184,
    "start_time": "2021-12-08T20:15:14.865Z"
   },
   {
    "duration": 12,
    "start_time": "2021-12-08T20:15:27.540Z"
   },
   {
    "duration": 5,
    "start_time": "2021-12-08T20:15:27.554Z"
   },
   {
    "duration": 4,
    "start_time": "2021-12-08T20:15:27.563Z"
   },
   {
    "duration": 186,
    "start_time": "2021-12-08T20:15:27.569Z"
   },
   {
    "duration": 150,
    "start_time": "2021-12-08T20:15:27.757Z"
   },
   {
    "duration": 143,
    "start_time": "2021-12-08T20:15:27.909Z"
   },
   {
    "duration": 5,
    "start_time": "2021-12-08T20:15:28.054Z"
   },
   {
    "duration": 8,
    "start_time": "2021-12-08T20:15:44.057Z"
   },
   {
    "duration": 169,
    "start_time": "2021-12-08T20:15:53.613Z"
   },
   {
    "duration": 3,
    "start_time": "2021-12-08T20:16:21.296Z"
   },
   {
    "duration": 56,
    "start_time": "2021-12-08T20:16:21.301Z"
   },
   {
    "duration": 5,
    "start_time": "2021-12-08T20:16:21.358Z"
   },
   {
    "duration": 15,
    "start_time": "2021-12-08T20:16:21.365Z"
   },
   {
    "duration": 7,
    "start_time": "2021-12-08T20:16:21.391Z"
   },
   {
    "duration": 17,
    "start_time": "2021-12-08T20:16:21.400Z"
   },
   {
    "duration": 17,
    "start_time": "2021-12-08T20:16:21.419Z"
   },
   {
    "duration": 11,
    "start_time": "2021-12-08T20:16:21.438Z"
   },
   {
    "duration": 692,
    "start_time": "2021-12-08T20:16:21.452Z"
   },
   {
    "duration": 29,
    "start_time": "2021-12-08T20:16:22.146Z"
   },
   {
    "duration": 6,
    "start_time": "2021-12-08T20:16:22.192Z"
   },
   {
    "duration": 6,
    "start_time": "2021-12-08T20:16:22.199Z"
   },
   {
    "duration": 17,
    "start_time": "2021-12-08T20:16:22.207Z"
   },
   {
    "duration": 337,
    "start_time": "2021-12-08T20:16:22.226Z"
   },
   {
    "duration": 27,
    "start_time": "2021-12-08T20:16:22.565Z"
   },
   {
    "duration": 413,
    "start_time": "2021-12-08T20:16:22.594Z"
   },
   {
    "duration": 8,
    "start_time": "2021-12-08T20:16:23.009Z"
   },
   {
    "duration": 12,
    "start_time": "2021-12-08T20:16:23.019Z"
   },
   {
    "duration": 15,
    "start_time": "2021-12-08T20:16:23.033Z"
   },
   {
    "duration": 41,
    "start_time": "2021-12-08T20:16:23.050Z"
   },
   {
    "duration": 3,
    "start_time": "2021-12-08T20:16:23.093Z"
   },
   {
    "duration": 222,
    "start_time": "2021-12-08T20:16:23.098Z"
   },
   {
    "duration": 297,
    "start_time": "2021-12-08T20:16:23.322Z"
   },
   {
    "duration": 5,
    "start_time": "2021-12-08T20:16:23.623Z"
   },
   {
    "duration": 387,
    "start_time": "2021-12-08T20:16:23.630Z"
   },
   {
    "duration": 6,
    "start_time": "2021-12-08T20:16:24.019Z"
   },
   {
    "duration": 283,
    "start_time": "2021-12-08T20:16:24.027Z"
   },
   {
    "duration": 5,
    "start_time": "2021-12-08T20:16:24.311Z"
   },
   {
    "duration": 317,
    "start_time": "2021-12-08T20:16:24.317Z"
   },
   {
    "duration": 4,
    "start_time": "2021-12-08T20:16:24.636Z"
   },
   {
    "duration": 13,
    "start_time": "2021-12-08T20:16:24.641Z"
   },
   {
    "duration": 9,
    "start_time": "2021-12-08T20:16:24.656Z"
   },
   {
    "duration": 38,
    "start_time": "2021-12-08T20:16:24.667Z"
   },
   {
    "duration": 4,
    "start_time": "2021-12-08T20:16:24.707Z"
   },
   {
    "duration": 23,
    "start_time": "2021-12-08T20:16:24.713Z"
   },
   {
    "duration": 16,
    "start_time": "2021-12-08T20:16:24.737Z"
   },
   {
    "duration": 10,
    "start_time": "2021-12-08T20:16:24.754Z"
   },
   {
    "duration": 42,
    "start_time": "2021-12-08T20:16:24.765Z"
   },
   {
    "duration": 12,
    "start_time": "2021-12-08T20:16:24.809Z"
   },
   {
    "duration": 9,
    "start_time": "2021-12-08T20:16:24.822Z"
   },
   {
    "duration": 17,
    "start_time": "2021-12-08T20:16:24.832Z"
   },
   {
    "duration": 49,
    "start_time": "2021-12-08T20:16:24.850Z"
   },
   {
    "duration": 8,
    "start_time": "2021-12-08T20:16:24.901Z"
   },
   {
    "duration": 17,
    "start_time": "2021-12-08T20:16:24.911Z"
   },
   {
    "duration": 291,
    "start_time": "2021-12-08T20:16:24.930Z"
   },
   {
    "duration": 338,
    "start_time": "2021-12-08T20:16:25.223Z"
   },
   {
    "duration": 346,
    "start_time": "2021-12-08T20:16:25.563Z"
   },
   {
    "duration": 22,
    "start_time": "2021-12-08T20:16:25.911Z"
   },
   {
    "duration": 10,
    "start_time": "2021-12-08T20:16:25.935Z"
   },
   {
    "duration": 6,
    "start_time": "2021-12-08T20:16:25.946Z"
   },
   {
    "duration": 5,
    "start_time": "2021-12-08T20:16:25.953Z"
   },
   {
    "duration": 184,
    "start_time": "2021-12-08T20:16:25.960Z"
   },
   {
    "duration": 172,
    "start_time": "2021-12-08T20:16:26.145Z"
   },
   {
    "duration": 5,
    "start_time": "2021-12-08T20:16:26.319Z"
   },
   {
    "duration": 17,
    "start_time": "2021-12-08T20:16:26.326Z"
   },
   {
    "duration": 11,
    "start_time": "2021-12-08T20:16:26.345Z"
   },
   {
    "duration": 5,
    "start_time": "2021-12-08T20:16:26.357Z"
   },
   {
    "duration": 31,
    "start_time": "2021-12-08T20:16:26.364Z"
   },
   {
    "duration": 181,
    "start_time": "2021-12-08T20:16:26.397Z"
   },
   {
    "duration": 14,
    "start_time": "2021-12-08T20:16:26.580Z"
   },
   {
    "duration": 8,
    "start_time": "2021-12-08T20:16:26.596Z"
   },
   {
    "duration": 5,
    "start_time": "2021-12-08T20:16:26.606Z"
   },
   {
    "duration": 4,
    "start_time": "2021-12-08T20:34:28.071Z"
   },
   {
    "duration": 58,
    "start_time": "2021-12-08T20:34:28.077Z"
   },
   {
    "duration": 4,
    "start_time": "2021-12-08T20:34:28.137Z"
   },
   {
    "duration": 17,
    "start_time": "2021-12-08T20:34:28.143Z"
   },
   {
    "duration": 6,
    "start_time": "2021-12-08T20:34:28.162Z"
   },
   {
    "duration": 15,
    "start_time": "2021-12-08T20:34:28.192Z"
   },
   {
    "duration": 15,
    "start_time": "2021-12-08T20:34:28.209Z"
   },
   {
    "duration": 11,
    "start_time": "2021-12-08T20:34:28.226Z"
   },
   {
    "duration": 705,
    "start_time": "2021-12-08T20:34:28.239Z"
   },
   {
    "duration": 46,
    "start_time": "2021-12-08T20:34:28.946Z"
   },
   {
    "duration": 5,
    "start_time": "2021-12-08T20:34:28.994Z"
   },
   {
    "duration": 4,
    "start_time": "2021-12-08T20:34:29.001Z"
   },
   {
    "duration": 23,
    "start_time": "2021-12-08T20:34:29.006Z"
   },
   {
    "duration": 339,
    "start_time": "2021-12-08T20:34:29.030Z"
   },
   {
    "duration": 25,
    "start_time": "2021-12-08T20:34:29.371Z"
   },
   {
    "duration": 412,
    "start_time": "2021-12-08T20:34:29.397Z"
   },
   {
    "duration": 7,
    "start_time": "2021-12-08T20:34:29.811Z"
   },
   {
    "duration": 13,
    "start_time": "2021-12-08T20:34:29.820Z"
   },
   {
    "duration": 16,
    "start_time": "2021-12-08T20:34:29.835Z"
   },
   {
    "duration": 12,
    "start_time": "2021-12-08T20:34:29.852Z"
   },
   {
    "duration": 27,
    "start_time": "2021-12-08T20:34:29.865Z"
   },
   {
    "duration": 239,
    "start_time": "2021-12-08T20:34:29.894Z"
   },
   {
    "duration": 293,
    "start_time": "2021-12-08T20:34:30.135Z"
   },
   {
    "duration": 5,
    "start_time": "2021-12-08T20:34:30.429Z"
   },
   {
    "duration": 424,
    "start_time": "2021-12-08T20:34:30.435Z"
   },
   {
    "duration": 4,
    "start_time": "2021-12-08T20:34:30.861Z"
   },
   {
    "duration": 325,
    "start_time": "2021-12-08T20:34:30.867Z"
   },
   {
    "duration": 4,
    "start_time": "2021-12-08T20:34:31.194Z"
   },
   {
    "duration": 326,
    "start_time": "2021-12-08T20:34:31.200Z"
   },
   {
    "duration": 5,
    "start_time": "2021-12-08T20:34:31.528Z"
   },
   {
    "duration": 15,
    "start_time": "2021-12-08T20:34:31.535Z"
   },
   {
    "duration": 10,
    "start_time": "2021-12-08T20:34:31.554Z"
   },
   {
    "duration": 18,
    "start_time": "2021-12-08T20:34:31.591Z"
   },
   {
    "duration": 4,
    "start_time": "2021-12-08T20:34:31.611Z"
   },
   {
    "duration": 21,
    "start_time": "2021-12-08T20:34:31.617Z"
   },
   {
    "duration": 12,
    "start_time": "2021-12-08T20:34:31.640Z"
   },
   {
    "duration": 43,
    "start_time": "2021-12-08T20:34:31.653Z"
   },
   {
    "duration": 17,
    "start_time": "2021-12-08T20:34:31.698Z"
   },
   {
    "duration": 12,
    "start_time": "2021-12-08T20:34:31.717Z"
   },
   {
    "duration": 8,
    "start_time": "2021-12-08T20:34:31.730Z"
   },
   {
    "duration": 23,
    "start_time": "2021-12-08T20:34:31.740Z"
   },
   {
    "duration": 37,
    "start_time": "2021-12-08T20:34:31.765Z"
   },
   {
    "duration": 9,
    "start_time": "2021-12-08T20:34:31.803Z"
   },
   {
    "duration": 17,
    "start_time": "2021-12-08T20:34:31.814Z"
   },
   {
    "duration": 273,
    "start_time": "2021-12-08T20:34:31.833Z"
   },
   {
    "duration": 594,
    "start_time": "2021-12-08T20:34:32.108Z"
   },
   {
    "duration": 329,
    "start_time": "2021-12-08T20:34:32.704Z"
   },
   {
    "duration": 23,
    "start_time": "2021-12-08T20:34:33.036Z"
   },
   {
    "duration": 30,
    "start_time": "2021-12-08T20:34:33.061Z"
   },
   {
    "duration": 6,
    "start_time": "2021-12-08T20:34:33.093Z"
   },
   {
    "duration": 7,
    "start_time": "2021-12-08T20:34:33.100Z"
   },
   {
    "duration": 158,
    "start_time": "2021-12-08T20:34:33.108Z"
   },
   {
    "duration": 151,
    "start_time": "2021-12-08T20:34:33.268Z"
   },
   {
    "duration": 6,
    "start_time": "2021-12-08T20:34:33.422Z"
   },
   {
    "duration": 17,
    "start_time": "2021-12-08T20:34:33.429Z"
   },
   {
    "duration": 10,
    "start_time": "2021-12-08T20:34:33.447Z"
   },
   {
    "duration": 7,
    "start_time": "2021-12-08T20:34:33.458Z"
   },
   {
    "duration": 27,
    "start_time": "2021-12-08T20:34:33.466Z"
   },
   {
    "duration": 171,
    "start_time": "2021-12-08T20:34:33.495Z"
   },
   {
    "duration": 7,
    "start_time": "2021-12-08T20:34:33.668Z"
   },
   {
    "duration": 20,
    "start_time": "2021-12-08T20:34:33.677Z"
   },
   {
    "duration": 5,
    "start_time": "2021-12-08T20:34:33.698Z"
   },
   {
    "duration": 3,
    "start_time": "2021-12-08T20:36:43.812Z"
   },
   {
    "duration": 58,
    "start_time": "2021-12-08T20:36:43.819Z"
   },
   {
    "duration": 5,
    "start_time": "2021-12-08T20:36:43.879Z"
   },
   {
    "duration": 15,
    "start_time": "2021-12-08T20:36:43.886Z"
   },
   {
    "duration": 7,
    "start_time": "2021-12-08T20:36:43.903Z"
   },
   {
    "duration": 19,
    "start_time": "2021-12-08T20:36:43.911Z"
   },
   {
    "duration": 17,
    "start_time": "2021-12-08T20:36:43.931Z"
   },
   {
    "duration": 11,
    "start_time": "2021-12-08T20:36:43.949Z"
   },
   {
    "duration": 690,
    "start_time": "2021-12-08T20:36:43.962Z"
   },
   {
    "duration": 47,
    "start_time": "2021-12-08T20:36:44.653Z"
   },
   {
    "duration": 6,
    "start_time": "2021-12-08T20:36:44.703Z"
   },
   {
    "duration": 4,
    "start_time": "2021-12-08T20:36:44.711Z"
   },
   {
    "duration": 18,
    "start_time": "2021-12-08T20:36:44.717Z"
   },
   {
    "duration": 354,
    "start_time": "2021-12-08T20:36:44.737Z"
   },
   {
    "duration": 18,
    "start_time": "2021-12-08T20:36:45.093Z"
   },
   {
    "duration": 403,
    "start_time": "2021-12-08T20:36:45.114Z"
   },
   {
    "duration": 7,
    "start_time": "2021-12-08T20:36:45.519Z"
   },
   {
    "duration": 13,
    "start_time": "2021-12-08T20:36:45.528Z"
   },
   {
    "duration": 16,
    "start_time": "2021-12-08T20:36:45.543Z"
   },
   {
    "duration": 37,
    "start_time": "2021-12-08T20:36:45.560Z"
   },
   {
    "duration": 2,
    "start_time": "2021-12-08T20:36:45.599Z"
   },
   {
    "duration": 229,
    "start_time": "2021-12-08T20:36:45.602Z"
   },
   {
    "duration": 286,
    "start_time": "2021-12-08T20:36:45.833Z"
   },
   {
    "duration": 5,
    "start_time": "2021-12-08T20:36:46.121Z"
   },
   {
    "duration": 380,
    "start_time": "2021-12-08T20:36:46.127Z"
   },
   {
    "duration": 4,
    "start_time": "2021-12-08T20:36:46.509Z"
   },
   {
    "duration": 283,
    "start_time": "2021-12-08T20:36:46.515Z"
   },
   {
    "duration": 5,
    "start_time": "2021-12-08T20:36:46.799Z"
   },
   {
    "duration": 316,
    "start_time": "2021-12-08T20:36:46.805Z"
   },
   {
    "duration": 5,
    "start_time": "2021-12-08T20:36:47.122Z"
   },
   {
    "duration": 12,
    "start_time": "2021-12-08T20:36:47.130Z"
   },
   {
    "duration": 8,
    "start_time": "2021-12-08T20:36:47.144Z"
   },
   {
    "duration": 43,
    "start_time": "2021-12-08T20:36:47.154Z"
   },
   {
    "duration": 4,
    "start_time": "2021-12-08T20:36:47.199Z"
   },
   {
    "duration": 19,
    "start_time": "2021-12-08T20:36:47.204Z"
   },
   {
    "duration": 14,
    "start_time": "2021-12-08T20:36:47.225Z"
   },
   {
    "duration": 9,
    "start_time": "2021-12-08T20:36:47.241Z"
   },
   {
    "duration": 46,
    "start_time": "2021-12-08T20:36:47.251Z"
   },
   {
    "duration": 13,
    "start_time": "2021-12-08T20:36:47.299Z"
   },
   {
    "duration": 9,
    "start_time": "2021-12-08T20:36:47.313Z"
   },
   {
    "duration": 18,
    "start_time": "2021-12-08T20:36:47.324Z"
   },
   {
    "duration": 12,
    "start_time": "2021-12-08T20:36:47.344Z"
   },
   {
    "duration": 43,
    "start_time": "2021-12-08T20:36:47.358Z"
   },
   {
    "duration": 21,
    "start_time": "2021-12-08T20:36:47.402Z"
   },
   {
    "duration": 264,
    "start_time": "2021-12-08T20:36:47.425Z"
   },
   {
    "duration": 340,
    "start_time": "2021-12-08T20:36:47.691Z"
   },
   {
    "duration": 346,
    "start_time": "2021-12-08T20:36:48.032Z"
   },
   {
    "duration": 32,
    "start_time": "2021-12-08T20:36:48.379Z"
   },
   {
    "duration": 12,
    "start_time": "2021-12-08T20:36:48.413Z"
   },
   {
    "duration": 8,
    "start_time": "2021-12-08T20:36:48.426Z"
   },
   {
    "duration": 6,
    "start_time": "2021-12-08T20:36:48.435Z"
   },
   {
    "duration": 180,
    "start_time": "2021-12-08T20:36:48.443Z"
   },
   {
    "duration": 154,
    "start_time": "2021-12-08T20:36:48.625Z"
   },
   {
    "duration": 5,
    "start_time": "2021-12-08T20:36:48.781Z"
   },
   {
    "duration": 16,
    "start_time": "2021-12-08T20:36:48.792Z"
   },
   {
    "duration": 11,
    "start_time": "2021-12-08T20:36:48.809Z"
   },
   {
    "duration": 5,
    "start_time": "2021-12-08T20:36:48.821Z"
   },
   {
    "duration": 8,
    "start_time": "2021-12-08T20:36:48.828Z"
   },
   {
    "duration": 187,
    "start_time": "2021-12-08T20:36:48.838Z"
   },
   {
    "duration": 8,
    "start_time": "2021-12-08T20:36:49.027Z"
   },
   {
    "duration": 7,
    "start_time": "2021-12-08T20:36:49.036Z"
   },
   {
    "duration": 5,
    "start_time": "2021-12-08T20:36:49.044Z"
   },
   {
    "duration": 102,
    "start_time": "2021-12-09T15:29:20.609Z"
   },
   {
    "duration": 1050,
    "start_time": "2021-12-09T15:38:02.583Z"
   },
   {
    "duration": 50,
    "start_time": "2021-12-09T15:38:03.635Z"
   },
   {
    "duration": 5,
    "start_time": "2021-12-09T15:38:03.687Z"
   },
   {
    "duration": 32,
    "start_time": "2021-12-09T15:38:03.693Z"
   },
   {
    "duration": 6,
    "start_time": "2021-12-09T15:38:03.726Z"
   },
   {
    "duration": 19,
    "start_time": "2021-12-09T15:38:03.733Z"
   },
   {
    "duration": 13,
    "start_time": "2021-12-09T15:38:03.754Z"
   },
   {
    "duration": 28,
    "start_time": "2021-12-09T15:38:03.769Z"
   },
   {
    "duration": 568,
    "start_time": "2021-12-09T15:38:03.800Z"
   },
   {
    "duration": 83,
    "start_time": "2021-12-09T15:38:04.370Z"
   },
   {
    "duration": 923,
    "start_time": "2021-12-09T15:38:03.534Z"
   },
   {
    "duration": 893,
    "start_time": "2021-12-09T15:38:03.565Z"
   },
   {
    "duration": 890,
    "start_time": "2021-12-09T15:38:03.569Z"
   },
   {
    "duration": 888,
    "start_time": "2021-12-09T15:38:03.573Z"
   },
   {
    "duration": 886,
    "start_time": "2021-12-09T15:38:03.576Z"
   },
   {
    "duration": 883,
    "start_time": "2021-12-09T15:38:03.581Z"
   },
   {
    "duration": 881,
    "start_time": "2021-12-09T15:38:03.584Z"
   },
   {
    "duration": 878,
    "start_time": "2021-12-09T15:38:03.588Z"
   },
   {
    "duration": 877,
    "start_time": "2021-12-09T15:38:03.591Z"
   },
   {
    "duration": 874,
    "start_time": "2021-12-09T15:38:03.595Z"
   },
   {
    "duration": 871,
    "start_time": "2021-12-09T15:38:03.599Z"
   },
   {
    "duration": 870,
    "start_time": "2021-12-09T15:38:03.602Z"
   },
   {
    "duration": 868,
    "start_time": "2021-12-09T15:38:03.605Z"
   },
   {
    "duration": 866,
    "start_time": "2021-12-09T15:38:03.608Z"
   },
   {
    "duration": 865,
    "start_time": "2021-12-09T15:38:03.611Z"
   },
   {
    "duration": 863,
    "start_time": "2021-12-09T15:38:03.614Z"
   },
   {
    "duration": 862,
    "start_time": "2021-12-09T15:38:03.616Z"
   },
   {
    "duration": 861,
    "start_time": "2021-12-09T15:38:03.619Z"
   },
   {
    "duration": 853,
    "start_time": "2021-12-09T15:38:03.628Z"
   },
   {
    "duration": 852,
    "start_time": "2021-12-09T15:38:03.631Z"
   },
   {
    "duration": 850,
    "start_time": "2021-12-09T15:38:03.634Z"
   },
   {
    "duration": 849,
    "start_time": "2021-12-09T15:38:03.636Z"
   },
   {
    "duration": 847,
    "start_time": "2021-12-09T15:38:03.640Z"
   },
   {
    "duration": 845,
    "start_time": "2021-12-09T15:38:03.643Z"
   },
   {
    "duration": 843,
    "start_time": "2021-12-09T15:38:03.646Z"
   },
   {
    "duration": 842,
    "start_time": "2021-12-09T15:38:03.648Z"
   },
   {
    "duration": 841,
    "start_time": "2021-12-09T15:38:03.651Z"
   },
   {
    "duration": 839,
    "start_time": "2021-12-09T15:38:03.654Z"
   },
   {
    "duration": 838,
    "start_time": "2021-12-09T15:38:03.657Z"
   },
   {
    "duration": 835,
    "start_time": "2021-12-09T15:38:03.661Z"
   },
   {
    "duration": 831,
    "start_time": "2021-12-09T15:38:03.666Z"
   },
   {
    "duration": 829,
    "start_time": "2021-12-09T15:38:03.669Z"
   },
   {
    "duration": 828,
    "start_time": "2021-12-09T15:38:03.672Z"
   },
   {
    "duration": 826,
    "start_time": "2021-12-09T15:38:03.675Z"
   },
   {
    "duration": 825,
    "start_time": "2021-12-09T15:38:03.678Z"
   },
   {
    "duration": 822,
    "start_time": "2021-12-09T15:38:03.682Z"
   },
   {
    "duration": 822,
    "start_time": "2021-12-09T15:38:03.684Z"
   },
   {
    "duration": 819,
    "start_time": "2021-12-09T15:38:03.688Z"
   },
   {
    "duration": 818,
    "start_time": "2021-12-09T15:38:03.691Z"
   },
   {
    "duration": 816,
    "start_time": "2021-12-09T15:38:03.694Z"
   },
   {
    "duration": 790,
    "start_time": "2021-12-09T15:38:03.722Z"
   },
   {
    "duration": 788,
    "start_time": "2021-12-09T15:38:03.725Z"
   },
   {
    "duration": 787,
    "start_time": "2021-12-09T15:38:03.728Z"
   },
   {
    "duration": 785,
    "start_time": "2021-12-09T15:38:03.731Z"
   },
   {
    "duration": 783,
    "start_time": "2021-12-09T15:38:03.734Z"
   },
   {
    "duration": 783,
    "start_time": "2021-12-09T15:38:03.736Z"
   },
   {
    "duration": 780,
    "start_time": "2021-12-09T15:38:03.740Z"
   },
   {
    "duration": 776,
    "start_time": "2021-12-09T15:38:03.746Z"
   },
   {
    "duration": 775,
    "start_time": "2021-12-09T15:38:03.748Z"
   },
   {
    "duration": 773,
    "start_time": "2021-12-09T15:38:03.751Z"
   },
   {
    "duration": 772,
    "start_time": "2021-12-09T15:38:03.754Z"
   },
   {
    "duration": 768,
    "start_time": "2021-12-09T15:38:03.759Z"
   },
   {
    "duration": 766,
    "start_time": "2021-12-09T15:38:03.762Z"
   },
   {
    "duration": 300,
    "start_time": "2021-12-09T15:40:09.968Z"
   },
   {
    "duration": 301,
    "start_time": "2021-12-09T15:44:34.664Z"
   },
   {
    "duration": 296,
    "start_time": "2021-12-09T15:44:43.510Z"
   },
   {
    "duration": 1097,
    "start_time": "2021-12-09T15:48:17.051Z"
   },
   {
    "duration": 53,
    "start_time": "2021-12-09T15:48:18.149Z"
   },
   {
    "duration": 4,
    "start_time": "2021-12-09T15:48:18.204Z"
   },
   {
    "duration": 15,
    "start_time": "2021-12-09T15:48:18.210Z"
   },
   {
    "duration": 6,
    "start_time": "2021-12-09T15:48:18.226Z"
   },
   {
    "duration": 16,
    "start_time": "2021-12-09T15:48:18.234Z"
   },
   {
    "duration": 44,
    "start_time": "2021-12-09T15:48:18.251Z"
   },
   {
    "duration": 10,
    "start_time": "2021-12-09T15:48:18.297Z"
   },
   {
    "duration": 587,
    "start_time": "2021-12-09T15:48:18.309Z"
   },
   {
    "duration": 295,
    "start_time": "2021-12-09T15:48:18.898Z"
   },
   {
    "duration": 27,
    "start_time": "2021-12-09T15:48:19.195Z"
   },
   {
    "duration": 5,
    "start_time": "2021-12-09T15:48:19.224Z"
   },
   {
    "duration": 5,
    "start_time": "2021-12-09T15:48:19.230Z"
   },
   {
    "duration": 16,
    "start_time": "2021-12-09T15:48:19.236Z"
   },
   {
    "duration": 310,
    "start_time": "2021-12-09T15:48:19.254Z"
   },
   {
    "duration": 24,
    "start_time": "2021-12-09T15:48:19.566Z"
   },
   {
    "duration": 376,
    "start_time": "2021-12-09T15:48:19.592Z"
   },
   {
    "duration": 19,
    "start_time": "2021-12-09T15:48:19.970Z"
   },
   {
    "duration": 10,
    "start_time": "2021-12-09T15:48:19.990Z"
   },
   {
    "duration": 13,
    "start_time": "2021-12-09T15:48:20.001Z"
   },
   {
    "duration": 10,
    "start_time": "2021-12-09T15:48:20.016Z"
   },
   {
    "duration": 2,
    "start_time": "2021-12-09T15:48:20.027Z"
   },
   {
    "duration": 204,
    "start_time": "2021-12-09T15:48:20.032Z"
   },
   {
    "duration": 262,
    "start_time": "2021-12-09T15:48:20.238Z"
   },
   {
    "duration": 4,
    "start_time": "2021-12-09T15:48:20.501Z"
   },
   {
    "duration": 348,
    "start_time": "2021-12-09T15:48:20.507Z"
   },
   {
    "duration": 4,
    "start_time": "2021-12-09T15:48:20.856Z"
   },
   {
    "duration": 285,
    "start_time": "2021-12-09T15:48:20.861Z"
   },
   {
    "duration": 4,
    "start_time": "2021-12-09T15:48:21.148Z"
   },
   {
    "duration": 335,
    "start_time": "2021-12-09T15:48:21.153Z"
   },
   {
    "duration": 4,
    "start_time": "2021-12-09T15:48:21.490Z"
   },
   {
    "duration": 17,
    "start_time": "2021-12-09T15:48:21.495Z"
   },
   {
    "duration": 8,
    "start_time": "2021-12-09T15:48:21.513Z"
   },
   {
    "duration": 13,
    "start_time": "2021-12-09T15:48:21.522Z"
   },
   {
    "duration": 3,
    "start_time": "2021-12-09T15:48:21.537Z"
   },
   {
    "duration": 19,
    "start_time": "2021-12-09T15:48:21.542Z"
   },
   {
    "duration": 11,
    "start_time": "2021-12-09T15:48:21.588Z"
   },
   {
    "duration": 8,
    "start_time": "2021-12-09T15:48:21.600Z"
   },
   {
    "duration": 17,
    "start_time": "2021-12-09T15:48:21.610Z"
   },
   {
    "duration": 10,
    "start_time": "2021-12-09T15:48:21.628Z"
   },
   {
    "duration": 7,
    "start_time": "2021-12-09T15:48:21.640Z"
   },
   {
    "duration": 47,
    "start_time": "2021-12-09T15:48:21.648Z"
   },
   {
    "duration": 11,
    "start_time": "2021-12-09T15:48:21.696Z"
   },
   {
    "duration": 7,
    "start_time": "2021-12-09T15:48:21.709Z"
   },
   {
    "duration": 14,
    "start_time": "2021-12-09T15:48:21.718Z"
   },
   {
    "duration": 249,
    "start_time": "2021-12-09T15:48:21.734Z"
   },
   {
    "duration": 298,
    "start_time": "2021-12-09T15:48:21.985Z"
   },
   {
    "duration": 288,
    "start_time": "2021-12-09T15:48:22.285Z"
   },
   {
    "duration": 25,
    "start_time": "2021-12-09T15:48:22.575Z"
   },
   {
    "duration": 8,
    "start_time": "2021-12-09T15:48:22.602Z"
   },
   {
    "duration": 5,
    "start_time": "2021-12-09T15:48:22.611Z"
   },
   {
    "duration": 5,
    "start_time": "2021-12-09T15:48:22.618Z"
   },
   {
    "duration": 143,
    "start_time": "2021-12-09T15:48:22.624Z"
   },
   {
    "duration": 138,
    "start_time": "2021-12-09T15:48:22.769Z"
   },
   {
    "duration": 5,
    "start_time": "2021-12-09T15:48:22.908Z"
   },
   {
    "duration": 18,
    "start_time": "2021-12-09T15:48:22.914Z"
   },
   {
    "duration": 9,
    "start_time": "2021-12-09T15:48:22.934Z"
   },
   {
    "duration": 4,
    "start_time": "2021-12-09T15:48:22.944Z"
   },
   {
    "duration": 6,
    "start_time": "2021-12-09T15:48:22.949Z"
   },
   {
    "duration": 155,
    "start_time": "2021-12-09T15:48:22.956Z"
   },
   {
    "duration": 7,
    "start_time": "2021-12-09T15:48:23.112Z"
   },
   {
    "duration": 25,
    "start_time": "2021-12-09T15:48:23.120Z"
   },
   {
    "duration": 11,
    "start_time": "2021-12-09T15:48:23.146Z"
   },
   {
    "duration": 314,
    "start_time": "2021-12-09T16:09:46.364Z"
   },
   {
    "duration": 355,
    "start_time": "2021-12-09T16:11:23.941Z"
   },
   {
    "duration": 1162,
    "start_time": "2021-12-09T16:13:50.881Z"
   },
   {
    "duration": 301,
    "start_time": "2021-12-09T16:14:08.920Z"
   },
   {
    "duration": 306,
    "start_time": "2021-12-09T16:14:57.825Z"
   },
   {
    "duration": 249,
    "start_time": "2021-12-09T16:15:04.638Z"
   },
   {
    "duration": 235,
    "start_time": "2021-12-09T16:15:16.298Z"
   },
   {
    "duration": 238,
    "start_time": "2021-12-09T16:16:11.054Z"
   },
   {
    "duration": 75,
    "start_time": "2021-12-09T16:19:04.858Z"
   },
   {
    "duration": 1393,
    "start_time": "2022-01-14T10:28:08.730Z"
   },
   {
    "duration": 76,
    "start_time": "2022-01-14T10:28:10.126Z"
   },
   {
    "duration": 6,
    "start_time": "2022-01-14T10:28:10.204Z"
   },
   {
    "duration": 46,
    "start_time": "2022-01-14T10:28:10.213Z"
   },
   {
    "duration": 9,
    "start_time": "2022-01-14T10:28:10.262Z"
   },
   {
    "duration": 24,
    "start_time": "2022-01-14T10:28:10.274Z"
   },
   {
    "duration": 60,
    "start_time": "2022-01-14T10:28:10.301Z"
   },
   {
    "duration": 17,
    "start_time": "2022-01-14T10:28:10.366Z"
   },
   {
    "duration": 1029,
    "start_time": "2022-01-14T10:28:10.387Z"
   },
   {
    "duration": 532,
    "start_time": "2022-01-14T10:28:11.419Z"
   },
   {
    "duration": 50,
    "start_time": "2022-01-14T10:28:11.953Z"
   },
   {
    "duration": 9,
    "start_time": "2022-01-14T10:28:12.005Z"
   },
   {
    "duration": 5,
    "start_time": "2022-01-14T10:28:12.016Z"
   },
   {
    "duration": 57,
    "start_time": "2022-01-14T10:28:12.024Z"
   },
   {
    "duration": 536,
    "start_time": "2022-01-14T10:28:12.083Z"
   },
   {
    "duration": 41,
    "start_time": "2022-01-14T10:28:12.621Z"
   },
   {
    "duration": 643,
    "start_time": "2022-01-14T10:28:12.664Z"
   },
   {
    "duration": 11,
    "start_time": "2022-01-14T10:28:13.310Z"
   },
   {
    "duration": 39,
    "start_time": "2022-01-14T10:28:13.323Z"
   },
   {
    "duration": 25,
    "start_time": "2022-01-14T10:28:13.365Z"
   },
   {
    "duration": 16,
    "start_time": "2022-01-14T10:28:13.393Z"
   },
   {
    "duration": 3,
    "start_time": "2022-01-14T10:28:13.412Z"
   },
   {
    "duration": 344,
    "start_time": "2022-01-14T10:28:13.462Z"
   },
   {
    "duration": 540,
    "start_time": "2022-01-14T10:28:13.809Z"
   },
   {
    "duration": 7,
    "start_time": "2022-01-14T10:28:14.358Z"
   },
   {
    "duration": 630,
    "start_time": "2022-01-14T10:28:14.368Z"
   },
   {
    "duration": 6,
    "start_time": "2022-01-14T10:28:15.000Z"
   },
   {
    "duration": 499,
    "start_time": "2022-01-14T10:28:15.009Z"
   },
   {
    "duration": 5,
    "start_time": "2022-01-14T10:28:15.511Z"
   },
   {
    "duration": 477,
    "start_time": "2022-01-14T10:28:15.518Z"
   },
   {
    "duration": 7,
    "start_time": "2022-01-14T10:28:15.997Z"
   },
   {
    "duration": 19,
    "start_time": "2022-01-14T10:28:16.006Z"
   },
   {
    "duration": 15,
    "start_time": "2022-01-14T10:28:16.060Z"
   },
   {
    "duration": 26,
    "start_time": "2022-01-14T10:28:16.078Z"
   },
   {
    "duration": 6,
    "start_time": "2022-01-14T10:28:16.106Z"
   },
   {
    "duration": 72,
    "start_time": "2022-01-14T10:28:16.114Z"
   },
   {
    "duration": 21,
    "start_time": "2022-01-14T10:28:16.188Z"
   },
   {
    "duration": 49,
    "start_time": "2022-01-14T10:28:16.212Z"
   },
   {
    "duration": 39,
    "start_time": "2022-01-14T10:28:16.263Z"
   },
   {
    "duration": 24,
    "start_time": "2022-01-14T10:28:16.306Z"
   },
   {
    "duration": 40,
    "start_time": "2022-01-14T10:28:16.333Z"
   },
   {
    "duration": 23,
    "start_time": "2022-01-14T10:28:16.375Z"
   },
   {
    "duration": 18,
    "start_time": "2022-01-14T10:28:16.401Z"
   },
   {
    "duration": 49,
    "start_time": "2022-01-14T10:28:16.421Z"
   },
   {
    "duration": 26,
    "start_time": "2022-01-14T10:28:16.472Z"
   },
   {
    "duration": 452,
    "start_time": "2022-01-14T10:28:16.500Z"
   },
   {
    "duration": 626,
    "start_time": "2022-01-14T10:28:16.954Z"
   },
   {
    "duration": 543,
    "start_time": "2022-01-14T10:28:17.582Z"
   },
   {
    "duration": 135,
    "start_time": "2022-01-14T10:28:18.128Z"
   },
   {
    "duration": 3555672,
    "start_time": "2022-01-14T09:29:02.594Z"
   },
   {
    "duration": 3555655,
    "start_time": "2022-01-14T09:29:02.612Z"
   },
   {
    "duration": 3555641,
    "start_time": "2022-01-14T09:29:02.628Z"
   },
   {
    "duration": 3555627,
    "start_time": "2022-01-14T09:29:02.643Z"
   },
   {
    "duration": 3555614,
    "start_time": "2022-01-14T09:29:02.658Z"
   },
   {
    "duration": 3555600,
    "start_time": "2022-01-14T09:29:02.673Z"
   },
   {
    "duration": 3555584,
    "start_time": "2022-01-14T09:29:02.691Z"
   },
   {
    "duration": 3555571,
    "start_time": "2022-01-14T09:29:02.706Z"
   },
   {
    "duration": 3555556,
    "start_time": "2022-01-14T09:29:02.722Z"
   },
   {
    "duration": 3555541,
    "start_time": "2022-01-14T09:29:02.738Z"
   },
   {
    "duration": 3555527,
    "start_time": "2022-01-14T09:29:02.754Z"
   },
   {
    "duration": 3555513,
    "start_time": "2022-01-14T09:29:02.769Z"
   },
   {
    "duration": 3555495,
    "start_time": "2022-01-14T09:29:02.789Z"
   },
   {
    "duration": 3555475,
    "start_time": "2022-01-14T09:29:02.811Z"
   },
   {
    "duration": 3555454,
    "start_time": "2022-01-14T09:29:02.833Z"
   },
   {
    "duration": 3555438,
    "start_time": "2022-01-14T09:29:02.850Z"
   },
   {
    "duration": 3555422,
    "start_time": "2022-01-14T09:29:02.868Z"
   },
   {
    "duration": 1044,
    "start_time": "2022-01-21T20:59:17.647Z"
   },
   {
    "duration": 52,
    "start_time": "2022-01-21T20:59:18.693Z"
   },
   {
    "duration": 4,
    "start_time": "2022-01-21T20:59:18.747Z"
   },
   {
    "duration": 17,
    "start_time": "2022-01-21T20:59:18.753Z"
   },
   {
    "duration": 5,
    "start_time": "2022-01-21T20:59:18.772Z"
   },
   {
    "duration": 17,
    "start_time": "2022-01-21T20:59:18.779Z"
   },
   {
    "duration": 34,
    "start_time": "2022-01-21T20:59:18.797Z"
   },
   {
    "duration": 10,
    "start_time": "2022-01-21T20:59:18.833Z"
   },
   {
    "duration": 574,
    "start_time": "2022-01-21T20:59:18.845Z"
   },
   {
    "duration": 304,
    "start_time": "2022-01-21T20:59:19.420Z"
   },
   {
    "duration": 27,
    "start_time": "2022-01-21T20:59:19.727Z"
   },
   {
    "duration": 5,
    "start_time": "2022-01-21T20:59:19.756Z"
   },
   {
    "duration": 4,
    "start_time": "2022-01-21T20:59:19.762Z"
   },
   {
    "duration": 19,
    "start_time": "2022-01-21T20:59:19.767Z"
   },
   {
    "duration": 313,
    "start_time": "2022-01-21T20:59:19.787Z"
   },
   {
    "duration": 14,
    "start_time": "2022-01-21T20:59:20.102Z"
   },
   {
    "duration": 359,
    "start_time": "2022-01-21T20:59:20.117Z"
   },
   {
    "duration": 6,
    "start_time": "2022-01-21T20:59:20.478Z"
   },
   {
    "duration": 11,
    "start_time": "2022-01-21T20:59:20.486Z"
   },
   {
    "duration": 29,
    "start_time": "2022-01-21T20:59:20.499Z"
   },
   {
    "duration": 8,
    "start_time": "2022-01-21T20:59:20.529Z"
   },
   {
    "duration": 3,
    "start_time": "2022-01-21T20:59:20.539Z"
   },
   {
    "duration": 200,
    "start_time": "2022-01-21T20:59:20.546Z"
   },
   {
    "duration": 288,
    "start_time": "2022-01-21T20:59:20.749Z"
   },
   {
    "duration": 4,
    "start_time": "2022-01-21T20:59:21.038Z"
   },
   {
    "duration": 362,
    "start_time": "2022-01-21T20:59:21.044Z"
   },
   {
    "duration": 3,
    "start_time": "2022-01-21T20:59:21.408Z"
   },
   {
    "duration": 316,
    "start_time": "2022-01-21T20:59:21.413Z"
   },
   {
    "duration": 3,
    "start_time": "2022-01-21T20:59:21.731Z"
   },
   {
    "duration": 351,
    "start_time": "2022-01-21T20:59:21.736Z"
   },
   {
    "duration": 4,
    "start_time": "2022-01-21T20:59:22.088Z"
   },
   {
    "duration": 12,
    "start_time": "2022-01-21T20:59:22.094Z"
   },
   {
    "duration": 26,
    "start_time": "2022-01-21T20:59:22.107Z"
   },
   {
    "duration": 15,
    "start_time": "2022-01-21T20:59:22.135Z"
   },
   {
    "duration": 3,
    "start_time": "2022-01-21T20:59:22.151Z"
   },
   {
    "duration": 18,
    "start_time": "2022-01-21T20:59:22.156Z"
   },
   {
    "duration": 15,
    "start_time": "2022-01-21T20:59:22.176Z"
   },
   {
    "duration": 8,
    "start_time": "2022-01-21T20:59:22.192Z"
   },
   {
    "duration": 15,
    "start_time": "2022-01-21T20:59:22.227Z"
   },
   {
    "duration": 10,
    "start_time": "2022-01-21T20:59:22.244Z"
   },
   {
    "duration": 12,
    "start_time": "2022-01-21T20:59:22.255Z"
   },
   {
    "duration": 16,
    "start_time": "2022-01-21T20:59:22.268Z"
   },
   {
    "duration": 11,
    "start_time": "2022-01-21T20:59:22.285Z"
   },
   {
    "duration": 10,
    "start_time": "2022-01-21T20:59:22.327Z"
   },
   {
    "duration": 16,
    "start_time": "2022-01-21T20:59:22.338Z"
   },
   {
    "duration": 230,
    "start_time": "2022-01-21T20:59:22.356Z"
   },
   {
    "duration": 340,
    "start_time": "2022-01-21T20:59:22.588Z"
   },
   {
    "duration": 300,
    "start_time": "2022-01-21T20:59:22.929Z"
   },
   {
    "duration": 101,
    "start_time": "2022-01-21T20:59:23.231Z"
   },
   {
    "duration": -1001,
    "start_time": "2022-01-21T20:59:24.335Z"
   },
   {
    "duration": -1003,
    "start_time": "2022-01-21T20:59:24.338Z"
   },
   {
    "duration": -1006,
    "start_time": "2022-01-21T20:59:24.342Z"
   },
   {
    "duration": -1010,
    "start_time": "2022-01-21T20:59:24.346Z"
   },
   {
    "duration": -1013,
    "start_time": "2022-01-21T20:59:24.350Z"
   },
   {
    "duration": -1016,
    "start_time": "2022-01-21T20:59:24.354Z"
   },
   {
    "duration": -1018,
    "start_time": "2022-01-21T20:59:24.357Z"
   },
   {
    "duration": -1020,
    "start_time": "2022-01-21T20:59:24.360Z"
   },
   {
    "duration": -1025,
    "start_time": "2022-01-21T20:59:24.366Z"
   },
   {
    "duration": -1029,
    "start_time": "2022-01-21T20:59:24.370Z"
   },
   {
    "duration": -1040,
    "start_time": "2022-01-21T20:59:24.382Z"
   },
   {
    "duration": -1044,
    "start_time": "2022-01-21T20:59:24.387Z"
   },
   {
    "duration": -1046,
    "start_time": "2022-01-21T20:59:24.390Z"
   },
   {
    "duration": -1048,
    "start_time": "2022-01-21T20:59:24.393Z"
   },
   {
    "duration": -1053,
    "start_time": "2022-01-21T20:59:24.398Z"
   },
   {
    "duration": -1055,
    "start_time": "2022-01-21T20:59:24.401Z"
   },
   {
    "duration": -1058,
    "start_time": "2022-01-21T20:59:24.405Z"
   },
   {
    "duration": 290,
    "start_time": "2022-01-21T20:59:38.529Z"
   },
   {
    "duration": 244,
    "start_time": "2022-01-21T20:59:38.821Z"
   },
   {
    "duration": 26,
    "start_time": "2022-01-21T20:59:39.068Z"
   },
   {
    "duration": 11,
    "start_time": "2022-01-21T20:59:39.096Z"
   },
   {
    "duration": 22,
    "start_time": "2022-01-21T20:59:39.109Z"
   },
   {
    "duration": 6,
    "start_time": "2022-01-21T20:59:39.133Z"
   },
   {
    "duration": 186,
    "start_time": "2022-01-21T20:59:39.141Z"
   },
   {
    "duration": 126,
    "start_time": "2022-01-21T20:59:39.329Z"
   },
   {
    "duration": 5,
    "start_time": "2022-01-21T20:59:39.456Z"
   },
   {
    "duration": 15,
    "start_time": "2022-01-21T20:59:39.462Z"
   },
   {
    "duration": 11,
    "start_time": "2022-01-21T20:59:39.478Z"
   },
   {
    "duration": 3,
    "start_time": "2022-01-21T20:59:39.491Z"
   },
   {
    "duration": 5,
    "start_time": "2022-01-21T20:59:39.496Z"
   },
   {
    "duration": 164,
    "start_time": "2022-01-21T20:59:39.502Z"
   },
   {
    "duration": 7,
    "start_time": "2022-01-21T20:59:39.668Z"
   },
   {
    "duration": 7,
    "start_time": "2022-01-21T20:59:39.677Z"
   },
   {
    "duration": 5,
    "start_time": "2022-01-21T20:59:39.686Z"
   },
   {
    "duration": 1348,
    "start_time": "2022-02-21T13:10:41.608Z"
   },
   {
    "duration": 78,
    "start_time": "2022-02-21T13:10:42.959Z"
   },
   {
    "duration": 6,
    "start_time": "2022-02-21T13:10:43.040Z"
   },
   {
    "duration": 20,
    "start_time": "2022-02-21T13:10:43.049Z"
   },
   {
    "duration": 9,
    "start_time": "2022-02-21T13:10:43.093Z"
   },
   {
    "duration": 28,
    "start_time": "2022-02-21T13:10:43.104Z"
   },
   {
    "duration": 24,
    "start_time": "2022-02-21T13:10:43.134Z"
   },
   {
    "duration": 40,
    "start_time": "2022-02-21T13:10:43.160Z"
   },
   {
    "duration": 1075,
    "start_time": "2022-02-21T13:10:43.204Z"
   },
   {
    "duration": 540,
    "start_time": "2022-02-21T13:10:44.283Z"
   },
   {
    "duration": 45,
    "start_time": "2022-02-21T13:10:44.825Z"
   },
   {
    "duration": 27,
    "start_time": "2022-02-21T13:10:44.872Z"
   },
   {
    "duration": 5,
    "start_time": "2022-02-21T13:10:44.901Z"
   },
   {
    "duration": 29,
    "start_time": "2022-02-21T13:10:44.908Z"
   },
   {
    "duration": 565,
    "start_time": "2022-02-21T13:10:44.939Z"
   },
   {
    "duration": 27,
    "start_time": "2022-02-21T13:10:45.506Z"
   },
   {
    "duration": 676,
    "start_time": "2022-02-21T13:10:45.536Z"
   },
   {
    "duration": 12,
    "start_time": "2022-02-21T13:10:46.215Z"
   },
   {
    "duration": 24,
    "start_time": "2022-02-21T13:10:46.229Z"
   },
   {
    "duration": 49,
    "start_time": "2022-02-21T13:10:46.255Z"
   },
   {
    "duration": 15,
    "start_time": "2022-02-21T13:10:46.306Z"
   },
   {
    "duration": 2,
    "start_time": "2022-02-21T13:10:46.324Z"
   },
   {
    "duration": 378,
    "start_time": "2022-02-21T13:10:46.329Z"
   },
   {
    "duration": 416,
    "start_time": "2022-02-21T13:10:46.710Z"
   },
   {
    "duration": 6,
    "start_time": "2022-02-21T13:10:47.129Z"
   },
   {
    "duration": 592,
    "start_time": "2022-02-21T13:10:47.137Z"
   },
   {
    "duration": 6,
    "start_time": "2022-02-21T13:10:47.735Z"
   },
   {
    "duration": 433,
    "start_time": "2022-02-21T13:10:47.744Z"
   },
   {
    "duration": 7,
    "start_time": "2022-02-21T13:10:48.194Z"
   },
   {
    "duration": 525,
    "start_time": "2022-02-21T13:10:48.203Z"
   },
   {
    "duration": 7,
    "start_time": "2022-02-21T13:10:48.730Z"
   },
   {
    "duration": 20,
    "start_time": "2022-02-21T13:10:48.739Z"
   },
   {
    "duration": 43,
    "start_time": "2022-02-21T13:10:48.762Z"
   },
   {
    "duration": 39,
    "start_time": "2022-02-21T13:10:48.807Z"
   },
   {
    "duration": 6,
    "start_time": "2022-02-21T13:10:48.848Z"
   },
   {
    "duration": 52,
    "start_time": "2022-02-21T13:10:48.857Z"
   },
   {
    "duration": 19,
    "start_time": "2022-02-21T13:10:48.911Z"
   },
   {
    "duration": 15,
    "start_time": "2022-02-21T13:10:48.933Z"
   },
   {
    "duration": 55,
    "start_time": "2022-02-21T13:10:48.951Z"
   },
   {
    "duration": 19,
    "start_time": "2022-02-21T13:10:49.009Z"
   },
   {
    "duration": 13,
    "start_time": "2022-02-21T13:10:49.031Z"
   },
   {
    "duration": 65,
    "start_time": "2022-02-21T13:10:49.046Z"
   },
   {
    "duration": 21,
    "start_time": "2022-02-21T13:10:49.113Z"
   },
   {
    "duration": 13,
    "start_time": "2022-02-21T13:10:49.137Z"
   },
   {
    "duration": 54,
    "start_time": "2022-02-21T13:10:49.152Z"
   },
   {
    "duration": 427,
    "start_time": "2022-02-21T13:10:49.209Z"
   },
   {
    "duration": 596,
    "start_time": "2022-02-21T13:10:49.639Z"
   },
   {
    "duration": 646,
    "start_time": "2022-02-21T13:10:50.237Z"
   },
   {
    "duration": 77,
    "start_time": "2022-02-21T13:10:50.893Z"
   },
   {
    "duration": -4146,
    "start_time": "2022-02-21T13:10:55.118Z"
   },
   {
    "duration": -4187,
    "start_time": "2022-02-21T13:10:55.160Z"
   },
   {
    "duration": -4195,
    "start_time": "2022-02-21T13:10:55.170Z"
   },
   {
    "duration": -4200,
    "start_time": "2022-02-21T13:10:55.176Z"
   },
   {
    "duration": -4233,
    "start_time": "2022-02-21T13:10:55.210Z"
   },
   {
    "duration": -4260,
    "start_time": "2022-02-21T13:10:55.239Z"
   },
   {
    "duration": -4271,
    "start_time": "2022-02-21T13:10:55.252Z"
   },
   {
    "duration": -4275,
    "start_time": "2022-02-21T13:10:55.258Z"
   },
   {
    "duration": -4277,
    "start_time": "2022-02-21T13:10:55.262Z"
   },
   {
    "duration": -4279,
    "start_time": "2022-02-21T13:10:55.266Z"
   },
   {
    "duration": -4282,
    "start_time": "2022-02-21T13:10:55.271Z"
   },
   {
    "duration": -4286,
    "start_time": "2022-02-21T13:10:55.276Z"
   },
   {
    "duration": -4291,
    "start_time": "2022-02-21T13:10:55.282Z"
   },
   {
    "duration": -4295,
    "start_time": "2022-02-21T13:10:55.288Z"
   },
   {
    "duration": -4299,
    "start_time": "2022-02-21T13:10:55.293Z"
   },
   {
    "duration": -4303,
    "start_time": "2022-02-21T13:10:55.298Z"
   },
   {
    "duration": -4320,
    "start_time": "2022-02-21T13:10:55.317Z"
   }
  ],
  "kernelspec": {
   "display_name": "Python 3 (ipykernel)",
   "language": "python",
   "name": "python3"
  },
  "language_info": {
   "codemirror_mode": {
    "name": "ipython",
    "version": 3
   },
   "file_extension": ".py",
   "mimetype": "text/x-python",
   "name": "python",
   "nbconvert_exporter": "python",
   "pygments_lexer": "ipython3",
   "version": "3.9.7"
  },
  "toc": {
   "base_numbering": 1,
   "nav_menu": {},
   "number_sections": false,
   "sideBar": true,
   "skip_h1_title": true,
   "title_cell": "Table of Contents",
   "title_sidebar": "Contents",
   "toc_cell": false,
   "toc_position": {
    "height": "calc(100% - 180px)",
    "left": "10px",
    "top": "150px",
    "width": "285.99px"
   },
   "toc_section_display": true,
   "toc_window_display": true
  }
 },
 "nbformat": 4,
 "nbformat_minor": 2
}
